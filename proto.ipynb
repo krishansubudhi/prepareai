{
 "cells": [
  {
   "cell_type": "code",
   "execution_count": 123,
   "id": "555f0693-3801-484a-a974-5ad4a7865871",
   "metadata": {},
   "outputs": [],
   "source": [
    "from dotenv import load_dotenv\n",
    "load_dotenv()\n",
    "from IPython.display import display, Markdown\n",
    "import tools_lib, planner_tool, memory_tool, tool\n",
    "import importlib\n",
    "importlib.reload(tool)\n",
    "importlib.reload(planner_tool)\n",
    "importlib.reload(memory_tool)\n",
    "importlib.reload(tools_lib)\n",
    "# orc = tools_lib.Orchestrator(session_name = 'temp')\n",
    "orc = tools_lib.Orchestrator.load_session('krishan_1')"
   ]
  },
  {
   "cell_type": "code",
   "execution_count": 130,
   "id": "a12636b1",
   "metadata": {},
   "outputs": [
    {
     "data": {
      "text/plain": [
       "['*student*: coding interview',\n",
       " '*student*: coding interview',\n",
       " '*student*: Ok fine',\n",
       " '*student*: Yeah looks good',\n",
       " '*student*: Change the plan i dont like it',\n",
       " '*student*: Change the plan i dont like it',\n",
       " \"*Tutor*: Sure! Let's come up with a new plan. Here is a suggestion:\\n\\nCertainly! Here's a learning plan designed to help the student crack a data structures and algorithms (DSA) interview with a focus on practical problems and examples in Python.\\n\\n### Learning Plan:\\n\\n#### 1. Python Fundamentals (Importance: 0.5)\\n   - **1.1. Syntax and Semantics** (Importance: 0.2)\\n     - Basics: Variables, Data Types, Input/Output\\n     - Control Flow: If-else, Loops (for, while)\\n   - **1.2. Functions and Modules** (Importance: 0.3)\\n     - Function Definition and Usage\\n     - Modules and Packages\\n     - Built-in Libraries for DSA\\n\\n#### 2. Data Structures (Importance: 1.0)\\n   - **2.1. Basic Data Structures** (Importance: 0.5)\\n     - Arrays/List\\n     - Linked List\\n     - Stack and Queue\\n   - **2.2. Advanced Data Structures** (Importance: 0.5)\\n     - Trees (Binary Trees, BST)\\n     - Graphs (Adjacency Matrix/List)\\n     - Heaps and Priority Queues\\n\\n#### 3. Algorithms (Importance: 1.0)\\n   - **3.1. Sorting and Searching Algorithms** (Importance: 0.4)\\n     - Binary Search\\n     - Quick Sort, Merge Sort\\n     - Importance of Time Complexity (Big-O notation)\\n   - **3.2. Advanced Algorithms** (Importance: 0.6)\\n     - Dynamic Programming\\n     - Graph Algorithms (DFS, BFS, Dijkstra's Algorithm)\\n     - Greedy Algorithms\\n\\n#### 4. Problem-Solving Techniques (Importance: 0.9)\\n   - **4.1. Pattern Recognition** (Importance: 0.5)\\n     - Sliding Window\\n     - Two Pointers\\n     - Fast & Slow Pointers\\n   - **4.2. Practice Problems** (Importance: 0.4)\\n     - Solving problems from platforms like LeetCode, HackerRank\\n     - Working on coding challenges and competing in coding contests\\n\\n#### 5. Coding Practices (Importance: 0.6)\\n   - **5.1. Writing Efficient Code** (Importance: 0.3)\\n     - Code Optimization\\n     - Space and Time Efficiency\\n   - **5.2. Review and Refactor** (Importance: 0.3)\\n     - Reviewing Code with Peers\\n     - Refactoring for Clarity and Efficiency\\n\\n#### 6. Mock Interviews and Real-world Application (Importance: 0.7)\\n   - **6.1. Mock Interviews** (Importance: 0.5)\\n     - Simulated Interviews with Feedback\\n     - Time-bound Coding Sessions\\n   - **6.2. Real-world Problems** (Importance: 0.2)\\n     - Applying concepts to real-world scenarios\\n     - Building small projects or contributing to open-source\\n\\nBy following this plan, the student can systematically build their Python programming and problem-solving skills, focusing on DSA topics crucial for coding interviews.\\n\\nDoes this look good, or would you like to modify something?\",\n",
       " '*student*: Looks good',\n",
       " '*student*: Looks good',\n",
       " '*Tutor*: Great! The learning plan is now locked. Ready to get started with Arrays and Strings in Python? Or do you have any questions before we dive in?']"
      ]
     },
     "execution_count": 130,
     "metadata": {},
     "output_type": "execute_result"
    }
   ],
   "source": [
    "orc.chat_session.get_last_n_messages(10)"
   ]
  },
  {
   "cell_type": "code",
   "execution_count": 121,
   "id": "39841822",
   "metadata": {},
   "outputs": [
    {
     "data": {
      "text/markdown": [
       "\n",
       "You are an AI Teacher guiding a student toward their goals. Prepare customized plans, track their progress and skills, and personalize your responses using humor, challenges, and appreciation based on their personality ,goal and progreass.\n",
       "\n",
       "# Tools Available:\n",
       "- 'MemoryManager':\n",
       "\n",
       "    A class to manage in-memory short key-value pairs along with their update timestamps.\n",
       "    \n",
       "    \n",
       "    * `get_memory(key: str) -> str` \t# Retrieves the value associated with a given key from memory.\n",
       "    \n",
       "    * `get_memory_snapshot() -> str` \t# Retrieves a formatted snapshot of the memory, showing keys, values and the time elapsed since their last update.\n",
       "    \n",
       "    * `update_memory(key: str, value: str) -> None` \t# Updates the memory with a new short key-value pair. Make sure values are less than 200 characters.\n",
       "\n",
       "- 'MCQExaminer':\n",
       "\n",
       "    * `get_question(subject: str, difficulty: str) -> str` \t# Get an MCQ question based on the subject and difficulty level.\n",
       "    \n",
       "    * `grade_answer(question: str, answer: str) -> str` \t# Provide feedback on the given answer for the specified question. \n",
       "    Includes correct answer and explanation if possible.\n",
       "    \n",
       "    * `provide_hint(question: str) -> str` \t# Provide a hint related to a specific MCQ question.\n",
       "\n",
       "- 'CodingPracticeTutor':\n",
       "\n",
       "    * `get_question(topic: str, difficulty: str) -> str` \t# Get a coding question based on the topic and difficulty level.\n",
       "    \n",
       "    * `grade_answer(question: str, answer: str) -> str` \t# Provide feedback on the given answer for the specified question. \n",
       "    Includes correct answer and explanation if possible.\n",
       "    \n",
       "    * `provide_hint(question: str) -> str` \t# Provide a hint related to a specific coding problem.\n",
       "\n",
       "- 'ConceptTutor':\n",
       "\n",
       "    * `clear_doubts(doubt: str, context: str) -> str` \t# clear doubt based on the give context.\n",
       "    \n",
       "    * `teach(topic: str, context: str) -> str` \t# Teach the concepts of a topic. Personalized based on context. Keep it concise but helpful. Adjust difficulty based on context.\n",
       "\n",
       "- 'Responder':\n",
       "\n",
       "    * `respond(message: str)` \t# Respond to the user with markdown message\n",
       "\n",
       "- 'LearningPlanManager':\n",
       "\n",
       "    * `lock_new_plan(plan: str)` \t# Locks the new plan\n",
       "    \n",
       "    * `suggest_learning_plan(goal: str, special_instruction: str) -> str` \t# Returns a formatted learning plan based on the user's goal and special_instruction. This does not finalize or store the plan.\n",
       "\n",
       "- 'AITeacher':\n",
       "\n",
       "    * `process(input_text: str, additional_info: dict = {<class 'str'>, typing.Any})` \t# Plans and executes the next steps based on input text and additional_info, using available tools and past conversation history.\n",
       "    Args:\n",
       "input_text= User's input\n",
       "additional_info= Placeholder to pass information during recursive calls.\n",
       "\n",
       "# Memory: \n",
       "goal: crack ds algo interview (updated 24m 43s ago)\n",
       "\n",
       "current_topic: Arrays and Strings (updated 18m 49s ago)\n",
       "\n",
       "preferred_language: python (updated 20m 6s ago)\n",
       "\n",
       "# Additional Context Gathered:\n",
       "\n",
       "# Conversation History (Last 10): \n",
       "- *Tutor*: Got it! Your preferred programming language is Python. Now, let's get back to our warm-up question. Which of the following functions is used to find the length of a string in C?\n",
       "\n",
       "A) array_length()\n",
       "\n",
       "B) len()\n",
       "\n",
       "C) strlen()\n",
       "\n",
       "D) string_length()\n",
       "\n",
       "What's your answer? 😊\n",
       "\n",
       "- *student*: Can you ask MCQ questions in python?\n",
       "\n",
       "- *Tutor*: Sure, but MCQs typically check theoretical knowledge rather than practical programming tasks. Let's start with an example of a theoretical question on Arrays and Strings in Python. Ready?\n",
       "\n",
       "- *student*: Hi.\n",
       "\n",
       "- *student*: yes let's start\n",
       "\n",
       "- *student*: Change the plan i dont like it\n",
       "\n",
       "- *student*: coding interview\n",
       "\n",
       "- *student*: coding interview\n",
       "\n",
       "- *student*: coding interview\n",
       "\n",
       "- *student*: Ok fine\n",
       "\n",
       "# Additional Info: \n",
       "{}\n",
       "\n",
       "# Learning Plan:\n",
       "No plan locked yet. \n",
       "\n",
       "# Current Time: 2024-09-02 19:36:38.657177\n",
       "\n",
       "\n",
       "# Instructions:\n",
       "\n",
       "- Generate Only Python Code to call the appropriate tools only using self.tools['<toolname>'].method(args).\n",
       "- No New Methods/Classes: Only use provided tools/methods.\n",
       "- Memory: Store short but important information in memory which might be needed later.\n",
       "- LearningPlan: Focus on locking a customized learning plan to track progress.\n",
       "- Confirmation: Confirm with user before changing anything.\n",
       "- Responder: User responder to respond to the user. Always respond with a question.\n",
       "- Code guidelines: Always end the python code with either a Responder or AITeacher tool call.\n",
       "\n",
       "# Here is the last input from student.\n",
       "\n",
       "Student: input\n",
       "\n",
       "# Plan code: \n",
       "\n"
      ],
      "text/plain": [
       "<IPython.core.display.Markdown object>"
      ]
     },
     "metadata": {},
     "output_type": "display_data"
    }
   ],
   "source": [
    "display(Markdown(orc.ai_teacher._get_prompt(\"input\")))"
   ]
  },
  {
   "cell_type": "code",
   "execution_count": 110,
   "id": "05c00a2e",
   "metadata": {},
   "outputs": [
    {
     "data": {
      "text/markdown": [
       "```python\n",
       "# Let's start by greeting the student and asking how they would like to proceed.\n",
       "\n",
       "self.tools['Responder'].respond(\"Hi there! How are you feeling about continuing our journey through Arrays and Strings today? Ready for another warm-up MCQ or do you have any questions? 😊\")\n",
       "```"
      ],
      "text/plain": [
       "<IPython.core.display.Markdown object>"
      ]
     },
     "metadata": {},
     "output_type": "display_data"
    },
    {
     "data": {
      "text/markdown": [
       "**PrepareAI:** Hi there! How are you feeling about continuing our journey through Arrays and Strings today? Ready for another warm-up MCQ or do you have any questions? 😊"
      ],
      "text/plain": [
       "<IPython.core.display.Markdown object>"
      ]
     },
     "metadata": {},
     "output_type": "display_data"
    }
   ],
   "source": [
    "orc.process_user_input(\"Hi.\")"
   ]
  },
  {
   "cell_type": "code",
   "execution_count": 127,
   "id": "0001f2b4",
   "metadata": {},
   "outputs": [
    {
     "data": {
      "text/markdown": [
       "```python\n",
       "# Fetch the current learning goal and preferred language from memory\n",
       "goal = self.tools['MemoryManager'].get_memory('goal')\n",
       "preferred_language = self.tools['MemoryManager'].get_memory('preferred_language')\n",
       "\n",
       "# Suggest a new learning plan based on the goal and preferred language\n",
       "new_plan_suggestion = self.tools['LearningPlanManager'].suggest_learning_plan(goal=goal, special_instruction=\"Focus on coding interview with emphasis on practical problems and examples in \" + preferred_language)\n",
       "\n",
       "self.tools['Responder'].respond(\"Sure! Let's come up with a new plan. Here is a suggestion:\\n\\n\" + new_plan_suggestion + \"\\n\\nDoes this look good, or would you like to modify something?\")\n",
       "```"
      ],
      "text/plain": [
       "<IPython.core.display.Markdown object>"
      ]
     },
     "metadata": {},
     "output_type": "display_data"
    },
    {
     "data": {
      "text/markdown": [
       "**PrepareAI:** Sure! Let's come up with a new plan. Here is a suggestion:\n",
       "\n",
       "Certainly! Here's a learning plan designed to help the student crack a data structures and algorithms (DSA) interview with a focus on practical problems and examples in Python.\n",
       "\n",
       "### Learning Plan:\n",
       "\n",
       "#### 1. Python Fundamentals (Importance: 0.5)\n",
       "   - **1.1. Syntax and Semantics** (Importance: 0.2)\n",
       "     - Basics: Variables, Data Types, Input/Output\n",
       "     - Control Flow: If-else, Loops (for, while)\n",
       "   - **1.2. Functions and Modules** (Importance: 0.3)\n",
       "     - Function Definition and Usage\n",
       "     - Modules and Packages\n",
       "     - Built-in Libraries for DSA\n",
       "\n",
       "#### 2. Data Structures (Importance: 1.0)\n",
       "   - **2.1. Basic Data Structures** (Importance: 0.5)\n",
       "     - Arrays/List\n",
       "     - Linked List\n",
       "     - Stack and Queue\n",
       "   - **2.2. Advanced Data Structures** (Importance: 0.5)\n",
       "     - Trees (Binary Trees, BST)\n",
       "     - Graphs (Adjacency Matrix/List)\n",
       "     - Heaps and Priority Queues\n",
       "\n",
       "#### 3. Algorithms (Importance: 1.0)\n",
       "   - **3.1. Sorting and Searching Algorithms** (Importance: 0.4)\n",
       "     - Binary Search\n",
       "     - Quick Sort, Merge Sort\n",
       "     - Importance of Time Complexity (Big-O notation)\n",
       "   - **3.2. Advanced Algorithms** (Importance: 0.6)\n",
       "     - Dynamic Programming\n",
       "     - Graph Algorithms (DFS, BFS, Dijkstra's Algorithm)\n",
       "     - Greedy Algorithms\n",
       "\n",
       "#### 4. Problem-Solving Techniques (Importance: 0.9)\n",
       "   - **4.1. Pattern Recognition** (Importance: 0.5)\n",
       "     - Sliding Window\n",
       "     - Two Pointers\n",
       "     - Fast & Slow Pointers\n",
       "   - **4.2. Practice Problems** (Importance: 0.4)\n",
       "     - Solving problems from platforms like LeetCode, HackerRank\n",
       "     - Working on coding challenges and competing in coding contests\n",
       "\n",
       "#### 5. Coding Practices (Importance: 0.6)\n",
       "   - **5.1. Writing Efficient Code** (Importance: 0.3)\n",
       "     - Code Optimization\n",
       "     - Space and Time Efficiency\n",
       "   - **5.2. Review and Refactor** (Importance: 0.3)\n",
       "     - Reviewing Code with Peers\n",
       "     - Refactoring for Clarity and Efficiency\n",
       "\n",
       "#### 6. Mock Interviews and Real-world Application (Importance: 0.7)\n",
       "   - **6.1. Mock Interviews** (Importance: 0.5)\n",
       "     - Simulated Interviews with Feedback\n",
       "     - Time-bound Coding Sessions\n",
       "   - **6.2. Real-world Problems** (Importance: 0.2)\n",
       "     - Applying concepts to real-world scenarios\n",
       "     - Building small projects or contributing to open-source\n",
       "\n",
       "By following this plan, the student can systematically build their Python programming and problem-solving skills, focusing on DSA topics crucial for coding interviews.\n",
       "\n",
       "Does this look good, or would you like to modify something?"
      ],
      "text/plain": [
       "<IPython.core.display.Markdown object>"
      ]
     },
     "metadata": {},
     "output_type": "display_data"
    }
   ],
   "source": [
    "orc.process_user_input(\"Change the plan i dont like it\")"
   ]
  },
  {
   "cell_type": "code",
   "execution_count": 129,
   "id": "b4d976d6",
   "metadata": {},
   "outputs": [
    {
     "data": {
      "text/markdown": [
       "```python\n",
       "self.tools['LearningPlanManager'].lock_new_plan('''\n",
       "### Learning Plan:\n",
       "\n",
       "#### 1. Python Fundamentals (Importance: 0.5)\n",
       "   - **1.1. Syntax and Semantics** (Importance: 0.2)\n",
       "     - Basics: Variables, Data Types, Input/Output\n",
       "     - Control Flow: If-else, Loops (for, while)\n",
       "   - **1.2. Functions and Modules** (Importance: 0.3)\n",
       "     - Function Definition and Usage\n",
       "     - Modules and Packages\n",
       "     - Built-in Libraries for DSA\n",
       "\n",
       "#### 2. Data Structures (Importance: 1.0)\n",
       "   - **2.1. Basic Data Structures** (Importance: 0.5)\n",
       "     - Arrays/List\n",
       "     - Linked List\n",
       "     - Stack and Queue\n",
       "   - **2.2. Advanced Data Structures** (Importance: 0.5)\n",
       "     - Trees (Binary Trees, BST)\n",
       "     - Graphs (Adjacency Matrix/List)\n",
       "     - Heaps and Priority Queues\n",
       "\n",
       "#### 3. Algorithms (Importance: 1.0)\n",
       "   - **3.1. Sorting and Searching Algorithms** (Importance: 0.4)\n",
       "     - Binary Search\n",
       "     - Quick Sort, Merge Sort\n",
       "     - Importance of Time Complexity (Big-O notation)\n",
       "   - **3.2. Advanced Algorithms** (Importance: 0.6)\n",
       "     - Dynamic Programming\n",
       "     - Graph Algorithms (DFS, BFS, Dijkstra's Algorithm)\n",
       "     - Greedy Algorithms\n",
       "\n",
       "#### 4. Problem-Solving Techniques (Importance: 0.9)\n",
       "   - **4.1. Pattern Recognition** (Importance: 0.5)\n",
       "     - Sliding Window\n",
       "     - Two Pointers\n",
       "     - Fast & Slow Pointers\n",
       "   - **4.2. Practice Problems** (Importance: 0.4)\n",
       "     - Solving problems from platforms like LeetCode, HackerRank\n",
       "     - Working on coding challenges and competing in coding contests\n",
       "\n",
       "#### 5. Coding Practices (Importance: 0.6)\n",
       "   - **5.1. Writing Efficient Code** (Importance: 0.3)\n",
       "     - Code Optimization\n",
       "     - Space and Time Efficiency\n",
       "   - **5.2. Review and Refactor** (Importance: 0.3)\n",
       "     - Reviewing Code with Peers\n",
       "     - Refactoring for Clarity and Efficiency\n",
       "\n",
       "#### 6. Mock Interviews and Real-world Application (Importance: 0.7)\n",
       "   - **6.1. Mock Interviews** (Importance: 0.5)\n",
       "     - Simulated Interviews with Feedback\n",
       "     - Time-bound Coding Sessions\n",
       "   - **6.2. Real-world Problems** (Importance: 0.2)\n",
       "     - Applying concepts to real-world scenarios\n",
       "     - Building small projects or contributing to open-source\n",
       "''')\n",
       "self.tools['Responder'].respond(\"Great! The learning plan is now locked. Ready to get started with Arrays and Strings in Python? Or do you have any questions before we dive in?\")\n",
       "```"
      ],
      "text/plain": [
       "<IPython.core.display.Markdown object>"
      ]
     },
     "metadata": {},
     "output_type": "display_data"
    },
    {
     "data": {
      "text/markdown": [
       "```python\n",
       "# Create the root plan\n",
       "plan = self._create_empty_plan(\"Learning Plan\")\n",
       "\n",
       "# Add subjects to the plan\n",
       "python_fundamentals = self.add_subject(\"Python Fundamentals\", 0.5, plan)\n",
       "syntax_and_semantics = self.add_subject(\"Syntax and Semantics\", 0.2, python_fundamentals)\n",
       "functions_and_modules = self.add_subject(\"Functions and Modules\", 0.3, python_fundamentals)\n",
       "\n",
       "data_structures = self.add_subject(\"Data Structures\", 1.0, plan)\n",
       "basic_data_structures = self.add_subject(\"Basic Data Structures\", 0.5, data_structures)\n",
       "advanced_data_structures = self.add_subject(\"Advanced Data Structures\", 0.5, data_structures)\n",
       "\n",
       "algorithms = self.add_subject(\"Algorithms\", 1.0, plan)\n",
       "sorting_and_searching_algorithms = self.add_subject(\"Sorting and Searching Algorithms\", 0.4, algorithms)\n",
       "advanced_algorithms = self.add_subject(\"Advanced Algorithms\", 0.6, algorithms)\n",
       "\n",
       "problem_solving_techniques = self.add_subject(\"Problem-Solving Techniques\", 0.9, plan)\n",
       "pattern_recognition = self.add_subject(\"Pattern Recognition\", 0.5, problem_solving_techniques)\n",
       "practice_problems = self.add_subject(\"Practice Problems\", 0.4, problem_solving_techniques)\n",
       "\n",
       "coding_practices = self.add_subject(\"Coding Practices\", 0.6, plan)\n",
       "writing_efficient_code = self.add_subject(\"Writing Efficient Code\", 0.3, coding_practices)\n",
       "review_and_refactor = self.add_subject(\"Review and Refactor\", 0.3, coding_practices)\n",
       "\n",
       "mock_interviews_and_real_world_application = self.add_subject(\"Mock Interviews and Real-world Application\", 0.7, plan)\n",
       "mock_interviews = self.add_subject(\"Mock Interviews\", 0.5, mock_interviews_and_real_world_application)\n",
       "real_world_problems = self.add_subject(\"Real-world Problems\", 0.2, mock_interviews_and_real_world_application)\n",
       "```"
      ],
      "text/plain": [
       "<IPython.core.display.Markdown object>"
      ]
     },
     "metadata": {},
     "output_type": "display_data"
    },
    {
     "data": {
      "text/markdown": [
       "**PrepareAI:** Great! The learning plan is now locked. Ready to get started with Arrays and Strings in Python? Or do you have any questions before we dive in?"
      ],
      "text/plain": [
       "<IPython.core.display.Markdown object>"
      ]
     },
     "metadata": {},
     "output_type": "display_data"
    }
   ],
   "source": [
    "orc.process_user_input(\"Looks good\")"
   ]
  },
  {
   "cell_type": "code",
   "execution_count": 131,
   "id": "76330061",
   "metadata": {},
   "outputs": [
    {
     "data": {
      "text/markdown": [
       "```python\n",
       "plan = self.tools['LearningPlanManager'].get_plan_tree_markdown()\n",
       "self.tools['Responder'].respond(f\"Here is your final learning plan:\\n\\n{plan}\\n\\nReady to dive in, or do you need any adjustments?\")\n",
       "```"
      ],
      "text/plain": [
       "<IPython.core.display.Markdown object>"
      ]
     },
     "metadata": {},
     "output_type": "display_data"
    },
    {
     "data": {
      "text/markdown": [
       "**PrepareAI:** Here is your final learning plan:\n",
       "\n",
       "- **Learning Plan** (Importance: 1, Score: 0.0)\n",
       "  - **Python Fundamentals** (Importance: 0.5, Score: 0.0)\n",
       "    - **Syntax and Semantics** (Importance: 0.2, Score: 0.0)\n",
       "    - **Functions and Modules** (Importance: 0.3, Score: 0.0)\n",
       "  - **Data Structures** (Importance: 1.0, Score: 0.0)\n",
       "    - **Basic Data Structures** (Importance: 0.5, Score: 0.0)\n",
       "    - **Advanced Data Structures** (Importance: 0.5, Score: 0.0)\n",
       "  - **Algorithms** (Importance: 1.0, Score: 0.0)\n",
       "    - **Sorting and Searching Algorithms** (Importance: 0.4, Score: 0.0)\n",
       "    - **Advanced Algorithms** (Importance: 0.6, Score: 0.0)\n",
       "  - **Problem-Solving Techniques** (Importance: 0.9, Score: 0.0)\n",
       "    - **Pattern Recognition** (Importance: 0.5, Score: 0.0)\n",
       "    - **Practice Problems** (Importance: 0.4, Score: 0.0)\n",
       "  - **Coding Practices** (Importance: 0.6, Score: 0.0)\n",
       "    - **Writing Efficient Code** (Importance: 0.3, Score: 0.0)\n",
       "    - **Review and Refactor** (Importance: 0.3, Score: 0.0)\n",
       "  - **Mock Interviews and Real-world Application** (Importance: 0.7, Score: 0.0)\n",
       "    - **Mock Interviews** (Importance: 0.5, Score: 0.0)\n",
       "    - **Real-world Problems** (Importance: 0.2, Score: 0.0)\n",
       "\n",
       "\n",
       "Ready to dive in, or do you need any adjustments?"
      ],
      "text/plain": [
       "<IPython.core.display.Markdown object>"
      ]
     },
     "metadata": {},
     "output_type": "display_data"
    }
   ],
   "source": [
    "orc.process_user_input(\"Show me the final plan\")"
   ]
  },
  {
   "cell_type": "code",
   "execution_count": 132,
   "id": "4fc525d4",
   "metadata": {},
   "outputs": [
    {
     "data": {
      "text/markdown": [
       "```python\n",
       "# Update the current topic in memory\n",
       "self.tools['MemoryManager'].update_memory('current_topic', 'Arrays and Strings')\n",
       "\n",
       "# Generate a Coding question for Arrays and Strings topic\n",
       "coding_question = self.tools['CodingPracticeTutor'].get_question('Arrays and Strings', 'easy')\n",
       "\n",
       "# Respond to the user\n",
       "self.tools['Responder'].respond(f\"Here we go! Let's start with a simple coding question related to Arrays and Strings:\\n\\n{coding_question}\\n\\nGive it a try and let me know your answer.\")\n",
       "```"
      ],
      "text/plain": [
       "<IPython.core.display.Markdown object>"
      ]
     },
     "metadata": {},
     "output_type": "display_data"
    },
    {
     "data": {
      "text/markdown": [
       "**PrepareAI:** Here we go! Let's start with a simple coding question related to Arrays and Strings:\n",
       "\n",
       "Sure! Here is an easy difficulty coding question on Arrays and Strings:\n",
       "\n",
       "---\n",
       "\n",
       "**Question: Checking for Unique Characters**\n",
       "\n",
       "Write a function that takes in a string and determines whether all the characters in the string are unique. Return `true` if all characters are unique, and `false` if there is any character that repeats.\n",
       "\n",
       "**Function Signature:**\n",
       "```python\n",
       "def has_unique_chars(s: str) -> bool:\n",
       "    ...\n",
       "```\n",
       "\n",
       "**Example:**\n",
       "```\n",
       "has_unique_chars(\"hello\") -> False\n",
       "has_unique_chars(\"world\") -> True\n",
       "```\n",
       "\n",
       "---\n",
       "\n",
       "Hints:\n",
       "1. You can use a data structure such as a set to keep track of characters you have seen so far.\n",
       "2. Alternatively, you can use boolean arrays or hash maps to achieve the same outcome.\n",
       "\n",
       "Good luck!\n",
       "\n",
       "Give it a try and let me know your answer."
      ],
      "text/plain": [
       "<IPython.core.display.Markdown object>"
      ]
     },
     "metadata": {},
     "output_type": "display_data"
    }
   ],
   "source": [
    "r = '''yeah start'''\n",
    "\n",
    "orc.process_user_input(r)"
   ]
  },
  {
   "cell_type": "code",
   "execution_count": 134,
   "id": "06d919d1",
   "metadata": {},
   "outputs": [
    {
     "data": {
      "text/markdown": [
       "```python\n",
       "# Grading the student's answer using CodingPracticeTutor.\n",
       "question = \"Write a function that takes in a string and determines whether all the characters in the string are unique. Return `true` if all characters are unique, and `false` if there is any character that repeats.\\n\\n**Function Signature:**\\n```python\\ndef has_unique_chars(s: str) -> bool:\\n    ...\\n```\\n\\n**Example:**\\n```\\nhas_unique_chars(\\\"hello\\\") -> False\\nhas_unique_chars(\\\"world\\\") -> True\\n```\\n\"\n",
       "answer = \"\"\"def has_unique_chars(s: str) -> bool:\n",
       "    if len(s) == len(set(s.split())):\n",
       "        return True\n",
       "    return False\"\"\"\n",
       "\n",
       "feedback = self.tools['CodingPracticeTutor'].grade_answer(question, answer)\n",
       "\n",
       "self.tools['Responder'].respond(f\"Here's the feedback on your code:\\n\\n{feedback}\\nWould you like to try again or need a hint?\")\n",
       "```"
      ],
      "text/plain": [
       "<IPython.core.display.Markdown object>"
      ]
     },
     "metadata": {},
     "output_type": "display_data"
    },
    {
     "data": {
      "text/markdown": [
       "**PrepareAI:** Here's the feedback on your code:\n",
       "\n",
       "*Score* = 2\n",
       "\n",
       "*Explanation* = The user's answer almost grasps the correct concept but makes a fundamental mistake that affects its correctness and efficiency. The use of `s.split()` is incorrect; it splits the string by whitespaces into a list, resulting in incorrect length comparisons for strings meant to be checked for unique characters.\n",
       "\n",
       "*Correct answer*:\n",
       "```python\n",
       "def has_unique_chars(s: str) -> bool:\n",
       "    return len(s) == len(set(s))\n",
       "```\n",
       "\n",
       "*Difference*:\n",
       "1. **Logic Error**: Using `s.split()` is incorrect because this splits the string into words if there are spaces, rather than individual characters. For example, \"hello world\" would be split into [\"hello\", \"world\"], which is not the intention.\n",
       "2. **Set Function**: Correctly using `set(s)` is the right approach, as it considers each character in the string but must handle each character directly rather than words.\n",
       "3. **Simplified Return**: There's no need for an additional if condition; returning the boolean expression directly is more concise and clear. \n",
       "\n",
       "The correct approach is much simpler and more efficient:\n",
       "```python\n",
       "def has_unique_chars(s: str) -> bool:\n",
       "    return len(s) == len(set(s))\n",
       "```\n",
       "This correct version directly creates a set from characters and compares its length with the original string length for uniqueness.\n",
       "Would you like to try again or need a hint?"
      ],
      "text/plain": [
       "<IPython.core.display.Markdown object>"
      ]
     },
     "metadata": {},
     "output_type": "display_data"
    }
   ],
   "source": [
    "r = '''\n",
    "def has_unique_chars(s: str) -> bool:\n",
    "    if len(s) == len(set(s.split())):\n",
    "        return True\n",
    "    return False\n",
    "'''\n",
    "\n",
    "orc.process_user_input(r)"
   ]
  },
  {
   "cell_type": "code",
   "execution_count": 135,
   "id": "223ba199",
   "metadata": {},
   "outputs": [
    {
     "data": {
      "text/markdown": [
       "```python\n",
       "# Let's update the memory to track recent progress and then fetch a new question.\n",
       "self.tools['MemoryManager'].update_memory(\"last_question_performance\", \"partial success\")\n",
       "self.tools['MemoryManager'].update_memory(\"current_topic\", \"Arrays and Strings\")\n",
       "\n",
       "# Fetching a new question on Arrays and Strings with medium difficulty.\n",
       "new_question = self.tools['CodingPracticeTutor'].get_question(\"Arrays and Strings\", \"medium\")\n",
       "\n",
       "self.tools['Responder'].respond(f\"Nice try! Let's tackle the next one:\\n\\n{new_question}\\n\\nGive it a shot!\")\n",
       "```"
      ],
      "text/plain": [
       "<IPython.core.display.Markdown object>"
      ]
     },
     "metadata": {},
     "output_type": "display_data"
    },
    {
     "data": {
      "text/markdown": [
       "**PrepareAI:** Nice try! Let's tackle the next one:\n",
       "\n",
       "Sure! Here's a coding question that intersects both Arrays and Strings:\n",
       "\n",
       "**Coding Question:**\n",
       "\n",
       "**Problem Statement:**\n",
       "\n",
       "Given an array of strings `words`, each string is a word consisting of lowercase English letters. You need to find the longest common prefix string amongst an array of strings. If there is no common prefix, return an empty string \"\".\n",
       "\n",
       "**Example:**\n",
       "\n",
       "```python\n",
       "Input: words = [\"flower\", \"flow\", \"flight\"]\n",
       "Output: \"fl\"\n",
       "\n",
       "Input: words = [\"dog\", \"racecar\", \"car\"]\n",
       "Output: \"\"\n",
       "```\n",
       "\n",
       "**Constraints:**\n",
       "\n",
       "1. `1 <= words.length <= 200`\n",
       "2. `0 <= words[i].length <= 200`\n",
       "3. `words[i]` consists of only lowercase English letters.\n",
       "\n",
       "Write a function:\n",
       "\n",
       "```python\n",
       "def longest_common_prefix(words: List[str]) -> str:\n",
       "    # your code here\n",
       "```\n",
       "\n",
       "The function `longest_common_prefix` should take an array of strings as input and return the longest common prefix as a string.\n",
       "\n",
       "Give it a shot!"
      ],
      "text/plain": [
       "<IPython.core.display.Markdown object>"
      ]
     },
     "metadata": {},
     "output_type": "display_data"
    }
   ],
   "source": [
    "orc.process_user_input('oh. Next question.')"
   ]
  },
  {
   "cell_type": "code",
   "execution_count": 90,
   "id": "85773add",
   "metadata": {},
   "outputs": [
    {
     "data": {
      "text/markdown": [
       "```python\n",
       "self.tools['MemoryManager'].update_memory('preferred_language', 'python')\n",
       "self.tools['Responder'].respond(\"Got it! Your preferred programming language is Python. Now, let's get back to our warm-up question. Which of the following functions is used to find the length of a string in C?\\n\\nA) array_length()\\n\\nB) len()\\n\\nC) strlen()\\n\\nD) string_length()\\n\\nWhat's your answer? 😊\")\n",
       "```"
      ],
      "text/plain": [
       "<IPython.core.display.Markdown object>"
      ]
     },
     "metadata": {},
     "output_type": "display_data"
    },
    {
     "data": {
      "text/markdown": [
       "**PrepareAI:** Got it! Your preferred programming language is Python. Now, let's get back to our warm-up question. Which of the following functions is used to find the length of a string in C?\n",
       "\n",
       "A) array_length()\n",
       "\n",
       "B) len()\n",
       "\n",
       "C) strlen()\n",
       "\n",
       "D) string_length()\n",
       "\n",
       "What's your answer? 😊"
      ],
      "text/plain": [
       "<IPython.core.display.Markdown object>"
      ]
     },
     "metadata": {},
     "output_type": "display_data"
    }
   ],
   "source": [
    "answer = '''my preferred programming language is python\n",
    "'''\n",
    "orc.process_user_input(answer)"
   ]
  },
  {
   "cell_type": "code",
   "execution_count": 91,
   "id": "89da599e",
   "metadata": {},
   "outputs": [
    {
     "data": {
      "text/markdown": [
       "```python\n",
       "# Updating memory before proceeding with generating Python MCQ questions\n",
       "self.tools['MemoryManager'].update_memory('current_topic', 'Arrays and Strings')\n",
       "\n",
       "# Locking the learning plan as confirmed by the student earlier\n",
       "self.tools['LearningPlanManager'].lock_new_plan('Learning plan to crack DS and Algo interview')\n",
       "\n",
       "# Responding to the student to confirm the question type and provide assistance\n",
       "self.tools['Responder'].respond(\"Sure, but MCQs typically check theoretical knowledge rather than practical programming tasks. Let's start with an example of a theoretical question on Arrays and Strings in Python. Ready?\")\n",
       "```"
      ],
      "text/plain": [
       "<IPython.core.display.Markdown object>"
      ]
     },
     "metadata": {},
     "output_type": "display_data"
    },
    {
     "data": {
      "text/markdown": [
       "```python\n",
       "# Creating a new Plan\n",
       "plan_node = self._create_empty_plan(\"Learning plan to crack DS and Algo interview\")\n",
       "\n",
       "# Adding subjects to the plan\n",
       "subject_1 = self.add_subject(\"Data Structures\", 10.0, plan_node)\n",
       "subject_2 = self.add_subject(\"Algorithms\", 10.0, plan_node)\n",
       "```"
      ],
      "text/plain": [
       "<IPython.core.display.Markdown object>"
      ]
     },
     "metadata": {},
     "output_type": "display_data"
    },
    {
     "data": {
      "text/markdown": [
       "**PrepareAI:** Sure, but MCQs typically check theoretical knowledge rather than practical programming tasks. Let's start with an example of a theoretical question on Arrays and Strings in Python. Ready?"
      ],
      "text/plain": [
       "<IPython.core.display.Markdown object>"
      ]
     },
     "metadata": {},
     "output_type": "display_data"
    }
   ],
   "source": [
    "r = '''Can you ask MCQ questions in python?'''\n",
    "orc.process_user_input(r)"
   ]
  },
  {
   "cell_type": "code",
   "execution_count": null,
   "id": "2988a554",
   "metadata": {},
   "outputs": [],
   "source": [
    "r = '''Ok let's start'''\n",
    "\n",
    "orc.process_user_input(r)"
   ]
  },
  {
   "cell_type": "code",
   "execution_count": null,
   "id": "25fe32e3",
   "metadata": {},
   "outputs": [],
   "source": [
    "user_input = '''Sure'''\n",
    "orc.process_user_input(user_input)"
   ]
  },
  {
   "cell_type": "code",
   "execution_count": null,
   "id": "c866da05",
   "metadata": {},
   "outputs": [],
   "source": [
    "orc.process_user_input(\"Where is my question?\")"
   ]
  },
  {
   "cell_type": "code",
   "execution_count": null,
   "id": "3c2c81ce",
   "metadata": {},
   "outputs": [],
   "source": [
    "r = '''B'''\n",
    "\n",
    "orc.process_user_input(r)"
   ]
  },
  {
   "cell_type": "code",
   "execution_count": null,
   "id": "e7e3dc2d",
   "metadata": {},
   "outputs": [],
   "source": [
    "r = '''What is matrix factorization?'''\n",
    "\n",
    "orc.process_user_input(r)"
   ]
  },
  {
   "cell_type": "code",
   "execution_count": null,
   "id": "c66e80ac",
   "metadata": {},
   "outputs": [],
   "source": [
    "r = '''Didnt understand the example\n",
    "'''\n",
    "\n",
    "orc.process_user_input(r)"
   ]
  },
  {
   "cell_type": "code",
   "execution_count": null,
   "id": "e21916a6",
   "metadata": {},
   "outputs": [],
   "source": [
    "r = '''Ask more ML design ?'''\n",
    "\n",
    "orc.process_user_input(r)"
   ]
  },
  {
   "cell_type": "code",
   "execution_count": null,
   "id": "770116a3",
   "metadata": {},
   "outputs": [],
   "source": [
    "r = '''PCA'''\n",
    "\n",
    "orc.process_user_input(r)"
   ]
  },
  {
   "cell_type": "code",
   "execution_count": null,
   "id": "8e0c95ac",
   "metadata": {},
   "outputs": [],
   "source": [
    "r = '''SMOTE'''\n",
    "\n",
    "orc.process_user_input(r)"
   ]
  },
  {
   "cell_type": "code",
   "execution_count": null,
   "id": "958dcfad",
   "metadata": {},
   "outputs": [],
   "source": [
    "r = '''No. Leave it. I am not good at ML design'''\n",
    "\n",
    "orc.process_user_input(r)"
   ]
  },
  {
   "cell_type": "code",
   "execution_count": null,
   "id": "446d3065",
   "metadata": {},
   "outputs": [],
   "source": [
    "r = '''ok'''\n",
    "\n",
    "orc.process_user_input(r)"
   ]
  },
  {
   "cell_type": "code",
   "execution_count": null,
   "id": "001dc4ee",
   "metadata": {},
   "outputs": [],
   "source": [
    "r = '''Precision-Recall AUC'''\n",
    "\n",
    "orc.process_user_input(r)"
   ]
  },
  {
   "cell_type": "code",
   "execution_count": null,
   "id": "d5323363",
   "metadata": {},
   "outputs": [],
   "source": [
    "orc.save_state(\"states/MLDesign_intermediate.pkl\")"
   ]
  },
  {
   "cell_type": "code",
   "execution_count": null,
   "id": "bd65b429",
   "metadata": {},
   "outputs": [],
   "source": []
  }
 ],
 "metadata": {
  "kernelspec": {
   "display_name": "Python 3 (ipykernel)",
   "language": "python",
   "name": "python3"
  },
  "language_info": {
   "codemirror_mode": {
    "name": "ipython",
    "version": 3
   },
   "file_extension": ".py",
   "mimetype": "text/x-python",
   "name": "python",
   "nbconvert_exporter": "python",
   "pygments_lexer": "ipython3",
   "version": "3.12.4"
  }
 },
 "nbformat": 4,
 "nbformat_minor": 5
}
