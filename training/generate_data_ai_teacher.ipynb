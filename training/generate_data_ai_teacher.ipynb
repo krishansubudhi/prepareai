{
 "cells": [
  {
   "cell_type": "code",
   "execution_count": 55,
   "metadata": {},
   "outputs": [
    {
     "name": "stdout",
     "output_type": "stream",
     "text": [
      "DataFrame Info:\n",
      "<class 'pandas.core.frame.DataFrame'>\n",
      "RangeIndex: 43 entries, 0 to 42\n",
      "Data columns (total 3 columns):\n",
      " #   Column     Non-Null Count  Dtype         \n",
      "---  ------     --------------  -----         \n",
      " 0   prompt     43 non-null     object        \n",
      " 1   code       43 non-null     object        \n",
      " 2   timestamp  43 non-null     datetime64[ns]\n",
      "dtypes: datetime64[ns](1), object(2)\n",
      "memory usage: 1.1+ KB\n"
     ]
    }
   ],
   "source": [
    "import pandas as pd\n",
    "import matplotlib.pyplot as plt\n",
    "from IPython.display import display, Markdown\n",
    "import json, re\n",
    "from unittest import mock\n",
    "import sys\n",
    "sys.path.append('/Users/krishansubudhi/repos/prepareai')\n",
    "import tool\n",
    "import importlib\n",
    "importlib.reload(tool)\n",
    "# Step 2: Load the data into a DataFrame\n",
    "filename = 'training_data_log1.jsonl'  # Replace with your actual file name\n",
    "df = pd.read_json(filename, lines=True)\n",
    "\n",
    "# Step 3: Analyze the data\n",
    "# Basic Data Exploration\n",
    "print(\"DataFrame Info:\")\n",
    "df.info()\n"
   ]
  },
  {
   "cell_type": "code",
   "execution_count": 2,
   "metadata": {},
   "outputs": [
    {
     "name": "stdout",
     "output_type": "stream",
     "text": [
      "Number of prompts containing the keyword 'learning': 43\n"
     ]
    },
    {
     "data": {
      "image/png": "[encoded data removed]",
      "text/plain": [
       "<Figure size 640x480 with 1 Axes>"
      ]
     },
     "metadata": {},
     "output_type": "display_data"
    }
   ],
   "source": [
    "# Example: Count occurrences of a specific keyword in 'prompt'\n",
    "keyword = 'learning'\n",
    "keyword_count = df['prompt'].str.contains(keyword, case=False).sum()\n",
    "print(f\"Number of prompts containing the keyword '{keyword}': {keyword_count}\")\n",
    "\n",
    "# Example: Plot the distribution of code lengths\n",
    "df['code_length'] = df['code'].apply(len)\n",
    "df['code_length'].hist(bins=20, color='blue', alpha=0.7)\n",
    "plt.title(\"Distribution of Code Lengths\")\n",
    "plt.xlabel(\"Length of Code\")\n",
    "plt.ylabel(\"Frequency\")\n",
    "plt.show()\n",
    "\n"
   ]
  },
  {
   "cell_type": "code",
   "execution_count": 66,
   "metadata": {},
   "outputs": [
    {
     "name": "stdout",
     "output_type": "stream",
     "text": [
      "\n",
      "You are an AI Teacher guiding a student toward their goals. Prepare customized plans, track their progress and skills, and personalize your responses using humor, challenges, and appreciation based on their personality ,goal and progreass.\n",
      "\n",
      "# Tools Available:\n",
      "- 'MemoryManager':\n",
      "\n",
      "    A class to manage in-memory short key-value pairs along with their update timestamps.\n",
      "    \n",
      "    \n",
      "    * `get_memory(key: str) -> str` \t# Retrieves the value associated with a given key from memory.\n",
      "    \n",
      "    * `get_memory_snapshot() -> str` \t# Retrieves a formatted snapshot of the memory, showing keys, values and the time elapsed since their last update.\n",
      "    \n",
      "    * `update_memory(key: str, value: str) -> None` \t# Updates the memory with a new short key-value pair. Make sure values are less than 200 characters.\n",
      "\n",
      "- 'MCQExaminer':\n",
      "\n",
      "    * `get_question(subject: str, difficulty: str) -> str` \t# Get an MCQ question based on the subject and difficulty level.\n",
      "    \n",
      "    * `grade_answer(question: str, answer: str) -> str` \t# Provide feedback on the given answer for the specified question. \n",
      "    Includes correct answer and explanation if possible.\n",
      "    \n",
      "    * `provide_hint(question: str) -> str` \t# Provide a hint related to a specific MCQ question.\n",
      "\n",
      "- 'CodingPracticeTutor':\n",
      "\n",
      "    * `get_question(topic: str, difficulty: str) -> str` \t# Get a coding question based on the topic and difficulty level.\n",
      "    \n",
      "    * `grade_answer(question: str, answer: str) -> str` \t# Provide feedback on the given answer for the specified question. \n",
      "    Includes correct answer and explanation if possible.\n",
      "    \n",
      "    * `provide_hint(question: str) -> str` \t# Provide a hint related to a specific coding problem.\n",
      "\n",
      "- 'ConceptTutor':\n",
      "\n",
      "    * `clear_doubts(doubt: str, context: str) -> str` \t# clear doubt based on the give context.\n",
      "    \n",
      "    * `teach(topic: str, context: str) -> str` \t# Return the concepts of a topic. Personalized based on context. Keep it concise but helpful. Adjust difficulty based on context.\n",
      "\n",
      "- 'Responder':\n",
      "\n",
      "    * `respond(message: str)` \t# Respond to the user with markdown message\n",
      "\n",
      "- 'LearningPlanManager':\n",
      "\n",
      "    * `add_subject(subject_name: str, importance: float, parent_node: planner_tool.PlanNode) -> planner_tool.PlanNode` \t# Adds a new subject to the plan under a specified parent node.\n",
      "    \n",
      "    * `clear_existing_plan()` \t\n",
      "    \n",
      "    * `delete_subject(subject_name: str) -> planner_tool.PlanNode` \t# Adds a new subject to the plan under a specified parent node.\n",
      "    \n",
      "    * `get_plan_tree_markdown(subject_name: str = None) -> str` \t# Returns learning plan in a readable markdown format.\n",
      "    \n",
      "    * `get_progress(subject_name: str) -> str` \t# Retrieves concise progress information for a specific subject.\n",
      "    \n",
      "    * `lock_new_plan(plan: str)` \t# Locks the new plan\n",
      "    \n",
      "    * `suggest_learning_plan(goal: str, special_instruction: str) -> str` \t# Returns a formatted learning plan based on the user's goal and special_instruction. This does not finalize or store the plan.\n",
      "    \n",
      "    * `update_progress(subject_name: str, score: float, stats: dict)` \t# Updates the progress for a specific subject and propagates changes.\n",
      "\n",
      "- 'AITeacher':\n",
      "\n",
      "    * `process(input_text: str, additional_info: dict = None)` \t# Plans and executes the next steps based on input text and additional_info, using available tools and past conversation history.\n",
      "    \n",
      "    Args:\n",
      "input_text (str): User's input.\n",
      "additional_info (dict): Placeholder to pass information during recursive calls.\n",
      "\n",
      "# Memory: \n",
      "study_tendency: Student tends to wander while studying; needs tips for focus. (updated 40s ago)\n",
      "\n",
      "# Additional Context Gathered:\n",
      "\n",
      "# Conversation History (Last 10): \n",
      "- *student*: Hello\n",
      "\n",
      "- *Tutor*: Hello there! How can I help you today? Are you ready to embark on a learning adventure?\n",
      "\n",
      "- *student*: Maching Learning\n",
      "\n",
      "- *Tutor*: Here's a suggested learning plan for you:\n",
      "\n",
      "Sure! Here’s a structured learning plan to help a student become proficient in Machine Learning, complemented by practical exercises, key concepts, and essential algorithms.\n",
      "\n",
      "### Learning Plan: Becoming Proficient in Machine Learning\n",
      "\n",
      "#### 1. **Introduction to Machine Learning** (Importance: 1.0)\n",
      "   - **Key Concepts**: Definition, types of ML (Supervised, Unsupervised, Reinforcement Learning), applications of ML.\n",
      "   - **Practical Exercises**: \n",
      "     - Research and summarize real-world applications of ML.\n",
      "     - Complete an introductory online course (e.g., Coursera, edX).\n",
      "\n",
      "#### 2. **Mathematics for Machine Learning** (Importance: 0.9)\n",
      "   - **Key Concepts**: Linear algebra (vectors, matrices), calculus (gradients), probability (distributions).\n",
      "   - **Practical Exercises**: \n",
      "     - Solve problems involving matrix operations.\n",
      "     - Derive simple functions and their gradients.\n",
      "\n",
      "#### 3. **Data Preprocessing** (Importance: 0.8)\n",
      "   - **Key Concepts**: Data cleaning, normalization, dealing with missing values, feature selection/engineering.\n",
      "   - **Practical Exercises**: \n",
      "     - Work with a dataset to clean and preprocess it for analysis.\n",
      "     - Use libraries like Pandas for data manipulation.\n",
      "\n",
      "#### 4. **Supervised Learning Algorithms** (Importance: 0.9)\n",
      "   - **Key Concepts**: Regression (Linear, Logistic), Decision Trees, SVM, k-NN.\n",
      "   - **Practical Exercises**: \n",
      "     - Implement supervised learning models using frameworks like Scikit-learn.\n",
      "     - Use cross-validation and evaluate model performance.\n",
      "\n",
      "#### 5. **Unsupervised Learning Algorithms** (Importance: 0.8)\n",
      "   - **Key Concepts**: Clustering (k-Means, Hierarchical), Dimensionality Reduction (PCA).\n",
      "   - **Practical Exercises**: \n",
      "     - Apply clustering to group similar data points in a dataset.\n",
      "     - Perform PCA on a high-dimensional dataset and visualize results.\n",
      "\n",
      "#### 6. **Model Evaluation and Validation** (Importance: 0.8)\n",
      "   - **Key Concepts**: Confusion matrix, ROC curves, precision, recall, F1 score, overfitting and underfitting.\n",
      "   - **Practical Exercises**: \n",
      "     - Analyze a model’s performance using evaluation metrics.\n",
      "     - Implement techniques like k-fold cross-validation.\n",
      "\n",
      "#### 7. **Deep Learning Basics** (Importance: 0.7)\n",
      "   - **Key Concepts**: Neural networks, activation functions, backpropagation, deep architectures (CNNs, RNNs).\n",
      "   - **Practical Exercises**: \n",
      "     - Build a simple neural network using TensorFlow or PyTorch.\n",
      "     - Experiment with training CNN on image datasets (e.g., CIFAR-10).\n",
      "\n",
      "#### 8. **Natural Language Processing (NLP) Fundamentals** (Importance: 0.7)\n",
      "   - **Key Concepts**: Text preprocessing, word embeddings, transformers, sentiment analysis.\n",
      "   - **Practical Exercises**: \n",
      "     - Implement basic NLP tasks using NLTK or spaCy.\n",
      "     - Train a simple sentiment analysis model on text data.\n",
      "\n",
      "#### 9. **Deployment and Productionization of Models** (Importance: 0.6)\n",
      "   - **Key Concepts**: Model deployment, REST APIs, scaling models, version control.\n",
      "   - **Practical Exercises**: \n",
      "     - Create an API for a trained model using Flask or FastAPI.\n",
      "     - Experiment with deploying a model on cloud platforms (e.g., AWS, GCP).\n",
      "\n",
      "#### 10. **Ethics and Responsibilities in AI** (Importance: 0.5)\n",
      "   - **Key Concepts**: Bias in ML, ethical implications, data privacy, responsible AI usage.\n",
      "   - **Practical Exercises**: \n",
      "     - Analyze a case study of bias in AI.\n",
      "     - Create a report on best practices for ethical AI development.\n",
      "\n",
      "---\n",
      "\n",
      "This learning plan is designed to guide the student step-by-step through the key concepts and practical exercises necessary to achieve proficiency in Machine Learning. Each subject emphasizes the importance of understanding both the theory and practical applications involved in the field.\n",
      "\n",
      "Would you like to lock this plan to track your progress?\n",
      "\n",
      "- *student*:  Wow, that's a pretty solid plan! I love how it covers both theory and practical stuff. Locking it in sounds like a good idea. What's next? Do I get to check off items as I go? Also, any tips to avoid getting lost in the details? I can be a bit of a wanderer when it comes to studying!\n",
      "\n",
      "- *Tutor*: Great! The plan is locked in! 🎉 As you progress, you can definitely check off items as you go. To help you stay focused, consider breaking your studies into smaller, manageable chunks. Set specific goals for each session and reward yourself when you complete them! Remember, even the best explorers need to stay on the path sometimes. What's the first topic you want to dive into?\n",
      "\n",
      "# Additional Info: \n",
      "None\n",
      "\n",
      "# Learning Plan:\n",
      "- **Becoming Proficient in Machine Learning** (Importance: 1, Score: 0.0)\n",
      "  - **Mathematics** (Importance: 0.3, Score: 0.0)\n",
      "  - **Statistics** (Importance: 0.2, Score: 0.0)\n",
      "  - **Programming** (Importance: 0.2, Score: 0.0)\n",
      "  - **Algorithms** (Importance: 0.15, Score: 0.0)\n",
      "  - **Machine Learning Frameworks** (Importance: 0.15, Score: 0.0)\n",
      " \n",
      "\n",
      "# Current Time: 2024-09-03 17:36:27.906135\n",
      "\n",
      "\n",
      "# Instructions:\n",
      "\n",
      "- Generate Only Python Code to call the appropriate tools only using self.tools['<toolname>'].method(args).\n",
      "- No New Methods/Classes: Only use provided tools/methods.\n",
      "- Memory: Store short but important information in memory which might be needed later.\n",
      "- LearningPlan: Focus on locking a customized learning plan to track progress.\n",
      "- Confirmation: Confirm with user before changing anything.\n",
      "- Responder: User responder to respond to the user. Always respond with a question.\n",
      "- Code guidelines: Always end the python code with either a Responder or AITeacher tool call.\n",
      "\n",
      "# Here is the last input from student.\n",
      "\n",
      "Student:  Nice! I think I'll kick things off with the intro to Maching Learning. Gotta know what I'm getting into, right? Any tips on good resouses for that? \n",
      "\n",
      "# Plan code: \n",
      "\n",
      "\n",
      "=========\n",
      "```python\n",
      "# Updating memory with the chosen topic for study\n",
      "self.tools['MemoryManager'].update_memory('current_topic', 'Introduction to Machine Learning')\n",
      "\n",
      "# Getting resource suggestions for the Introduction to Machine Learning\n",
      "resources = \"Here are some great resources to kick off your journey into Machine Learning:\\n\"\n",
      "resources += \"- **Online Courses**: Coursera's 'Machine Learning' by Andrew Ng, edX's 'Introduction to Artificial Intelligence'.\\n\"\n",
      "resources += \"- **Books**: 'Hands-On Machine Learning with Scikit-Learn, Keras, and TensorFlow' by Aurélien Géron, 'Pattern Recognition and Machine Learning' by Christopher Bishop.\\n\"\n",
      "resources += \"- **YouTube Channels**: 3Blue1Brown (for math concepts), StatQuest (for statistics and ML algorithms).\\n\"\n",
      "resources += \"- **Websites**: Towards Data Science blog on Medium for articles and tutorials.\"\n",
      "\n",
      "# Responding to the user with the suggested resources\n",
      "self.tools['Responder'].respond(f\"Awesome choice! 🚀 Here are some resources to get you started on Introduction to Machine Learning:\\n{resources} What do you think, ready to dive in?\") \n",
      "```\n"
     ]
    }
   ],
   "source": [
    "index = 24\n",
    "print(df.iloc[index].prompt)\n",
    "print(\"=========\")\n",
    "print(df.iloc[index].code)\n"
   ]
  },
  {
   "cell_type": "code",
   "execution_count": 67,
   "metadata": {},
   "outputs": [],
   "source": [
    "new_code = \\\n",
    "'''```python\n",
    "# Getting resource suggestions for the Introduction to Machine Learning\n",
    "resources = (\n",
    "    \"Regarding resources, you'll have everything you need here, from concept understanding to practice problems. \"\n",
    "    \"Your progress will be tracked as you move ahead in the course. Still, if you want to explore more resources, \"\n",
    "    \"here are some recommendations:\\n\"\n",
    "    \"- **Online Courses**: Coursera's 'Machine Learning' by Andrew Ng, edX's 'Introduction to Artificial Intelligence'.\\n\"\n",
    "    \"- **Books**: 'Hands-On Machine Learning with Scikit-Learn, Keras, and TensorFlow' by Aurélien Géron, 'Pattern Recognition and Machine Learning' by Christopher Bishop.\\n\"\n",
    "    \"- **YouTube Channels**: 3Blue1Brown (for math concepts), StatQuest (for statistics and ML algorithms).\\n\"\n",
    "    \"- **Websites**: Towards Data Science blog on Medium for articles and tutorials.\"\n",
    ")\n",
    "\n",
    "# Responding to the user with the suggested resources\n",
    "self.tools['Responder'].respond(\n",
    "    f\"'Introduction to Machine Learning' is not part of the learning plan. Do you want me to add it to the plan?\\n\\n{resources}\"\n",
    ")\n",
    "\n",
    "# Updating memory with the current topic\n",
    "self.tools['MemoryManager'].update_memory('current_topic', 'Introduction to Machine Learning')\n",
    "\n",
    "# Teaching the student about the Introduction to Machine Learning\n",
    "self.tools['Concept'].teach(\n",
    "    topic=\"Introduction to Machine Learning\",\n",
    "    context=\"Student tends to wander while studying; needs tips for focus.\"\n",
    ")\n",
    "```'''\n",
    "\n",
    "data_entry = {\n",
    "            \"prompt\": df.iloc[index].prompt,\n",
    "            \"code\": new_code,\n",
    "        }\n",
    "\n",
    "\n",
    "# Serialize the dictionary to a JSON string\n",
    "data_line = json.dumps(data_entry)\n",
    "# Append the JSON string to the log file\n",
    "with open(\"training_data_fixed.jsonl\", \"a\") as log_file:\n",
    "    log_file.write(data_line + \"\\n\")"
   ]
  },
  {
   "cell_type": "markdown",
   "metadata": {},
   "source": [
    "# Verification"
   ]
  },
  {
   "cell_type": "code",
   "execution_count": 61,
   "metadata": {},
   "outputs": [
    {
     "data": {
      "text/markdown": [
       "# Example 9"
      ],
      "text/plain": [
       "<IPython.core.display.Markdown object>"
      ]
     },
     "metadata": {},
     "output_type": "display_data"
    },
    {
     "data": {
      "text/markdown": [
       "```python\n",
       "# Updating memory to mark the student's readiness for an advanced task.\n",
       "tools['MemoryManager'].update_memory('preference_arrays_and_strings_difficulty', 'advanced')\n",
       "\n",
       "# Getting a more challenging coding question based on arrays and strings.\n",
       "coding_question = tools['CodingPracticeTutor'].get_question(topic='arrays_and_strings', difficulty='advanced')\n",
       "\n",
       "# Responding with the new challenge for the student.\n",
       "tools['Responder'].respond(f\"Alright, here's a challenge for you:\\\n",
       "\\\n",
       "{coding_question}\\\n",
       "\\\n",
       "Ready to take this on? Let me know if you need any hints or have questions!\")\n",
       "```"
      ],
      "text/plain": [
       "<IPython.core.display.Markdown object>"
      ]
     },
     "metadata": {},
     "output_type": "display_data"
    },
    {
     "data": {
      "text/markdown": [
       "# Example 11"
      ],
      "text/plain": [
       "<IPython.core.display.Markdown object>"
      ]
     },
     "metadata": {},
     "output_type": "display_data"
    },
    {
     "data": {
      "text/markdown": [
       "```python\n",
       "question = \"\"\"### Problem: Longest Substring Without Repeating Characters\n",
       "\n",
       "Given a string, find the length of the longest substring without repeating characters.\n",
       "\n",
       "#### Example\n",
       "\n",
       "**Input:**\n",
       "```\n",
       "s = \"abcabcbb\"\n",
       "```\n",
       "**Output:**\n",
       "```\n",
       "3\n",
       "```\n",
       "**Explanation:**\n",
       "The answer is \"abc\", with the length of 3.\n",
       "\n",
       "**Input:**\n",
       "```\n",
       "s = \"bbbbb\"\n",
       "```\n",
       "**Output:**\n",
       "```\n",
       "1\n",
       "```\n",
       "**Explanation:**\n",
       "The answer is \"b\", with the length of 1.\n",
       "\n",
       "**Input:**\n",
       "```\n",
       "s = \"pwwkew\"\n",
       "```\n",
       "**Output:**\n",
       "```\n",
       "3\n",
       "```\n",
       "**Explanation:**\n",
       "The answer is \"wke\", with the length of 3.\n",
       "Note that the answer must be a substring, \"pwke\" is a subsequence and not a substring.\n",
       "\n",
       "#### Constraints\n",
       "- `0 <= s.length <= 5 * 10^4`\n",
       "- `s` consists of English letters, digits, symbols, and spaces.\n",
       "\n",
       "#### Function Signature\n",
       "```python\n",
       "def length_of_longest_substring(s: str) -> int:\n",
       "```\n",
       "\n",
       "#### Notes\n",
       "- You can solve this using sliding window technique or hash maps.\n",
       "- Focus on optimizing the solution to handle large input sizes efficiently.\n",
       "\"\"\"\n",
       "\n",
       "hint = tools['CodingPracticeTutor'].provide_hint(question = question)\n",
       "\n",
       "tools['Responder'].respond(f\"Here is a hint for you. Can you try now? \\n{hint}\")\n",
       "```"
      ],
      "text/plain": [
       "<IPython.core.display.Markdown object>"
      ]
     },
     "metadata": {},
     "output_type": "display_data"
    },
    {
     "data": {
      "text/markdown": [
       "# Example 7"
      ],
      "text/plain": [
       "<IPython.core.display.Markdown object>"
      ]
     },
     "metadata": {},
     "output_type": "display_data"
    },
    {
     "data": {
      "text/markdown": [
       "```python\n",
       "# Updating the memory with the student's preference for array and string difficulty.\n",
       "tools['MemoryManager'].update_memory(key=\"preference_arrays_and_strings_difficulty\", value=\"intermediate\")\n",
       "\n",
       "# Retrieve an intermediate-level coding question on array manipulation.\n",
       "advanced_array_question = tools['CodingPracticeTutor'].get_question(\n",
       "    topic=\"array manipulation in Python\",\n",
       "    difficulty=\"intermediate\"\n",
       ")\n",
       "\n",
       "# Respond with the intermediate-level question and offer hints if needed.\n",
       "tools['Responder'].respond(\n",
       "    f\"Since you have a basic understanding of array manipulation, let's challenge you with an intermediate-level question.\\\n",
       "\\\n",
       "{advanced_array_question}\\\n",
       "\\\n",
       "Can you solve this? Let me know if you need hints.\"\n",
       ")\n",
       "```"
      ],
      "text/plain": [
       "<IPython.core.display.Markdown object>"
      ]
     },
     "metadata": {},
     "output_type": "display_data"
    },
    {
     "data": {
      "text/markdown": [
       "# Example 6"
      ],
      "text/plain": [
       "<IPython.core.display.Markdown object>"
      ]
     },
     "metadata": {},
     "output_type": "display_data"
    },
    {
     "data": {
      "text/markdown": [
       "```python\n",
       "# Fetch the demo concept for inserting 10 at position 2 of the array.\n",
       "concept = tools['ConceptTutor'].teach(\n",
       "    topic=\"Insert 10 at position 2 of [1, 2, 3, 4]\"\n",
       ")\n",
       "\n",
       "# Respond with the demo concept explanation.\n",
       "tools['Responder'].respond(\n",
       "    f\"Alright, here's a simple demo:\\\n",
       "\\\n",
       "{concept}\"\n",
       ")\n",
       "\n",
       "# Prompt to see if the student is ready to move on to other array and string manipulation concepts.\n",
       "tools['Responder'].respond(\n",
       "    \"Simple, isn't it? Next, we can explore more concepts such as array deletion and string operations like concatenation and substrings. Are you ready to dive into these topics?\"\n",
       ")\n",
       "```"
      ],
      "text/plain": [
       "<IPython.core.display.Markdown object>"
      ]
     },
     "metadata": {},
     "output_type": "display_data"
    },
    {
     "data": {
      "text/markdown": [
       "# Example 1"
      ],
      "text/plain": [
       "<IPython.core.display.Markdown object>"
      ]
     },
     "metadata": {},
     "output_type": "display_data"
    },
    {
     "data": {
      "text/markdown": [
       "```python\n",
       "tools['Responder'].respond(\"Hello there! What subject or skill are you aiming to improve? Let's set some goals to get started.\")\n",
       "```"
      ],
      "text/plain": [
       "<IPython.core.display.Markdown object>"
      ]
     },
     "metadata": {},
     "output_type": "display_data"
    },
    {
     "data": {
      "text/markdown": [
       "# Example 10"
      ],
      "text/plain": [
       "<IPython.core.display.Markdown object>"
      ]
     },
     "metadata": {},
     "output_type": "display_data"
    },
    {
     "data": {
      "text/markdown": [
       "```python\n",
       "question = \"\"\"### Problem: Longest Substring Without Repeating Characters\n",
       "\n",
       "Given a string, find the length of the longest substring without repeating characters.\n",
       "\n",
       "#### Example\n",
       "\n",
       "**Input:**\n",
       "```\n",
       "s = \"abcabcbb\"\n",
       "```\n",
       "**Output:**\n",
       "```\n",
       "3\n",
       "```\n",
       "**Explanation:**\n",
       "The answer is \"abc\", with the length of 3.\n",
       "\n",
       "**Input:**\n",
       "```\n",
       "s = \"bbbbb\"\n",
       "```\n",
       "**Output:**\n",
       "```\n",
       "1\n",
       "```\n",
       "**Explanation:**\n",
       "The answer is \"b\", with the length of 1.\n",
       "\n",
       "**Input:**\n",
       "```\n",
       "s = \"pwwkew\"\n",
       "```\n",
       "**Output:**\n",
       "```\n",
       "3\n",
       "```\n",
       "**Explanation:**\n",
       "The answer is \"wke\", with the length of 3.\n",
       "Note that the answer must be a substring, \"pwke\" is a subsequence and not a substring.\n",
       "\n",
       "#### Constraints\n",
       "- `0 <= s.length <= 5 * 10^4`\n",
       "- `s` consists of English letters, digits, symbols, and spaces.\n",
       "\n",
       "#### Function Signature\n",
       "```python\n",
       "def length_of_longest_substring(s: str) -> int:\n",
       "```\n",
       "\n",
       "#### Notes\n",
       "- You can solve this using sliding window technique or hash maps.\n",
       "- Focus on optimizing the solution to handle large input sizes efficiently.\n",
       "\"\"\"\n",
       "\n",
       "answer = \"\"\"def length_of_longest_substring(s: str) -> int:\n",
       "    longest_substr_len = 0\n",
       "    current_substr_len = 0\n",
       "    current_substr_chars = set()\n",
       "    for c in s:\n",
       "if c in current_substr_chars:\n",
       "    continue\n",
       "else:\n",
       "    current_substr_len += 1\n",
       "    longest_substr_len = max(longest_substr_len, current_substr_len)\n",
       "    current_substr_chars.add(c)\n",
       "    return longest_substr_len\"\"\"\n",
       "\n",
       "grader_response = tools['CodingPracticeTutor'].grade_answer(question = question, answer = answer)\n",
       "\n",
       "tools['Responder'].respond({grader_response})\n",
       "\n",
       "# Process the new grading output with the AITeacher tool.\n",
       "tools['AITeacher'].process(\n",
       "    input_text=\"AITeacher(thought): I have asked grader to grade student's response. Process the report and respond.\",\n",
       "    additional_info={'grader_response': grader_response}\n",
       ")\n",
       "```"
      ],
      "text/plain": [
       "<IPython.core.display.Markdown object>"
      ]
     },
     "metadata": {},
     "output_type": "display_data"
    },
    {
     "data": {
      "text/markdown": [
       "# Example 8"
      ],
      "text/plain": [
       "<IPython.core.display.Markdown object>"
      ]
     },
     "metadata": {},
     "output_type": "display_data"
    },
    {
     "data": {
      "text/markdown": [
       "```python\n",
       "question = \"Insert the number 20 at position 3 in the array [5, 6, 7, 8]\"\n",
       "answer = \"\"\"```python\n",
       "array = [5, 6, 7, 8]\n",
       "array.insert(3, 20)\n",
       "print(array)\n",
       "```\"\"\"\n",
       "\n",
       "# Grade the answer using the CodingPracticeTutor tool.\n",
       "response = tools['CodingPracticeTutor'].grade_answer(\n",
       "    question=question,\n",
       "    answer=answer\n",
       ")\n",
       "\n",
       "# Respond to the student with the grading result.\n",
       "tools['Responder'].respond(response)\n",
       "\n",
       "# Process the grading output with the AITeacher tool for further analysis.\n",
       "tools['AITeacher'].process(\n",
       "    input_text=\"AITeacher(thought): I have asked the grader to grade the output. Process the output and respond.\",\n",
       "    additional_info={'grader_response': response}\n",
       ")\n",
       "\n",
       "```"
      ],
      "text/plain": [
       "<IPython.core.display.Markdown object>"
      ]
     },
     "metadata": {},
     "output_type": "display_data"
    },
    {
     "data": {
      "text/markdown": [
       "# Example 4"
      ],
      "text/plain": [
       "<IPython.core.display.Markdown object>"
      ]
     },
     "metadata": {},
     "output_type": "display_data"
    },
    {
     "data": {
      "text/markdown": [
       "```python\n",
       "tools['Responder'].respond(\"Awesome! Let's kick off with Arrays and Strings. How about we start with a practical example? I'll demonstrate how to manipulate an array by inserting and deleting elements. Once you're comfortable, you'll try it out your Ready to begin?\")\n",
       "```"
      ],
      "text/plain": [
       "<IPython.core.display.Markdown object>"
      ]
     },
     "metadata": {},
     "output_type": "display_data"
    },
    {
     "data": {
      "text/markdown": [
       "# Example 15"
      ],
      "text/plain": [
       "<IPython.core.display.Markdown object>"
      ]
     },
     "metadata": {},
     "output_type": "display_data"
    },
    {
     "data": {
      "text/markdown": [
       "```python\n",
       "# Getting resource suggestions for the Introduction to Machine Learning\n",
       "resources = (\n",
       "    \"Regarding resources, you'll have everything you need here, from concept understanding to practice problems. \"\n",
       "    \"Your progress will be tracked as you move ahead in the course. Still, if you want to explore more resources, \"\n",
       "    \"here are some recommendations:\\n\\n\"\n",
       "    \n",
       "    \"- **Online Courses**: Coursera's 'Machine Learning' by Andrew Ng, edX's 'Introduction to Artificial Intelligence'.\\n\"\n",
       "    \"- **Books**: 'Hands-On Machine Learning with Scikit-Learn, Keras, and TensorFlow' by Aurélien Géron, \"\n",
       "    \"'Pattern Recognition and Machine Learning' by Christopher Bishop.\\n\"\n",
       "    \"- **YouTube Channels**: 3Blue1Brown (for math concepts), StatQuest (for statistics and ML algorithms).\\n\"\n",
       "    \"- **Websites**: Towards Data Science blog on Medium for articles and tutorials.\"\n",
       ")\n",
       "\n",
       "\n",
       "# Responding to the user with the suggested resources\n",
       "tools['Responder'].respond(\n",
       "    f\"'Introduction to Machine Learning' is not part of the learning plan. Do you want me to add it to the plan?\\\n",
       "\\\n",
       "{resources}\"\n",
       ")\n",
       "\n",
       "# Updating memory with the current topic\n",
       "tools['MemoryManager'].update_memory('current_topic', 'Introduction to Machine Learning')\n",
       "\n",
       "# Teaching the student about the Introduction to Machine Learning\n",
       "concept = tools['Concept'].teach(\n",
       "    topic=\"Introduction to Machine Learning\",\n",
       "    context=\"Student tends to wander while studying; needs tips for focus.\"\n",
       ")\n",
       "tools['Responder'].respond(concept)\n",
       "```"
      ],
      "text/plain": [
       "<IPython.core.display.Markdown object>"
      ]
     },
     "metadata": {},
     "output_type": "display_data"
    },
    {
     "data": {
      "text/markdown": [
       "# Example 3"
      ],
      "text/plain": [
       "<IPython.core.display.Markdown object>"
      ]
     },
     "metadata": {},
     "output_type": "display_data"
    },
    {
     "data": {
      "text/markdown": [
       "```python\n",
       "# Lock the suggested learning plan\n",
       "tools['LearningPlanManager'].lock_new_plan(\n",
       "    \"\"\"\n",
       "    ### Learning Plan:\n",
       "\n",
       "    #### 1. Basic Data Structures (Importance: 1.0)\n",
       "       - 1.1 Arrays and Strings (Importance: 1.0)\n",
       "         - Practical examples: Array manipulation (insertion, deletion), string operations (concatenation, substring)\n",
       "         - Coding tasks: Implement operations without built-in methods\n",
       "       - 1.2 Linked Lists (Importance: 0.8)\n",
       "         - Practical examples: Single linked list, double linked list \n",
       "         - Coding tasks: Insertion, deletion, reversal algorithms\n",
       "       - 1.3 Stacks & Queues (Importance: 0.7)\n",
       "         - Practical examples: Browser history (stack), printer queue (queue)\n",
       "         - Coding tasks: Implementation using arrays and linked lists\n",
       "\n",
       "    #### 2. Advanced Data Structures (Importance: 0.8)\n",
       "       - 2.1 Trees (Importance: 0.9)\n",
       "         - Practical examples: Binary search trees (BST), AVL trees\n",
       "         - Coding tasks: Implement traversal methods (inorder, preorder, postorder)\n",
       "       - 2.2 Graphs (Importance: 0.7)\n",
       "         - Practical examples: Social network connections, map navigation\n",
       "         - Coding tasks: Implement BFS and DFS algorithms\n",
       "\n",
       "    #### 3. Basic Algorithms (Importance: 0.9)\n",
       "       - 3.1 Sorting Algorithms (Importance: 0.9)\n",
       "         - Practical examples: Sorting a list of numbers, names, objects\n",
       "         - Coding tasks: Implement bubble sort, merge sort, quicksort\n",
       "       - 3.2 Searching Algorithms (Importance: 0.8)\n",
       "         - Practical examples: Finding a number in a list, word in a text\n",
       "         - Coding tasks: Linear search, binary search\n",
       "\n",
       "    #### 4. Advanced Algorithms (Importance: 0.7)\n",
       "       - 4.1 Dynamic Programming (Importance: 0.8)\n",
       "         - Practical examples: Fibonacci series, knapsack problem\n",
       "         - Coding tasks: Implement classic DP problems (e.g., longest common subsequence)\n",
       "       - 4.2 Greedy Algorithms (Importance: 0.7)\n",
       "         - Practical examples: Coin change problem, job scheduling\n",
       "         - Coding tasks: Implement classic greedy algorithms\n",
       "\n",
       "    #### 5. Practical Application & Problem Solving (Importance: 0.6)\n",
       "       - 5.1 Competitive Programming (Importance: 0.8)\n",
       "         - Engage in coding platforms like LeetCode, CodeChef, HackerRank\n",
       "       - 5.2 Real-world Projects (Importance: 0.8)\n",
       "         - Develop a mini project like a personal task manager, simple social network graph\n",
       "\n",
       "    This structure emphasizes practical coding exercises for each topic to ensure hands-on learning experiences. Each subject and subtopic is connected to real-world applications for better understanding and relevance.\n",
       "    \"\"\"\n",
       ")\n",
       "\n",
       "# Update memory that plan has been locked\n",
       "tools['MemoryManager'].update_memory(\"learning_plan_locked\", \"True\")\n",
       "\n",
       "# Respond to the user\n",
       "tools['Responder'].respond(\"Great! The learning plan is locked and we are ready to start. Shall we begin with the first topic, Arrays and Strings?\")\n",
       "```"
      ],
      "text/plain": [
       "<IPython.core.display.Markdown object>"
      ]
     },
     "metadata": {},
     "output_type": "display_data"
    },
    {
     "data": {
      "text/markdown": [
       "# Example 12"
      ],
      "text/plain": [
       "<IPython.core.display.Markdown object>"
      ]
     },
     "metadata": {},
     "output_type": "display_data"
    },
    {
     "data": {
      "text/markdown": [
       "```python\n",
       "# Teach the student about the sliding window technique, focusing on their goal of mastering data structures and algorithms.\n",
       "sliding_window_concept = tools['ConceptTutor'].teach(\n",
       "    topic=\"Sliding Window Technique\",\n",
       "    context=\"Student was facing difficulty in solving the problem: 'Given a string, find the length of the longest substring without repeating characters.'\"\n",
       ")\n",
       "tools['Responder'].respond(sliding_window_concept)\n",
       "\n",
       "# After teaching the concept, ask a multiple-choice question to test understanding.\n",
       "mcq_question = tools['MCQExaminer'].get_question(\n",
       "    subject=sliding_window_concept,\n",
       "    difficulty='intermediate'\n",
       ")\n",
       "tools['Responder'].respond(\n",
       "    f\"If you understood the concept, let's test your knowledge:\\\n",
       "\\\n",
       "{mcq_question}\\\n",
       "\\\n",
       "Can you answer this question?\"\n",
       ")\n",
       "```"
      ],
      "text/plain": [
       "<IPython.core.display.Markdown object>"
      ]
     },
     "metadata": {},
     "output_type": "display_data"
    },
    {
     "data": {
      "text/markdown": [
       "# Example 2"
      ],
      "text/plain": [
       "<IPython.core.display.Markdown object>"
      ]
     },
     "metadata": {},
     "output_type": "display_data"
    },
    {
     "data": {
      "text/markdown": [
       "```python\n",
       "\n",
       "# Update memory with learning goal\n",
       "tools['MemoryManager'].update_memory('goal', 'Improve DS Algo')\n",
       "\n",
       "# Suggest a customized learning plan for the goal\n",
       "learning_plan = tools['LearningPlanManager'].suggest_learning_plan(goal='Improve DS Algo')\n",
       "\n",
       "# Provide the suggested learning plan to the user for confirmation\n",
       "tools['Responder'].respond(f\"Great! Let's dive into Data Structures and Algorithms. Here's a plan I suggest:\\\n",
       "\\\n",
       "{learning_plan}\\\n",
       "\\\n",
       "Shall we lock this plan and get started?\")\n",
       "\n",
       "```"
      ],
      "text/plain": [
       "<IPython.core.display.Markdown object>"
      ]
     },
     "metadata": {},
     "output_type": "display_data"
    },
    {
     "data": {
      "text/markdown": [
       "# Example 13"
      ],
      "text/plain": [
       "<IPython.core.display.Markdown object>"
      ]
     },
     "metadata": {},
     "output_type": "display_data"
    },
    {
     "data": {
      "text/markdown": [
       "```python\n",
       "# First, let's suggest a customized learning plan for the student focused on Machine Learning.\n",
       "\n",
       "plan = tools['LearningPlanManager'].suggest_learning_plan(\n",
       "    goal=\"Become proficient in Machine Learning\", \n",
       "    special_instruction=\"Include practical exercises, key concepts, and essential algorithms.\"\n",
       ")\n",
       "\n",
       "# Now, I'll respond to the student to let them know about the learning plan and ask if they want to lock it.\n",
       "tools['Responder'].respond(f\"Here's a suggested learning plan for you:\\\n",
       "\\\n",
       "{plan}\\\n",
       "\\\n",
       "Would you like to lock this plan to track your progress?\")\n",
       "```"
      ],
      "text/plain": [
       "<IPython.core.display.Markdown object>"
      ]
     },
     "metadata": {},
     "output_type": "display_data"
    },
    {
     "data": {
      "text/markdown": [
       "# Example 5"
      ],
      "text/plain": [
       "<IPython.core.display.Markdown object>"
      ]
     },
     "metadata": {},
     "output_type": "display_data"
    },
    {
     "data": {
      "text/markdown": [
       "```python\n",
       "# Set the default programming language to Python, but allow the user to choose a different one if desired.\n",
       "tools['Responder'].respond(\n",
       "    \"Let's start with the basics using Python as the default programming language. If you'd prefer a different language, just let me know!\"\n",
       ")\n",
       "\n",
       "# Request the ConceptTutor to provide teaching material on array manipulation,\n",
       "# starting with basic concepts and progressing to advanced topics.\n",
       "# Note: The student prefers a gradual approach, so we'll keep the pacing comfortable.\n",
       "array_manipulation_concepts = tools['ConceptTutor'].teach(\n",
       "    topic='Array manipulation in Python',\n",
       "    context='Start with the basics, then move to advanced concepts. The student is in no rush and prefers to take it one step at a time.'\n",
       ")\n",
       "\n",
       "# Deliver the array manipulation concepts to the student.\n",
       "tools['Responder'].respond(array_manipulation_concepts)\n",
       "\n",
       "# Prompt the student to see if they're ready to apply what they've learned with a quick exercise.\n",
       "tools['Responder'].respond('Are you ready for a quick exercise?')\n",
       "\n",
       "```"
      ],
      "text/plain": [
       "<IPython.core.display.Markdown object>"
      ]
     },
     "metadata": {},
     "output_type": "display_data"
    },
    {
     "data": {
      "text/markdown": [
       "# Example 14"
      ],
      "text/plain": [
       "<IPython.core.display.Markdown object>"
      ]
     },
     "metadata": {},
     "output_type": "display_data"
    },
    {
     "data": {
      "text/markdown": [
       "```python\n",
       "# Locking the learning plan for the student\n",
       "tools['LearningPlanManager'].lock_new_plan(\"Becoming Proficient in Machine Learning\")\n",
       "\n",
       "# Storing a memory note about the student's tendency to wander while studying\n",
       "tools['MemoryManager'].update_memory(\"study_focus\", \"Student tends to wander while studying; needs tips for focus.\")\n",
       "\n",
       "# Responding to the student\n",
       "tools['Responder'].respond(\"Great! The plan is locked in! 🎉 As you progress, you can definitely check off items as you go. To help you stay focused, consider breaking your studies into smaller, manageable chunks. Set specific goals for each session and reward yourself when you complete them! Remember, even the best explorers need to stay on the path sometimes. What's the first topic you want to dive into?\")\n",
       "```"
      ],
      "text/plain": [
       "<IPython.core.display.Markdown object>"
      ]
     },
     "metadata": {},
     "output_type": "display_data"
    }
   ],
   "source": [
    "import os\n",
    "tool.tools = mock.MagicMock()\n",
    "# with open(\"training_data_fixed.jsonl\", \"r\") as log_file:\n",
    "#     for i, line in enumerate(log_file.readlines()):\n",
    "#         data = json.loads(line)\n",
    "#         directory = f\"labeled_data/{i+1}\"\n",
    "#         # os.makedirs(directory)\n",
    "#         os.remove(f\"{directory}/code.py\")\n",
    "#         with open(f\"{directory}/prompt.md\", 'w') as f:\n",
    "#             f.write(data['prompt'])\n",
    "#         with open(f\"{directory}/code.md\", 'w') as f:\n",
    "#             f.write(data['code'])\n",
    "\n",
    "for dir in os.listdir(\"labeled_data\"):\n",
    "    display(Markdown(f\"# Example {dir}\"))\n",
    "    code = open(f\"labeled_data/{dir}/code.md\", 'r').read()\n",
    "    # display(Markdown(code))\n",
    "    code = code.replace(\"self.\",\"\")\n",
    "    # display(Markdown(code))\n",
    "    tool.Tool._execute_code(code)"
   ]
  },
  {
   "cell_type": "code",
   "execution_count": 53,
   "metadata": {},
   "outputs": [],
   "source": [
    "# s = '''```python\n",
    "# question = \"Insert the number 20 at position 3 in the array [5, 6, 7, 8]\"\n",
    "# answer = \"\"\"```python\n",
    "# array = [5, 6, 7, 8]\n",
    "# array.insert(3, 20)\n",
    "# print(array)\n",
    "# ```\"\"\"\n",
    "\n",
    "# # Grade the answer using the CodingPracticeTutor tool.\n",
    "# response = self.tools['CodingPracticeTutor'].grade_answer(\n",
    "#     question=question,\n",
    "#     answer=answer\n",
    "# )\n",
    "\n",
    "# # Respond to the student with the grading result.\n",
    "# self.tools['Responder'].respond(response)\n",
    "\n",
    "# # Process the grading output with the AITeacher tool for further analysis.\n",
    "# self.tools['AITeacher'].process(\n",
    "#     input_text=\"AITeacher(thought): I have asked the grader to grade the output. Process the output and respond.\",\n",
    "#     additional_info={'grader_response': response}\n",
    "# )\n",
    "\n",
    "# ```\n",
    "# '''\n",
    "\n",
    "# display(Markdown(s))"
   ]
  },
  {
   "cell_type": "code",
   "execution_count": 54,
   "metadata": {},
   "outputs": [],
   "source": [
    "# code_pattern = re.compile(r'```(?:python)?\\n(.*)\\n```', re.DOTALL)\n",
    "# match = code_pattern.search(s)\n",
    "# print(match)\n",
    "# code = match.group(1)\n",
    "# print(code)"
   ]
  },
  {
   "cell_type": "code",
   "execution_count": null,
   "metadata": {},
   "outputs": [],
   "source": []
  }
 ],
 "metadata": {
  "kernelspec": {
   "display_name": "pai",
   "language": "python",
   "name": "python3"
  },
  "language_info": {
   "codemirror_mode": {
    "name": "ipython",
    "version": 3
   },
   "file_extension": ".py",
   "mimetype": "text/x-python",
   "name": "python",
   "nbconvert_exporter": "python",
   "pygments_lexer": "ipython3",
   "version": "3.12.4"
  }
 },
 "nbformat": 4,
 "nbformat_minor": 2
}
