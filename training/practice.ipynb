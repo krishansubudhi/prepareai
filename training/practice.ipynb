{
 "cells": [
  {
   "cell_type": "code",
   "execution_count": 1,
   "metadata": {},
   "outputs": [
    {
     "data": {
      "text/plain": [
       "'2.5.0.dev20240911'"
      ]
     },
     "execution_count": 1,
     "metadata": {},
     "output_type": "execute_result"
    }
   ],
   "source": [
    "# pip install --pre torch torchvision  --index-url https://download.pytorch.org/whl/nightly/cpu\n",
    "# pip install torchvision\n",
    "\n",
    "import torch, torchvision\n",
    "from torchvision import datasets, transforms\n",
    "from torch import nn\n",
    "import matplotlib.pyplot as plt\n",
    "import numpy as np\n",
    "from tqdm.auto import tqdm\n",
    "torch.__version__"
   ]
  },
  {
   "cell_type": "code",
   "execution_count": 38,
   "metadata": {},
   "outputs": [
    {
     "data": {
      "text/plain": [
       "'mps'"
      ]
     },
     "execution_count": 38,
     "metadata": {},
     "output_type": "execute_result"
    }
   ],
   "source": [
    "device = 'mps' if torch.backends.mps.is_available() else 'cpu'\n",
    "torch.set_default_device(device)\n",
    "device"
   ]
  },
  {
   "cell_type": "code",
   "execution_count": 39,
   "metadata": {},
   "outputs": [
    {
     "data": {
      "text/plain": [
       "Dataset MNIST\n",
       "    Number of datapoints: 60000\n",
       "    Root location: /tmp/data\n",
       "    Split: Train\n",
       "    StandardTransform\n",
       "Transform: Compose(\n",
       "               ToTensor()\n",
       "               Normalize(mean=(0.5,), std=(0.5,))\n",
       "           )"
      ]
     },
     "execution_count": 39,
     "metadata": {},
     "output_type": "execute_result"
    }
   ],
   "source": [
    "\n",
    "# Define a transform to normalize the data\n",
    "transform = transforms.Compose([\n",
    "    transforms.ToTensor(),  # Convert the images to PyTorch tensors\n",
    "    transforms.Normalize((0.5,), (0.5,))  # Normalize the tensor with mean=0.5 and std=0.5\n",
    "])\n",
    "\n",
    "# Download the training and test datasets\n",
    "train_dataset = datasets.MNIST(root='/tmp/data', train=True, download=True, transform=transform)\n",
    "test_dataset = datasets.MNIST(root='/tmp/data', train=False, download=True, transform=transform)\n",
    "\n",
    "\n",
    "train_dataset"
   ]
  },
  {
   "cell_type": "code",
   "execution_count": 40,
   "metadata": {},
   "outputs": [
    {
     "data": {
      "text/plain": [
       "(np.float64(-0.5), np.float64(27.5), np.float64(27.5), np.float64(-0.5))"
      ]
     },
     "execution_count": 40,
     "metadata": {},
     "output_type": "execute_result"
    },
    {
     "data": {
      "image/png": "[encoded data removed]",
      "text/plain": [
       "<Figure size 640x480 with 1 Axes>"
      ]
     },
     "metadata": {},
     "output_type": "display_data"
    }
   ],
   "source": [
    "\n",
    "im = train_dataset.data[1]\n",
    "label = train_dataset.targets[1]\n",
    "# plt.imshow(im.squeeze().numpy(),cmap='gray')\n",
    "im2 = im[0].numpy() if len(im.shape) > 2 else im.numpy()\n",
    "\n",
    "# Plot the image\n",
    "plt.imshow(im2, cmap='gray')\n",
    "plt.title(f'Label: {label}')\n",
    "plt.axis('off')  # Hide axes\n",
    "# plt.show()"
   ]
  },
  {
   "cell_type": "code",
   "execution_count": 41,
   "metadata": {},
   "outputs": [
    {
     "data": {
      "text/plain": [
       "tensor([-36.2869,   4.7833, -10.9329,  37.4291,  -9.3662,  -1.4147, -17.4438,\n",
       "        -25.2653,  19.3014, -34.5444], device='mps:0',\n",
       "       grad_fn=<LinearBackward0>)"
      ]
     },
     "execution_count": 41,
     "metadata": {},
     "output_type": "execute_result"
    }
   ],
   "source": [
    "# Define a simple feedforward neural network with:\n",
    "# An input layer with 784 units (28x28 pixels)\n",
    "# One hidden layer with 128 units and ReLU activation\n",
    "# An output layer with 10 units (for each digit class)\n",
    "\n",
    "model = nn.Sequential(\n",
    "    nn.Linear(784, 128),\n",
    "    nn.ReLU(),\n",
    "    nn.Linear(128, 10)\n",
    ")\n",
    "\n",
    "model(torch.tensor(im.numpy(), dtype=torch.float32).reshape(784))"
   ]
  },
  {
   "cell_type": "code",
   "execution_count": 42,
   "metadata": {},
   "outputs": [],
   "source": [
    "model = model.to(device)"
   ]
  },
  {
   "cell_type": "code",
   "execution_count": 45,
   "metadata": {},
   "outputs": [
    {
     "name": "stdout",
     "output_type": "stream",
     "text": [
      "CPU times: user 1 μs, sys: 1e+03 ns, total: 2 μs\n",
      "Wall time: 3.81 μs\n",
      "torch.Size([10000, 784]) torch.Size([10000]) torch.Size([10000])\n"
     ]
    },
    {
     "data": {
      "text/plain": [
       "tensor(0.0964, device='mps:0')"
      ]
     },
     "execution_count": 45,
     "metadata": {},
     "output_type": "execute_result"
    }
   ],
   "source": [
    "%time\n",
    "def evaluate(model):\n",
    "    model.eval()\n",
    "    data = torch.tensor(test_dataset.data.numpy(), dtype=torch.float32).reshape(-1,784)\n",
    "    preds = torch.argmax(model(data.to(device)), dim=1)\n",
    "    labels = test_dataset.targets.to(device)\n",
    "    print(data.shape, labels.shape, preds.shape)\n",
    "    acc = torch.mean(1.0* (preds == labels))\n",
    "    return(acc)\n",
    "evaluate(model)\n",
    "    "
   ]
  },
  {
   "cell_type": "code",
   "execution_count": 46,
   "metadata": {},
   "outputs": [
    {
     "data": {
      "text/plain": [
       "torch.Size([10000, 28, 28])"
      ]
     },
     "execution_count": 46,
     "metadata": {},
     "output_type": "execute_result"
    }
   ],
   "source": [
    "torch.tensor(test_dataset.data.numpy(), dtype=torch.float32).shape"
   ]
  },
  {
   "cell_type": "code",
   "execution_count": 47,
   "metadata": {},
   "outputs": [],
   "source": [
    "\n",
    "optimizer = torch.optim.Adam(model.parameters(), lr = 0.001)\n",
    "criterion = nn.CrossEntropyLoss()"
   ]
  },
  {
   "cell_type": "code",
   "execution_count": 53,
   "metadata": {},
   "outputs": [
    {
     "data": {
      "application/vnd.jupyter.widget-view+json": {
       "model_id": "89a15a73d3eb4a658e0c2cb0d3a36eda",
       "version_major": 2,
       "version_minor": 0
      },
      "text/plain": [
       "  0%|          | 0/3750 [00:00<?, ?it/s]"
      ]
     },
     "metadata": {},
     "output_type": "display_data"
    }
   ],
   "source": [
    "dataloader = torch.utils.data.DataLoader(train_dataset, batch_size=16)\n",
    "losses = []\n",
    "# device = torch.torch\n",
    "for data, labels in tqdm(dataloader):\n",
    "    data = data.to(device)\n",
    "    labels = labels.to(device)\n",
    "    optimizer.zero_grad()\n",
    "    preds = model(data.reshape(-1,784))\n",
    "    loss = criterion(preds, labels)\n",
    "    # print(preds, labels)\n",
    "    # print(loss)\n",
    "    loss.backward()\n",
    "    losses.append(loss.item())\n",
    "    optimizer.step()"
   ]
  },
  {
   "cell_type": "code",
   "execution_count": null,
   "metadata": {},
   "outputs": [],
   "source": []
  }
 ],
 "metadata": {
  "kernelspec": {
   "display_name": "pai",
   "language": "python",
   "name": "python3"
  },
  "language_info": {
   "codemirror_mode": {
    "name": "ipython",
    "version": 3
   },
   "file_extension": ".py",
   "mimetype": "text/x-python",
   "name": "python",
   "nbconvert_exporter": "python",
   "pygments_lexer": "ipython3",
   "version": "3.12.4"
  }
 },
 "nbformat": 4,
 "nbformat_minor": 2
}
