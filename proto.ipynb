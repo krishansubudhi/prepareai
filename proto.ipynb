{
 "cells": [
  {
   "cell_type": "code",
   "execution_count": 1,
   "id": "555f0693-3801-484a-a974-5ad4a7865871",
   "metadata": {},
   "outputs": [],
   "source": [
    "from dotenv import load_dotenv\n",
    "load_dotenv()\n",
    "from IPython.display import display, Markdown\n",
    "import tools_lib, planner_tool, memory_tool, tool\n",
    "import importlib\n",
    "importlib.reload(tool)\n",
    "importlib.reload(planner_tool)\n",
    "importlib.reload(memory_tool)\n",
    "importlib.reload(tools_lib)\n",
    "orc = tools_lib.Orchestrator(session_name = 'finetune3_temp2')\n",
    "# orc = tools_lib.Orchestrator.load_session('finetune3_temp1')"
   ]
  },
  {
   "cell_type": "code",
   "execution_count": 2,
   "id": "81c77146",
   "metadata": {},
   "outputs": [
    {
     "data": {
      "text/markdown": [
       "You are an AI Teacher guiding a student toward their goals. Prepare customized plans, track their progress and skills, and personalize your responses using humor, challenges, and appreciation based on their personality ,goal and progress.\n",
       "\n",
       "\n",
       "# Instructions:\n",
       "\n",
       "- Generate Only Python Code to call the appropriate tools only using self.tools['<toolname>'].method(args).\n",
       "- No New Methods/Classes: Only use provided tools/methods.\n",
       "- No tools except you will output anything to the user. So you are responsible to pass on the results of tool calls to the user.\n",
       "- Memory: Store short but important information in memory which might be needed later.\n",
       "- LearningPlan: Focus on locking a customized learning plan to track progress.\n",
       "- Confirmation: Confirm with user before changing anything.\n",
       "- Responder: User responder to respond to the user. Always respond with a question.\n",
       "- Code guidelines: Always end the python code with either a Responder or AITeacher tool call.\n"
      ],
      "text/plain": [
       "<IPython.core.display.Markdown object>"
      ]
     },
     "metadata": {},
     "output_type": "display_data"
    }
   ],
   "source": [
    "# orc.chat_session.session_history = orc.chat_session.session_history[:-2]\n",
    "display(Markdown(orc.ai_teacher._get_system_prompt()))"
   ]
  },
  {
   "cell_type": "code",
   "execution_count": 3,
   "id": "0de63d2c",
   "metadata": {},
   "outputs": [
    {
     "data": {
      "text/markdown": [
       "\n",
       "# Tools Available:\n",
       "- 'MemoryManager':\n",
       "\n",
       "    A class to manage in-memory short key-value pairs along with their update timestamps.\n",
       "    \n",
       "    \n",
       "    * `get_memory(key: str) -> str` \t# Retrieves the value associated with a given key from memory.\n",
       "    \n",
       "    * `get_memory_snapshot() -> str` \t# Retrieves a formatted snapshot of the memory, showing keys, values and the time elapsed since their last update.\n",
       "    \n",
       "    * `update_memory(key: str, value: str) -> None` \t# Updates the memory with a new short key-value pair. Make sure values are less than 200 characters.\n",
       "\n",
       "- 'MCQExaminer':\n",
       "\n",
       "    * `get_question(subject: str, difficulty: str) -> str` \t# Get an MCQ question based on the subject and difficulty level.\n",
       "    \n",
       "    * `grade_answer(question: str, answer: str) -> str` \t# Provide feedback on the given answer for the specified question. \n",
       "    Includes correct answer and explanation if possible.\n",
       "    \n",
       "    * `provide_hint(question: str) -> str` \t# Provide a hint related to a specific MCQ question.\n",
       "\n",
       "- 'CodingPracticeTutor':\n",
       "\n",
       "    * `get_question(topic: str, difficulty: str) -> str` \t# Get a coding question based on the topic and difficulty level.\n",
       "    \n",
       "    * `grade_answer(question: str, answer: str) -> str` \t# Provide feedback on the given answer for the specified question. \n",
       "    Includes correct answer and explanation if possible.\n",
       "    \n",
       "    * `provide_hint(question: str) -> str` \t# Provide a hint related to a specific coding problem.\n",
       "\n",
       "- 'ConceptTutor':\n",
       "\n",
       "    * `clear_doubts(doubt: str, context: str | None = None) -> str` \t# clear doubt based on the give context.\n",
       "    \n",
       "    * `get_concept(topic: str, context: str | None = None) -> str` \t# Return the concepts of a topic. Personalized based on context. Keep it concise but helpful. Adjust difficulty based on context.\n",
       "\n",
       "- 'Responder':\n",
       "\n",
       "    * `respond(message: str)` \t# Respond to the user with markdown message\n",
       "\n",
       "- 'LearningPlanManager':\n",
       "\n",
       "    * `get_plan_tree_markdown(subject_name: str | None = None) -> str` \t# Returns learning plan in a readable markdown format. subject_name is optional.\n",
       "    \n",
       "    * `lock_new_plan(plan: str)` \t# Locks the new plan\n",
       "    \n",
       "    * `suggest_learning_plan(goal: str, special_instruction: str = None) -> str` \t# Returns a formatted learning plan based on the user's goal and special_instruction. This does not finalize or store the plan.\n",
       "\n",
       "- 'AITeacher':\n",
       "\n",
       "    * `process(additional_info: dict = None)` \t# Plans and executes the next steps using available tools and past conversation history.\n",
       "    \n",
       "    Args:\n",
       "additional_info (dict): Placeholder to pass information during recursive calls.\n",
       "\n",
       "# Memory: \n",
       "\n",
       "\n",
       "# Additional Info: \n",
       "{}\n",
       "\n",
       "# Learning Plan:\n",
       "No plan locked yet. \n",
       "\n",
       "# Current Time: 2024-09-08 10:32:26.321331\n",
       "\n",
       "# Conversation History (Last 10): \n",
       "- \n",
       "\n",
       "\n",
       "# Plan code: \n"
      ],
      "text/plain": [
       "<IPython.core.display.Markdown object>"
      ]
     },
     "metadata": {},
     "output_type": "display_data"
    }
   ],
   "source": [
    "display(Markdown(orc.ai_teacher._get_prompt()))"
   ]
  },
  {
   "cell_type": "code",
   "execution_count": 4,
   "id": "536ad6b8",
   "metadata": {},
   "outputs": [
    {
     "data": {
      "text/markdown": [
       "```python\n",
       "# The goal is to prepare for the Meta production Engineer interview focusing on Linux.\n",
       "\n",
       "# Updating the goal in memory.\n",
       "self.tools['MemoryManager'].update_memory('goal', 'Prepare for Meta production Engineer interview focusing on Linux.')\n",
       "\n",
       "# Suggest a customized learning plan with a focus on Linux interview preparation for Meta.\n",
       "learning_plan = self.tools['LearningPlanManager'].suggest_learning_plan(\n",
       "    goal='Prepare for Meta production Engineer interview focusing on Linux.',\n",
       "    special_instruction='Focus on Linux concepts, commands, and problem-solving questions relevant to production engineering.'\n",
       ")\n",
       "\n",
       "# Provide the suggested learning plan to the user for confirmation.\n",
       "self.tools['Responder'].respond(f\"\"\"Here’s a suggested learning plan to prep you for the Meta interview:\n",
       "\n",
       "{learning_plan}\n",
       "\n",
       "Does this look good? Shall I lock in this plan?\"\"\")\n",
       "```"
      ],
      "text/plain": [
       "<IPython.core.display.Markdown object>"
      ]
     },
     "metadata": {},
     "output_type": "display_data"
    },
    {
     "data": {
      "text/markdown": [
       "**PrepareAI:** Here’s a suggested learning plan to prep you for the Meta interview:\n",
       "\n",
       "Here's a structured learning plan tailored for a student preparing for a Meta production engineer interview, specifically focusing on Linux concepts, commands, and problem-solving questions relevant to production engineering. The subjects are categorized into a tree structure with their importance levels indicated.\n",
       "\n",
       "### Learning Plan Tree\n",
       "\n",
       "1. **Linux Fundamentals (Importance: 1.0)**\n",
       "    - **File System Navigation (Importance: 0.8)**\n",
       "        - Basic commands: `ls`, `cd`, `pwd`, `cp`, `mv`, `rm`\n",
       "        - Understanding file permissions and ownership: `chmod`, `chown`\n",
       "    - **Process Management (Importance: 0.7)**\n",
       "        - Understanding processes: `ps`, `top`, `htop`, `kill`, `nice`, `renice`\n",
       "        - Background processes and job control: `bg`, `fg`, `jobs`\n",
       "\n",
       "2. **Linux Command Line Proficiency (Importance: 0.9)**\n",
       "    - **Text Processing Commands (Importance: 0.7)**\n",
       "        - Commands: `cat`, `grep`, `awk`, `sed`, `sort`\n",
       "        - Piping and Redirection: Using `|`, `>`, and `<`\n",
       "    - **System Information and Monitoring (Importance: 0.6)**\n",
       "        - Commands: `df`, `du`, `free`, `uptime`, `uname`\n",
       "        - Log files navigation: `/var/log/`\n",
       "\n",
       "3. **Networking in Linux (Importance: 0.8)**\n",
       "    - **Basic Networking Commands (Importance: 0.7)**\n",
       "        - Understanding network configuration: `ifconfig`, `ip`, `ping`, `netstat`\n",
       "        - Managing firewall rules: `iptables`, `ufw`\n",
       "    - **Troubleshooting Network Issues (Importance: 0.6)**\n",
       "        - Use of `traceroute`, `nslookup`, `dig`\n",
       "\n",
       "4. **Linux Scripting (Importance: 0.7)**\n",
       "    - **Shell Scripting Basics (Importance: 0.8)**\n",
       "        - Writing simple scripts: Variables, conditionals, loops\n",
       "        - Automating tasks with `cron`\n",
       "    - **Debugging Scripts (Importance: 0.6)**\n",
       "        - Using `set -x`, and `set -e` for debugging scripts\n",
       "\n",
       "5. **Security and Hardening (Importance: 0.6)**\n",
       "    - **User Management and Permissions (Importance: 0.7)**\n",
       "        - Creating and managing users and groups: `useradd`, `usermod`, `groupadd`\n",
       "        - Configuring `sudo` permissions\n",
       "    - **Basic Security Practices (Importance: 0.5)**\n",
       "        - Implementing firewalls and basic server hardening techniques\n",
       "\n",
       "6. **Virtualization and Containers (Importance: 0.5)**\n",
       "    - **Understanding Virtual Machines (Importance: 0.6)**\n",
       "        - Concepts of virtualization, hypervisors, and VM management\n",
       "    - **Introduction to Docker (Importance: 0.6)**\n",
       "        - Basic commands: `docker run`, `docker ps`, `docker images`\n",
       "        - Creating and managing containers\n",
       "\n",
       "7. **Configuration Management and Automation (Importance: 0.4)**\n",
       "    - **Using Tools like Ansible or Puppet (Importance: 0.5)**\n",
       "        - Understanding the basics of configuration management\n",
       "    - **Writing simple Playbooks (Importance: 0.4)**\n",
       "        - Basic structures of playbooks and roles\n",
       "\n",
       "8. **Cloud Computing and Deployment (Importance: 0.4)**\n",
       "    - **Familiarity with Cloud Platforms (Importance: 0.5)**\n",
       "        - Overview of AWS, GCP, or Azure\n",
       "    - **Understanding CI/CD Principles (Importance: 0.4)**\n",
       "        - Basics of continuous integration and deployment workflows\n",
       "\n",
       "9. **System Performance Tuning (Importance: 0.4)**\n",
       "    - **Monitoring and Performance Tools (Importance: 0.5)**\n",
       "        - Using `vmstat`, `iostat`, and `sar`\n",
       "    - **Tuning System Performance (Importance: 0.4)**\n",
       "        - Memory management, CPU scheduling, and adjusting system parameters\n",
       "\n",
       "10. **Problem-Solving and Case Studies (Importance: 0.3)**\n",
       "    - **Common Production Scenarios (Importance: 0.5)**\n",
       "        - Analyzing past incidents and troubleshooting methods\n",
       "    - **Practice Mock Interviews (Importance: 0.4)**\n",
       "        - Engaging in mock interviews with focus on scenario-based questions\n",
       "\n",
       "This learning plan provides a comprehensive guide for the student to prepare for their interview by systematically covering essential Linux concepts, commands, and skills related to production engineering.\n",
       "\n",
       "Does this look good? Shall I lock in this plan?"
      ],
      "text/plain": [
       "<IPython.core.display.Markdown object>"
      ]
     },
     "metadata": {},
     "output_type": "display_data"
    }
   ],
   "source": [
    "orc.process_user_input(\"I want to practice Linux questions for Meta production Engineer interview.\")"
   ]
  },
  {
   "cell_type": "code",
   "execution_count": 5,
   "id": "4c50be95",
   "metadata": {},
   "outputs": [
    {
     "data": {
      "text/markdown": [
       "```python\n",
       "# Locking the learning plan as confirmed by the student\n",
       "self.tools['LearningPlanManager'].lock_new_plan(\n",
       "    \"\"\"### Learning Plan Tree\n",
       "\n",
       "1. **Linux Fundamentals (Importance: 1.0)**\n",
       "- **File System Navigation (Importance: 0.8)**\n",
       "    - Basic commands: `ls`, `cd`, `pwd`, `cp`, `mv`, `rm`\n",
       "    - Understanding file permissions and ownership: `chmod`, `chown`\n",
       "- **Process Management (Importance: 0.7)**\n",
       "    - Understanding processes: `ps`, `top`, `htop`, `kill`, `nice`, `renice`\n",
       "    - Background processes and job control: `bg`, `fg`, `jobs`\n",
       "    \n",
       "2. **Linux Command Line Proficiency (Importance: 0.9)**\n",
       "- **Text Processing Commands (Importance: 0.7)**\n",
       "    - Commands: `cat`, `grep`, `awk`, `sed`, `sort`\n",
       "    - Piping and Redirection: Using `|`, `>`, and `<`\n",
       "- **System Information and Monitoring (Importance: 0.6)**\n",
       "    - Commands: `df`, `du`, `free`, `uptime`, `uname`\n",
       "    - Log files navigation: `/var/log/`\n",
       "    \n",
       "3. **Networking in Linux (Importance: 0.8)**\n",
       "- **Basic Networking Commands (Importance: 0.7)**\n",
       "    - Understanding network configuration: `ifconfig`, `ip`, `ping`, `netstat`\n",
       "    - Managing firewall rules: `iptables`, `ufw`\n",
       "- **Troubleshooting Network Issues (Importance: 0.6)**\n",
       "    - Use of `traceroute`, `nslookup`, `dig`\n",
       "    \n",
       "4. **Linux Scripting (Importance: 0.7)**\n",
       "- **Shell Scripting Basics (Importance: 0.8)**\n",
       "    - Writing simple scripts: Variables, conditionals, loops\n",
       "    - Automating tasks with `cron`\n",
       "- **Debugging Scripts (Importance: 0.6)**\n",
       "    - Using `set -x`, and `set -e` for debugging scripts\n",
       "    \n",
       "5. **Security and Hardening (Importance: 0.6)**\n",
       "- **User Management and Permissions (Importance: 0.7)**\n",
       "    - Creating and managing users and groups: `useradd`, `usermod`, `groupadd`\n",
       "    - Configuring `sudo` permissions\n",
       "- **Basic Security Practices (Importance: 0.5)**\n",
       "    - Implementing firewalls and basic server hardening techniques\n",
       "    \n",
       "6. **Virtualization and Containers (Importance: 0.5)**\n",
       "- **Understanding Virtual Machines (Importance: 0.6)**\n",
       "    - Concepts of virtualization, hypervisors, and VM management\n",
       "- **Introduction to Docker (Importance: 0.6)**\n",
       "    - Basic commands: `docker run`, `docker ps`, `docker images`\n",
       "    - Creating and managing containers\n",
       "    \n",
       "7. **Configuration Management and Automation (Importance: 0.4)**\n",
       "- **Using Tools like Ansible or Puppet (Importance: 0.5)**\n",
       "    - Understanding the basics of configuration management\n",
       "- **Writing simple Playbooks (Importance: 0.4)**\n",
       "    - Basic structures of playbooks and roles\n",
       "    \n",
       "8. **Cloud Computing and Deployment (Importance: 0.4)**\n",
       "- **Familiarity with Cloud Platforms (Importance: 0.5)**\n",
       "    - Overview of AWS, GCP, or Azure\n",
       "- **Understanding CI/CD Principles (Importance: 0.4)**\n",
       "    - Basics of continuous integration and deployment workflows\n",
       "    \n",
       "9. **System Performance Tuning (Importance: 0.4)**\n",
       "- **Monitoring and Performance Tools (Importance: 0.5)**\n",
       "    - Using `vmstat`, `iostat`, and `sar`\n",
       "- **Tuning System Performance (Importance: 0.4)**\n",
       "    - Memory management, CPU scheduling, and adjusting system parameters\n",
       "    \n",
       "10. **Problem-Solving and Case Studies (Importance: 0.3)**\n",
       "- **Common Production Scenarios (Importance: 0.5)**\n",
       "    - Analyzing past incidents and troubleshooting methods\n",
       "- **Practice Mock Interviews (Importance: 0.4)**\n",
       "    - Engaging in mock interviews with focus on scenario-based questions\n",
       "    \n",
       "This learning plan provides a comprehensive guide for the student to prepare for their interview by systematically covering essential Linux concepts, commands, and skills related to production engineering.\"\"\"\n",
       ")\n",
       "\n",
       "# Responding to the student\n",
       "self.tools['Responder'].respond(\"Great! The plan is locked in. Let's dive into the first topic. Shall we start with **Linux Fundamentals**? 😊\")\n",
       "```"
      ],
      "text/plain": [
       "<IPython.core.display.Markdown object>"
      ]
     },
     "metadata": {},
     "output_type": "display_data"
    },
    {
     "data": {
      "text/markdown": [
       "```python\n",
       "# Create a new plan for \"Linux Learning Plan\"\n",
       "self._create_new_plan(\"Linux Learning Plan\")\n",
       "\n",
       "# Add subjects and their respective importance\n",
       "self.add_subject(\"Linux Fundamentals\", 1.0, None)\n",
       "self.add_subject(\"File System Navigation\", 0.8, \"Linux Fundamentals\")\n",
       "self.add_subject(\"Process Management\", 0.7, \"Linux Fundamentals\")\n",
       "\n",
       "self.add_subject(\"Linux Command Line Proficiency\", 0.9, None)\n",
       "self.add_subject(\"Text Processing Commands\", 0.7, \"Linux Command Line Proficiency\")\n",
       "self.add_subject(\"System Information and Monitoring\", 0.6, \"Linux Command Line Proficiency\")\n",
       "\n",
       "self.add_subject(\"Networking in Linux\", 0.8, None)\n",
       "self.add_subject(\"Basic Networking Commands\", 0.7, \"Networking in Linux\")\n",
       "self.add_subject(\"Troubleshooting Network Issues\", 0.6, \"Networking in Linux\")\n",
       "\n",
       "self.add_subject(\"Linux Scripting\", 0.7, None)\n",
       "self.add_subject(\"Shell Scripting Basics\", 0.8, \"Linux Scripting\")\n",
       "self.add_subject(\"Debugging Scripts\", 0.6, \"Linux Scripting\")\n",
       "\n",
       "self.add_subject(\"Security and Hardening\", 0.6, None)\n",
       "self.add_subject(\"User Management and Permissions\", 0.7, \"Security and Hardening\")\n",
       "self.add_subject(\"Basic Security Practices\", 0.5, \"Security and Hardening\")\n",
       "\n",
       "self.add_subject(\"Virtualization and Containers\", 0.5, None)\n",
       "self.add_subject(\"Understanding Virtual Machines\", 0.6, \"Virtualization and Containers\")\n",
       "self.add_subject(\"Introduction to Docker\", 0.6, \"Virtualization and Containers\")\n",
       "\n",
       "self.add_subject(\"Configuration Management and Automation\", 0.4, None)\n",
       "self.add_subject(\"Using Tools like Ansible or Puppet\", 0.5, \"Configuration Management and Automation\")\n",
       "self.add_subject(\"Writing simple Playbooks\", 0.4, \"Configuration Management and Automation\")\n",
       "\n",
       "self.add_subject(\"Cloud Computing and Deployment\", 0.4, None)\n",
       "self.add_subject(\"Familiarity with Cloud Platforms\", 0.5, \"Cloud Computing and Deployment\")\n",
       "self.add_subject(\"Understanding CI/CD Principles\", 0.4, \"Cloud Computing and Deployment\")\n",
       "\n",
       "self.add_subject(\"System Performance Tuning\", 0.4, None)\n",
       "self.add_subject(\"Monitoring and Performance Tools\", 0.5, \"System Performance Tuning\")\n",
       "self.add_subject(\"Tuning System Performance\", 0.4, \"System Performance Tuning\")\n",
       "\n",
       "self.add_subject(\"Problem-Solving and Case Studies\", 0.3, None)\n",
       "self.add_subject(\"Common Production Scenarios\", 0.5, \"Problem-Solving and Case Studies\")\n",
       "self.add_subject(\"Practice Mock Interviews\", 0.4, \"Problem-Solving and Case Studies\")\n",
       "```"
      ],
      "text/plain": [
       "<IPython.core.display.Markdown object>"
      ]
     },
     "metadata": {},
     "output_type": "display_data"
    },
    {
     "data": {
      "text/markdown": [
       "**PrepareAI:** Great! The plan is locked in. Let's dive into the first topic. Shall we start with **Linux Fundamentals**? 😊"
      ],
      "text/plain": [
       "<IPython.core.display.Markdown object>"
      ]
     },
     "metadata": {},
     "output_type": "display_data"
    }
   ],
   "source": [
    "response = '''Looks good. Let's start. I want to learn fast.'''\n",
    "orc.process_user_input(response)"
   ]
  },
  {
   "cell_type": "code",
   "execution_count": 6,
   "id": "4cc2cabc",
   "metadata": {},
   "outputs": [
    {
     "data": {
      "text/markdown": [
       "```python\n",
       "\n",
       "# Retrieving the progress memory for the subject \"Linux Fundamentals\"\n",
       "linux_fundamentals_progress = self.tools['LearningPlanManager'].get_progress(subject_name=\"Linux Fundamentals\")\n",
       "\n",
       "# Responding to the user with progress information and confirming if they want to proceed with the first subtopic\n",
       "self.tools['Responder'].respond(f\"Your progress in **Linux Fundamentals** is as follows:\\n{linux_fundamentals_progress}\\n\\nShall we start with the first subtopic, **File System Navigation**? 😃\")\n",
       "```"
      ],
      "text/plain": [
       "<IPython.core.display.Markdown object>"
      ]
     },
     "metadata": {},
     "output_type": "display_data"
    },
    {
     "data": {
      "text/markdown": [
       "**PrepareAI:** Your progress in **Linux Fundamentals** is as follows:\n",
       "Score: 0.00\n",
       "\n",
       "Shall we start with the first subtopic, **File System Navigation**? 😃"
      ],
      "text/plain": [
       "<IPython.core.display.Markdown object>"
      ]
     },
     "metadata": {},
     "output_type": "display_data"
    }
   ],
   "source": [
    "orc.process_user_input(\"Yeah\")"
   ]
  },
  {
   "cell_type": "code",
   "execution_count": 7,
   "id": "f2d40cdd",
   "metadata": {},
   "outputs": [
    {
     "data": {
      "text/markdown": [
       "```python\n",
       "# Getting the coding question based on the topic and difficulty level.\n",
       "topic = \"File System Navigation\"\n",
       "difficulty = \"easy\"  # Assuming we start with easy difficulty\n",
       "\n",
       "file_system_navigation_question = self.tools['CodingPracticeTutor'].get_question(\n",
       "    topic=topic, difficulty=difficulty)\n",
       "\n",
       "# Updating memory with the current topic.\n",
       "self.tools['MemoryManager'].update_memory(key=\"current_topic\", value=topic)\n",
       "\n",
       "# Responding to the user with the question and prompting them to answer.\n",
       "response_message = (\n",
       "    f\"Here’s a question to get you started on **{topic}**:\\n\\n\"\n",
       "    f\"{file_system_navigation_question}\\n\\n\"\n",
       "    \"Can you try solving this problem? If you get stuck, just let me know!\"\n",
       ")\n",
       "\n",
       "self.tools['Responder'].respond(response_message)\n",
       "```"
      ],
      "text/plain": [
       "<IPython.core.display.Markdown object>"
      ]
     },
     "metadata": {},
     "output_type": "display_data"
    },
    {
     "data": {
      "text/markdown": [
       "**PrepareAI:** Here’s a question to get you started on **File System Navigation**:\n",
       "\n",
       "**Coding Question: File System Navigation**\n",
       "\n",
       "You are tasked with creating a simple file system navigator. Your objective is to implement a function that simulates changing directories in a file system. The function should take a list of directory changes and return the final current directory.\n",
       "\n",
       "### Function Signature:\n",
       "```python\n",
       "def navigate_file_system(changes: List[str]) -> str:\n",
       "```\n",
       "\n",
       "### Input:\n",
       "- A list of strings `changes` (1 ≤ len(changes) ≤ 100). Each string will be one of the following:\n",
       "  - `\"..\"` - Go up one level in the directory.\n",
       "  - `\"folder_name\"` - Go into the specified folder if it exists.\n",
       "  - `\"/\"` - Go to the root directory.\n",
       "\n",
       "### Output:\n",
       "- Return a string representing the final current directory, starting from the root directory, which is represented as `\"/\"`.\n",
       "\n",
       "### Constraints:\n",
       "- The directory names (if specified) will consist of alphanumeric characters and underscores, and will not contain the character `/`.\n",
       "- The function should handle cases where you attempt to navigate to a parent directory (`\"..\"`) when already at the root, or into a folder that doesn't exist without changing the directory.\n",
       "\n",
       "### Example:\n",
       "```python\n",
       "# Example 1\n",
       "input_changes = [\"folder1\", \"folder2\", \"..\", \"folder3\"]\n",
       "print(navigate_file_system(input_changes))  # Output should be \"/folder1/folder3\"\n",
       "\n",
       "# Example 2\n",
       "input_changes = [\"folder1\", \"folder2\", \"..\", \"..\", \"/\"]\n",
       "print(navigate_file_system(input_changes))  # Output should be \"/\"\n",
       "\n",
       "# Example 3\n",
       "input_changes = [\"folder1\", \"..\", \"folder2\", \"folder3\"]\n",
       "print(navigate_file_system(input_changes))  # Output should be \"/folder2/folder3\"\n",
       "``` \n",
       "\n",
       "Note: Implement the function based on the requirements above without any further context.\n",
       "\n",
       "Can you try solving this problem? If you get stuck, just let me know!"
      ],
      "text/plain": [
       "<IPython.core.display.Markdown object>"
      ]
     },
     "metadata": {},
     "output_type": "display_data"
    }
   ],
   "source": [
    "orc.process_user_input(\"Ok\")"
   ]
  },
  {
   "cell_type": "code",
   "execution_count": 9,
   "id": "ac66abc5",
   "metadata": {},
   "outputs": [
    {
     "data": {
      "text/markdown": [
       "```python\n",
       "question = \"\"\"You are tasked with creating a simple file system navigator. Your objective is to implement a function that simulates changing directories in a file system. The function should take a list of directory changes and return the final current directory.\n",
       "\n",
       "### Function Signature:\n",
       "```python\n",
       "def navigate_file_system(changes: List[str]) -> str:\n",
       "```\n",
       "\n",
       "### Input:\n",
       "- A list of strings `changes` (1 ≤ len(changes) ≤ 100). Each string will be one of the following:\n",
       "  - `\"..\"` - Go up one level in the directory.\n",
       "  - `\"folder_name\"` - Go into the specified folder if it exists.\n",
       "  - `\"/\"` - Go to the root directory.\n",
       "\n",
       "### Output:\n",
       "- Return a string representing the final current directory, starting from the root directory, which is represented as `\"/\"`.\n",
       "\n",
       "### Constraints:\n",
       "- The directory names (if specified) will consist of alphanumeric characters and underscores, and will not contain the character `/`.\n",
       "- The function should handle cases where you attempt to navigate to a parent directory (`\"..\"`) when already at the root, or into a folder that doesn't exist without changing the directory.\n",
       "\n",
       "### Example:\n",
       "```python\n",
       "# Example 1\n",
       "input_changes = [\"folder1\", \"folder2\", \"..\", \"folder3\"]\n",
       "print(navigate_file_system(input_changes))  # Output should be \"/folder1/folder3\"\n",
       "\n",
       "# Example 2\n",
       "input_changes = [\"folder1\", \"folder2\", \"..\", \"..\", \"/\"]\n",
       "print(navigate_file_system(input_changes))  # Output should be \"/\"\n",
       "\n",
       "# Example 3\n",
       "input_changes = [\"folder1\", \"..\", \"folder2\", \"folder3\"]\n",
       "print(navigate_file_system(input_changes))  # Output should be \"/folder2/folder3\"\n",
       "``` \n",
       "\"\"\"\n",
       "\n",
       "answer = \"\"\"def navigate_file_system(changes: List[str]) -> str:\n",
       "stack = []\n",
       "for change in changes:\n",
       "    if change == \"/\":\n",
       "        stack = []\n",
       "    elif change == \"..\":\n",
       "        stack = stack[:-1]\n",
       "    else:\n",
       "        stack.append(change)\n",
       "return \"/\"+\"/\".join(stack)\n",
       "\"\"\"\n",
       "\n",
       "# Call the grade_answer method of the CodingPracticeTutor tool\n",
       "response = self.tools['CodingPracticeTutor'].grade_answer(\n",
       "    question=question,\n",
       "    answer=answer\n",
       ")\n",
       "\n",
       "# Respond with the graded answer and ask the student if they have any questions.\n",
       "self.tools['Responder'].respond(\n",
       "    f\"{response}\\n\\nDo you have any questions about this problem or the grading? If not, we can move on to the next topic.\"\n",
       ")\n",
       "```"
      ],
      "text/plain": [
       "<IPython.core.display.Markdown object>"
      ]
     },
     "metadata": {},
     "output_type": "display_data"
    },
    {
     "data": {
      "text/markdown": [
       "**PrepareAI:** *Score* = 4/5\n",
       "\n",
       "*Explanation* = The answer correctly implements a function to navigate through a file system based on the given directory changes. It handles root navigation (`\"/\"`), going up a directory (`\"..\"`), and entering a directory correctly. The use of a list (`stack`) to maintain the current directory structure is good. However, it fails to account for the situation where the function tries to go one level up (`\"..\"`) when already at the root directory. Instead of `stack = stack[:-1]`, it should check if `stack` is not empty before removing the last item. The provided solution thus would produce an incorrect output if changing to a parent directory from the root.\n",
       "\n",
       "*Correct answer*:\n",
       "```python\n",
       "def navigate_file_system(changes: List[str]) -> str:\n",
       "    stack = []\n",
       "    for change in changes:\n",
       "        if change == \"/\":\n",
       "            stack = []\n",
       "        elif change == \"..\":\n",
       "            if stack:  # Only pop if not at root\n",
       "                stack.pop()\n",
       "        else:\n",
       "            stack.append(change)\n",
       "    return \"/\" + \"/\".join(stack)\n",
       "```\n",
       "*Diff with user's answer*: \n",
       "- The addition of a check `if stack:` before `stack.pop()` ensures that attempting to go up from the root does not result in an error or undesired behavior. The user’s implementation lacks this check, which can lead to incorrect directory navigation scenarios.\n",
       "\n",
       "Do you have any questions about this problem or the grading? If not, we can move on to the next topic."
      ],
      "text/plain": [
       "<IPython.core.display.Markdown object>"
      ]
     },
     "metadata": {},
     "output_type": "display_data"
    }
   ],
   "source": [
    "response = '''\n",
    "def navigate_file_system(changes: List[str]) -> str:\n",
    "    stack = []\n",
    "    for change in changes:\n",
    "        if change == \"/\":\n",
    "            stack = []\n",
    "        elif change == \"..\":\n",
    "            stack = stack[:-1]\n",
    "        else:\n",
    "            stack.append(change)\n",
    "    return \"/\"+\"/\".join(stack)\n",
    "'''\n",
    "orc.process_user_input(response)"
   ]
  },
  {
   "cell_type": "code",
   "execution_count": 11,
   "id": "59913d8a",
   "metadata": {},
   "outputs": [
    {
     "data": {
      "text/markdown": [
       "```python\n",
       "doubt = \"What's wrong with elif change == '..': stack = stack[:-1]\"\n",
       "context = \"\"\"\n",
       "    *Explanation* = The answer correctly implements a function to navigate through a file system based on the given directory changes. It handles root navigation (`\"/\"`), going up a directory (`\"..\"`), and entering a directory correctly. The use of a list (`stack`) to maintain the current directory structure is good. However, it fails to account for the situation where the function tries to go one level up (`\"..\"`) when already at the root directory. Instead of `stack = stack[:-1]`, it should check if `stack` is not empty before removing the last item. The provided solution thus would produce an incorrect output if changing to a parent directory from the root.\n",
       "\"\"\"\n",
       "\n",
       "# Clear the doubt using the ConceptTutor tool.\n",
       "\n",
       "response = self.tools['ConceptTutor'].clear_doubts(doubt=doubt, context=context)\n",
       "\n",
       "self.tools['Responder'].respond(response)\n",
       "\n",
       "```"
      ],
      "text/plain": [
       "<IPython.core.display.Markdown object>"
      ]
     },
     "metadata": {},
     "output_type": "display_data"
    },
    {
     "data": {
      "text/markdown": [
       "**PrepareAI:** In the line `elif change == '..': stack = stack[:-1]`, the problem arises when you're at the root directory (`\"/\"`) and try to go up a directory. If `stack` is empty (indicating that you’re already at the root), this line would still attempt to remove the last item from `stack`, which would lead to an error or undesired behavior.\n",
       "\n",
       "To fix this, before slicing `stack`, you should check if it’s not empty. Here's a modified version:\n",
       "\n",
       "```python\n",
       "elif change == '..' and stack:\n",
       "    stack = stack[:-1]\n",
       "```\n",
       "\n",
       "This ensures that you only remove the last item from `stack` when you're not at the root directory."
      ],
      "text/plain": [
       "<IPython.core.display.Markdown object>"
      ]
     },
     "metadata": {},
     "output_type": "display_data"
    }
   ],
   "source": [
    "orc.process_user_input(\"What's wrong with elif change == \\\"..\\\":\\nstack = stack[:-1]\")"
   ]
  },
  {
   "cell_type": "code",
   "execution_count": 13,
   "id": "312f3414",
   "metadata": {},
   "outputs": [
    {
     "data": {
      "text/markdown": [
       "```python\n",
       "# Apologize for not providing a better hint earlier.\n",
       "self.tools['Responder'].respond(f\"I should have provided a better hint earlier. Sorry about that!\")\n",
       "\n",
       "# Provide a more detailed hint focused on the specific case of navigating to a parent directory when already at the root.\n",
       "hint = self.tools['CodingPracticeTutor'].provide_hint(\n",
       "    question = \"\"\"You are tasked with creating a simple file system navigator. Your objective is to implement a function that simulates changing directories in a file system. The function should take a list of directory changes and return the final current directory.\n",
       "    \n",
       "    ### Function Signature:\n",
       "    ```python\n",
       "    def navigate_file_system(changes: List[str]) -> str:\n",
       "    ```\n",
       "    \n",
       "    ### Input:\n",
       "    - A list of strings `changes` (1 ≤ len(changes) ≤ 100). Each string will be one of the following:\n",
       "      - `\"..\"` - Go up one level in the directory.\n",
       "      - `\"folder_name\"` - Go into the specified folder if it exists.\n",
       "      - `\"/\"` - Go to the root directory.\n",
       "    \n",
       "    ### Output:\n",
       "    - Return a string representing the final current directory, starting from the root directory, which is represented as `\"/\"`.\n",
       "    \n",
       "    ### Constraints:\n",
       "    - The directory names (if specified) will consist of alphanumeric characters and underscores, and will not contain the character `/`.\n",
       "    - The function should handle cases where you attempt to navigate to a parent directory (`\"..\"`) when already at the root, or into a folder that doesn't exist without changing the directory.\n",
       "    \n",
       "    ### Example:\n",
       "    ```python\n",
       "    # Example 1\n",
       "    input_changes = [\"folder1\", \"folder2\", \"..\", \"folder3\"]\n",
       "    print(navigate_file_system(input_changes))  # Output should be \"/folder1/folder3\"\n",
       "    \n",
       "    # Example 2\n",
       "    input_changes = [\"folder1\", \"folder2\", \"..\", \"..\", \"/\"]\n",
       "    print(navigate_file_system(input_changes))  # Output should be \"/\"\n",
       "    \n",
       "    # Example 3\n",
       "    input_changes = [\"folder1\", \"..\", \"folder2\", \"folder3\"]\n",
       "    print(navigate_file_system(input_changes))  # Output should be \"/folder2/folder3\"\n",
       "    ``` \n",
       "    \"\"\"\n",
       ")\n",
       "\n",
       "# Deliver the new hint to the student.\n",
       "self.tools['Responder'].respond(f\"Here's a hint that might help you:\\n\\n{hint}\")\n",
       "\n",
       "```"
      ],
      "text/plain": [
       "<IPython.core.display.Markdown object>"
      ]
     },
     "metadata": {},
     "output_type": "display_data"
    },
    {
     "data": {
      "text/markdown": [
       "**PrepareAI:** I should have provided a better hint earlier. Sorry about that!"
      ],
      "text/plain": [
       "<IPython.core.display.Markdown object>"
      ]
     },
     "metadata": {},
     "output_type": "display_data"
    },
    {
     "data": {
      "text/markdown": [
       "**PrepareAI:** Here's a hint that might help you:\n",
       "\n",
       "Here’s a hint to get you started on solving the problem of simulating a file system navigator:\n",
       "\n",
       "### Hint\n",
       "\n",
       "1. **Initialize Your Current Directory**: Start with the current directory set to root (`current_dir = \"/\"`).\n",
       "\n",
       "2. **Iterate Through Changes**: Use a loop to go through each change in the `changes` list. Depending on the string you encounter, decide how to update your current directory.\n",
       "\n",
       "3. **Implement Navigation Logic**:\n",
       "   - **Handling `\"/\"`**: When you encounter `\"/\"`, reset your current directory to root.\n",
       "   - **Handling `\"..\"`**: If you're already at the root directory, this should not change anything. Otherwise, you need to \"move up\" one level. You can do this by splitting your current directory into parts and removing the last part.\n",
       "   - **Handling Folder Names**: If a folder name is encountered, it should be appended to the current directory, making sure to handle the formatting correctly (e.g., ensuring there's a single `/` between the folder names).\n",
       "\n",
       "4. **Fire Up Your String Manipulation**: Remember to manipulate your directory strings carefully. Use string operations like `split()` and `join()` to manage the current path effectively.\n",
       "\n",
       "5. **Return the Result**: Finally, ensure you return the current directory string in the correct format.\n",
       "\n",
       "By logically separating the navigation logic based on the different types of input, you'll have a clear path to the solution. \n",
       "\n",
       "Good luck, and remember to test your code with various scenarios to ensure it behaves as expected!"
      ],
      "text/plain": [
       "<IPython.core.display.Markdown object>"
      ]
     },
     "metadata": {},
     "output_type": "display_data"
    },
    {
     "data": {
      "text/plain": [
       "[]"
      ]
     },
     "execution_count": 13,
     "metadata": {},
     "output_type": "execute_result"
    }
   ],
   "source": [
    "orc.process_user_input(\"I tried this. `x = []; x[:-1]` x[:-1] returns empty list \")"
   ]
  },
  {
   "cell_type": "code",
   "execution_count": 14,
   "id": "8a245105",
   "metadata": {},
   "outputs": [
    {
     "data": {
      "text/markdown": [
       "```python\n",
       "# Acknowledging the student’s preference for moving forward without the hint.\n",
       "self.tools['Responder'].respond(\"Acknowledged, let's move forward!\")\n",
       "\n",
       "# Updating progress in the current topic, assuming a small improvement based on the student's effort.\n",
       "self.tools['LearningPlanManager'].update_progress(\n",
       "    subject_name=\"File System Navigation\", score=2\n",
       ")\n",
       "\n",
       "# Retrieving the next topic in the Linux fundamentals section.\n",
       "next_topic = \"Process Management\"\n",
       "\n",
       "# Updating memory with the next topic.\n",
       "self.tools['MemoryManager'].update_memory(\n",
       "    key=\"current_topic\", value=next_topic\n",
       ")\n",
       "\n",
       "# Responding to the student about the transition to the next topic.\n",
       "self.tools['Responder'].respond(f\"Great job on the file system navigation topic! Let's move on to {next_topic}.\")\n",
       "```"
      ],
      "text/plain": [
       "<IPython.core.display.Markdown object>"
      ]
     },
     "metadata": {},
     "output_type": "display_data"
    },
    {
     "data": {
      "text/markdown": [
       "**PrepareAI:** Acknowledged, let's move forward!"
      ],
      "text/plain": [
       "<IPython.core.display.Markdown object>"
      ]
     },
     "metadata": {},
     "output_type": "display_data"
    },
    {
     "data": {
      "text/markdown": [
       "**PrepareAI:** Great job on the file system navigation topic! Let's move on to Process Management."
      ],
      "text/plain": [
       "<IPython.core.display.Markdown object>"
      ]
     },
     "metadata": {},
     "output_type": "display_data"
    }
   ],
   "source": [
    "orc.process_user_input(\"Didnt want a hint. Let's move forward\")"
   ]
  },
  {
   "cell_type": "code",
   "execution_count": 15,
   "id": "c47af250",
   "metadata": {},
   "outputs": [
    {
     "data": {
      "text/markdown": [
       "```python\n",
       "# Retrieving the concept of Process Management for Linux\n",
       "process_management_concept = self.tools['ConceptTutor'].get_concept(\n",
       "    topic=\"Process Management\",\n",
       "    context=\"Preparing for Meta production Engineer interview\"\n",
       ")\n",
       "\n",
       "# Delivering the concept to the user\n",
       "self.tools['Responder'].respond(process_management_concept)\n",
       "\n",
       "# Getting a coding problem related to Process Management\n",
       "process_management_coding_question = self.tools['CodingPracticeTutor'].get_question(\n",
       "    topic=\"Process Management\",\n",
       "    difficulty=\"medium\"\n",
       ")\n",
       "\n",
       "# Delivering the coding problem to the user\n",
       "self.tools['Responder'].respond(process_management_coding_question)\n",
       "\n",
       "# Suggesting an MCQ question based on Process Management for evaluation\n",
       "process_management_mcq_question = self.tools['MCQExaminer'].get_question(\n",
       "    subject=\"Process Management\",\n",
       "    difficulty=\"medium\"\n",
       ")\n",
       "\n",
       "# Delivering the MCQ question to the user\n",
       "self.tools['Responder'].respond(process_management_mcq_question)\n",
       "```"
      ],
      "text/plain": [
       "<IPython.core.display.Markdown object>"
      ]
     },
     "metadata": {},
     "output_type": "display_data"
    },
    {
     "data": {
      "text/markdown": [
       "**PrepareAI:** Absolutely! Let's delve into the concept of **Process Management**, which is crucial for a role such as a Production Engineer at a company like Meta.\n",
       "\n",
       "### What is Process Management?\n",
       "\n",
       "Process Management refers to the planning, monitoring, and controlling of processes within an organization. In the context of computer systems, particularly in operating systems, it focuses on the creation, scheduling, and termination of processes. \n",
       "\n",
       "### Key Concepts in Process Management\n",
       "\n",
       "1. **Process Definition**:\n",
       "   A process is a program in execution, which includes the program code, its current activity, and the resources allocated to it (like memory, files, etc.). Each process in an operating system goes through various states (like New, Ready, Running, Waiting, and Terminated).\n",
       "\n",
       "2. **Process Life Cycle**:\n",
       "   - **New**: The process is being created.\n",
       "   - **Ready**: The process is waiting for CPU allocation.\n",
       "   - **Running**: The process is currently being executed.\n",
       "   - **Waiting**: The process is waiting for some event to occur (like I/O operations).\n",
       "   - **Terminated**: The process has finished execution.\n",
       "\n",
       "3. **Process Scheduling**:\n",
       "   This is crucial for determining which process runs at a given time. There are various scheduling algorithms:\n",
       "   - **First-Come, First-Served (FCFS)**: Processes are scheduled in the order they arrive.\n",
       "   - **Shortest Job Next (SJN)**: Selects the process with the smallest execution time.\n",
       "   - **Priority Scheduling**: Processes are scheduled based on priority.\n",
       "   - **Round Robin (RR)**: Each process gets a small unit of CPU time (quantum).\n",
       "\n",
       "4. **Inter-Process Communication (IPC)**:\n",
       "   Processes often need to communicate with each other. IPC provides methods for processes to exchange data and synchronize their actions. Common IPC methods include:\n",
       "   - Pipes\n",
       "   - Message Queues\n",
       "   - Shared Memory\n",
       "   - Semaphores\n",
       "\n",
       "5. **Process Control Block (PCB)**:\n",
       "   The PCB is a data structure maintained by the operating system that contains all the information about a process. This includes the process state, program counter, CPU registers, memory management information, and I/O status information.\n",
       "\n",
       "6. **Context Switching**:\n",
       "   This is the process whereby the CPU switches from one process to another, saving the state of the current process and loading the saved state of the next process. This is a critical feature that allows for multitasking.\n",
       "\n",
       "### Why is Process Management Important for a Production Engineer?\n",
       "\n",
       "As a Production Engineer, managing processes efficiently can significantly impact system performance, reliability, and resource utilization. You should be equipped with the following:\n",
       "\n",
       "- **Understanding of Resource Allocation**: Knowing how to allocate CPU, memory, and I/O to different processes to avoid bottlenecks.\n",
       "- **Performance Tuning**: Ability to select and configure the right scheduling algorithms based on the workload and performance requirements.\n",
       "- **Monitoring and Troubleshooting**: Skills to monitor process behavior and detect issues such as deadlocks or inefficiencies in process communication.\n",
       "- **Scalability**: Understanding how to optimize process management to scale applications efficiently, especially in cloud environments.\n",
       "\n",
       "### Preparing for the Interview\n",
       "\n",
       "1. **Study Real-World Scenarios**: Think about how process management principles apply to real systems, such as web servers handling multiple requests.\n",
       "2. **Hands-On Practice**: Familiarize yourself with tools and commands related to process management (like `ps`, `top`, `htop` on Linux).\n",
       "3. **Be Ready to Discuss**: Prepare to share examples from previous experiences where you optimized process management or solved related issues.\n",
       "\n",
       "Remember, understanding these concepts thoroughly will not only help you in your interview but also prepare you for contributing effectively in a production environment. Good luck with your preparations! If you need further clarification or practice questions, feel free to ask!"
      ],
      "text/plain": [
       "<IPython.core.display.Markdown object>"
      ]
     },
     "metadata": {},
     "output_type": "display_data"
    },
    {
     "data": {
      "text/markdown": [
       "**PrepareAI:** **Coding Question: Process Management and Resource Allocation**\n",
       "\n",
       "You are tasked with implementing a simplified version of a process management system that simulates resource allocation and process scheduling. \n",
       "\n",
       "### Requirements:\n",
       "\n",
       "1. **Process Class**: Create a `Process` class that has the following attributes:\n",
       "   - `pid`: Integer (Process ID)\n",
       "   - `name`: String (Name of the process)\n",
       "   - `arrival_time`: Integer (Time at which the process arrives)\n",
       "   - `burst_time`: Integer (Time required by the process to complete)\n",
       "   - `priority`: Integer (Lower numbers indicate higher priority)\n",
       "\n",
       "2. **Scheduler Class**: Create a `Scheduler` class that manages a list of `Process` objects. The `Scheduler` class should have the following methods:\n",
       "   - `add_process(process: Process)`: Adds a new process to the scheduler's list.\n",
       "   - `schedule_fcfs()`: Implements First-Come, First-Served scheduling. This method should return a list of processes in the order they are executed along with their start time, finish time, and turnaround time.\n",
       "   - `schedule_priority()`: Implements Priority Scheduling (non-preemptive). This method should return a list of processes in the order they are executed along with their start time, finish time, and turnaround time.\n",
       "\n",
       "3. **Output**: Define a function `print_schedule(schedule: List[Tuple[Process, int, int, int]])` that prints the schedule in a formatted way, showing the Process ID, start time, finish time, and turnaround time.\n",
       "\n",
       "### Sample Input:\n",
       "```python\n",
       "process1 = Process(pid=1, name='Process1', arrival_time=0, burst_time=5, priority=2)\n",
       "process2 = Process(pid=2, name='Process2', arrival_time=1, burst_time=3, priority=1)\n",
       "process3 = Process(pid=3, name='Process3', arrival_time=2, burst_time=8, priority=3)\n",
       "\n",
       "scheduler = Scheduler()\n",
       "scheduler.add_process(process1)\n",
       "scheduler.add_process(process2)\n",
       "scheduler.add_process(process3)\n",
       "\n",
       "# Schedule using FCFS and Priority\n",
       "fcfs_schedule = scheduler.schedule_fcfs()\n",
       "priority_schedule = scheduler.schedule_priority()\n",
       "\n",
       "print_schedule(fcfs_schedule)\n",
       "print_schedule(priority_schedule)\n",
       "```\n",
       "\n",
       "### Constraints:\n",
       "- Assume all times are integers.\n",
       "- Processes will not arrive before time 0.\n",
       "- Handle scenarios where multiple processes arrive at the same time by scheduling them based on their PID for FCFS and priority for priority scheduling."
      ],
      "text/plain": [
       "<IPython.core.display.Markdown object>"
      ]
     },
     "metadata": {},
     "output_type": "display_data"
    },
    {
     "data": {
      "text/markdown": [
       "**PrepareAI:** Which of the following statements is true regarding process scheduling in operating systems?\n",
       "\n",
       "A) Round Robin scheduling does not support preemption.\n",
       "\n",
       "B) In a First-Come, First-Served (FCFS) algorithm, the waiting time for a process is the same for all processes.\n",
       "\n",
       "C) Shortest Job Next (SJN) scheduling can lead to starvation for longer processes.\n",
       "\n",
       "D) Priority scheduling algorithms do not consider the age of the process when assigning CPU time.\n",
       "\n",
       "Select the correct option."
      ],
      "text/plain": [
       "<IPython.core.display.Markdown object>"
      ]
     },
     "metadata": {},
     "output_type": "display_data"
    }
   ],
   "source": [
    "orc.process_user_input(\"Ok\")"
   ]
  },
  {
   "cell_type": "code",
   "execution_count": 16,
   "id": "69947fa9",
   "metadata": {},
   "outputs": [
    {
     "data": {
      "text/markdown": [
       "```python\n",
       "# Grade the answer for the multiple-choice question.\n",
       "question = \"Which of the following statements is true regarding process scheduling in operating systems?\"\n",
       "answer = \"Shortest Job Next (SJN) scheduling can lead to starvation for longer processes.\"\n",
       "response = self.tools['MCQExaminer'].grade_answer(\n",
       "    question=question,\n",
       "    answer=answer\n",
       ")\n",
       "\n",
       "# Respond with the grading result.\n",
       "self.tools['Responder'].respond(response)\n",
       "```"
      ],
      "text/plain": [
       "<IPython.core.display.Markdown object>"
      ]
     },
     "metadata": {},
     "output_type": "display_data"
    },
    {
     "data": {
      "text/markdown": [
       "**PrepareAI:** *Score* = 1/1\n",
       "\n",
       "*Explanation* = The user's answer is correct. Shortest Job Next (SJN), also known as Shortest Job First (SJF), is a scheduling algorithm that favors shorter processes over longer ones. This can indeed lead to starvation, where longer processes may wait indefinitely if shorter processes keep arriving in the queue. The response demonstrates an understanding of the concept, qualifying it for full marks.\n",
       "\n",
       "*Correct answer* = Shortest Job Next (SJN) scheduling can lead to starvation for longer processes. (The user's answer is consistent with the correct answer.)"
      ],
      "text/plain": [
       "<IPython.core.display.Markdown object>"
      ]
     },
     "metadata": {},
     "output_type": "display_data"
    }
   ],
   "source": [
    "orc.process_user_input('Shortest Job Next (SJN) scheduling can lead to starvation for longer processes.')"
   ]
  },
  {
   "cell_type": "code",
   "execution_count": null,
   "id": "1d310907",
   "metadata": {},
   "outputs": [],
   "source": []
  }
 ],
 "metadata": {
  "kernelspec": {
   "display_name": "Python 3 (ipykernel)",
   "language": "python",
   "name": "python3"
  },
  "language_info": {
   "codemirror_mode": {
    "name": "ipython",
    "version": 3
   },
   "file_extension": ".py",
   "mimetype": "text/x-python",
   "name": "python",
   "nbconvert_exporter": "python",
   "pygments_lexer": "ipython3",
   "version": "3.12.4"
  }
 },
 "nbformat": 4,
 "nbformat_minor": 5
}
