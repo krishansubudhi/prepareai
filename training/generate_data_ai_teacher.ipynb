{
 "cells": [
  {
   "cell_type": "code",
   "execution_count": 4,
   "metadata": {},
   "outputs": [
    {
     "data": {
      "text/plain": [
       "<module 'tool' from '/Users/krishansubudhi/repos/prepareai/tool.py'>"
      ]
     },
     "execution_count": 4,
     "metadata": {},
     "output_type": "execute_result"
    }
   ],
   "source": [
    "import pandas as pd\n",
    "import matplotlib.pyplot as plt\n",
    "from IPython.display import display, Markdown\n",
    "import json, re\n",
    "from unittest import mock\n",
    "import sys,os\n",
    "sys.path.append('/Users/krishansubudhi/repos/prepareai')\n",
    "import tool\n",
    "import importlib\n",
    "importlib.reload(tool)"
   ]
  },
  {
   "cell_type": "code",
   "execution_count": null,
   "metadata": {},
   "outputs": [],
   "source": [
    "\n",
    "filename = '../training_data_log.jsonl'\n",
    "df = pd.read_json(filename, lines=True)\n",
    "\n",
    "print(\"DataFrame Info:\")\n",
    "df.info()"
   ]
  },
  {
   "cell_type": "code",
   "execution_count": 5,
   "metadata": {},
   "outputs": [
    {
     "name": "stdout",
     "output_type": "stream",
     "text": [
      "Number of prompts containing the keyword 'learning': 34\n"
     ]
    },
    {
     "data": {
      "image/png": "[encoded data removed]",
      "text/plain": [
       "<Figure size 640x480 with 1 Axes>"
      ]
     },
     "metadata": {},
     "output_type": "display_data"
    }
   ],
   "source": [
    "# Example: Count occurrences of a specific keyword in 'prompt'\n",
    "keyword = 'learning'\n",
    "keyword_count = df['prompt'].str.contains(keyword, case=False).sum()\n",
    "print(f\"Number of prompts containing the keyword '{keyword}': {keyword_count}\")\n",
    "\n",
    "# Example: Plot the distribution of code lengths\n",
    "df['code_length'] = df['code'].apply(len)\n",
    "df['code_length'].hist(bins=20, color='blue', alpha=0.7)\n",
    "plt.title(\"Distribution of Code Lengths\")\n",
    "plt.xlabel(\"Length of Code\")\n",
    "plt.ylabel(\"Frequency\")\n",
    "plt.show()"
   ]
  },
  {
   "cell_type": "code",
   "execution_count": 9,
   "metadata": {},
   "outputs": [],
   "source": [
    "TRAINING_DATA_DIR = \"unlabeled_data\"\n",
    "def save_training_data(index, prompt, code, overwrite = False):\n",
    "    directory = f\"{TRAINING_DATA_DIR}/iter1_{index}\"\n",
    "    if os.path.exists(directory) and not overwrite:\n",
    "        raise Exception(f\"Data with Index {index} already exists.\")\n",
    "    os.mkdir(directory)\n",
    "    print(directory)\n",
    "    with open(f\"{directory}/prompt.md\", 'w') as f:\n",
    "        f.write(prompt)\n",
    "    with open(f\"{directory}/code.md\", 'w') as f:\n",
    "        f.write(code)"
   ]
  },
  {
   "cell_type": "code",
   "execution_count": 12,
   "metadata": {},
   "outputs": [
    {
     "name": "stdout",
     "output_type": "stream",
     "text": [
      "unlabeled_data/iter1_0\n",
      "unlabeled_data/iter1_1\n",
      "unlabeled_data/iter1_2\n",
      "unlabeled_data/iter1_3\n",
      "unlabeled_data/iter1_4\n",
      "unlabeled_data/iter1_5\n",
      "unlabeled_data/iter1_6\n",
      "unlabeled_data/iter1_7\n",
      "unlabeled_data/iter1_8\n",
      "unlabeled_data/iter1_9\n",
      "unlabeled_data/iter1_10\n",
      "unlabeled_data/iter1_11\n",
      "unlabeled_data/iter1_12\n",
      "unlabeled_data/iter1_13\n",
      "unlabeled_data/iter1_14\n",
      "unlabeled_data/iter1_15\n",
      "unlabeled_data/iter1_16\n",
      "unlabeled_data/iter1_17\n",
      "unlabeled_data/iter1_18\n",
      "unlabeled_data/iter1_19\n",
      "unlabeled_data/iter1_20\n",
      "unlabeled_data/iter1_21\n",
      "unlabeled_data/iter1_22\n",
      "unlabeled_data/iter1_23\n",
      "unlabeled_data/iter1_24\n",
      "unlabeled_data/iter1_25\n",
      "unlabeled_data/iter1_26\n",
      "unlabeled_data/iter1_27\n",
      "unlabeled_data/iter1_28\n",
      "unlabeled_data/iter1_29\n",
      "unlabeled_data/iter1_30\n",
      "unlabeled_data/iter1_31\n",
      "unlabeled_data/iter1_32\n",
      "unlabeled_data/iter1_33\n"
     ]
    }
   ],
   "source": [
    "for i, row in df.iterrows():\n",
    "    save_training_data(i, row.prompt, row.code)"
   ]
  },
  {
   "cell_type": "code",
   "execution_count": 95,
   "metadata": {},
   "outputs": [
    {
     "name": "stdout",
     "output_type": "stream",
     "text": [
      "labeled_data/33\n"
     ]
    }
   ],
   "source": [
    "new_code = r'''```python\n",
    "# Adding recursion to the root of the learning plan, similar to other algorithm-related subjects.\n",
    "self.tools['LearningPlanManager'].add_subject(\n",
    "    subject_name=\"Recursion\", \n",
    "    importance=1\n",
    ")\n",
    "\n",
    "self.tools['LearningPlanManager'].add_subject(\n",
    "    subject_name=\"Recursion Concepts and Common Problems\", \n",
    "    importance=1,\n",
    "    parent_subject=\"Recursion\"\n",
    ")\n",
    "\n",
    "self.tools['LearningPlanManager'].add_subject(\n",
    "    subject_name=\"Tree and Graph Traversal\", \n",
    "    importance=0.9,\n",
    "    parent_subject=\"Recursion\"\n",
    ")\n",
    "\n",
    "self.tools['LearningPlanManager'].add_subject(\n",
    "    subject_name=\"Recursion Complexity Analysis\",\n",
    "    importance=0.5,\n",
    "    parent_subject=\"Recursion\"\n",
    ")\n",
    "\n",
    "self.tools['LearningPlanManager'].add_subject(\n",
    "    subject_name=\"Debugging Recursion\", \n",
    "    importance=0.2,\n",
    "    parent_subject=\"Recursion\"\n",
    ")\n",
    "\n",
    "\n",
    "# Locking the updated learning plan with the new recursion subjects.\n",
    "self.tools['LearningPlanManager'].lock_new_plan(recursion_plan)\n",
    "\n",
    "# Responding to the student with an engaging message.\n",
    "self.tools['Responder'].respond(\n",
    "    f\"Ah, that's a tricky subject! 🔍 I've added a dedicated section on recursion to your learning plan. \\n\\n\"\n",
    "    f\"{self.tools['LearningPlanManager'].get_plan_tree_markdown('Recursion')}\\n\\n\"\n",
    "    \"Would you like to start by exploring Recursion Concepts and Common Problems?\"\n",
    ")\n",
    "```'''\n",
    "\n",
    "# Save the training data\n",
    "save_training_data(index, df.iloc[index].prompt, new_code)\n"
   ]
  },
  {
   "cell_type": "markdown",
   "metadata": {},
   "source": [
    "# Verification"
   ]
  },
  {
   "cell_type": "code",
   "execution_count": 11,
   "metadata": {},
   "outputs": [
    {
     "data": {
      "text/markdown": [
       "# Example 32"
      ],
      "text/plain": [
       "<IPython.core.display.Markdown object>"
      ]
     },
     "metadata": {},
     "output_type": "display_data"
    },
    {
     "data": {
      "text/markdown": [
       "```python\n",
       "\n",
       "# Define the goal and concise special instruction based on the student's needs.\n",
       "goal = \"Enhance understanding of algorithms and data structures\"\n",
       "special_instruction = (\n",
       "    \"Focus on fundamental concepts, clear explanations, and interactive exercises.\"\n",
       ")\n",
       "\n",
       "# Updating memory with goal\n",
       "tools['MemoryManager'].update_memory('goal', goal)\n",
       "\n",
       "# Suggest a learning plan for algorithms and data structures with the modified goal and instruction.\n",
       "learning_plan = tools['LearningPlanManager'].suggest_learning_plan(\n",
       "    goal=goal,\n",
       "    special_instruction=special_instruction\n",
       ")\n",
       "\n",
       "# Responding to the user to confirm the locking of the plan and encourage them to dive into the learning material.\n",
       "tools['Responder'].respond(\n",
       "    \"I've built a customized learning plan focusing on algorithms and data structures! 🎉\\n\\n\"\n",
       "    f\"{learning_plan}\\n\\n\"\n",
       "    \"Let me know if you want me to lock it. If you want to add or remove subjects, I can do that too!\"\n",
       ")\n",
       "```"
      ],
      "text/plain": [
       "<IPython.core.display.Markdown object>"
      ]
     },
     "metadata": {},
     "output_type": "display_data"
    },
    {
     "data": {
      "text/markdown": [
       "# Example 33"
      ],
      "text/plain": [
       "<IPython.core.display.Markdown object>"
      ]
     },
     "metadata": {},
     "output_type": "display_data"
    },
    {
     "data": {
      "text/markdown": [
       "```python\n",
       "# Adding recursion to the root of the learning plan, similar to other algorithm-related subjects.\n",
       "tools['LearningPlanManager'].add_subject(\n",
       "    subject_name=\"Recursion\", \n",
       "    importance=1\n",
       ")\n",
       "\n",
       "tools['LearningPlanManager'].add_subject(\n",
       "    subject_name=\"Recursion Concepts and Common Problems\", \n",
       "    importance=1,\n",
       "    parent_subject=\"Recursion\"\n",
       ")\n",
       "\n",
       "tools['LearningPlanManager'].add_subject(\n",
       "    subject_name=\"Tree and Graph Traversal\", \n",
       "    importance=0.9,\n",
       "    parent_subject=\"Recursion\"\n",
       ")\n",
       "\n",
       "tools['LearningPlanManager'].add_subject(\n",
       "    subject_name=\"Recursion Complexity Analysis\",\n",
       "    importance=0.5,\n",
       "    parent_subject=\"Recursion\"\n",
       ")\n",
       "\n",
       "tools['LearningPlanManager'].add_subject(\n",
       "    subject_name=\"Debugging Recursion\", \n",
       "    importance=0.2,\n",
       "    parent_subject=\"Recursion\"\n",
       ")\n",
       "\n",
       "# Update memory with user's goal\n",
       "tools['MemoryManager'].update_memory('goal', \"Improve on algorithms and data structures with special focus on recursion\" )\n",
       "\n",
       "# Responding to the student with an engaging message.\n",
       "tools['Responder'].respond(\n",
       "    f\"Ah, that's a tricky subject! 🔍 I've added a dedicated section on recursion to your learning plan. \\n\\n\"\n",
       "    f\"{tools['LearningPlanManager'].get_plan_tree_markdown('Recursion')}\\n\\n\"\n",
       "    \"Would you like to start by exploring Recursion Concepts and Common Problems?\"\n",
       ")\n",
       "```"
      ],
      "text/plain": [
       "<IPython.core.display.Markdown object>"
      ]
     },
     "metadata": {},
     "output_type": "display_data"
    },
    {
     "data": {
      "text/markdown": [
       "# Example iter1_16"
      ],
      "text/plain": [
       "<IPython.core.display.Markdown object>"
      ]
     },
     "metadata": {},
     "output_type": "display_data"
    },
    {
     "data": {
      "text/markdown": [
       "```python\n",
       "# Apologize for the previous error and acknowledge the student's preference for short plans\n",
       "tools['Responder'].respond(\"My apologies for the earlier hiccup. Let me try generating a more concise learning plan tailored to your preference.\")\n",
       "\n",
       "# Request a concise learning plan considering the student's preference\n",
       "learning_plan = tools['LearningPlanManager'].suggest_learning_plan(goal=\"Prepare for data analysis interview at TikTok\", special_instruction=\"Student prefers concise and focused plans.\")\n",
       "\n",
       "# Present the new plan to the student, emphasizing its conciseness\n",
       "tools['Responder'].respond(f\"Here's a more focused learning plan that should be easier to navigate:\\n\\n{learning_plan}\\n\\nDoes this look better suited to your needs?\")\n",
       "```"
      ],
      "text/plain": [
       "<IPython.core.display.Markdown object>"
      ]
     },
     "metadata": {},
     "output_type": "display_data"
    },
    {
     "data": {
      "text/markdown": [
       "# Example iter1_0"
      ],
      "text/plain": [
       "<IPython.core.display.Markdown object>"
      ]
     },
     "metadata": {},
     "output_type": "display_data"
    },
    {
     "data": {
      "text/markdown": [
       "```python\n",
       "# Suggesting a customized learning plan for coding interview preparation.\n",
       "goal_description = \"Prepare for coding interview\"\n",
       "learning_plan = tools['LearningPlanManager'].suggest_learning_plan(goal=goal_description)\n",
       "\n",
       "# Responding to the user with the suggested learning plan and asking if they want to lock it.\n",
       "tools['Responder'].respond(f\"\"\"Here’s a suggested learning plan for your coding interview prep:\n",
       "\n",
       "{learning_plan}\n",
       "\n",
       "Would you like to lock this plan to track your progress?\"\"\")\n",
       "```"
      ],
      "text/plain": [
       "<IPython.core.display.Markdown object>"
      ]
     },
     "metadata": {},
     "output_type": "display_data"
    },
    {
     "data": {
      "text/markdown": [
       "# Example iter1_7"
      ],
      "text/plain": [
       "<IPython.core.display.Markdown object>"
      ]
     },
     "metadata": {},
     "output_type": "display_data"
    },
    {
     "data": {
      "text/markdown": [
       "```python\n",
       "# Positive reinforcement for the student's effort\n",
       "tools['Responder'].respond(\"You're absolutely right, there's always room for optimization in coding! It's great that you're keen on improving your solution.\")\n",
       "\n",
       "# Update progress in Array Manipulation topic from the learning plan. \n",
       "tools['LearningPlanManager'].update_progress(subject_name = 'Array Manipulation', score = 3)\n",
       "tools['Responder'].respond(\"I have updated your progress.\")\n",
       "\n",
       "# Offer a follow-up question to solidify understanding\n",
       "follow_up_question = tools['CodingPracticeTutor'].get_question(topic=\"Array Manipulation - similar to the problem of 'find the maximum sum of any subarray of size `k`'\", difficulty='medium') # Get a new, related question\n",
       "\n",
       "tools['Responder'].respond(\"Let's try another problem to reinforce your understanding. Here's one:\")\n",
       "tools['Responder'].respond(follow_up_question)\n",
       "```"
      ],
      "text/plain": [
       "<IPython.core.display.Markdown object>"
      ]
     },
     "metadata": {},
     "output_type": "display_data"
    },
    {
     "data": {
      "text/markdown": [
       "# Example 27"
      ],
      "text/plain": [
       "<IPython.core.display.Markdown object>"
      ]
     },
     "metadata": {},
     "output_type": "display_data"
    },
    {
     "data": {
      "text/markdown": [
       "```python\n",
       "# Creating a customized learning plan for your Google coding interview preparation!\n",
       "goal = \"Prepare for coding interview at Google\"\n",
       "\n",
       "# Updating the goal in memory\n",
       "tools['MemoryManager'].update_memory('goal', goal)\n",
       "\n",
       "# Suggesting the learning plan now\n",
       "plan = tools['LearningPlanManager'].suggest_learning_plan(goal = goal, special_instruction = None)\n",
       "\n",
       "# Asking for confirmation before locking the plan\n",
       "tools['Responder'].respond(f\"Here’s the suggested learning plan:\\n{plan}\\nWould you like to lock this plan? (yes/no)\")\n",
       "```"
      ],
      "text/plain": [
       "<IPython.core.display.Markdown object>"
      ]
     },
     "metadata": {},
     "output_type": "display_data"
    },
    {
     "data": {
      "text/markdown": [
       "# Example 9"
      ],
      "text/plain": [
       "<IPython.core.display.Markdown object>"
      ]
     },
     "metadata": {},
     "output_type": "display_data"
    },
    {
     "data": {
      "text/markdown": [
       "```python\n",
       "# Updating memory to mark the student's readiness for an advanced task.\n",
       "tools['MemoryManager'].update_memory('preference_arrays_and_strings_difficulty', 'advanced')\n",
       "\n",
       "# Getting a more challenging coding question based on arrays and strings.\n",
       "coding_question = tools['CodingPracticeTutor'].get_question(topic='arrays_and_strings', difficulty='advanced')\n",
       "\n",
       "# Responding with the new challenge for the student.\n",
       "tools['Responder'].respond(f\"\"\"Alright, here's a challenge for you:\n",
       "\n",
       "{coding_question}\n",
       "\n",
       "Ready to take this on? Let me know if you need any hints or have questions!\"\"\")\n",
       "```"
      ],
      "text/plain": [
       "<IPython.core.display.Markdown object>"
      ]
     },
     "metadata": {},
     "output_type": "display_data"
    },
    {
     "data": {
      "text/markdown": [
       "# Example 11"
      ],
      "text/plain": [
       "<IPython.core.display.Markdown object>"
      ]
     },
     "metadata": {},
     "output_type": "display_data"
    },
    {
     "data": {
      "text/markdown": [
       "```python\n",
       "question = \"\"\"### Problem: Longest Substring Without Repeating Characters\n",
       "\n",
       "Given a string, find the length of the longest substring without repeating characters.\n",
       "\n",
       "#### Example\n",
       "\n",
       "**Input:**\n",
       "```\n",
       "s = \"abcabcbb\"\n",
       "```\n",
       "**Output:**\n",
       "```\n",
       "3\n",
       "```\n",
       "**Explanation:**\n",
       "The answer is \"abc\", with the length of 3.\n",
       "\n",
       "**Input:**\n",
       "```\n",
       "s = \"bbbbb\"\n",
       "```\n",
       "**Output:**\n",
       "```\n",
       "1\n",
       "```\n",
       "**Explanation:**\n",
       "The answer is \"b\", with the length of 1.\n",
       "\n",
       "**Input:**\n",
       "```\n",
       "s = \"pwwkew\"\n",
       "```\n",
       "**Output:**\n",
       "```\n",
       "3\n",
       "```\n",
       "**Explanation:**\n",
       "The answer is \"wke\", with the length of 3.\n",
       "Note that the answer must be a substring, \"pwke\" is a subsequence and not a substring.\n",
       "\n",
       "#### Constraints\n",
       "- `0 <= s.length <= 5 * 10^4`\n",
       "- `s` consists of English letters, digits, symbols, and spaces.\n",
       "\n",
       "#### Function Signature\n",
       "```python\n",
       "def length_of_longest_substring(s: str) -> int:\n",
       "```\n",
       "\n",
       "#### Notes\n",
       "- You can solve this using sliding window technique or hash maps.\n",
       "- Focus on optimizing the solution to handle large input sizes efficiently.\n",
       "\"\"\"\n",
       "\n",
       "hint = tools['CodingPracticeTutor'].provide_hint(question = question)\n",
       "\n",
       "tools['Responder'].respond(f\"Here is a hint for you. Can you try now? \\n{hint}\")\n",
       "```"
      ],
      "text/plain": [
       "<IPython.core.display.Markdown object>"
      ]
     },
     "metadata": {},
     "output_type": "display_data"
    },
    {
     "data": {
      "text/markdown": [
       "# Example 7"
      ],
      "text/plain": [
       "<IPython.core.display.Markdown object>"
      ]
     },
     "metadata": {},
     "output_type": "display_data"
    },
    {
     "data": {
      "text/markdown": [
       "```python\n",
       "# Updating the memory with the student's preference for array and string difficulty.\n",
       "tools['MemoryManager'].update_memory(key=\"preference_arrays_and_strings_difficulty\", value=\"intermediate\")\n",
       "\n",
       "# Retrieve an intermediate-level coding question on array manipulation.\n",
       "advanced_array_question = tools['CodingPracticeTutor'].get_question(\n",
       "    topic=\"array manipulation in Python\",\n",
       "    difficulty=\"intermediate\"\n",
       ")\n",
       "\n",
       "# Respond with the intermediate-level question and offer hints if needed.\n",
       "tools['Responder'].respond(f\"\"\"Since you have a basic understanding of array manipulation, let's challenge you with an intermediate-level question.\n",
       "\n",
       "{advanced_array_question}\n",
       "\n",
       "Can you solve this? Let me know if you need hints.\"\"\"\n",
       ")\n",
       "```"
      ],
      "text/plain": [
       "<IPython.core.display.Markdown object>"
      ]
     },
     "metadata": {},
     "output_type": "display_data"
    },
    {
     "data": {
      "text/markdown": [
       "# Example 29"
      ],
      "text/plain": [
       "<IPython.core.display.Markdown object>"
      ]
     },
     "metadata": {},
     "output_type": "display_data"
    },
    {
     "data": {
      "text/markdown": [
       "```python\n",
       "# Suggesting a learning plan for system design and lock it if the user confirms.\n",
       "goal = \"Improve system design skills\"\n",
       "learning_plan = tools['LearningPlanManager'].suggest_learning_plan(\n",
       "    goal=goal,\n",
       "    special_instruction=\"Focus on concepts, patterns, and practical applications.\"\n",
       ")\n",
       "\n",
       "# Updating memory with goal\n",
       "tools['MemoryManager'].update_memory('goal', goal)\n",
       "\n",
       "# Responding to the user with the suggested plan and ask for confirmation.\n",
       "response_message = (\n",
       "    f\"🌟 Here's your personalized learning plan for mastering System Design! 🌟\\n\\n\"\n",
       "    f\"{learning_plan}\\n\\n\"\n",
       "    \"Are you ready to dive in and start working on this plan? 🚀\\n\"\n",
       "    \"Just let me know if you want to lock it in and begin tracking your progress! 📈\\n\\n\"\n",
       "    \"Feel free to ask if you have any questions or need further adjustments. 😊\"\n",
       ")\n",
       "tools['Responder'].respond(response_message)\n",
       "```"
      ],
      "text/plain": [
       "<IPython.core.display.Markdown object>"
      ]
     },
     "metadata": {},
     "output_type": "display_data"
    },
    {
     "data": {
      "text/markdown": [
       "# Example iter1_9"
      ],
      "text/plain": [
       "<IPython.core.display.Markdown object>"
      ]
     },
     "metadata": {},
     "output_type": "display_data"
    },
    {
     "data": {
      "text/markdown": [
       "```python\n",
       "# Retrieving the concept of the STAR method to provide a concise explanation for the student.\n",
       "star_concept = tools['ConceptTutor'].get_concept(\n",
       "    topic=\"STAR Method - Behavioral Interview Preparation\",\n",
       "    context=\"Student is preparing for Atlassian interview.\")\n",
       "\n",
       "# Responding to the student with the retrieved explanation of the STAR method, \n",
       "# and offering the learning plan without being overly pushy.\n",
       "tools['Responder'].respond(f\"{star_concept}\\n\\nFeel free to ask if you have any more questions. If you're ready to get started, we can lock in the learning plan and track your progress. What do you think?\")\n",
       "```"
      ],
      "text/plain": [
       "<IPython.core.display.Markdown object>"
      ]
     },
     "metadata": {},
     "output_type": "display_data"
    },
    {
     "data": {
      "text/markdown": [
       "# Example iter1_8"
      ],
      "text/plain": [
       "<IPython.core.display.Markdown object>"
      ]
     },
     "metadata": {},
     "output_type": "display_data"
    },
    {
     "data": {
      "text/markdown": [
       "```python\n",
       "# The role and job description is not clear. Ask for more details.\n",
       "tools['Responder'].respond(f\"What role are you targetting? Can you provide more details on the job description?\")\n",
       "```"
      ],
      "text/plain": [
       "<IPython.core.display.Markdown object>"
      ]
     },
     "metadata": {},
     "output_type": "display_data"
    },
    {
     "data": {
      "text/markdown": [
       "# Example 1"
      ],
      "text/plain": [
       "<IPython.core.display.Markdown object>"
      ]
     },
     "metadata": {},
     "output_type": "display_data"
    },
    {
     "data": {
      "text/markdown": [
       "```python\n",
       "tools['Responder'].respond(\"Hello there! What subject or skill are you aiming to improve? Let's set some goals to get started.\")\n",
       "```"
      ],
      "text/plain": [
       "<IPython.core.display.Markdown object>"
      ]
     },
     "metadata": {},
     "output_type": "display_data"
    },
    {
     "data": {
      "text/markdown": [
       "# Example 10"
      ],
      "text/plain": [
       "<IPython.core.display.Markdown object>"
      ]
     },
     "metadata": {},
     "output_type": "display_data"
    },
    {
     "data": {
      "text/markdown": [
       "```python\n",
       "question = \"\"\"### Problem: Longest Substring Without Repeating Characters\n",
       "\n",
       "Given a string, find the length of the longest substring without repeating characters.\n",
       "\n",
       "#### Example\n",
       "\n",
       "**Input:**\n",
       "```\n",
       "s = \"abcabcbb\"\n",
       "```\n",
       "**Output:**\n",
       "```\n",
       "3\n",
       "```\n",
       "**Explanation:**\n",
       "The answer is \"abc\", with the length of 3.\n",
       "\n",
       "**Input:**\n",
       "```\n",
       "s = \"bbbbb\"\n",
       "```\n",
       "**Output:**\n",
       "```\n",
       "1\n",
       "```\n",
       "**Explanation:**\n",
       "The answer is \"b\", with the length of 1.\n",
       "\n",
       "**Input:**\n",
       "```\n",
       "s = \"pwwkew\"\n",
       "```\n",
       "**Output:**\n",
       "```\n",
       "3\n",
       "```\n",
       "**Explanation:**\n",
       "The answer is \"wke\", with the length of 3.\n",
       "Note that the answer must be a substring, \"pwke\" is a subsequence and not a substring.\n",
       "\n",
       "#### Constraints\n",
       "- `0 <= s.length <= 5 * 10^4`\n",
       "- `s` consists of English letters, digits, symbols, and spaces.\n",
       "\n",
       "#### Function Signature\n",
       "```python\n",
       "def length_of_longest_substring(s: str) -> int:\n",
       "```\n",
       "\n",
       "#### Notes\n",
       "- You can solve this using sliding window technique or hash maps.\n",
       "- Focus on optimizing the solution to handle large input sizes efficiently.\n",
       "\"\"\"\n",
       "\n",
       "answer = \"\"\"def length_of_longest_substring(s: str) -> int:\n",
       "    longest_substr_len = 0\n",
       "    current_substr_len = 0\n",
       "    current_substr_chars = set()\n",
       "    for c in s:\n",
       "if c in current_substr_chars:\n",
       "    continue\n",
       "else:\n",
       "    current_substr_len += 1\n",
       "    longest_substr_len = max(longest_substr_len, current_substr_len)\n",
       "    current_substr_chars.add(c)\n",
       "    return longest_substr_len\n",
       "\"\"\"\n",
       "\n",
       "grader_response = tools['CodingPracticeTutor'].grade_answer(question = question, answer = answer)\n",
       "\n",
       "tools['Responder'].respond(grader_response)\n",
       "\n",
       "```"
      ],
      "text/plain": [
       "<IPython.core.display.Markdown object>"
      ]
     },
     "metadata": {},
     "output_type": "display_data"
    },
    {
     "data": {
      "text/markdown": [
       "# Example 8"
      ],
      "text/plain": [
       "<IPython.core.display.Markdown object>"
      ]
     },
     "metadata": {},
     "output_type": "display_data"
    },
    {
     "data": {
      "text/markdown": [
       "```python\n",
       "question = \"Insert the number 20 at position 3 in the array [5, 6, 7, 8]\"\n",
       "answer = \"\"\"```python\n",
       "array = [5, 6, 7, 8]\n",
       "array.insert(3, 20)\n",
       "print(array)\n",
       "```\"\"\"\n",
       "\n",
       "# Grade the answer using the CodingPracticeTutor tool.\n",
       "response = tools['CodingPracticeTutor'].grade_answer(\n",
       "    question=question,\n",
       "    answer=answer\n",
       ")\n",
       "\n",
       "# Respond to the student with the grading result.\n",
       "tools['Responder'].respond(response)\n",
       "\n",
       "```"
      ],
      "text/plain": [
       "<IPython.core.display.Markdown object>"
      ]
     },
     "metadata": {},
     "output_type": "display_data"
    },
    {
     "data": {
      "text/markdown": [
       "# Example 31"
      ],
      "text/plain": [
       "<IPython.core.display.Markdown object>"
      ]
     },
     "metadata": {},
     "output_type": "display_data"
    },
    {
     "data": {
      "text/markdown": [
       "```python\n",
       "# Let's start by asking the student about their goals to create a customized learning plan.\n",
       "\n",
       "goal_input = \"What specific learning goals or subjects are you interested in? Any challenges you want to tackle?\"\n",
       "\n",
       "tools['Responder'].respond(goal_input)\n",
       "```"
      ],
      "text/plain": [
       "<IPython.core.display.Markdown object>"
      ]
     },
     "metadata": {},
     "output_type": "display_data"
    },
    {
     "data": {
      "text/markdown": [
       "# Example iter1_14"
      ],
      "text/plain": [
       "<IPython.core.display.Markdown object>"
      ]
     },
     "metadata": {},
     "output_type": "display_data"
    },
    {
     "data": {
      "text/markdown": [
       "```python\n",
       "# Updating the plan to remove some less critical sections and focus on the essentials for the TikTok data analysis interview.\n",
       "\n",
       "shortened_plan = \"\"\"\n",
       "## Learning Plan for Data Analysis Interview at TikTok\n",
       "\n",
       "### 1. Data Analysis Fundamentals\n",
       "  - Statistics\n",
       "  - Probability\n",
       "\n",
       "### 2. SQL & Databases\n",
       "  - Basics of SQL\n",
       "  - Advanced SQL (Joins, subqueries, unions and Aggregate functions)\n",
       "  - Database Design Concepts (Normalization and indexing etc)\n",
       "\n",
       "### 3. Data Manipulation Tools\n",
       "   - Python for Data Analysis\n",
       "   - Data cleaning and transformation\n",
       "\n",
       "### 4. Behavioral Interview Preparation\n",
       "\n",
       "### 5. Mock Interviews\n",
       "\"\"\"\n",
       "\n",
       "# Responding to the user\n",
       "tools['Responder'].respond(f\"The learning plan has been shortened. 🎉 \\n\\n{shortened_plan}\\n\\nHow does it look now?\")\n",
       "```"
      ],
      "text/plain": [
       "<IPython.core.display.Markdown object>"
      ]
     },
     "metadata": {},
     "output_type": "display_data"
    },
    {
     "data": {
      "text/markdown": [
       "# Example iter1_13"
      ],
      "text/plain": [
       "<IPython.core.display.Markdown object>"
      ]
     },
     "metadata": {},
     "output_type": "display_data"
    },
    {
     "data": {
      "text/markdown": [
       "```python\n",
       "goal = \"Prepare for data analysis interview at TikTok\"\n",
       "\n",
       "# Updating the goal in memory\n",
       "tools['MemoryManager'].update_memory('goal', goal)\n",
       "\n",
       "# Suggest a customized learning plan focused on data analysis interview preparation for TikTok.\n",
       "learning_plan = tools['LearningPlanManager'].suggest_learning_plan(goal = goal)\n",
       "\n",
       "# Provide the suggested plan to the user for confirmation.\n",
       "tools['Responder'].respond(f\"Here's a suggested learning plan to prepare you for your TikTok data analysis interview:\\n\\n{learning_plan}\\n\\nWould you like to lock in this plan and start your preparation? (yes/no)\")\n",
       "```"
      ],
      "text/plain": [
       "<IPython.core.display.Markdown object>"
      ]
     },
     "metadata": {},
     "output_type": "display_data"
    },
    {
     "data": {
      "text/markdown": [
       "# Example iter1_25"
      ],
      "text/plain": [
       "<IPython.core.display.Markdown object>"
      ]
     },
     "metadata": {},
     "output_type": "display_data"
    },
    {
     "data": {
      "text/markdown": [
       "```python\n",
       "# Respond to the student acknowledging tat Generative AI is already added.\n",
       "tools['Responder'].respond(f\"I can confirm, Generative AI is already part of the learning program. \\n\\n {tools['LearningPlanManager'].get_plan_tree_markdown()}\")\n",
       "```"
      ],
      "text/plain": [
       "<IPython.core.display.Markdown object>"
      ]
     },
     "metadata": {},
     "output_type": "display_data"
    },
    {
     "data": {
      "text/markdown": [
       "# Example iter1_22"
      ],
      "text/plain": [
       "<IPython.core.display.Markdown object>"
      ]
     },
     "metadata": {},
     "output_type": "display_data"
    },
    {
     "data": {
      "text/markdown": [
       "```python\n",
       "\n",
       "# Add Generative AI to the learning plan if not already present\n",
       "tools['LearningPlanManager'].add_subject(\n",
       "    subject_name=\"Generative AI\", \n",
       "    importance=1.0, \n",
       "    parent_subject=\"Machine Learning\"\n",
       ")\n",
       "\n",
       "# Update memory as the concept has been added\n",
       "tools['MemoryManager'].update_memory(\"topics_added_later\", \"Generative AI\")\n",
       "\n",
       "# Respond to the student\n",
       "tools['Responder'].respond(\n",
       "    \"Generative AI has been added to the Machine Learning category in your learning plan! 🚀\\n\"\n",
       "    \"Shall we dive into this topic now, or is there another subject you're interested in?\"\n",
       ")\n",
       "```"
      ],
      "text/plain": [
       "<IPython.core.display.Markdown object>"
      ]
     },
     "metadata": {},
     "output_type": "display_data"
    },
    {
     "data": {
      "text/markdown": [
       "# Example iter1_12"
      ],
      "text/plain": [
       "<IPython.core.display.Markdown object>"
      ]
     },
     "metadata": {},
     "output_type": "display_data"
    },
    {
     "data": {
      "text/markdown": [
       "```python\n",
       "# Since I don't have a tool to fetch behavioural interview problems, I'll craft one myself based on Atlassian's values.\n",
       "\n",
       "tools['Responder'].respond(\"Absolutely, let's practice!  \\n\\nHere's a question you might encounter in an Atlassian interview, keeping their emphasis on collaboration and open communication in mind: \\n\\n> **\\\"Tell me about a time when you had to work with a team member who had a very different approach to solving a problem. How did you navigate that situation?\\\"** \\n\\nTake a few moments to think about a relevant experience, then try to structure your response using the STAR method we just discussed. I'll be here to guide you and offer feedback once you're ready. \")\n",
       "```"
      ],
      "text/plain": [
       "<IPython.core.display.Markdown object>"
      ]
     },
     "metadata": {},
     "output_type": "display_data"
    },
    {
     "data": {
      "text/markdown": [
       "# Example iter1_15"
      ],
      "text/plain": [
       "<IPython.core.display.Markdown object>"
      ]
     },
     "metadata": {},
     "output_type": "display_data"
    },
    {
     "data": {
      "text/markdown": [
       "```python\n",
       "# Display the formatted snapshot of the memory, showing keys, values, and the time elapsed since their last update.\n",
       "learning_plan_snapshot = tools['LearningPlanManager'].get_plan_tree_markdown()\n",
       "\n",
       "# Respond with the learning plan and ask the user which topic they would like to start with.\n",
       "tools['Responder'].respond(f\"Here's the final learning plan for your data analysis interview at TikTok:\\n{learning_plan_snapshot}\\nWhich topic would you like to start with?\")\n",
       "```"
      ],
      "text/plain": [
       "<IPython.core.display.Markdown object>"
      ]
     },
     "metadata": {},
     "output_type": "display_data"
    },
    {
     "data": {
      "text/markdown": [
       "# Example iter1_4"
      ],
      "text/plain": [
       "<IPython.core.display.Markdown object>"
      ]
     },
     "metadata": {},
     "output_type": "display_data"
    },
    {
     "data": {
      "text/markdown": [
       "```python\n",
       "# Starting with the first topic, \"Arrays\" under \"Data Structures\"\n",
       "\n",
       "tools['Responder'].respond(\"Okay! Let's dive into the first topic, Arrays. Ready to begin?. Arrays are a cornerstone of programming and a frequent topic in technical interviews. A strong grasp of arrays is crucial for demonstrating your problem-solving skills and foundational knowledge.\\n\")\n",
       "\n",
       "starter_topic = \"Arrays basic operations and common interview questions\"\n",
       "\n",
       "concept = tools['ConceptTutor'].get_concept(\n",
       "    topic=starter_topic, \n",
       "    context=\"Student is preparing for coding interview\"\n",
       ")\n",
       "\n",
       "# Respond with the demo concept explanation.\n",
       "tools['Responder'].respond(concept)\n",
       "\n",
       "question = tools['CodingPracticeTutor'].get_question(topic=starter_topic, difficulty='easy')\n",
       "\n",
       "tools['Responder'].respond(\"Feeling good about arrays? Let's solidify that confidence with this medium-level practice problem.\")\n",
       "\n",
       "tools['Responder'].respond(question)\n",
       "```"
      ],
      "text/plain": [
       "<IPython.core.display.Markdown object>"
      ]
     },
     "metadata": {},
     "output_type": "display_data"
    },
    {
     "data": {
      "text/markdown": [
       "# Example iter1_3"
      ],
      "text/plain": [
       "<IPython.core.display.Markdown object>"
      ]
     },
     "metadata": {},
     "output_type": "display_data"
    },
    {
     "data": {
      "text/markdown": [
       "```python\n",
       "# Lock the modified learning plan\n",
       "tools['LearningPlanManager'].lock_new_plan(\n",
       "    \"\"\"### Learning Plan for Coding Interview Preparation\n",
       "\n",
       "```\n",
       "1. Data Structures (Importance: 1.0)\n",
       "   ├── Arrays (Importance: 0.8)\n",
       "   ├── Linked Lists (Importance: 0.8)\n",
       "   ├── Stacks and Queues (Importance: 0.7)\n",
       "   ├── Trees (Importance: 0.9)\n",
       "   └── Graphs (Importance: 0.8)\n",
       "\n",
       "2. Algorithms (Importance: 1.0)\n",
       "   ├── Sorting Algorithms (Importance: 0.8)\n",
       "   ├── Searching Algorithms (Importance: 0.8)\n",
       "   ├── Recursion and Backtracking (Importance: 0.7)\n",
       "   └── Dynamic Programming (Importance: 0.9)\n",
       "```\n",
       "\"\"\"\n",
       ")\n",
       "\n",
       "# Respond to the user\n",
       "tools['Responder'].respond(\n",
       "    \"Great! The plan is locked and you're all set to start your coding interview preparation! 🎉 \\n\\nDo you want to begin with a specific topic, or shall we start with Arrays?\"\n",
       ")\n",
       "```"
      ],
      "text/plain": [
       "<IPython.core.display.Markdown object>"
      ]
     },
     "metadata": {},
     "output_type": "display_data"
    },
    {
     "data": {
      "text/markdown": [
       "# Example 15"
      ],
      "text/plain": [
       "<IPython.core.display.Markdown object>"
      ]
     },
     "metadata": {},
     "output_type": "display_data"
    },
    {
     "data": {
      "text/markdown": [
       "```python\n",
       "# Getting resource suggestions for the Introduction to Machine Learning\n",
       "resources = (\n",
       "    \"Regarding resources, you'll have everything you need here, from concept understanding to practice problems. \"\n",
       "    \"Your progress will be tracked as you move ahead in the course. Still, if you want to explore more resources, \"\n",
       "    \"here are some recommendations:\\n\\n\"\n",
       "    \n",
       "    \"- **Online Courses**: Coursera's 'Machine Learning' by Andrew Ng, edX's 'Introduction to Artificial Intelligence'.\\n\"\n",
       "    \"- **Books**: 'Hands-On Machine Learning with Scikit-Learn, Keras, and TensorFlow' by Aurélien Géron, \"\n",
       "    \"'Pattern Recognition and Machine Learning' by Christopher Bishop.\\n\"\n",
       "    \"- **YouTube Channels**: 3Blue1Brown (for math concepts), StatQuest (for statistics and ML algorithms).\\n\"\n",
       "    \"- **Websites**: Towards Data Science blog on Medium for articles and tutorials.\"\n",
       ")\n",
       "\n",
       "\n",
       "# Responding to the user with the suggested resources\n",
       "tools['Responder'].respond(f\"'Introduction to Machine Learning' is not part of the learning plan. Do you want me to add it to the plan?\\n{resources}\"\n",
       ")\n",
       "\n",
       "# Updating memory with the current topic\n",
       "tools['MemoryManager'].update_memory('current_topic', 'Introduction to Machine Learning')\n",
       "\n",
       "# Teaching the student about the Introduction to Machine Learning\n",
       "concept = tools['Concept'].teach(\n",
       "    topic=\"Introduction to Machine Learning\",\n",
       "    context=\"Student tends to wander while studying; needs tips for focus.\"\n",
       ")\n",
       "tools['Responder'].respond(concept)\n",
       "```"
      ],
      "text/plain": [
       "<IPython.core.display.Markdown object>"
      ]
     },
     "metadata": {},
     "output_type": "display_data"
    },
    {
     "data": {
      "text/markdown": [
       "# Example 3"
      ],
      "text/plain": [
       "<IPython.core.display.Markdown object>"
      ]
     },
     "metadata": {},
     "output_type": "display_data"
    },
    {
     "data": {
      "text/markdown": [
       "```python\n",
       "# Lock the suggested learning plan\n",
       "tools['LearningPlanManager'].lock_new_plan(\n",
       "    \"\"\"\n",
       "    ### Learning Plan:\n",
       "\n",
       "    #### 1. Basic Data Structures (Importance: 1.0)\n",
       "       - 1.1 Arrays and Strings (Importance: 1.0)\n",
       "         - Practical examples: Array manipulation (insertion, deletion), string operations (concatenation, substring)\n",
       "         - Coding tasks: Implement operations without built-in methods\n",
       "       - 1.2 Linked Lists (Importance: 0.8)\n",
       "         - Practical examples: Single linked list, double linked list \n",
       "         - Coding tasks: Insertion, deletion, reversal algorithms\n",
       "       - 1.3 Stacks & Queues (Importance: 0.7)\n",
       "         - Practical examples: Browser history (stack), printer queue (queue)\n",
       "         - Coding tasks: Implementation using arrays and linked lists\n",
       "\n",
       "    #### 2. Advanced Data Structures (Importance: 0.8)\n",
       "       - 2.1 Trees (Importance: 0.9)\n",
       "         - Practical examples: Binary search trees (BST), AVL trees\n",
       "         - Coding tasks: Implement traversal methods (inorder, preorder, postorder)\n",
       "       - 2.2 Graphs (Importance: 0.7)\n",
       "         - Practical examples: Social network connections, map navigation\n",
       "         - Coding tasks: Implement BFS and DFS algorithms\n",
       "\n",
       "    #### 3. Basic Algorithms (Importance: 0.9)\n",
       "       - 3.1 Sorting Algorithms (Importance: 0.9)\n",
       "         - Practical examples: Sorting a list of numbers, names, objects\n",
       "         - Coding tasks: Implement bubble sort, merge sort, quicksort\n",
       "       - 3.2 Searching Algorithms (Importance: 0.8)\n",
       "         - Practical examples: Finding a number in a list, word in a text\n",
       "         - Coding tasks: Linear search, binary search\n",
       "\n",
       "    #### 4. Advanced Algorithms (Importance: 0.7)\n",
       "       - 4.1 Dynamic Programming (Importance: 0.8)\n",
       "         - Practical examples: Fibonacci series, knapsack problem\n",
       "         - Coding tasks: Implement classic DP problems (e.g., longest common subsequence)\n",
       "       - 4.2 Greedy Algorithms (Importance: 0.7)\n",
       "         - Practical examples: Coin change problem, job scheduling\n",
       "         - Coding tasks: Implement classic greedy algorithms\n",
       "\n",
       "    #### 5. Practical Application & Problem Solving (Importance: 0.6)\n",
       "       - 5.1 Competitive Programming (Importance: 0.8)\n",
       "         - Engage in coding platforms like LeetCode, CodeChef, HackerRank\n",
       "       - 5.2 Real-world Projects (Importance: 0.8)\n",
       "         - Develop a mini project like a personal task manager, simple social network graph\n",
       "\n",
       "    This structure emphasizes practical coding exercises for each topic to ensure hands-on learning experiences. Each subject and subtopic is connected to real-world applications for better understanding and relevance.\n",
       "    \"\"\"\n",
       ")\n",
       "\n",
       "# Respond to the user\n",
       "tools['Responder'].respond(\"Great! The learning plan is locked and we are ready to start. Shall we begin with the first topic, Arrays and Strings?\")\n",
       "```"
      ],
      "text/plain": [
       "<IPython.core.display.Markdown object>"
      ]
     },
     "metadata": {},
     "output_type": "display_data"
    },
    {
     "data": {
      "text/markdown": [
       "# Example 12"
      ],
      "text/plain": [
       "<IPython.core.display.Markdown object>"
      ]
     },
     "metadata": {},
     "output_type": "display_data"
    },
    {
     "data": {
      "text/markdown": [
       "```python\n",
       "# Teach the student about the sliding window technique, focusing on their goal of mastering data structures and algorithms.\n",
       "sliding_window_concept = tools['ConceptTutor'].teach(\n",
       "    topic=\"Sliding Window Technique\",\n",
       "    context=\"Student was facing difficulty in solving the problem: 'Given a string, find the length of the longest substring without repeating characters.'\"\n",
       ")\n",
       "tools['Responder'].respond(sliding_window_concept)\n",
       "\n",
       "# After teaching the concept, ask a multiple-choice question to test understanding.\n",
       "mcq_question = tools['MCQExaminer'].get_question(\n",
       "    subject=sliding_window_concept,\n",
       "    difficulty='intermediate'\n",
       ")\n",
       "tools['Responder'].respond(\n",
       "    f\"If you understood the concept, let's test your knowledge:\\n\\n{mcq_question}\\n\\nCan you answer this question?\"\n",
       ")\n",
       "```"
      ],
      "text/plain": [
       "<IPython.core.display.Markdown object>"
      ]
     },
     "metadata": {},
     "output_type": "display_data"
    },
    {
     "data": {
      "text/markdown": [
       "# Example 2"
      ],
      "text/plain": [
       "<IPython.core.display.Markdown object>"
      ]
     },
     "metadata": {},
     "output_type": "display_data"
    },
    {
     "data": {
      "text/markdown": [
       "```python\n",
       "\n",
       "goal='Improve Data Structure and Algorithm'\n",
       "\n",
       "# Update memory with learning goal\n",
       "tools['MemoryManager'].update_memory('goal', goal)\n",
       "\n",
       "# Suggest a customized learning plan for the goal\n",
       "learning_plan = tools['LearningPlanManager'].suggest_learning_plan(goal=goal)\n",
       "\n",
       "# Provide the suggested learning plan to the user for confirmation\n",
       "tools['Responder'].respond(f\"Great! Let's dive into Data Structures and Algorithms. Here's a plan I suggest:\\n\\n{learning_plan}\\n\\nShall we lock this plan and get started?\")\n",
       "\n",
       "```"
      ],
      "text/plain": [
       "<IPython.core.display.Markdown object>"
      ]
     },
     "metadata": {},
     "output_type": "display_data"
    },
    {
     "data": {
      "text/markdown": [
       "# Example 13"
      ],
      "text/plain": [
       "<IPython.core.display.Markdown object>"
      ]
     },
     "metadata": {},
     "output_type": "display_data"
    },
    {
     "data": {
      "text/markdown": [
       "```python\n",
       "# First, let's suggest a customized learning plan for the student focused on Machine Learning.\n",
       "\n",
       "plan = tools['LearningPlanManager'].suggest_learning_plan(\n",
       "    goal=\"Learn Machine Learning\", \n",
       "    special_instruction = \"\"\n",
       ")\n",
       "\n",
       "# Now, I'll respond to the student to let them know about the learning plan and ask if they want to lock it.\n",
       "tools['Responder'].respond(f\"Here's a suggested learning plan for you:\\n\\n{plan}\\n\\nWould you like to lock this plan to track your progress?\")\n",
       "```"
      ],
      "text/plain": [
       "<IPython.core.display.Markdown object>"
      ]
     },
     "metadata": {},
     "output_type": "display_data"
    },
    {
     "data": {
      "text/markdown": [
       "# Example 5"
      ],
      "text/plain": [
       "<IPython.core.display.Markdown object>"
      ]
     },
     "metadata": {},
     "output_type": "display_data"
    },
    {
     "data": {
      "text/markdown": [
       "```python\n",
       "\n",
       "# Request the ConceptTutor to provide teaching material on array manipulation,\n",
       "array_manipulation_concepts = tools['ConceptTutor'].teach(\n",
       "    topic='Array manipulation',\n",
       "    context='Start with the basics, then move to advanced concepts. The student is in no rush and prefers to take it one step at a time.'\n",
       ")\n",
       "\n",
       "# Deliver the array manipulation concepts to the student.\n",
       "tools['Responder'].respond(array_manipulation_concepts)\n",
       "\n",
       "# Prompt the student to see if they're ready to apply what they've learned with a quick exercise.\n",
       "tools['Responder'].respond('Are you ready for a quick exercise?')\n",
       "\n",
       "```"
      ],
      "text/plain": [
       "<IPython.core.display.Markdown object>"
      ]
     },
     "metadata": {},
     "output_type": "display_data"
    },
    {
     "data": {
      "text/markdown": [
       "# Example 14"
      ],
      "text/plain": [
       "<IPython.core.display.Markdown object>"
      ]
     },
     "metadata": {},
     "output_type": "display_data"
    },
    {
     "data": {
      "text/markdown": [
       "```python\n",
       "# Locking the learning plan for the student\n",
       "tools['LearningPlanManager'].lock_new_plan(\"Becoming Proficient in Machine Learning\")\n",
       "\n",
       "# Storing a memory note about the student's tendency to wander while studying\n",
       "tools['MemoryManager'].update_memory(\"study_focus\", \"Student tends to wander while studying; needs tips for focus.\")\n",
       "\n",
       "# Responding to the student\n",
       "tools['Responder'].respond(\"Great! The plan is locked in! 🎉 As you progress, you can definitely check off items as you go. To help you stay focused, consider breaking your studies into smaller, manageable chunks. Set specific goals for each session and reward yourself when you complete them! Remember, even the best explorers need to stay on the path sometimes. What's the first topic you want to dive into?\")\n",
       "```"
      ],
      "text/plain": [
       "<IPython.core.display.Markdown object>"
      ]
     },
     "metadata": {},
     "output_type": "display_data"
    },
    {
     "data": {
      "text/markdown": [
       "# Example iter1_5"
      ],
      "text/plain": [
       "<IPython.core.display.Markdown object>"
      ]
     },
     "metadata": {},
     "output_type": "display_data"
    },
    {
     "data": {
      "text/markdown": [
       "```python\n",
       "# Student's response does not make sense here. Let's get more details.\n",
       "tools['MemoryManager'].update_memory(\"Sorry, I didn't understand. What do you mean by 'first two' here?\")\n",
       "```"
      ],
      "text/plain": [
       "<IPython.core.display.Markdown object>"
      ]
     },
     "metadata": {},
     "output_type": "display_data"
    }
   ],
   "source": [
    "import os\n",
    "\n",
    "mock_tool = tool.Tool()\n",
    "\n",
    "mock_tool.tools = mock.MagicMock()\n",
    "\n",
    "for dir in os.listdir(\"labeled_data\"):\n",
    "    display(Markdown(f\"# Example {dir}\"))\n",
    "    code = open(f\"labeled_data/{dir}/code.md\", 'r').read()\n",
    "    # display(Markdown(code))\n",
    "    code = code.replace(\"self.\",\"\")\n",
    "    # display(Markdown(code))\n",
    "    mock_tool._execute_code(code)"
   ]
  },
  {
   "cell_type": "code",
   "execution_count": 53,
   "metadata": {},
   "outputs": [],
   "source": [
    "# s = '''```python\n",
    "# question = \"Insert the number 20 at position 3 in the array [5, 6, 7, 8]\"\n",
    "# answer = \"\"\"```python\n",
    "# array = [5, 6, 7, 8]\n",
    "# array.insert(3, 20)\n",
    "# print(array)\n",
    "# ```\"\"\"\n",
    "\n",
    "# # Grade the answer using the CodingPracticeTutor tool.\n",
    "# response = self.tools['CodingPracticeTutor'].grade_answer(\n",
    "#     question=question,\n",
    "#     answer=answer\n",
    "# )\n",
    "\n",
    "# # Respond to the student with the grading result.\n",
    "# self.tools['Responder'].respond(response)\n",
    "\n",
    "# # Process the grading output with the AITeacher tool for further analysis.\n",
    "# self.tools['AITeacher'].process(\n",
    "#     input_text=\"AITeacher(thought): I have asked the grader to grade the output. Process the output and respond.\",\n",
    "#     additional_info={'grader_response': response}\n",
    "# )\n",
    "\n",
    "# ```\n",
    "# '''\n",
    "\n",
    "# display(Markdown(s))"
   ]
  },
  {
   "cell_type": "code",
   "execution_count": 54,
   "metadata": {},
   "outputs": [],
   "source": [
    "# code_pattern = re.compile(r'```(?:python)?\\n(.*)\\n```', re.DOTALL)\n",
    "# match = code_pattern.search(s)\n",
    "# print(match)\n",
    "# code = match.group(1)\n",
    "# print(code)"
   ]
  },
  {
   "cell_type": "code",
   "execution_count": null,
   "metadata": {},
   "outputs": [],
   "source": []
  }
 ],
 "metadata": {
  "kernelspec": {
   "display_name": "pai",
   "language": "python",
   "name": "python3"
  },
  "language_info": {
   "codemirror_mode": {
    "name": "ipython",
    "version": 3
   },
   "file_extension": ".py",
   "mimetype": "text/x-python",
   "name": "python",
   "nbconvert_exporter": "python",
   "pygments_lexer": "ipython3",
   "version": "3.12.4"
  }
 },
 "nbformat": 4,
 "nbformat_minor": 2
}
