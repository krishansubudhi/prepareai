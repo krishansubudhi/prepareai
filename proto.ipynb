{
 "cells": [
  {
   "cell_type": "code",
   "execution_count": 7,
   "id": "555f0693-3801-484a-a974-5ad4a7865871",
   "metadata": {},
   "outputs": [],
   "source": [
    "from dotenv import load_dotenv\n",
    "load_dotenv()\n",
    "from IPython.display import display, Markdown\n",
    "import tools_lib, planner_tool, memory_tool, tool\n",
    "import importlib\n",
    "importlib.reload(tool)\n",
    "importlib.reload(planner_tool)\n",
    "importlib.reload(memory_tool)\n",
    "importlib.reload(tools_lib)\n",
    "orc = tools_lib.Orchestrator(session_name = 'finetune2_temp1')\n",
    "# orc = tools_lib.Orchestrator.load_session('finetune1_temp3')"
   ]
  },
  {
   "cell_type": "code",
   "execution_count": 8,
   "id": "81c77146",
   "metadata": {},
   "outputs": [
    {
     "data": {
      "text/markdown": [
       "You are an AI Teacher guiding a student toward their goals. Prepare customized plans, track their progress and skills, and personalize your responses using humor, challenges, and appreciation based on their personality ,goal and progress.\n",
       "\n",
       "\n",
       "# Instructions:\n",
       "\n",
       "- Generate Only Python Code to call the appropriate tools only using self.tools['<toolname>'].method(args).\n",
       "- No New Methods/Classes: Only use provided tools/methods.\n",
       "- No tools except you will output anything to the user. So you are responsible to pass on the results of tool calls to the user.\n",
       "- Memory: Store short but important information in memory which might be needed later.\n",
       "- LearningPlan: Focus on locking a customized learning plan to track progress.\n",
       "- Confirmation: Confirm with user before changing anything.\n",
       "- Responder: User responder to respond to the user. Always respond with a question.\n",
       "- Code guidelines: Always end the python code with either a Responder or AITeacher tool call.\n"
      ],
      "text/plain": [
       "<IPython.core.display.Markdown object>"
      ]
     },
     "metadata": {},
     "output_type": "display_data"
    }
   ],
   "source": [
    "# orc.chat_session.session_history = orc.chat_session.session_history[:-2]\n",
    "display(Markdown(orc.ai_teacher._get_system_prompt()))"
   ]
  },
  {
   "cell_type": "code",
   "execution_count": 9,
   "id": "0de63d2c",
   "metadata": {},
   "outputs": [
    {
     "data": {
      "text/markdown": [
       "\n",
       "# Tools Available:\n",
       "- 'MemoryManager':\n",
       "\n",
       "    A class to manage in-memory short key-value pairs along with their update timestamps.\n",
       "    \n",
       "    \n",
       "    * `get_memory(key: str) -> str` \t# Retrieves the value associated with a given key from memory.\n",
       "    \n",
       "    * `get_memory_snapshot() -> str` \t# Retrieves a formatted snapshot of the memory, showing keys, values and the time elapsed since their last update.\n",
       "    \n",
       "    * `update_memory(key: str, value: str) -> None` \t# Updates the memory with a new short key-value pair. Make sure values are less than 200 characters.\n",
       "\n",
       "- 'MCQExaminer':\n",
       "\n",
       "    * `get_question(subject: str, difficulty: str) -> str` \t# Get an MCQ question based on the subject and difficulty level.\n",
       "    \n",
       "    * `grade_answer(question: str, answer: str) -> str` \t# Provide feedback on the given answer for the specified question. \n",
       "    Includes correct answer and explanation if possible.\n",
       "    \n",
       "    * `provide_hint(question: str) -> str` \t# Provide a hint related to a specific MCQ question.\n",
       "\n",
       "- 'CodingPracticeTutor':\n",
       "\n",
       "    * `get_question(topic: str, difficulty: str) -> str` \t# Get a coding question based on the topic and difficulty level.\n",
       "    \n",
       "    * `grade_answer(question: str, answer: str) -> str` \t# Provide feedback on the given answer for the specified question. \n",
       "    Includes correct answer and explanation if possible.\n",
       "    \n",
       "    * `provide_hint(question: str) -> str` \t# Provide a hint related to a specific coding problem.\n",
       "\n",
       "- 'ConceptTutor':\n",
       "\n",
       "    * `clear_doubts(doubt: str, context: str) -> str` \t# clear doubt based on the give context.\n",
       "    \n",
       "    * `get_concept(topic: str, context: str) -> str` \t# Return the concepts of a topic. Personalized based on context. Keep it concise but helpful. Adjust difficulty based on context.\n",
       "\n",
       "- 'Responder':\n",
       "\n",
       "    * `respond(message: str)` \t# Respond to the user with markdown message\n",
       "\n",
       "- 'LearningPlanManager':\n",
       "\n",
       "    * `get_plan_tree_markdown(subject_name: str | None = None) -> str` \t# Returns learning plan in a readable markdown format. subject_name is optional.\n",
       "    \n",
       "    * `lock_new_plan(plan: str)` \t# Locks the new plan\n",
       "    \n",
       "    * `suggest_learning_plan(goal: str, special_instruction: str = None) -> str` \t# Returns a formatted learning plan based on the user's goal and special_instruction. This does not finalize or store the plan.\n",
       "\n",
       "- 'AITeacher':\n",
       "\n",
       "    * `process(additional_info: dict = None)` \t# Plans and executes the next steps using available tools and past conversation history.\n",
       "    \n",
       "    Args:\n",
       "additional_info (dict): Placeholder to pass information during recursive calls.\n",
       "\n",
       "# Memory: \n",
       "\n",
       "\n",
       "# Additional Info: \n",
       "{}\n",
       "\n",
       "# Learning Plan:\n",
       "No plan locked yet. \n",
       "\n",
       "# Current Time: 2024-09-07 07:48:12.062746\n",
       "\n",
       "# Conversation History (Last 10): \n",
       "- \n",
       "\n",
       "# Plan code: \n"
      ],
      "text/plain": [
       "<IPython.core.display.Markdown object>"
      ]
     },
     "metadata": {},
     "output_type": "display_data"
    }
   ],
   "source": [
    "display(Markdown(orc.ai_teacher._get_prompt()))\n"
   ]
  },
  {
   "cell_type": "code",
   "execution_count": 10,
   "id": "536ad6b8",
   "metadata": {},
   "outputs": [
    {
     "data": {
      "text/markdown": [
       "```python\n",
       "# Updating memory with goal\n",
       "self.tools['MemoryManager'].update_memory('goal', 'Prepare for coding interview')\n",
       "\n",
       "# Suggesting a customized learning plan for coding interview preparation\n",
       "learning_plan = self.tools['LearningPlanManager'].suggest_learning_plan(goal='Prepare for coding interview')\n",
       "\n",
       "# Respond with the suggested learning plan and ask for confirmation to lock it\n",
       "self.tools['Responder'].respond(f\"Here’s a suggested learning plan for your coding interview preparation:\\\n",
       "\\\n",
       "{learning_plan}\\\n",
       "\\\n",
       "Would you like to lock this plan to track your progress? (yes/no)\")\n",
       "\n",
       "```"
      ],
      "text/plain": [
       "<IPython.core.display.Markdown object>"
      ]
     },
     "metadata": {},
     "output_type": "display_data"
    },
    {
     "data": {
      "text/markdown": [
       "**PrepareAI:** Here’s a suggested learning plan for your coding interview preparation:Here's a structured learning plan designed to prepare a student for a coding interview, with a focus on critical subjects and their importance:\n",
       "\n",
       "### Learning Plan for Coding Interview Preparation\n",
       "\n",
       "```\n",
       "1. Data Structures (Importance: 1.0)\n",
       "   ├── Arrays (Importance: 0.8)\n",
       "   ├── Linked Lists (Importance: 0.8)\n",
       "   ├── Stacks and Queues (Importance: 0.7)\n",
       "   ├── Trees (Importance: 0.9)\n",
       "   └── Graphs (Importance: 0.8)\n",
       "\n",
       "2. Algorithms (Importance: 1.0)\n",
       "   ├── Sorting Algorithms (Importance: 0.8)\n",
       "   ├── Searching Algorithms (Importance: 0.8)\n",
       "   ├── Recursion and Backtracking (Importance: 0.7)\n",
       "   └── Dynamic Programming (Importance: 0.9)\n",
       "\n",
       "3. System Design (Importance: 0.8)\n",
       "   ├── Scalability Principles (Importance: 0.7)\n",
       "   ├── Database Design (Importance: 0.6)\n",
       "   └── API Design (Importance: 0.7)\n",
       "\n",
       "4. Coding Best Practices (Importance: 0.7)\n",
       "   ├── Code Readability (Importance: 0.6)\n",
       "   ├── Version Control (Importance: 0.5)\n",
       "   └── Testing (Importance: 0.6)\n",
       "\n",
       "5. Behavioral Questions (Importance: 0.8)\n",
       "   ├── STAR Method (Importance: 0.7)\n",
       "   ├── Common Behavioral Questions (Importance: 0.6)\n",
       "   └── Mock Interviews (Importance: 0.6)\n",
       "```\n",
       "\n",
       "### Summary of Importance Levels\n",
       "- **Critical Subjects**: Data Structures and Algorithms (1.0) \n",
       "- **Important Additional Topics**: System Design, Behavioral Questions (0.8), Coding Best Practices (0.7) \n",
       "- **Fundamental Topics**: Specific areas within major subjects hold slightly lower importance but are essential for a well-rounded preparation (0.5 - 0.9).\n",
       "\n",
       "This plan provides a solid framework to focus on key areas essential for coding interviews while allowing flexibility for deeper exploration within those areas.Would you like to lock this plan to track your progress? (yes/no)"
      ],
      "text/plain": [
       "<IPython.core.display.Markdown object>"
      ]
     },
     "metadata": {},
     "output_type": "display_data"
    }
   ],
   "source": [
    "orc.process_user_input(\"I want to prepare for coding interview\")"
   ]
  },
  {
   "cell_type": "code",
   "execution_count": 11,
   "id": "1fe253a6",
   "metadata": {},
   "outputs": [
    {
     "data": {
      "text/markdown": [
       "No plan locked yet."
      ],
      "text/plain": [
       "<IPython.core.display.Markdown object>"
      ]
     },
     "metadata": {},
     "output_type": "display_data"
    }
   ],
   "source": [
    "display(Markdown(orc.learning_plan_manager.get_plan_tree_markdown()))"
   ]
  },
  {
   "cell_type": "code",
   "execution_count": 12,
   "id": "4c50be95",
   "metadata": {},
   "outputs": [
    {
     "data": {
      "text/markdown": [
       "```python\n",
       "# Update the learning plan based on the student's request to keep only the first two sections.\n",
       "modified_plan = \"\"\"\n",
       "### Learning Plan for Coding Interview Preparation\n",
       "\n",
       "```\n",
       "1. Data Structures (Importance: 1.0)\n",
       "   ├── Arrays (Importance: 0.8)\n",
       "   ├── Linked Lists (Importance: 0.8)\n",
       "   ├── Stacks and Queues (Importance: 0.7)\n",
       "   ├── Trees (Importance: 0.9)\n",
       "   └── Graphs (Importance: 0.8)\n",
       "\n",
       "2. Algorithms (Importance: 1.0)\n",
       "   ├── Sorting Algorithms (Importance: 0.8)\n",
       "   ├── Searching Algorithms (Importance: 0.8)\n",
       "   ├── Recursion and Backtracking (Importance: 0.7)\n",
       "   └── Dynamic Programming (Importance: 0.9)\n",
       "```\n",
       "\n",
       "### Summary of Importance Levels\n",
       "- **Critical Subjects**: Data Structures and Algorithms (1.0) \n",
       "- **Important Additional Topics**: System Design, Behavioral Questions (0.8), Coding Best Practices (0.7) \n",
       "- **Fundamental Topics**: Specific areas within major subjects hold slightly lower importance but are essential for a well-rounded preparation (0.5 - 0.9).\n",
       "\"\"\"\n",
       "\n",
       "# Ask for confirmation before locking the modified plan.\n",
       "self.tools['Responder'].respond(\"Are you sure you want to lock this modified plan? (yes/no)\\n\\n\" + modified_plan)\n",
       "```"
      ],
      "text/plain": [
       "<IPython.core.display.Markdown object>"
      ]
     },
     "metadata": {},
     "output_type": "display_data"
    },
    {
     "data": {
      "text/markdown": [
       "**PrepareAI:** Are you sure you want to lock this modified plan? (yes/no)\n",
       "\n",
       "\n",
       "### Learning Plan for Coding Interview Preparation\n",
       "\n",
       "```\n",
       "1. Data Structures (Importance: 1.0)\n",
       "   ├── Arrays (Importance: 0.8)\n",
       "   ├── Linked Lists (Importance: 0.8)\n",
       "   ├── Stacks and Queues (Importance: 0.7)\n",
       "   ├── Trees (Importance: 0.9)\n",
       "   └── Graphs (Importance: 0.8)\n",
       "\n",
       "2. Algorithms (Importance: 1.0)\n",
       "   ├── Sorting Algorithms (Importance: 0.8)\n",
       "   ├── Searching Algorithms (Importance: 0.8)\n",
       "   ├── Recursion and Backtracking (Importance: 0.7)\n",
       "   └── Dynamic Programming (Importance: 0.9)\n",
       "```\n",
       "\n",
       "### Summary of Importance Levels\n",
       "- **Critical Subjects**: Data Structures and Algorithms (1.0) \n",
       "- **Important Additional Topics**: System Design, Behavioral Questions (0.8), Coding Best Practices (0.7) \n",
       "- **Fundamental Topics**: Specific areas within major subjects hold slightly lower importance but are essential for a well-rounded preparation (0.5 - 0.9).\n"
      ],
      "text/plain": [
       "<IPython.core.display.Markdown object>"
      ]
     },
     "metadata": {},
     "output_type": "display_data"
    }
   ],
   "source": [
    "orc.process_user_input(\"Let's keep only the first two\")"
   ]
  },
  {
   "cell_type": "code",
   "execution_count": 13,
   "id": "4cc2cabc",
   "metadata": {},
   "outputs": [
    {
     "data": {
      "text/markdown": [
       "```python\n",
       "# Lock the modified learning plan\n",
       "self.tools['LearningPlanManager'].lock_new_plan(\n",
       "    \"\"\"### Learning Plan for Coding Interview Preparation\n",
       "\n",
       "```\n",
       "1. Data Structures (Importance: 1.0)\n",
       "   ├── Arrays (Importance: 0.8)\n",
       "   ├── Linked Lists (Importance: 0.8)\n",
       "   ├── Stacks and Queues (Importance: 0.7)\n",
       "   ├── Trees (Importance: 0.9)\n",
       "   └── Graphs (Importance: 0.8)\n",
       "\n",
       "2. Algorithms (Importance: 1.0)\n",
       "   ├── Sorting Algorithms (Importance: 0.8)\n",
       "   ├── Searching Algorithms (Importance: 0.8)\n",
       "   ├── Recursion and Backtracking (Importance: 0.7)\n",
       "   └── Dynamic Programming (Importance: 0.9)\n",
       "```\n",
       "\"\"\"\n",
       ")\n",
       "\n",
       "# Update memory to note that the plan has been locked\n",
       "self.tools['MemoryManager'].update_memory(\n",
       "    \"learning_plan_locked\", \n",
       "    \"Coding interview preparation plan locked with focus on Data Structures and Algorithms.\"\n",
       ")\n",
       "\n",
       "# Respond to the user\n",
       "self.tools['Responder'].respond(\n",
       "    \"Great! The plan is locked and you're all set to start your coding interview preparation! 🎉 \\n\\nDo you want to begin with a specific topic, or should I suggest a starting point?\"\n",
       ")\n",
       "```"
      ],
      "text/plain": [
       "<IPython.core.display.Markdown object>"
      ]
     },
     "metadata": {},
     "output_type": "display_data"
    },
    {
     "data": {
      "text/markdown": [
       "```python\n",
       "self._create_new_plan(\"Learning Plan for Coding Interview Preparation\")\n",
       "\n",
       "self.add_subject(\"Data Structures\", 1.0)\n",
       "self.add_subject(\"Arrays\", 0.8, \"Data Structures\")\n",
       "self.add_subject(\"Linked Lists\", 0.8, \"Data Structures\")\n",
       "self.add_subject(\"Stacks and Queues\", 0.7, \"Data Structures\")\n",
       "self.add_subject(\"Trees\", 0.9, \"Data Structures\")\n",
       "self.add_subject(\"Graphs\", 0.8, \"Data Structures\")\n",
       "\n",
       "self.add_subject(\"Algorithms\", 1.0)\n",
       "self.add_subject(\"Sorting Algorithms\", 0.8, \"Algorithms\")\n",
       "self.add_subject(\"Searching Algorithms\", 0.8, \"Algorithms\")\n",
       "self.add_subject(\"Recursion and Backtracking\", 0.7, \"Algorithms\")\n",
       "self.add_subject(\"Dynamic Programming\", 0.9, \"Algorithms\")\n",
       "```"
      ],
      "text/plain": [
       "<IPython.core.display.Markdown object>"
      ]
     },
     "metadata": {},
     "output_type": "display_data"
    },
    {
     "data": {
      "text/markdown": [
       "**PrepareAI:** Great! The plan is locked and you're all set to start your coding interview preparation! 🎉 \n",
       "\n",
       "Do you want to begin with a specific topic, or should I suggest a starting point?"
      ],
      "text/plain": [
       "<IPython.core.display.Markdown object>"
      ]
     },
     "metadata": {},
     "output_type": "display_data"
    }
   ],
   "source": [
    "orc.process_user_input(\"Looks good.\")"
   ]
  },
  {
   "cell_type": "code",
   "execution_count": 14,
   "id": "f2d40cdd",
   "metadata": {},
   "outputs": [
    {
     "data": {
      "text/markdown": [
       "- **Learning Plan for Coding Interview Preparation** (Importance: 1, Score: 0.0)\n",
       "  - **Data Structures** (Importance: 1.0, Score: 0.0)\n",
       "    - **Arrays** (Importance: 0.8, Score: 0.0)\n",
       "    - **Linked Lists** (Importance: 0.8, Score: 0.0)\n",
       "    - **Stacks and Queues** (Importance: 0.7, Score: 0.0)\n",
       "    - **Trees** (Importance: 0.9, Score: 0.0)\n",
       "    - **Graphs** (Importance: 0.8, Score: 0.0)\n",
       "  - **Algorithms** (Importance: 1.0, Score: 0.0)\n",
       "    - **Sorting Algorithms** (Importance: 0.8, Score: 0.0)\n",
       "    - **Searching Algorithms** (Importance: 0.8, Score: 0.0)\n",
       "    - **Recursion and Backtracking** (Importance: 0.7, Score: 0.0)\n",
       "    - **Dynamic Programming** (Importance: 0.9, Score: 0.0)\n"
      ],
      "text/plain": [
       "<IPython.core.display.Markdown object>"
      ]
     },
     "metadata": {},
     "output_type": "display_data"
    }
   ],
   "source": [
    "display(Markdown(orc.learning_plan_manager.get_plan_tree_markdown()))"
   ]
  },
  {
   "cell_type": "code",
   "execution_count": null,
   "id": "ac66abc5",
   "metadata": {},
   "outputs": [],
   "source": []
  }
 ],
 "metadata": {
  "kernelspec": {
   "display_name": "Python 3 (ipykernel)",
   "language": "python",
   "name": "python3"
  },
  "language_info": {
   "codemirror_mode": {
    "name": "ipython",
    "version": 3
   },
   "file_extension": ".py",
   "mimetype": "text/x-python",
   "name": "python",
   "nbconvert_exporter": "python",
   "pygments_lexer": "ipython3",
   "version": "3.12.4"
  }
 },
 "nbformat": 4,
 "nbformat_minor": 5
}
