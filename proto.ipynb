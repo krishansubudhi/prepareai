{
 "cells": [
  {
   "cell_type": "code",
   "execution_count": 56,
   "id": "555f0693-3801-484a-a974-5ad4a7865871",
   "metadata": {},
   "outputs": [],
   "source": [
    "from dotenv import load_dotenv\n",
    "load_dotenv()\n",
    "import tools_lib\n",
    "import importlib\n",
    "importlib.reload(tools_lib)\n",
    "orc = tools_lib.Orchestrator()"
   ]
  },
  {
   "cell_type": "code",
   "execution_count": 57,
   "id": "05c00a2e",
   "metadata": {},
   "outputs": [
    {
     "data": {
      "text/markdown": [
       "```python\n",
       "self.tools['MemoryManager'].update_memory('user_name', 'Krishan')\n",
       "self.tools['Responder'].respond(\"Hello Krishan! Great to meet you! 🐱‍👤 Let's tackle those interview questions together. What specific area do you want to focus on? Coding, algorithms, or maybe some behavioral questions?\")\n",
       "```"
      ],
      "text/plain": [
       "<IPython.core.display.Markdown object>"
      ]
     },
     "metadata": {},
     "output_type": "display_data"
    },
    {
     "data": {
      "text/markdown": [
       "**PrepareAI:** Hello Krishan! Great to meet you! 🐱‍👤 Let's tackle those interview questions together. What specific area do you want to focus on? Coding, algorithms, or maybe some behavioral questions?"
      ],
      "text/plain": [
       "<IPython.core.display.Markdown object>"
      ]
     },
     "metadata": {},
     "output_type": "display_data"
    }
   ],
   "source": [
    "orc.process_user_input(\"Hello My name is Krishan. I want to practice for my interview.\")"
   ]
  },
  {
   "cell_type": "code",
   "execution_count": 58,
   "id": "0001f2b4",
   "metadata": {},
   "outputs": [
    {
     "data": {
      "text/markdown": [
       "```python\n",
       "self.tools['UserProfileManager'].update_profile('focus_area', 'Coding and system design')\n",
       "self.tools['Responder'].respond(\"Got it, Krishan! We'll focus on coding and system design. Let's start with a coding question. What difficulty level do you prefer: easy, medium, or hard?\")\n",
       "```"
      ],
      "text/plain": [
       "<IPython.core.display.Markdown object>"
      ]
     },
     "metadata": {},
     "output_type": "display_data"
    },
    {
     "data": {
      "text/markdown": [
       "**PrepareAI:** Got it, Krishan! We'll focus on coding and system design. Let's start with a coding question. What difficulty level do you prefer: easy, medium, or hard?"
      ],
      "text/plain": [
       "<IPython.core.display.Markdown object>"
      ]
     },
     "metadata": {},
     "output_type": "display_data"
    }
   ],
   "source": [
    "orc.process_user_input(\"Coding and system design\")"
   ]
  },
  {
   "cell_type": "code",
   "execution_count": 59,
   "id": "4fc525d4",
   "metadata": {},
   "outputs": [
    {
     "data": {
      "text/markdown": [
       "```python\n",
       "# Call the CodingPracticeTutor to get a medium difficulty coding question\n",
       "coding_question = self.tools['CodingPracticeTutor'].get_question(topic='coding', difficulty='medium')\n",
       "\n",
       "# Respond to the user with the question\n",
       "self.tools['Responder'].respond(f\"Here's a coding question for you, Krishan: {coding_question}\")\n",
       "```"
      ],
      "text/plain": [
       "<IPython.core.display.Markdown object>"
      ]
     },
     "metadata": {},
     "output_type": "display_data"
    },
    {
     "data": {
      "text/markdown": [
       "**PrepareAI:** Here's a coding question for you, Krishan: Sure! Here’s a medium difficulty coding question for you:\n",
       "\n",
       "### Problem Statement: Anagram Grouping\n",
       "\n",
       "Given a list of strings, write a function that groups the strings into lists of anagrams. An anagram is a word or phrase formed by rearranging the letters of another. For example, \"listen\" and \"silent\" are anagrams.\n",
       "\n",
       "### Function Signature:\n",
       "```python\n",
       "def group_anagrams(words: List[str]) -> List[List[str]]:\n",
       "```\n",
       "\n",
       "### Input:\n",
       "- `words`: A list of strings (1 ≤ len(words) ≤ 1000, 1 ≤ len(word) ≤ 100).\n",
       "\n",
       "### Output:\n",
       "- A list of lists, where each sublist contains strings that are anagrams of each other. The sublists can be in any order, but the strings within each sublist should maintain the input order.\n",
       "\n",
       "### Example:\n",
       "```python\n",
       "input = [\"eat\", \"tea\", \"tan\", \"ate\", \"nat\", \"bat\"]\n",
       "output = [[\"eat\", \"tea\", \"ate\"], [\"tan\", \"nat\"], [\"bat\"]]\n",
       "```\n",
       "\n",
       "### Notes:\n",
       "- The anagrams should be grouped together in the same sublist.\n",
       "- You can return the output in any order.\n",
       "\n",
       "### Hints:\n",
       "Think about how you can use a dictionary to map the sorted version of each word to its respective anagrams.\n",
       "\n",
       "### Constraints:\n",
       "- You may assume that all input words are lowercase English letters.\n",
       "\n",
       "### Implement the function with a sample test case to demonstrate its correctness.\n",
       "\n",
       "Good luck!"
      ],
      "text/plain": [
       "<IPython.core.display.Markdown object>"
      ]
     },
     "metadata": {},
     "output_type": "display_data"
    }
   ],
   "source": [
    "orc.process_user_input(\"medium\")"
   ]
  },
  {
   "cell_type": "code",
   "execution_count": 60,
   "id": "85773add",
   "metadata": {},
   "outputs": [
    {
     "data": {
      "text/markdown": [
       "```python\n",
       "result = self.tools['CodingPracticeTutor'].grade_answer(\"Anagram Grouping\", \"def group_anagrams(words: List[str]) -> List[List[str]]:\\n    anagram_groups = []\\n    \\n    for word in words:\\n        added = False\\n        for group in anagram_groups:\\n            # Compare the words directly instead of sorting or using a hash map\\n            if sorted(word) == sorted(group[0]):\\n                group.append(word)\\n                added = True\\n                break\\n        if not added:\\n            anagram_groups.append([word])\\n    \\n    return anagram_groups\")\n",
       "self.tools['Responder'].respond(result)\n",
       "```"
      ],
      "text/plain": [
       "<IPython.core.display.Markdown object>"
      ]
     },
     "metadata": {},
     "output_type": "display_data"
    },
    {
     "data": {
      "text/markdown": [
       "**PrepareAI:** The provided answer for the 'Anagram Grouping' problem shows a reasonable approach for grouping anagrams, but it can be improved in efficiency and correctness. Here’s a breakdown of the answer along with a grading and an explanation of the improvements needed.\n",
       "\n",
       "### Grading\n",
       "**Score: 5/10**\n",
       "\n",
       "### Strengths\n",
       "1. **Basic Functionality**: The code attempts to group anagrams correctly by comparing the sorted characters of the words.\n",
       "2. **Use of Lists**: It uses lists to store the groups of anagrams which is a suitable data structure for this problem.\n",
       "\n",
       "### Weaknesses\n",
       "1. **Inefficiency**: The sorting operation is called for each comparison within the nested loop, which makes this solution inefficient. The time complexity of this approach is O(n * m log m) where n is the number of words and m is the maximum length of a word due to sorting.\n",
       "2. **Potential Redundant Comparisons**: For every word, the code compares it against the first word of every group, which can lead to unnecessary computations, especially if there are many groups.\n",
       "3. **Lack of Unique Identification for Anagrams**: For better performance, using a dictionary with a tuple of sorted characters as keys is usually preferred over multiple iterations through lists.\n",
       "4. **Possible Edge Cases**: The function does not handle an edge case where the input list is empty, although it would work as is because `anagram_groups` would just be empty.\n",
       "\n",
       "### Correct Answer\n",
       "Here’s a more efficient implementation of the `group_anagrams` function using a dictionary:\n",
       "\n",
       "```python\n",
       "from typing import List\n",
       "from collections import defaultdict\n",
       "\n",
       "def group_anagrams(words: List[str]) -> List[List[str]]:\n",
       "    anagram_dict = defaultdict(list)\n",
       "    \n",
       "    for word in words:\n",
       "        # Using tuple of sorted characters as a key\n",
       "        sorted_word = tuple(sorted(word))\n",
       "        anagram_dict[sorted_word].append(word)\n",
       "    \n",
       "    return list(anagram_dict.values())\n",
       "```\n",
       "\n",
       "### Explanation of Improvements\n",
       "1. **Efficiency**: This implementation uses a `defaultdict` to gather anagrams together based on their sorted tuple representation. This reduces the need for nested loops, yielding an average time complexity of O(n * m log m) (for sorting each word) but runs faster in practice due to reduced comparisons.\n",
       "2. **Clarity**: Using a dictionary to group anagrams clarifies the intention of the code, making it clearer and easier to read.\n",
       "3. **Handles Different Anagrams**: With each unique sorted tuple as a key, all anagrams will be grouped together seamlessly without needing to compare them directly.\n",
       "\n",
       "By using the dictionary to collect words by their sorted character tuple, this improved function groups the anagrams efficiently and clearly."
      ],
      "text/plain": [
       "<IPython.core.display.Markdown object>"
      ]
     },
     "metadata": {},
     "output_type": "display_data"
    }
   ],
   "source": [
    "r = '''\n",
    "def group_anagrams(words: List[str]) -> List[List[str]]:\n",
    "    anagram_groups = []\n",
    "    \n",
    "    for word in words:\n",
    "        added = False\n",
    "        for group in anagram_groups:\n",
    "            # Compare the words directly instead of sorting or using a hash map\n",
    "            if sorted(word) == sorted(group[0]):\n",
    "                group.append(word)\n",
    "                added = True\n",
    "                break\n",
    "        if not added:\n",
    "            anagram_groups.append([word])\n",
    "    \n",
    "    return anagram_groups\n",
    "'''\n",
    "orc.process_user_input(r)"
   ]
  },
  {
   "cell_type": "code",
   "execution_count": 66,
   "id": "2988a554",
   "metadata": {},
   "outputs": [
    {
     "data": {
      "text/markdown": [
       "```python\n",
       "# First, I'll encourage Krishan and suggest we practice sorting algorithms.\n",
       "self.tools['Responder'].respond(\"That's okay, Krishan! Sorting is a skill that can definitely be improved with practice. Let's dive into some basic sorting algorithms together! How about we start with a simple question to test your knowledge? 😄\")\n",
       "\n",
       "# Now, I'll get a question related to sorting to begin our practice.\n",
       "sorting_question = self.tools['MCQExaminer'].get_question(subject='Sorting', difficulty='easy')\n",
       "\n",
       "# I will present the question to the user.\n",
       "self.tools['Responder'].respond(f\"Here's your first sorting question: {sorting_question}\")\n",
       "```"
      ],
      "text/plain": [
       "<IPython.core.display.Markdown object>"
      ]
     },
     "metadata": {},
     "output_type": "display_data"
    },
    {
     "data": {
      "text/markdown": [
       "**PrepareAI:** That's okay, Krishan! Sorting is a skill that can definitely be improved with practice. Let's dive into some basic sorting algorithms together! How about we start with a simple question to test your knowledge? 😄"
      ],
      "text/plain": [
       "<IPython.core.display.Markdown object>"
      ]
     },
     "metadata": {},
     "output_type": "display_data"
    },
    {
     "data": {
      "text/markdown": [
       "**PrepareAI:** Here's your first sorting question: Sure! Here's an easy multiple-choice question on sorting:\n",
       "\n",
       "**Question: What is the purpose of sorting in computer science?**\n",
       "\n",
       "A) To delete data  \n",
       "B) To arrange data in a specific order  \n",
       "C) To backup data  \n",
       "D) To encrypt data  \n",
       "\n",
       "**Correct Answer:** B) To arrange data in a specific order"
      ],
      "text/plain": [
       "<IPython.core.display.Markdown object>"
      ]
     },
     "metadata": {},
     "output_type": "display_data"
    }
   ],
   "source": [
    "r = '''I am not good at sorting.'''\n",
    "\n",
    "orc.process_user_input(r)"
   ]
  },
  {
   "cell_type": "code",
   "execution_count": 67,
   "id": "25fe32e3",
   "metadata": {},
   "outputs": [
    {
     "data": {
      "text/markdown": [
       "```python\n",
       "self.tools['Responder'].respond(\"Haha, you're right! That question was a piece of cake! 🎂 Let's level up a bit. How about we dive into a more challenging sorting algorithm question? Are you ready to sort out something a bit tougher? 🤔\")\n",
       "\n",
       "# Update the user's sorting skill memory\n",
       "self.tools['MemoryManager'].update_memory('sorting_skill', 'needs more challenging practice')\n",
       "```"
      ],
      "text/plain": [
       "<IPython.core.display.Markdown object>"
      ]
     },
     "metadata": {},
     "output_type": "display_data"
    },
    {
     "data": {
      "text/markdown": [
       "**PrepareAI:** Haha, you're right! That question was a piece of cake! 🎂 Let's level up a bit. How about we dive into a more challenging sorting algorithm question? Are you ready to sort out something a bit tougher? 🤔"
      ],
      "text/plain": [
       "<IPython.core.display.Markdown object>"
      ]
     },
     "metadata": {},
     "output_type": "display_data"
    }
   ],
   "source": [
    "user_input = '''\n",
    "You gave me the answer, anyways it was too easy\n",
    "'''\n",
    "orc.process_user_input(user_input)"
   ]
  },
  {
   "cell_type": "code",
   "execution_count": 68,
   "id": "c866da05",
   "metadata": {},
   "outputs": [
    {
     "data": {
      "text/markdown": [
       "```python\n",
       "# Get a more challenging sorting question\n",
       "sorting_question = self.tools['MCQExaminer'].get_question(subject='sorting', difficulty='medium')\n",
       "\n",
       "# Respond to Krishan with the new question\n",
       "self.tools['Responder'].respond(f\"Great! Let's step it up a notch! Here's your next sorting question:\\n\\n{sorting_question}\")\n",
       "\n",
       "# Update memory to reflect that Krishan is ready for more challenging practice\n",
       "self.tools['MemoryManager'].update_memory('sorting_skill', 'needs more challenging practice')\n",
       "```"
      ],
      "text/plain": [
       "<IPython.core.display.Markdown object>"
      ]
     },
     "metadata": {},
     "output_type": "display_data"
    },
    {
     "data": {
      "text/markdown": [
       "**PrepareAI:** Great! Let's step it up a notch! Here's your next sorting question:\n",
       "\n",
       "Sure! Here’s a multiple-choice question on sorting:\n",
       "\n",
       "**Question:**\n",
       "You have an array of integers: `[5, 2, 9, 1, 5, 6]`. Which of the following sorting algorithms will sort this array in ascending order with a time complexity of O(n log n) in the average case?\n",
       "\n",
       "A) Bubble Sort  \n",
       "B) Insertion Sort  \n",
       "C) Merge Sort  \n",
       "D) Selection Sort  \n",
       "\n",
       "**Answer:**\n",
       "C) Merge Sort\n",
       "\n",
       "**Explanation:** \n",
       "Merge Sort is a divide-and-conquer algorithm that sorts in O(n log n) time complexity on average. The other options (Bubble Sort, Insertion Sort, and Selection Sort) have average-case time complexities of O(n^2)."
      ],
      "text/plain": [
       "<IPython.core.display.Markdown object>"
      ]
     },
     "metadata": {},
     "output_type": "display_data"
    }
   ],
   "source": [
    "orc.process_user_input(\"yes\")"
   ]
  },
  {
   "cell_type": "code",
   "execution_count": 69,
   "id": "3c2c81ce",
   "metadata": {},
   "outputs": [
    {
     "data": {
      "text/markdown": [
       "```python\n",
       "self.tools['MemoryManager'].update_memory('sorting_skill', 'needs practice on merge sort, quick sort, heap sort, and complexity analysis')\n",
       "self.tools['Responder'].respond(\"Got it, Krishan! We'll tackle merge sort, quick sort, heap sort, and complexity together! 💪 Let's start with a challenging question on merge sort to strengthen your understanding:\\n\\n**Question:**\\nWhat is the primary difference between Merge Sort and Quick Sort?\\n\\nA) Merge Sort is not recursive; Quick Sort is.  \\nB) Merge Sort divides data into halves; Quick Sort works on pivot.  \\nC) Merge Sort has better average time complexity than Quick Sort.  \\nD) Quick Sort is always faster than Merge Sort.\\n\\nWhat's your answer? 🤓\")\n",
       "```"
      ],
      "text/plain": [
       "<IPython.core.display.Markdown object>"
      ]
     },
     "metadata": {},
     "output_type": "display_data"
    },
    {
     "data": {
      "text/markdown": [
       "**PrepareAI:** Got it, Krishan! We'll tackle merge sort, quick sort, heap sort, and complexity together! 💪 Let's start with a challenging question on merge sort to strengthen your understanding:\n",
       "\n",
       "**Question:**\n",
       "What is the primary difference between Merge Sort and Quick Sort?\n",
       "\n",
       "A) Merge Sort is not recursive; Quick Sort is.  \n",
       "B) Merge Sort divides data into halves; Quick Sort works on pivot.  \n",
       "C) Merge Sort has better average time complexity than Quick Sort.  \n",
       "D) Quick Sort is always faster than Merge Sort.\n",
       "\n",
       "What's your answer? 🤓"
      ],
      "text/plain": [
       "<IPython.core.display.Markdown object>"
      ]
     },
     "metadata": {},
     "output_type": "display_data"
    }
   ],
   "source": [
    "r = '''Yeah I can never understand merge and quick sort. I am also weak in heap and complexity. \n",
    "'''\n",
    "\n",
    "orc.process_user_input(r)"
   ]
  },
  {
   "cell_type": "code",
   "execution_count": 70,
   "id": "e7e3dc2d",
   "metadata": {},
   "outputs": [
    {
     "data": {
      "text/markdown": [
       "```python\n",
       "# Check the user's answer against the correct answer\n",
       "answer_feedback = self.tools['MCQExaminer'].grade_answer(\n",
       "    question=\"What is the primary difference between Merge Sort and Quick Sort?\\n\\nA) Merge Sort is not recursive; Quick Sort is.  \\nB) Merge Sort divides data into halves; Quick Sort works on pivot.  \\nC) Merge Sort has better average time complexity than Quick Sort.  \\nD) Quick Sort is always faster than Merge Sort.\", \n",
       "    answer='B'\n",
       ")\n",
       "\n",
       "# Respond to the user with the feedback\n",
       "self.tools['Responder'].respond(answer_feedback)\n",
       "\n",
       "# Since the user is struggling with merge sort, we should note this for future reference\n",
       "self.tools['MemoryManager'].update_memory('sorting_skill', 'needs practice on merge sort, quick sort, heap sort, and complexity analysis. Focus on understanding merge sort and quick sort. ')\n",
       "```"
      ],
      "text/plain": [
       "<IPython.core.display.Markdown object>"
      ]
     },
     "metadata": {},
     "output_type": "display_data"
    },
    {
     "data": {
      "text/markdown": [
       "**PrepareAI:** The student's answer is **B) Merge Sort divides data into halves; Quick Sort works on pivot.**\n",
       "\n",
       "**Grade: Correct**\n",
       "\n",
       "**Explanation:**\n",
       "\n",
       "The primary difference between Merge Sort and Quick Sort lies in their methodology:\n",
       "\n",
       "- **Merge Sort** is a divide-and-conquer algorithm that divides the data into halves recursively until each piece contains a single element. These small pieces are then merged back together in a sorted order.\n",
       "\n",
       "- **Quick Sort** also employs a divide-and-conquer strategy, but it works by selecting a 'pivot' element from the array and partitioning the other elements into two groups: those less than the pivot and those greater than the pivot. It recursively sorts these partitions.\n",
       "\n",
       "Option B accurately captures this difference, explaining that Merge Sort divides into halves and Quick Sort uses a pivot for partitioning.\n",
       "\n",
       "For the other options:\n",
       "\n",
       "A) Incorrect - Both Merge Sort and Quick Sort can be implemented recursively.\n",
       "\n",
       "C) Incorrect - Merge Sort has a time complexity of O(n log n) in the worst case, while Quick Sort has a worst-case time complexity of O(n^2). However, on average, Quick Sort is usually faster than Merge Sort.\n",
       "\n",
       "D) Incorrect - Quick Sort is generally faster on average due to its lower memory usage and cache efficiency, but it is not guaranteed to be faster in all cases (e.g., in terms of worst-case scenario).\n",
       "\n",
       "Thus, option **B** is indeed the best and correct answer."
      ],
      "text/plain": [
       "<IPython.core.display.Markdown object>"
      ]
     },
     "metadata": {},
     "output_type": "display_data"
    }
   ],
   "source": [
    "r = '''B\n",
    "'''\n",
    "\n",
    "orc.process_user_input(r)"
   ]
  },
  {
   "cell_type": "code",
   "execution_count": 71,
   "id": "c66e80ac",
   "metadata": {},
   "outputs": [
    {
     "data": {
      "text/markdown": [
       "```python\n",
       "self.tools['Responder'].respond(\"Focus on understanding Merge Sort and Quick Sort first, as these are foundational. Once you're comfortable with them, we can tackle Heap Sort and complexity analysis. How about we dive into another question on Merge Sort to solidify your understanding? 💡\")\n",
       "```"
      ],
      "text/plain": [
       "<IPython.core.display.Markdown object>"
      ]
     },
     "metadata": {},
     "output_type": "display_data"
    },
    {
     "data": {
      "text/markdown": [
       "**PrepareAI:** Focus on understanding Merge Sort and Quick Sort first, as these are foundational. Once you're comfortable with them, we can tackle Heap Sort and complexity analysis. How about we dive into another question on Merge Sort to solidify your understanding? 💡"
      ],
      "text/plain": [
       "<IPython.core.display.Markdown object>"
      ]
     },
     "metadata": {},
     "output_type": "display_data"
    }
   ],
   "source": [
    "r = '''So what should I focus on more?\n",
    "'''\n",
    "\n",
    "orc.process_user_input(r)"
   ]
  },
  {
   "cell_type": "code",
   "execution_count": 72,
   "id": "e21916a6",
   "metadata": {},
   "outputs": [
    {
     "data": {
      "text/markdown": [
       "```python\n",
       "self.tools['Responder'].respond(\"Great! Let's dive into another question on Merge Sort to solidify your understanding! 💡\\n\\n**Question:**\\nIn Merge Sort, what is the time complexity of merging two sorted arrays of sizes m and n?\\n\\nA) O(m + n)\\nB) O(m * n)\\nC) O(m - n)\\nD) O(log(n))\\n\\nWhat's your answer? 🤔\")\n",
       "```"
      ],
      "text/plain": [
       "<IPython.core.display.Markdown object>"
      ]
     },
     "metadata": {},
     "output_type": "display_data"
    },
    {
     "data": {
      "text/markdown": [
       "**PrepareAI:** Great! Let's dive into another question on Merge Sort to solidify your understanding! 💡\n",
       "\n",
       "**Question:**\n",
       "In Merge Sort, what is the time complexity of merging two sorted arrays of sizes m and n?\n",
       "\n",
       "A) O(m + n)\n",
       "B) O(m * n)\n",
       "C) O(m - n)\n",
       "D) O(log(n))\n",
       "\n",
       "What's your answer? 🤔"
      ],
      "text/plain": [
       "<IPython.core.display.Markdown object>"
      ]
     },
     "metadata": {},
     "output_type": "display_data"
    }
   ],
   "source": [
    "r = '''Ok\n",
    "'''\n",
    "\n",
    "orc.process_user_input(r)"
   ]
  },
  {
   "cell_type": "code",
   "execution_count": 73,
   "id": "770116a3",
   "metadata": {},
   "outputs": [
    {
     "data": {
      "text/markdown": [
       "```python\n",
       "self.tools['Responder'].respond(\"No worries, Krishan! Let’s break it down. In Merge Sort, when we merge two sorted arrays, we look at each element in both arrays only once. Therefore, the time complexity for merging two sorted arrays of sizes \\( m \\) and \\( n \\) is actually \\( O(m + n) \\). Think of it like a dance; you're just going to take one step for each dancer, which means you move together without missing anyone!\\n\\nSo, what's your final answer? A) O(m + n)?\" )\n",
       "```"
      ],
      "text/plain": [
       "<IPython.core.display.Markdown object>"
      ]
     },
     "metadata": {},
     "output_type": "display_data"
    },
    {
     "name": "stderr",
     "output_type": "stream",
     "text": [
      "<string>:1: SyntaxWarning: invalid escape sequence '\\('\n"
     ]
    },
    {
     "data": {
      "text/markdown": [
       "**PrepareAI:** No worries, Krishan! Let’s break it down. In Merge Sort, when we merge two sorted arrays, we look at each element in both arrays only once. Therefore, the time complexity for merging two sorted arrays of sizes \\( m \\) and \\( n \\) is actually \\( O(m + n) \\). Think of it like a dance; you're just going to take one step for each dancer, which means you move together without missing anyone!\n",
       "\n",
       "So, what's your final answer? A) O(m + n)?"
      ],
      "text/plain": [
       "<IPython.core.display.Markdown object>"
      ]
     },
     "metadata": {},
     "output_type": "display_data"
    }
   ],
   "source": [
    "r = '''I dont know m*n?'''\n",
    "\n",
    "orc.process_user_input(r)"
   ]
  },
  {
   "cell_type": "code",
   "execution_count": 74,
   "id": "8e0c95ac",
   "metadata": {},
   "outputs": [
    {
     "data": {
      "text/markdown": [
       "```python\n",
       "self.tools['Responder'].respond(\"I completely understand, Krishan! Let’s switch things up a bit and make it more engaging. How about a fun analogy for Merge Sort? \\n\\nImagine you’re at a party, and there are two groups of friends who have already sorted themselves by height. At some point, you decide to merge these two groups into one line from shortest to tallest. \\n\\nYou simply take the shortest person from both groups and place them in a new line first, then continue this process until everyone is in line. \\n\\nThis merging process is the same as what happens in Merge Sort, where we combine two sorted lists! If that doesn’t spark some interest, I can throw in a coding challenge to mix things up! Want to try a coding question, or shall we tackle another Merge Sort concept? 🎉\") \n",
       "```"
      ],
      "text/plain": [
       "<IPython.core.display.Markdown object>"
      ]
     },
     "metadata": {},
     "output_type": "display_data"
    },
    {
     "data": {
      "text/markdown": [
       "**PrepareAI:** I completely understand, Krishan! Let’s switch things up a bit and make it more engaging. How about a fun analogy for Merge Sort? \n",
       "\n",
       "Imagine you’re at a party, and there are two groups of friends who have already sorted themselves by height. At some point, you decide to merge these two groups into one line from shortest to tallest. \n",
       "\n",
       "You simply take the shortest person from both groups and place them in a new line first, then continue this process until everyone is in line. \n",
       "\n",
       "This merging process is the same as what happens in Merge Sort, where we combine two sorted lists! If that doesn’t spark some interest, I can throw in a coding challenge to mix things up! Want to try a coding question, or shall we tackle another Merge Sort concept? 🎉"
      ],
      "text/plain": [
       "<IPython.core.display.Markdown object>"
      ]
     },
     "metadata": {},
     "output_type": "display_data"
    }
   ],
   "source": [
    "r = '''Didnt understand the dance logic.I am bored'''\n",
    "\n",
    "orc.process_user_input(r)"
   ]
  },
  {
   "cell_type": "code",
   "execution_count": 75,
   "id": "958dcfad",
   "metadata": {},
   "outputs": [
    {
     "data": {
      "text/markdown": [
       "```python\n",
       "self.tools['Responder'].respond(\"I totally get it, Krishan! Interview nerves can feel like a rollercoaster ride! 🎢 Let's tackle this step by step. How about we spice things up with a coding challenge? It'll help boost your confidence and skills! \\n\\nWhat topic would you like to focus on? Sorting algorithms, data structures, or something else? Let’s get you ready to ace that interview! 💪\")\n",
       "```"
      ],
      "text/plain": [
       "<IPython.core.display.Markdown object>"
      ]
     },
     "metadata": {},
     "output_type": "display_data"
    },
    {
     "data": {
      "text/markdown": [
       "**PrepareAI:** I totally get it, Krishan! Interview nerves can feel like a rollercoaster ride! 🎢 Let's tackle this step by step. How about we spice things up with a coding challenge? It'll help boost your confidence and skills! \n",
       "\n",
       "What topic would you like to focus on? Sorting algorithms, data structures, or something else? Let’s get you ready to ace that interview! 💪"
      ],
      "text/plain": [
       "<IPython.core.display.Markdown object>"
      ]
     },
     "metadata": {},
     "output_type": "display_data"
    }
   ],
   "source": [
    "r = '''No enough of that. What else shall I practice. My interview is next month? I dont think I can do it'''\n",
    "\n",
    "orc.process_user_input(r)"
   ]
  },
  {
   "cell_type": "code",
   "execution_count": 76,
   "id": "446d3065",
   "metadata": {},
   "outputs": [
    {
     "data": {
      "text/markdown": [
       "```python\n",
       "# First, let's get the skills to determine the relevant topics.\n",
       "skills = self.tools['UserSkillsetManager'].get_skills()\n",
       "\n",
       "# Now, we'll respond to the user with the topics based on their skills and current focus.\n",
       "if 'sorting' in skills:\n",
       "    topics = \"You can focus on various sorting algorithms like Merge Sort, Quick Sort, and Heap Sort! Also, don’t forget to delve into complexity analysis which is super critical for interviews.\"\n",
       "else:\n",
       "    topics = \"Here are some common topics to consider: Sorting Algorithms (like Merge Sort and Quick Sort), Data Structures (like Arrays, Linked Lists, Trees), and Algorithm Complexity.\"\n",
       "\n",
       "# Responding to the user\n",
       "self.tools['Responder'].respond(topics)\n",
       "```"
      ],
      "text/plain": [
       "<IPython.core.display.Markdown object>"
      ]
     },
     "metadata": {},
     "output_type": "display_data"
    },
    {
     "data": {
      "text/markdown": [
       "**PrepareAI:** Here are some common topics to consider: Sorting Algorithms (like Merge Sort and Quick Sort), Data Structures (like Arrays, Linked Lists, Trees), and Algorithm Complexity."
      ],
      "text/plain": [
       "<IPython.core.display.Markdown object>"
      ]
     },
     "metadata": {},
     "output_type": "display_data"
    }
   ],
   "source": [
    "r = '''What are the topics'''\n",
    "\n",
    "orc.process_user_input(r)"
   ]
  },
  {
   "cell_type": "code",
   "execution_count": 77,
   "id": "001dc4ee",
   "metadata": {},
   "outputs": [
    {
     "data": {
      "text/markdown": [
       "```python\n",
       "complexity_question = self.tools['MCQExaminer'].get_question('Algorithm Complexity', 'medium')\n",
       "self.tools['Responder'].respond(complexity_question)\n",
       "```"
      ],
      "text/plain": [
       "<IPython.core.display.Markdown object>"
      ]
     },
     "metadata": {},
     "output_type": "display_data"
    },
    {
     "data": {
      "text/markdown": [
       "**PrepareAI:** Certainly! Here’s a multiple-choice question on Algorithm Complexity with medium difficulty:\n",
       "\n",
       "**Question:**\n",
       "\n",
       "Consider an algorithm that processes an array of size \\( n \\) in the following manner:\n",
       "\n",
       "1. It iterates through the entire array once, performing a constant-time operation for each element. \n",
       "2. For each element, it also performs another operation on a subarray of increasing size, specifically the first \\( k \\) elements, where \\( k \\) ranges from 1 to \\( n \\).\n",
       "\n",
       "What is the overall time complexity of this algorithm?\n",
       "\n",
       "A) \\( O(n) \\)  \n",
       "B) \\( O(n \\log n) \\)  \n",
       "C) \\( O(n^2) \\)  \n",
       "D) \\( O(n^3) \\)  \n",
       "\n",
       "**Correct Answer:** C) \\( O(n^2) \\)\n",
       "\n",
       "**Explanation:**\n",
       "The first loop iterates \\( n \\) times, and for each element, the inner operation processes a subarray of varying sizes. The total number of operations in the inner loop is \\( 1 + 2 + 3 + ... + n = \\frac{n(n + 1)}{2} \\), which simplifies to \\( O(n^2) \\)."
      ],
      "text/plain": [
       "<IPython.core.display.Markdown object>"
      ]
     },
     "metadata": {},
     "output_type": "display_data"
    }
   ],
   "source": [
    "r = '''Complexity'''\n",
    "\n",
    "orc.process_user_input(r)"
   ]
  },
  {
   "cell_type": "code",
   "execution_count": null,
   "id": "d5323363",
   "metadata": {},
   "outputs": [],
   "source": []
  }
 ],
 "metadata": {
  "kernelspec": {
   "display_name": "Python 3 (ipykernel)",
   "language": "python",
   "name": "python3"
  },
  "language_info": {
   "codemirror_mode": {
    "name": "ipython",
    "version": 3
   },
   "file_extension": ".py",
   "mimetype": "text/x-python",
   "name": "python",
   "nbconvert_exporter": "python",
   "pygments_lexer": "ipython3",
   "version": "3.12.4"
  }
 },
 "nbformat": 4,
 "nbformat_minor": 5
}
