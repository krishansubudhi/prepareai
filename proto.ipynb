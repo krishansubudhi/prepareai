{
 "cells": [
  {
   "cell_type": "code",
   "execution_count": 35,
   "id": "555f0693-3801-484a-a974-5ad4a7865871",
   "metadata": {},
   "outputs": [],
   "source": [
    "from dotenv import load_dotenv\n",
    "load_dotenv()\n",
    "import tools_lib\n",
    "import importlib\n",
    "importlib.reload(tools_lib)\n",
    "orc = tools_lib.Orchestrator()"
   ]
  },
  {
   "cell_type": "code",
   "execution_count": 36,
   "id": "05c00a2e",
   "metadata": {},
   "outputs": [
    {
     "data": {
      "text/markdown": [
       "```python\n",
       "self.tools['MemoryManager'].update_memory('user_name', 'Krishan')\n",
       "self.tools['Responder'].respond(\"Hello Krishan! I'd be happy to help you practice for your interview. Do you have specific topics in mind, or should I suggest some common interview topics for coding practice?\")\n",
       "```"
      ],
      "text/plain": [
       "<IPython.core.display.Markdown object>"
      ]
     },
     "metadata": {},
     "output_type": "display_data"
    },
    {
     "data": {
      "text/markdown": [
       "**PrepareAI:** Hello Krishan! I'd be happy to help you practice for your interview. Do you have specific topics in mind, or should I suggest some common interview topics for coding practice?"
      ],
      "text/plain": [
       "<IPython.core.display.Markdown object>"
      ]
     },
     "metadata": {},
     "output_type": "display_data"
    }
   ],
   "source": [
    "orc.process_user_input(\"Hello My name is Krishan. I want to practice for my interview.\")"
   ]
  },
  {
   "cell_type": "code",
   "execution_count": 38,
   "id": "da7db5cd",
   "metadata": {},
   "outputs": [
    {
     "data": {
      "text/plain": [
       "{'user_name': 'Krishan'}"
      ]
     },
     "execution_count": 38,
     "metadata": {},
     "output_type": "execute_result"
    }
   ],
   "source": [
    "orc.memory_manager.memory"
   ]
  },
  {
   "cell_type": "code",
   "execution_count": 39,
   "id": "0001f2b4",
   "metadata": {},
   "outputs": [
    {
     "data": {
      "text/markdown": [
       "```python\n",
       "self.tools['Responder'].respond(\"Let's start with some common coding interview topics. How about we practice data structures, algorithms, or system design? Please let me know which one interests you the most or if you have something else in mind!\")\n",
       "```"
      ],
      "text/plain": [
       "<IPython.core.display.Markdown object>"
      ]
     },
     "metadata": {},
     "output_type": "display_data"
    },
    {
     "data": {
      "text/markdown": [
       "**PrepareAI:** Let's start with some common coding interview topics. How about we practice data structures, algorithms, or system design? Please let me know which one interests you the most or if you have something else in mind!"
      ],
      "text/plain": [
       "<IPython.core.display.Markdown object>"
      ]
     },
     "metadata": {},
     "output_type": "display_data"
    }
   ],
   "source": [
    "orc.process_user_input(\"Nothing particular. I want to crack the interview\")"
   ]
  },
  {
   "cell_type": "code",
   "execution_count": 40,
   "id": "4fc525d4",
   "metadata": {},
   "outputs": [
    {
     "data": {
      "text/markdown": [
       "```python\n",
       "self.tools['CodingPracticeTutor'].get_question(\"system design\", \"easy\")\n",
       "self.tools['Responder'].respond(\"Here’s a system design question for you to practice.\")\n",
       "```"
      ],
      "text/plain": [
       "<IPython.core.display.Markdown object>"
      ]
     },
     "metadata": {},
     "output_type": "display_data"
    },
    {
     "data": {
      "text/markdown": [
       "**PrepareAI:** Here’s a system design question for you to practice."
      ],
      "text/plain": [
       "<IPython.core.display.Markdown object>"
      ]
     },
     "metadata": {},
     "output_type": "display_data"
    }
   ],
   "source": [
    "orc.process_user_input(\"System design\")"
   ]
  },
  {
   "cell_type": "code",
   "execution_count": 41,
   "id": "85773add",
   "metadata": {},
   "outputs": [
    {
     "data": {
      "text/markdown": [
       "```python\n",
       "question = self.tools['CodingPracticeTutor'].get_question('System Design', 'medium')\n",
       "self.tools['Responder'].respond(question)\n",
       "```"
      ],
      "text/plain": [
       "<IPython.core.display.Markdown object>"
      ]
     },
     "metadata": {},
     "output_type": "display_data"
    },
    {
     "data": {
      "text/markdown": [
       "**PrepareAI:** Sure! Here's a medium difficulty system design question:\n",
       "\n",
       "### System Design Question: Design a URL Shortener Service\n",
       "\n",
       "**Objective**: Design a URL shortener service similar to Bitly or TinyURL.\n",
       "\n",
       "**Requirements**:\n",
       "\n",
       "1. **Core Functionality**:\n",
       "   - Users should be able to create a short URL that redirects to a long URL.\n",
       "   - Users should be able to access the original URL by visiting the short URL.\n",
       "   - Short URLs should be unique for each long URL.\n",
       "\n",
       "2. **Additional Features**:\n",
       "   - Track the number of times a short URL has been accessed.\n",
       "   - Include expiration for short URLs (e.g., URLs that are not accessed for a month get deleted).\n",
       "   - Allow users to customize the short URL (e.g., `short.ly/customName`).\n",
       "   - Provide an analytics dashboard for users to see the statistics of their URLs.\n",
       "\n",
       "3. **Constraints**:\n",
       "   - Handle high traffic and provide a low-latency response for URL redirection.\n",
       "   - Ensure the service is scalable.\n",
       "\n",
       "**Tasks**:\n",
       "\n",
       "1. **Data Model**: Define the database schema for storing URL mappings and user data.\n",
       "\n",
       "2. **API Design**: Outline the REST API endpoints for creating, retrieving, and deleting URLs, along with user analytics.\n",
       "\n",
       "3. **Scalability**: Discuss strategies you would use to scale this service, particularly as the number of URLs increases.\n",
       "\n",
       "4. **Caching**: Explain how caching could be used to improve performance in your design.\n",
       "\n",
       "5. **Security**: Identify potential security issues (like URL phishing) and describe how you would mitigate them.\n",
       "\n",
       "You can break down your answer into these components and explain your thought process as you would in a system design interview."
      ],
      "text/plain": [
       "<IPython.core.display.Markdown object>"
      ]
     },
     "metadata": {},
     "output_type": "display_data"
    }
   ],
   "source": [
    "orc.process_user_input(\"Where is the question?\")"
   ]
  },
  {
   "cell_type": "code",
   "execution_count": 42,
   "id": "2988a554",
   "metadata": {},
   "outputs": [
    {
     "data": {
      "text/markdown": [
       "```python\n",
       "self.tools['Responder'].respond(\"Your approach to creating a distributed cache using a hashmap like memcached is a good start for ensuring low latency in your URL shortener design. Hashing the long URL for the key and storing the necessary data (original URL, access counts, and customizations) as values is an effective strategy. Additionally, using an LRU cache for eviction helps maintain efficiency as the number of URLs increases.\\n\\nLet me know if you would like to dive deeper into any specific components, or if you have further questions about the design!\")\n",
       "```"
      ],
      "text/plain": [
       "<IPython.core.display.Markdown object>"
      ]
     },
     "metadata": {},
     "output_type": "display_data"
    },
    {
     "data": {
      "text/markdown": [
       "**PrepareAI:** Your approach to creating a distributed cache using a hashmap like memcached is a good start for ensuring low latency in your URL shortener design. Hashing the long URL for the key and storing the necessary data (original URL, access counts, and customizations) as values is an effective strategy. Additionally, using an LRU cache for eviction helps maintain efficiency as the number of URLs increases.\n",
       "\n",
       "Let me know if you would like to dive deeper into any specific components, or if you have further questions about the design!"
      ],
      "text/plain": [
       "<IPython.core.display.Markdown object>"
      ]
     },
     "metadata": {},
     "output_type": "display_data"
    }
   ],
   "source": [
    "r = '''\n",
    "For a low latency scalable solution, I will create a distributed cache/hashmap like memcached.\n",
    "\n",
    "To create a short url from a long url, I will hash the long url and store the hashed value as key and original long url, number of time accessed and customizations as value. \n",
    "\n",
    "I will use LRU cache to evict unused urls. \n",
    "'''\n",
    "\n",
    "orc.process_user_input(r)"
   ]
  },
  {
   "cell_type": "code",
   "execution_count": 43,
   "id": "25fe32e3",
   "metadata": {},
   "outputs": [
    {
     "data": {
      "text/markdown": [
       "```python\n",
       "self.tools['Responder'].respond(\"Your answer demonstrates a solid understanding of the core requirements for a URL shortener service. You've correctly identified low latency as a crucial factor and suggested a distributed caching approach, which is highly relevant. Your idea of using hashing for the URL and including access counts and customizations showcases good thought on data management. Using an LRU cache for eviction is also a sensible choice to maintain efficiency over time.\\n\\nTo improve your response in an interview, consider elaborating on potential security issues, such as preventing URL phishing, and mentioning how you would handle analytics and user customization in more detail. Overall, it's a good start, but depth in some areas could strengthen your answer further.\")\n",
       "```"
      ],
      "text/plain": [
       "<IPython.core.display.Markdown object>"
      ]
     },
     "metadata": {},
     "output_type": "display_data"
    },
    {
     "data": {
      "text/markdown": [
       "**PrepareAI:** Your answer demonstrates a solid understanding of the core requirements for a URL shortener service. You've correctly identified low latency as a crucial factor and suggested a distributed caching approach, which is highly relevant. Your idea of using hashing for the URL and including access counts and customizations showcases good thought on data management. Using an LRU cache for eviction is also a sensible choice to maintain efficiency over time.\n",
       "\n",
       "To improve your response in an interview, consider elaborating on potential security issues, such as preventing URL phishing, and mentioning how you would handle analytics and user customization in more detail. Overall, it's a good start, but depth in some areas could strengthen your answer further."
      ],
      "text/plain": [
       "<IPython.core.display.Markdown object>"
      ]
     },
     "metadata": {},
     "output_type": "display_data"
    }
   ],
   "source": [
    "user_input = '''\n",
    "Is ot good answer iin interview? \n",
    "'''\n",
    "orc.process_user_input(user_input)"
   ]
  },
  {
   "cell_type": "code",
   "execution_count": 44,
   "id": "c866da05",
   "metadata": {},
   "outputs": [
    {
     "data": {
      "text/markdown": [
       "```python\n",
       "self.tools['Responder'].respond(\"Great! If you have any further questions or if there's anything specific you'd like to discuss, feel free to let me know!\")\n",
       "```"
      ],
      "text/plain": [
       "<IPython.core.display.Markdown object>"
      ]
     },
     "metadata": {},
     "output_type": "display_data"
    },
    {
     "data": {
      "text/markdown": [
       "**PrepareAI:** Great! If you have any further questions or if there's anything specific you'd like to discuss, feel free to let me know!"
      ],
      "text/plain": [
       "<IPython.core.display.Markdown object>"
      ]
     },
     "metadata": {},
     "output_type": "display_data"
    }
   ],
   "source": [
    "orc.process_user_input(\"ok\")"
   ]
  },
  {
   "cell_type": "code",
   "execution_count": 46,
   "id": "3c2c81ce",
   "metadata": {},
   "outputs": [
    {
     "data": {
      "text/markdown": [
       "```python\n",
       "# Get a coding question to practice more\n",
       "coding_question = self.tools['CodingPracticeTutor'].get_question(topic=\"general\", difficulty=\"medium\")\n",
       "# Respond to the user with the obtained coding question\n",
       "self.tools['Responder'].respond(coding_question)\n",
       "```"
      ],
      "text/plain": [
       "<IPython.core.display.Markdown object>"
      ]
     },
     "metadata": {},
     "output_type": "display_data"
    },
    {
     "data": {
      "text/markdown": [
       "**PrepareAI:** Sure! Here’s a medium-difficulty coding question that involves string manipulation and data structures:\n",
       "\n",
       "### Problem: Anagram Grouping\n",
       "\n",
       "**Description:**\n",
       "Given an array of strings, group the anagrams together. An anagram is a word or phrase formed by rearranging the letters of a different word or phrase, typically using all the original letters exactly once.\n",
       "\n",
       "**Function Signature:**\n",
       "```python\n",
       "def group_anagrams(strs: List[str]) -> List[List[str]]:\n",
       "```\n",
       "\n",
       "**Input:**\n",
       "- `strs` (1 <= len(strs) <= 1000; 1 <= len(strs[i]) <= 100) - a list of strings.\n",
       "\n",
       "**Output:**\n",
       "- A list of lists, where each sublist contains the anagrams grouped together.\n",
       "\n",
       "**Example:**\n",
       "```python\n",
       "Input: strs = [\"eat\", \"tea\", \"tan\", \"ate\", \"nat\", \"bat\"]\n",
       "Output: [[\"bat\"], [\"nat\", \"tan\"], [\"ate\", \"eat\", \"tea\"]]\n",
       "```\n",
       "\n",
       "**Note:**\n",
       "- The order of the output does not matter.\n",
       "- Each group of anagrams should maintain the order of their first appearance from the input.\n",
       "\n",
       "### Constraints:\n",
       "- You should aim for a solution that efficiently handles the maximum limits of input size.\n",
       "\n",
       "### Additional Challenge:\n",
       "- Try to optimize your solution for runtime and space complexity.\n",
       "\n",
       "### Hints:\n",
       "- Consider using a dictionary to map sorted strings to a list of their corresponding anagrams.\n",
       "- Remember that two strings are anagrams if they consist of the same characters with the same frequency.\n",
       "\n",
       "Give this problem a try, and let me know if you need any help!"
      ],
      "text/plain": [
       "<IPython.core.display.Markdown object>"
      ]
     },
     "metadata": {},
     "output_type": "display_data"
    }
   ],
   "source": [
    "r = '''\n",
    "lets practice more\n",
    "'''\n",
    "\n",
    "orc.process_user_input(r)"
   ]
  },
  {
   "cell_type": "code",
   "execution_count": 47,
   "id": "e7e3dc2d",
   "metadata": {},
   "outputs": [
    {
     "data": {
      "text/markdown": [
       "```python\n",
       "code = \"\"\"\n",
       "d = {}\n",
       "ans = []\n",
       "for i,s in enumerate(strs):\n",
       "    if sorted(s) in d:\n",
       "        d[sorted(s)].append(i)\n",
       "    else:\n",
       "        d[sorted(s)] = [i]\n",
       "for key,value in enumerate(d):\n",
       "    grp = []\n",
       "    for val in value:\n",
       "        grp.append(strs[val])\n",
       "    ans.append(grp)\n",
       "return ans\n",
       "\"\"\"\n",
       "solution = \"\"\"\n",
       "from typing import List\n",
       "\n",
       "def group_anagrams(strs: List[str]) -> List[List[str]]:\n",
       "    d = {}\n",
       "    ans = []\n",
       "    for s in strs:\n",
       "        key = ''.join(sorted(s))\n",
       "        if key in d:\n",
       "            d[key].append(s)\n",
       "        else:\n",
       "            d[key] = [s]\n",
       "    return list(d.values())\n",
       "\"\"\"\n",
       "response = self.tools['CodingPracticeTutor'].grade_answer(code, solution)\n",
       "self.tools['Responder'].respond(response)\n",
       "```"
      ],
      "text/plain": [
       "<IPython.core.display.Markdown object>"
      ]
     },
     "metadata": {},
     "output_type": "display_data"
    },
    {
     "data": {
      "text/markdown": [
       "**PrepareAI:** The provided code has a few issues that affect its correctness and functionality. Here are the primary concerns and a comparison with the correct solution:\n",
       "\n",
       "### Issues in the Provided Code:\n",
       "1. **Key Creation**: The condition in `if sorted(s) in d:` uses a sorted list as a key. In Python, lists cannot be used as keys in a dictionary. Instead, you should convert the sorted characters back into a string.\n",
       "  \n",
       "2. **Enumerate Misuse**: In the second loop (`for key,value in enumerate(d):`), `enumerate` is being incorrectly used. You are attempting to iterate over the dictionary `d` directly, which does not give you both the keys and values as intended. You would typically use `d.items()` to retrieve both.\n",
       "\n",
       "3. **Grouping Logic**: The construction of the groups is also incorrect. Since `value` is intended to hold the list of indices in your existing code, using `enumerate(d)` does not help you access the actual grouped anagrams represented in `d`.\n",
       "\n",
       "4. **Return Statement**: The code snippet does not appear to be contained within a function, and thus `return ans` would raise an error if run as-is.\n",
       "\n",
       "### Correct Solution Explained:\n",
       "The correct solution provided is a cleaner and more efficient approach to grouping anagrams:\n",
       "\n",
       "```python\n",
       "from typing import List\n",
       "\n",
       "def group_anagrams(strs: List[str]) -> List[List[str]]:\n",
       "    d = {}\n",
       "    for s in strs:\n",
       "        key = ''.join(sorted(s))  # Create a key by sorting the string and joining it\n",
       "        if key in d:\n",
       "            d[key].append(s)  # Append the original string to the corresponding key\n",
       "        else:\n",
       "            d[key] = [s]  # Create a new list for a new key\n",
       "    return list(d.values())  # Return the grouped anagrams as a list of lists\n",
       "```\n",
       "\n",
       "### Key Points in the Correct Approach:\n",
       "1. **String Key**: The key is generated by sorting the string and then joining the sorted list back into a string. This ensures it can be used as a dictionary key.\n",
       "  \n",
       "2. **Using Dictionary Values**: The method `list(d.values())` directly retrieves the grouped values, which represent the lists of anagrams.\n",
       "\n",
       "3. **Simplicity**: The code is straightforward and easy to understand, focusing on building the dictionary first and then returning the results cleanly.\n",
       "\n",
       "### Conclusion and Corrected Version:\n",
       "Based on the analysis, the provided code needs significant corrections to function properly. Here is a corrected version that integrates all these suggestions:\n",
       "\n",
       "```python\n",
       "from typing import List\n",
       "\n",
       "def group_anagrams(strs: List[str]) -> List[List[str]]:\n",
       "    d = {}\n",
       "    for s in strs:\n",
       "        key = ''.join(sorted(s))\n",
       "        if key in d:\n",
       "            d[key].append(s)\n",
       "        else:\n",
       "            d[key] = [s]\n",
       "    return list(d.values())\n",
       "```\n",
       "\n",
       "This code will effectively group the provided input strings into lists of anagrams, yielding the expected results for various test cases."
      ],
      "text/plain": [
       "<IPython.core.display.Markdown object>"
      ]
     },
     "metadata": {},
     "output_type": "display_data"
    }
   ],
   "source": [
    "r = '''\n",
    "d = {}\n",
    "ans = []\n",
    "for i,s in enumerate(strs):\n",
    "    if sorted(s) in d:\n",
    "        d[sorted(s)].append(i)\n",
    "    else:\n",
    "        d[sorted(s)] = [i]\n",
    "for key,value in enumerate(d):\n",
    "    grp = []\n",
    "    for val in value:\n",
    "        grp.append(strs[val])\n",
    "    ans.append(grp)\n",
    "return ans\n",
    "\n",
    "'''\n",
    "\n",
    "orc.process_user_input(r)"
   ]
  },
  {
   "cell_type": "code",
   "execution_count": 48,
   "id": "c66e80ac",
   "metadata": {},
   "outputs": [
    {
     "data": {
      "text/markdown": [
       "```python\n",
       "response = self.tools['Responder'].respond(\"Yes, the provided solution correctly groups anagrams from the input list. It sorts each string to create a unique key, which allows it to group strings that are anagrams of each other together. When tested with different inputs, it will yield the expected results.\")\n",
       "```"
      ],
      "text/plain": [
       "<IPython.core.display.Markdown object>"
      ]
     },
     "metadata": {},
     "output_type": "display_data"
    },
    {
     "data": {
      "text/markdown": [
       "**PrepareAI:** Yes, the provided solution correctly groups anagrams from the input list. It sorts each string to create a unique key, which allows it to group strings that are anagrams of each other together. When tested with different inputs, it will yield the expected results."
      ],
      "text/plain": [
       "<IPython.core.display.Markdown object>"
      ]
     },
     "metadata": {},
     "output_type": "display_data"
    }
   ],
   "source": [
    "r = '''\n",
    "Does the above soution give correct result\n",
    "'''\n",
    "\n",
    "orc.process_user_input(r)"
   ]
  },
  {
   "cell_type": "code",
   "execution_count": 50,
   "id": "e21916a6",
   "metadata": {},
   "outputs": [
    {
     "data": {
      "text/markdown": [
       "```python\n",
       "self.tools['Responder'].respond(\"To assess where you need improvement for interviews, let's analyze your coding skills and understanding. Based on our recent interaction, you have a fundamental grasp of coding challenges, particularly in Python. However, areas to focus on include:\\n\\n1. **Problem-Solving Speed**: Practice solving problems quickly to simulate interview conditions. Focus on common algorithmic problems.\\n2. **Data Structures & Algorithms**: Strengthen your knowledge of data structures (like trees, graphs, and hashmaps) and algorithm techniques (like dynamic programming and backtracking).\\n3. **System Design**: For senior roles, understanding system design principles is crucial.\\n4. **Mock Interviews**: Participate in mock interviews to experience real interview scenarios.\\n\\nWith consistent practice, you can significantly improve your interview skills. You have the potential to crack interviews with the right preparation!\")  \n",
       "```"
      ],
      "text/plain": [
       "<IPython.core.display.Markdown object>"
      ]
     },
     "metadata": {},
     "output_type": "display_data"
    },
    {
     "data": {
      "text/markdown": [
       "**PrepareAI:** To assess where you need improvement for interviews, let's analyze your coding skills and understanding. Based on our recent interaction, you have a fundamental grasp of coding challenges, particularly in Python. However, areas to focus on include:\n",
       "\n",
       "1. **Problem-Solving Speed**: Practice solving problems quickly to simulate interview conditions. Focus on common algorithmic problems.\n",
       "2. **Data Structures & Algorithms**: Strengthen your knowledge of data structures (like trees, graphs, and hashmaps) and algorithm techniques (like dynamic programming and backtracking).\n",
       "3. **System Design**: For senior roles, understanding system design principles is crucial.\n",
       "4. **Mock Interviews**: Participate in mock interviews to experience real interview scenarios.\n",
       "\n",
       "With consistent practice, you can significantly improve your interview skills. You have the potential to crack interviews with the right preparation!"
      ],
      "text/plain": [
       "<IPython.core.display.Markdown object>"
      ]
     },
     "metadata": {},
     "output_type": "display_data"
    }
   ],
   "source": [
    "r = '''Where do I need improvement? Can I crack interview?\n",
    "'''\n",
    "\n",
    "orc.process_user_input(r)"
   ]
  },
  {
   "cell_type": "code",
   "execution_count": 54,
   "id": "770116a3",
   "metadata": {},
   "outputs": [
    {
     "data": {
      "text/markdown": [
       "```python\n",
       "skill_level = self.tools['UserSkillsetManager'].get_skills()\n",
       "self.tools['Responder'].respond(f\"Your current skill level is: {skill_level}.\")\n",
       "```"
      ],
      "text/plain": [
       "<IPython.core.display.Markdown object>"
      ]
     },
     "metadata": {},
     "output_type": "display_data"
    },
    {
     "data": {
      "text/markdown": [
       "**PrepareAI:** Your current skill level is: {}."
      ],
      "text/plain": [
       "<IPython.core.display.Markdown object>"
      ]
     },
     "metadata": {},
     "output_type": "display_data"
    }
   ],
   "source": [
    "r = '''What's my skill level?'''\n",
    "\n",
    "orc.process_user_input(r)"
   ]
  },
  {
   "cell_type": "code",
   "execution_count": 55,
   "id": "8e0c95ac",
   "metadata": {},
   "outputs": [
    {
     "data": {
      "text/markdown": [
       "```python\n",
       "self.tools['Responder'].respond(\"Your name is Krishan.\")\n",
       "```"
      ],
      "text/plain": [
       "<IPython.core.display.Markdown object>"
      ]
     },
     "metadata": {},
     "output_type": "display_data"
    },
    {
     "data": {
      "text/markdown": [
       "**PrepareAI:** Your name is Krishan."
      ],
      "text/plain": [
       "<IPython.core.display.Markdown object>"
      ]
     },
     "metadata": {},
     "output_type": "display_data"
    }
   ],
   "source": [
    "r = '''What's my name?'''\n",
    "\n",
    "orc.process_user_input(r)"
   ]
  },
  {
   "cell_type": "code",
   "execution_count": null,
   "id": "958dcfad",
   "metadata": {},
   "outputs": [],
   "source": []
  }
 ],
 "metadata": {
  "kernelspec": {
   "display_name": "Python 3 (ipykernel)",
   "language": "python",
   "name": "python3"
  },
  "language_info": {
   "codemirror_mode": {
    "name": "ipython",
    "version": 3
   },
   "file_extension": ".py",
   "mimetype": "text/x-python",
   "name": "python",
   "nbconvert_exporter": "python",
   "pygments_lexer": "ipython3",
   "version": "3.12.4"
  }
 },
 "nbformat": 4,
 "nbformat_minor": 5
}
