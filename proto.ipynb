{
 "cells": [
  {
   "cell_type": "code",
   "execution_count": 28,
   "id": "555f0693-3801-484a-a974-5ad4a7865871",
   "metadata": {},
   "outputs": [],
   "source": [
    "from dotenv import load_dotenv\n",
    "load_dotenv()\n",
    "import tools_lib\n",
    "import importlib\n",
    "importlib.reload(tools_lib)\n",
    "from IPython.display import display, HTML, Image, Markdown\n",
    "\n",
    "orc = tools_lib.Orchestrator()\n",
    "\n",
    "def print_pretty(prompt):\n",
    "    response = orc.process_user_input(prompt)\n",
    "    display(Markdown(response))"
   ]
  },
  {
   "cell_type": "code",
   "execution_count": 29,
   "id": "05c00a2e",
   "metadata": {},
   "outputs": [
    {
     "name": "stdout",
     "output_type": "stream",
     "text": [
      "\n",
      "        You are the AI Teacher. Available tools: MCQExaminer, CodingPracticeTutor.\n",
      "        Memory: {}.\n",
      "        Chat history: [].\n",
      "        \n",
      "        User Input: Hello I want to improve my coding skill\n",
      "\n",
      "        Based on the above information, generate a suitable response. You can also say `call ToolName `\n",
      "        \n"
     ]
    },
    {
     "data": {
      "text/markdown": [
       "Hello! It's great that you want to improve your coding skills. I can help you with practice problems and coding challenges. Would you like to focus on a specific programming language or concept, or should I provide you with general coding exercises? If you're ready, I can also call the CodingPracticeTutor for some tailored exercises. Let me know!"
      ],
      "text/plain": [
       "<IPython.core.display.Markdown object>"
      ]
     },
     "metadata": {},
     "output_type": "display_data"
    }
   ],
   "source": [
    "print_pretty(\"Hello I want to improve my coding skill\")"
   ]
  },
  {
   "cell_type": "code",
   "execution_count": 30,
   "id": "2988a554",
   "metadata": {},
   "outputs": [
    {
     "name": "stdout",
     "output_type": "stream",
     "text": [
      "\n",
      "        You are the AI Teacher. Available tools: MCQExaminer, CodingPracticeTutor.\n",
      "        Memory: {}.\n",
      "        Chat history: ['student: Hello I want to improve my coding skill', \"aitutor: Hello! It's great that you want to improve your coding skills. I can help you with practice problems and coding challenges. Would you like to focus on a specific programming language or concept, or should I provide you with general coding exercises? If you're ready, I can also call the CodingPracticeTutor for some tailored exercises. Let me know!\"].\n",
      "        \n",
      "        User Input: python data structure\n",
      "\n",
      "        Based on the above information, generate a suitable response. You can also say `call ToolName `\n",
      "        \n"
     ]
    },
    {
     "data": {
      "text/markdown": [
       "Great choice! Python has a variety of data structures that are essential for effective programming. We can practice with lists, dictionaries, sets, and tuples.\n",
       "\n",
       "I can provide you with exercises related to these data structures. Would you like to focus on a particular data structure, or should I give you a mix of problems? If you're ready, I can call the CodingPracticeTutor for some tailored exercises. Let me know what you prefer!"
      ],
      "text/plain": [
       "<IPython.core.display.Markdown object>"
      ]
     },
     "metadata": {},
     "output_type": "display_data"
    }
   ],
   "source": [
    "print_pretty(\"python data structure\")"
   ]
  },
  {
   "cell_type": "code",
   "execution_count": 31,
   "id": "e44fbe5f",
   "metadata": {},
   "outputs": [
    {
     "name": "stdout",
     "output_type": "stream",
     "text": [
      "\n",
      "        You are the AI Teacher. Available tools: MCQExaminer, CodingPracticeTutor.\n",
      "        Memory: {}.\n",
      "        Chat history: ['student: Hello I want to improve my coding skill', \"aitutor: Hello! It's great that you want to improve your coding skills. I can help you with practice problems and coding challenges. Would you like to focus on a specific programming language or concept, or should I provide you with general coding exercises? If you're ready, I can also call the CodingPracticeTutor for some tailored exercises. Let me know!\", 'student: python data structure', \"aitutor: Great choice! Python has a variety of data structures that are essential for effective programming. We can practice with lists, dictionaries, sets, and tuples.\\n\\nI can provide you with exercises related to these data structures. Would you like to focus on a particular data structure, or should I give you a mix of problems? If you're ready, I can call the CodingPracticeTutor for some tailored exercises. Let me know what you prefer!\"].\n",
      "        \n",
      "        User Input: sure\n",
      "\n",
      "        Based on the above information, generate a suitable response. You can also say `call ToolName `\n",
      "        \n"
     ]
    },
    {
     "data": {
      "text/markdown": [
       "Great! I'll prepare a mix of exercises on Python data structures, including lists, dictionaries, sets, and tuples. Let's challenge your understanding and problem-solving skills! \n",
       "\n",
       "I'll call the CodingPracticeTutor now to get some tailored exercises for you. One moment, please! \n",
       "\n",
       "**Calling CodingPracticeTutor...**"
      ],
      "text/plain": [
       "<IPython.core.display.Markdown object>"
      ]
     },
     "metadata": {},
     "output_type": "display_data"
    }
   ],
   "source": [
    "print_pretty(\"sure\")"
   ]
  },
  {
   "cell_type": "code",
   "execution_count": null,
   "id": "7577a34e",
   "metadata": {},
   "outputs": [],
   "source": []
  }
 ],
 "metadata": {
  "kernelspec": {
   "display_name": "Python 3 (ipykernel)",
   "language": "python",
   "name": "python3"
  },
  "language_info": {
   "codemirror_mode": {
    "name": "ipython",
    "version": 3
   },
   "file_extension": ".py",
   "mimetype": "text/x-python",
   "name": "python",
   "nbconvert_exporter": "python",
   "pygments_lexer": "ipython3",
   "version": "3.12.4"
  }
 },
 "nbformat": 4,
 "nbformat_minor": 5
}
