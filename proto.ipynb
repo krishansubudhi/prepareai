{
 "cells": [
  {
   "cell_type": "code",
   "execution_count": 1,
   "id": "555f0693-3801-484a-a974-5ad4a7865871",
   "metadata": {},
   "outputs": [],
   "source": [
    "from dotenv import load_dotenv\n",
    "load_dotenv()\n",
    "from IPython.display import display, Markdown\n",
    "import tools_lib, planner_tool, memory_tool, tool\n",
    "import importlib\n",
    "importlib.reload(tool)\n",
    "importlib.reload(planner_tool)\n",
    "importlib.reload(memory_tool)\n",
    "importlib.reload(tools_lib)\n",
    "orc = tools_lib.Orchestrator(session_name = 'finetune3_o1')\n",
    "# orc = tools_lib.Orchestrator.load_session('finetune3_open_llm_tuning')"
   ]
  },
  {
   "cell_type": "code",
   "execution_count": 4,
   "id": "4c50be95",
   "metadata": {},
   "outputs": [
    {
     "data": {
      "text/markdown": [
       "```python\n",
       "self.tools['Responder'].respond(\"Hi there! What's your goal? Let's create a customized learning plan to track your progress. 😊\")\n",
       "```"
      ],
      "text/plain": [
       "<IPython.core.display.Markdown object>"
      ]
     },
     "metadata": {},
     "output_type": "display_data"
    },
    {
     "data": {
      "text/markdown": [
       "**PrepareAI:** Hi there! What's your goal? Let's create a customized learning plan to track your progress. 😊"
      ],
      "text/plain": [
       "<IPython.core.display.Markdown object>"
      ]
     },
     "metadata": {},
     "output_type": "display_data"
    }
   ],
   "source": [
    "response = '''Hello'''\n",
    "orc.process_user_input(response)"
   ]
  },
  {
   "cell_type": "code",
   "execution_count": 5,
   "id": "2cf1cc8d",
   "metadata": {},
   "outputs": [
    {
     "data": {
      "text/markdown": [
       "```python\n",
       "# Suggesting a specialized learning plan for reinforcement learning with a focus on open-source LLMs.\n",
       "\n",
       "goal_description = (\n",
       "    \"Learn reinforcement learning with a focus on open-source LLMs, including concepts, \"\n",
       "    \"algorithms, implementation, and evaluation.\"\n",
       ")\n",
       "\n",
       "learning_plan = self.tools['LearningPlanManager'].suggest_learning_plan(\n",
       "    goal=goal_description, \n",
       "    special_instruction=\"Make it focused on open-source LLMs.\"\n",
       ")\n",
       "\n",
       "# Responding with the suggested plan and asking for confirmation to lock it.\n",
       "response_message = (\n",
       "    f\"Here's a suggested learning plan for you:\\n\\n{learning_plan}\\n\\n\"\n",
       "    \"Would you like to lock this plan to track your progress? (yes/no)\"\n",
       ")\n",
       "\n",
       "self.tools['Responder'].respond(response_message)\n",
       "```"
      ],
      "text/plain": [
       "<IPython.core.display.Markdown object>"
      ]
     },
     "metadata": {},
     "output_type": "display_data"
    },
    {
     "data": {
      "text/markdown": [
       "**PrepareAI:** Here's a suggested learning plan for you:\n",
       "\n",
       "### Learning Plan: Reinforcement Learning with a Focus on Open-Source LLMs\n",
       "\n",
       "```\n",
       "1. Introduction to Reinforcement Learning (Importance: 1.0)\n",
       "   ├── Definitions and Basic Concepts (Importance: 0.9)\n",
       "   ├── Key Components of RL (Agent, Environment, Rewards) (Importance: 0.8)\n",
       "   \n",
       "2. Core Reinforcement Learning Algorithms (Importance: 0.9)\n",
       "   ├── Q-Learning and Deep Q-Networks (DQN) (Importance: 0.8)\n",
       "   ├── Policy Gradients (Importance: 0.7)\n",
       "   ├── Actor-Critic Methods (Importance: 0.7)\n",
       "\n",
       "3. Overview of Open-Source LLMs (Importance: 0.9)\n",
       "   ├── Popular Open-Source LLMs (e.g., GPT-2, GPT-3, BERT, LLaMA) (Importance: 0.8)\n",
       "   ├── Architecture of LLMs (Importance: 0.7)\n",
       "\n",
       "4. Integrating RL with Open-Source LLMs (Importance: 0.8)\n",
       "   ├── Fine-tuning LLMs using RL (Importance: 0.7)\n",
       "   ├── RL-based Response Generation (Importance: 0.6)\n",
       "\n",
       "5. Evaluation of RL Algorithms and LLMs (Importance: 0.7)\n",
       "   ├── Metrics for Evaluating RL Agents (Importance: 0.6)\n",
       "   ├── Evaluating LLM Performance in RL (Importance: 0.5)\n",
       "\n",
       "6. Practical Implementation (Importance: 0.8)\n",
       "   ├── Libraries and Frameworks (e.g., OpenAI Gym, Hugging Face Transformers) (Importance: 0.7)\n",
       "   ├── Implementing a Simple RL Model with LLM (Importance: 0.6)\n",
       "\n",
       "7. Real-world Applications of RL in Open-Source LLMs (Importance: 0.7)\n",
       "   ├── Chatbots and Virtual Assistants (Importance: 0.6)\n",
       "   ├── Reinforcement Learning for Human-AI Interaction (Importance: 0.5)\n",
       "\n",
       "8. Ethical Considerations (Importance: 0.6)\n",
       "   ├── Bias in LLMs and RL (Importance: 0.5)\n",
       "   ├── Responsible AI Practices (Importance: 0.4)\n",
       "```\n",
       "\n",
       "### Summary\n",
       "This learning plan focuses on the essential concepts, algorithms, and practical implementations of reinforcement learning, particularly in the context of open-source large language models (LLMs). Each subject has been rated in importance to help the student prioritize their learning journey effectively.\n",
       "\n",
       "Would you like to lock this plan to track your progress? (yes/no)"
      ],
      "text/plain": [
       "<IPython.core.display.Markdown object>"
      ]
     },
     "metadata": {},
     "output_type": "display_data"
    }
   ],
   "source": [
    "response = '''I want to learn reinforcement learning using open source llms'''\n",
    "orc.process_user_input(response)"
   ]
  },
  {
   "cell_type": "code",
   "execution_count": 6,
   "id": "575b70b0",
   "metadata": {},
   "outputs": [
    {
     "data": {
      "text/markdown": [
       "```python\n",
       "# Lock the suggested learning plan\n",
       "self.tools['LearningPlanManager'].lock_new_plan(\n",
       "    \"\"\"### Learning Plan: Reinforcement Learning with a Focus on Open-Source LLMs\n",
       "\n",
       "1. Introduction to Reinforcement Learning (Importance: 1.0)\n",
       "   ├── Definitions and Basic Concepts (Importance: 0.9)\n",
       "   ├── Key Components of RL (Agent, Environment, Rewards) (Importance: 0.8)\n",
       "\n",
       "2. Core Reinforcement Learning Algorithms (Importance: 0.9)\n",
       "   ├── Q-Learning and Deep Q-Networks (DQN) (Importance: 0.8)\n",
       "   ├── Policy Gradients (Importance: 0.7)\n",
       "   ├── Actor-Critic Methods (Importance: 0.7)\n",
       "\n",
       "3. Overview of Open-Source LLMs (Importance: 0.9)\n",
       "   ├── Popular Open-Source LLMs (e.g., GPT-2, GPT-3, BERT, LLaMA) (Importance: 0.8)\n",
       "   ├── Architecture of LLMs (Importance: 0.7)\n",
       "\n",
       "4. Integrating RL with Open-Source LLMs (Importance: 0.8)\n",
       "   ├── Fine-tuning LLMs using RL (Importance: 0.7)\n",
       "   ├── RL-based Response Generation (Importance: 0.6)\n",
       "\n",
       "5. Evaluation of RL Algorithms and LLMs (Importance: 0.7)\n",
       "   ├── Metrics for Evaluating RL Agents (Importance: 0.6)\n",
       "   ├── Evaluating LLM Performance in RL (Importance: 0.5)\n",
       "\n",
       "6. Practical Implementation (Importance: 0.8)\n",
       "   ├── Libraries and Frameworks (e.g., OpenAI Gym, Hugging Face Transformers) (Importance: 0.7)\n",
       "   ├── Implementing a Simple RL Model with LLM (Importance: 0.6)\n",
       "\n",
       "7. Real-world Applications of RL in Open-Source LLMs (Importance: 0.7)\n",
       "   ├── Chatbots and Virtual Assistants (Importance: 0.6)\n",
       "   ├── Reinforcement Learning for Human-AI Interaction (Importance: 0.5)\n",
       "\n",
       "8. Ethical Considerations (Importance: 0.6)\n",
       "   ├── Bias in LLMs and RL (Importance: 0.5)\n",
       "   ├── Responsible AI Practices (Importance: 0.4)\n",
       "\"\"\"\n",
       ")\n",
       "\n",
       "# Respond to the user\n",
       "self.tools['Responder'].respond(\"Great! The learning plan is now locked. 🎉\\n\\nShall we start with the first topic, 'Definitions and Basic Concepts'? Or would you like to explore a different concept first?\")\n",
       "```"
      ],
      "text/plain": [
       "<IPython.core.display.Markdown object>"
      ]
     },
     "metadata": {},
     "output_type": "display_data"
    },
    {
     "data": {
      "text/markdown": [
       "```python\n",
       "self._create_new_plan(\"Learning Plan: Reinforcement Learning with a Focus on Open-Source LLMs\")\n",
       "\n",
       "self.add_subject(\"Introduction to Reinforcement Learning\", importance=1.0)\n",
       "self.add_subject(\"Definitions and Basic Concepts\", importance=0.9, parent_subject=\"Introduction to Reinforcement Learning\")\n",
       "self.add_subject(\"Key Components of RL (Agent, Environment, Rewards)\", importance=0.8, parent_subject=\"Introduction to Reinforcement Learning\")\n",
       "\n",
       "self.add_subject(\"Core Reinforcement Learning Algorithms\", importance=0.9)\n",
       "self.add_subject(\"Q-Learning and Deep Q-Networks (DQN)\", importance=0.8, parent_subject=\"Core Reinforcement Learning Algorithms\")\n",
       "self.add_subject(\"Policy Gradients\", importance=0.7, parent_subject=\"Core Reinforcement Learning Algorithms\")\n",
       "self.add_subject(\"Actor-Critic Methods\", importance=0.7, parent_subject=\"Core Reinforcement Learning Algorithms\")\n",
       "\n",
       "self.add_subject(\"Overview of Open-Source LLMs\", importance=0.9)\n",
       "self.add_subject(\"Popular Open-Source LLMs (e.g., GPT-2, GPT-3, BERT, LLaMA)\", importance=0.8, parent_subject=\"Overview of Open-Source LLMs\")\n",
       "self.add_subject(\"Architecture of LLMs\", importance=0.7, parent_subject=\"Overview of Open-Source LLMs\")\n",
       "\n",
       "self.add_subject(\"Integrating RL with Open-Source LLMs\", importance=0.8)\n",
       "self.add_subject(\"Fine-tuning LLMs using RL\", importance=0.7, parent_subject=\"Integrating RL with Open-Source LLMs\")\n",
       "self.add_subject(\"RL-based Response Generation\", importance=0.6, parent_subject=\"Integrating RL with Open-Source LLMs\")\n",
       "\n",
       "self.add_subject(\"Evaluation of RL Algorithms and LLMs\", importance=0.7)\n",
       "self.add_subject(\"Metrics for Evaluating RL Agents\", importance=0.6, parent_subject=\"Evaluation of RL Algorithms and LLMs\")\n",
       "self.add_subject(\"Evaluating LLM Performance in RL\", importance=0.5, parent_subject=\"Evaluation of RL Algorithms and LLMs\")\n",
       "\n",
       "self.add_subject(\"Practical Implementation\", importance=0.8)\n",
       "self.add_subject(\"Libraries and Frameworks (e.g., OpenAI Gym, Hugging Face Transformers)\", importance=0.7, parent_subject=\"Practical Implementation\")\n",
       "self.add_subject(\"Implementing a Simple RL Model with LLM\", importance=0.6, parent_subject=\"Practical Implementation\")\n",
       "\n",
       "self.add_subject(\"Real-world Applications of RL in Open-Source LLMs\", importance=0.7)\n",
       "self.add_subject(\"Chatbots and Virtual Assistants\", importance=0.6, parent_subject=\"Real-world Applications of RL in Open-Source LLMs\")\n",
       "self.add_subject(\"Reinforcement Learning for Human-AI Interaction\", importance=0.5, parent_subject=\"Real-world Applications of RL in Open-Source LLMs\")\n",
       "\n",
       "self.add_subject(\"Ethical Considerations\", importance=0.6)\n",
       "self.add_subject(\"Bias in LLMs and RL\", importance=0.5, parent_subject=\"Ethical Considerations\")\n",
       "self.add_subject(\"Responsible AI Practices\", importance=0.4, parent_subject=\"Ethical Considerations\")\n",
       "```"
      ],
      "text/plain": [
       "<IPython.core.display.Markdown object>"
      ]
     },
     "metadata": {},
     "output_type": "display_data"
    },
    {
     "data": {
      "text/markdown": [
       "**PrepareAI:** Great! The learning plan is now locked. 🎉\n",
       "\n",
       "Shall we start with the first topic, 'Definitions and Basic Concepts'? Or would you like to explore a different concept first?"
      ],
      "text/plain": [
       "<IPython.core.display.Markdown object>"
      ]
     },
     "metadata": {},
     "output_type": "display_data"
    }
   ],
   "source": [
    "orc.process_user_input('yes')"
   ]
  },
  {
   "cell_type": "code",
   "execution_count": 33,
   "id": "9401496c",
   "metadata": {},
   "outputs": [
    {
     "data": {
      "text/markdown": [
       "```python\n",
       "# Retrieving the concept of the first topic: \"Introduction to Dependency Management\"\n",
       "introduction_to_dependency_management_concept = self.tools['ConceptTutor'].get_concept(\n",
       "    topic=\"Introduction to Dependency Management\", context=\"Start the learning journey\")\n",
       "\n",
       "# Delivering the concept to the student\n",
       "self.tools['Responder'].respond(introduction_to_dependency_management_concept)\n",
       "\n",
       "# Updating the progress for the subject \"Introduction to Dependency Management\"\n",
       "self.tools['LearningPlanManager'].update_progress(subject_name=\"Introduction to Dependency Management\", score=1.0)\n",
       "\n",
       "# Asking the student if they have any doubts or if they want to proceed to the next topic\n",
       "self.tools['Responder'].respond(\"Do you have any doubts on 'Introduction to Dependency Management'? If not, would you like to move on to the next topic? (yes/no)\")\n",
       "```"
      ],
      "text/plain": [
       "<IPython.core.display.Markdown object>"
      ]
     },
     "metadata": {},
     "output_type": "display_data"
    },
    {
     "data": {
      "text/markdown": [
       "**PrepareAI:** ### Introduction to Dependency Management\n",
       "\n",
       "Welcome to your learning journey on **Dependency Management**! This is an essential concept, especially if you’re venturing into software development, project management, or working with programming libraries. Let’s break it down into simpler terms and see how it applies practically.\n",
       "\n",
       "#### What are Dependencies?\n",
       "\n",
       "Think of dependencies as the building blocks of your project. When you're developing a software application, you often rely on external libraries or modules that provide specific functionalities. For example, if you're building a web application, you might use a library to handle date formatting or to facilitate smoother user interactions. Each of these libraries is a **dependency**. \n",
       "\n",
       "In essence, **dependencies** are the external components that your project needs in order to work properly.\n",
       "\n",
       "#### Why is Dependency Management Important?\n",
       "\n",
       "1. **Consistency**: Projects often need specific versions of libraries to work correctly. If one component relies on a different version of a library than another, it can lead to conflicts and bugs. Dependency management helps ensure that you're using the right versions across your project.\n",
       "\n",
       "2. **Simplifies Updates**: As libraries evolve, they often receive updates that improve functionality or security. With dependency management tools, updating libraries can be streamlined, saving time and reducing the risk of breaking your project.\n",
       "\n",
       "3. **Reduces Complexity**: Manually managing which libraries your project needs and ensuring they are properly integrated can be overwhelming, especially as a project grows. Dependency management tools automate much of this process, helping you focus on writing code.\n",
       "\n",
       "4. **Best Practices**: Different programming ecosystems have established best practices for managing dependencies, which can help beginners understand how to structure their projects efficiently.\n",
       "\n",
       "#### How Can You Manage Dependencies?\n",
       "\n",
       "Depending on the programming language or framework you're using, there are various tools available for dependency management. Here are a few popular ones:\n",
       "\n",
       "- **npm (Node Package Manager)**: Used in JavaScript projects to manage libraries and tools. With a simple command, you can install, update, or remove packages.\n",
       "  \n",
       "- **pip**: The go-to package installer for Python. It allows you to easily manage libraries while working on Python projects.\n",
       "\n",
       "- **Maven**: For Java projects, Maven simplifies dependency management through a centralized POM file that lists all your project dependencies.\n",
       "\n",
       "- **Composer**: This is used in PHP projects to manage libraries and dependencies with a `composer.json` file.\n",
       "\n",
       "#### Basic Concepts in Dependency Management\n",
       "\n",
       "1. **Direct vs. Transitive Dependencies**: \n",
       "   - **Direct dependencies** are those that you explicitly define in your project (e.g., a library you choose to include).\n",
       "   - **Transitive dependencies** are dependencies of your dependencies (e.g., if a library you’re using relies on another library).\n",
       "\n",
       "2. **Lock Files**: Some dependency management tools create lock files (like `package-lock.json` for npm) that record the exact versions of packages installed. This ensures that the same versions are used across different environments (like development and production).\n",
       "\n",
       "3. **Versioning**: Understanding how versions work is crucial in dependency management. The major.minor.patch versioning system (e.g., 1.2.3) helps you track updates. For instance, a major version change might introduce breaking changes, while minor and patch updates generally bring improvements.\n",
       "\n",
       "#### Getting Started\n",
       "\n",
       "1. **Choose a Language/Framework**: Start with a programming language or framework that interests you. Familiarize yourself with its ecosystem.\n",
       "  \n",
       "2. **Experiment with Tools**: Play around with tools like npm or pip. Create a simple project and try adding, updating, and removing dependencies.\n",
       "\n",
       "3. **Read Documentation**: Each package manager comes with its own set of documentation and best practices. Familiarize yourself with them to grasp how best to manage dependencies.\n",
       "\n",
       "4. **Build Real Projects**: Practical experience is invaluable. As you build more complex projects, you'll encounter various dependency management challenges, which will deepen your understanding.\n",
       "\n",
       "#### Final Thoughts\n",
       "\n",
       "Dependency management might seem daunting at first, but it’s a crucial skill that will enhance your coding and project management abilities. By keeping your project’s dependencies organized and manageable, you can focus on what truly matters: building great software!\n",
       "\n",
       "Remember, exploration and consistency are key. Don't hesitate to reach out for help as you learn. Happy coding!"
      ],
      "text/plain": [
       "<IPython.core.display.Markdown object>"
      ]
     },
     "metadata": {},
     "output_type": "display_data"
    },
    {
     "data": {
      "text/markdown": [
       "**PrepareAI:** Do you have any doubts on 'Introduction to Dependency Management'? If not, would you like to move on to the next topic? (yes/no)"
      ],
      "text/plain": [
       "<IPython.core.display.Markdown object>"
      ]
     },
     "metadata": {},
     "output_type": "display_data"
    }
   ],
   "source": [
    "response = '''yes. lets go.'''\n",
    "orc.process_user_input(response)"
   ]
  },
  {
   "cell_type": "code",
   "execution_count": 37,
   "id": "c48e35fb",
   "metadata": {},
   "outputs": [
    {
     "data": {
      "text/markdown": [
       "- **Dependency Management in Software Development** (Importance: 1, Score: 1.0)\n",
       "  - **Introduction to Dependency Management** (Importance: 1.0, Score: 1.0)\n",
       "  - **Dependency Types** (Importance: 0.9, Score: 0.0)\n",
       "    - **Build-time vs. Runtime Dependencies** (Importance: 0.8, Score: 0.0)\n",
       "    - **Direct vs. Transitive Dependencies** (Importance: 0.7, Score: 0.0)\n",
       "  - **Popular Dependency Management Tools** (Importance: 0.9, Score: 0.0)\n",
       "    - **Maven (Java)** (Importance: 0.8, Score: 0.0)\n",
       "    - **npm (JavaScript)** (Importance: 0.8, Score: 0.0)\n",
       "    - **pip (Python)** (Importance: 0.8, Score: 0.0)\n",
       "  - **Versioning Strategies** (Importance: 0.8, Score: 0.0)\n",
       "    - **Semantic Versioning** (Importance: 0.8, Score: 0.0)\n",
       "    - **Version Constraints** (Importance: 0.7, Score: 0.0)\n",
       "  - **Dependency Resolution** (Importance: 0.9, Score: 0.0)\n",
       "    - **Understanding how tools resolve dependencies** (Importance: 0.8, Score: 0.0)\n",
       "    - **Conflict resolution strategies** (Importance: 0.7, Score: 0.0)\n",
       "  - **Managing Dependencies in Team Projects** (Importance: 0.8, Score: 0.0)\n",
       "    - **Best practices for collaboration** (Importance: 0.8, Score: 0.0)\n",
       "    - **Documenting dependencies** (Importance: 0.7, Score: 0.0)\n",
       "  - **Security and Compliance** (Importance: 0.7, Score: 0.0)\n",
       "    - **Analyzing Dependencies for Vulnerabilities** (Importance: 0.8, Score: 0.0)\n",
       "    - **Licensing compliance** (Importance: 0.6, Score: 0.0)\n",
       "  - **Testing Dependencies** (Importance: 0.7, Score: 0.0)\n",
       "    - **Strategies for testing with various dependency configurations** (Importance: 0.7, Score: 0.0)\n",
       "  - **Continuous Integration/Continuous Deployment (CI/CD)** (Importance: 0.6, Score: 0.0)\n",
       "    - **Managing dependencies in CI/CD pipelines** (Importance: 0.7, Score: 0.0)\n",
       "  - **Future Trends in Dependency Management** (Importance: 0.5, Score: 0.0)\n",
       "    - **The rise of containerization** (Importance: 0.5, Score: 0.0)\n",
       "    - **Trends in monorepo usage** (Importance: 0.5, Score: 0.0)\n"
      ],
      "text/plain": [
       "<IPython.core.display.Markdown object>"
      ]
     },
     "metadata": {},
     "output_type": "display_data"
    }
   ],
   "source": [
    "display(Markdown(\n",
    "    orc.tools['LearningPlanManager'].get_plan_tree_markdown()))"
   ]
  },
  {
   "cell_type": "code",
   "execution_count": null,
   "id": "3fe57e89",
   "metadata": {},
   "outputs": [],
   "source": []
  }
 ],
 "metadata": {
  "kernelspec": {
   "display_name": "Python 3 (ipykernel)",
   "language": "python",
   "name": "python3"
  },
  "language_info": {
   "codemirror_mode": {
    "name": "ipython",
    "version": 3
   },
   "file_extension": ".py",
   "mimetype": "text/x-python",
   "name": "python",
   "nbconvert_exporter": "python",
   "pygments_lexer": "ipython3",
   "version": "3.12.4"
  }
 },
 "nbformat": 4,
 "nbformat_minor": 5
}
