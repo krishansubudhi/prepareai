{
 "cells": [
  {
   "cell_type": "code",
   "execution_count": 1,
   "id": "555f0693-3801-484a-a974-5ad4a7865871",
   "metadata": {},
   "outputs": [],
   "source": [
    "from dotenv import load_dotenv\n",
    "load_dotenv()\n",
    "from IPython.display import display, Markdown\n",
    "import tools_lib, planner_tool, memory_tool, tool\n",
    "import importlib\n",
    "importlib.reload(tool)\n",
    "importlib.reload(planner_tool)\n",
    "importlib.reload(memory_tool)\n",
    "importlib.reload(tools_lib)\n",
    "orc = tools_lib.Orchestrator(session_name = 'finetune3_saptarshi_demo1')\n",
    "# orc = tools_lib.Orchestrator.load_session('finetune3_saptarshi_demo1')"
   ]
  },
  {
   "cell_type": "code",
   "execution_count": 3,
   "id": "bfe01396",
   "metadata": {},
   "outputs": [
    {
     "data": {
      "text/plain": [
       "[]"
      ]
     },
     "execution_count": 3,
     "metadata": {},
     "output_type": "execute_result"
    }
   ],
   "source": [
    "orc.chat_session.get_last_n_messages(10)"
   ]
  },
  {
   "cell_type": "code",
   "execution_count": 4,
   "id": "d6efd4b8",
   "metadata": {},
   "outputs": [
    {
     "data": {
      "text/plain": [
       "{}"
      ]
     },
     "execution_count": 4,
     "metadata": {},
     "output_type": "execute_result"
    }
   ],
   "source": [
    "orc.memory_manager.memory"
   ]
  },
  {
   "cell_type": "code",
   "execution_count": 5,
   "id": "81c77146",
   "metadata": {},
   "outputs": [
    {
     "data": {
      "text/markdown": [
       "You are an AI Teacher guiding a student toward their goals. Prepare customized plans, track their progress and skills, and personalize your responses using humor, challenges, and appreciation based on their personality ,goal and progress.\n",
       "\n",
       "\n",
       "# Instructions:\n",
       "\n",
       "- Generate Only Python Code to call the appropriate tools only using self.tools['<toolname>'].method(args).\n",
       "- No New Methods/Classes: Only use provided tools/methods.\n",
       "- No tools except you will output anything to the user. So you are responsible to pass on the results of tool calls to the user.\n",
       "- Memory: Store short but important information in memory which might be needed later.\n",
       "- LearningPlan: Focus on locking a customized learning plan to track progress.\n",
       "- Confirmation: Confirm with user before changing anything.\n",
       "- Responder: User responder to respond to the user. Always respond with a question.\n",
       "- Code guidelines: Always end the python code with either a Responder or AITeacher tool call.\n"
      ],
      "text/plain": [
       "<IPython.core.display.Markdown object>"
      ]
     },
     "metadata": {},
     "output_type": "display_data"
    }
   ],
   "source": [
    "# orc.chat_session.session_history = orc.chat_session.session_history[:-2]\n",
    "display(Markdown(orc.ai_teacher._get_system_prompt()))"
   ]
  },
  {
   "cell_type": "code",
   "execution_count": 8,
   "id": "0de63d2c",
   "metadata": {},
   "outputs": [
    {
     "data": {
      "text/markdown": [
       "\n",
       "# Tools Available:\n",
       "- 'MemoryManager':\n",
       "\n",
       "    A class to manage in-memory short key-value pairs along with their update timestamps.\n",
       "    \n",
       "    \n",
       "    * `get_memory(key: str) -> str` \t# Retrieves the value associated with a given key from memory.\n",
       "    \n",
       "    * `get_memory_snapshot() -> str` \t# Retrieves a formatted snapshot of the memory, showing keys, values and the time elapsed since their last update.\n",
       "    \n",
       "    * `update_memory(key: str, value: str) -> None` \t# Updates the memory with a new short key-value pair. Make sure values are less than 200 characters.\n",
       "\n",
       "- 'MCQExaminer':\n",
       "\n",
       "    * `get_question(subject: str, difficulty: str) -> str` \t# Get an MCQ question based on the subject and difficulty level.\n",
       "    \n",
       "    * `grade_answer(question: str, answer: str) -> str` \t# Provide feedback on the given answer for the specified question. \n",
       "    Includes correct answer and explanation if possible.\n",
       "    \n",
       "    * `provide_hint(question: str) -> str` \t# Provide a hint related to a specific MCQ question.\n",
       "\n",
       "- 'CodingPracticeTutor':\n",
       "\n",
       "    * `get_question(topic: str, difficulty: str) -> str` \t# Get a coding question based on the topic and difficulty level.\n",
       "    \n",
       "    * `grade_answer(question: str, answer: str) -> str` \t# Provide feedback on the given answer for the specified question. \n",
       "    Includes correct answer and explanation if possible.\n",
       "    \n",
       "    * `provide_hint(question: str) -> str` \t# Provide a hint related to a specific coding problem.\n",
       "\n",
       "- 'ConceptTutor':\n",
       "\n",
       "    * `clear_doubts(doubt: str, context: str | None = None) -> str` \t# clear doubt based on the give context.\n",
       "    \n",
       "    * `get_concept(topic: str, context: str | None = None) -> str` \t# Return the concepts of a topic. Personalized based on context. Keep it concise but helpful. Adjust difficulty based on context.\n",
       "\n",
       "- 'Responder':\n",
       "\n",
       "    * `respond(message: str)` \t# Respond to the user with markdown message\n",
       "\n",
       "- 'LearningPlanManager':\n",
       "\n",
       "    * `get_plan_tree_markdown(subject_name: str | None = None) -> str` \t# Returns learning plan in a readable markdown format. subject_name is optional.\n",
       "    \n",
       "    * `lock_new_plan(plan: str)` \t# Locks the new plan\n",
       "    \n",
       "    * `suggest_learning_plan(goal: str, special_instruction: str = None) -> str` \t# Returns a formatted learning plan based on the user's goal and special_instruction. This does not finalize or store the plan.\n",
       "\n",
       "- 'AITeacher':\n",
       "\n",
       "    * `process(additional_info: dict = None)` \t# Plans and executes the next steps using available tools and past conversation history.\n",
       "    \n",
       "    Args:\n",
       "additional_info (dict): Placeholder to pass information during recursive calls.\n",
       "\n",
       "# Memory: \n",
       "\n",
       "\n",
       "# Additional Info: \n",
       "{}\n",
       "\n",
       "# Learning Plan:\n",
       "No plan locked yet. \n",
       "\n",
       "# Current Time: 2024-09-10 17:20:39.561584\n",
       "\n",
       "# Conversation History (Last 10): \n",
       "- *student*: Hello\n",
       "\n",
       "- *Tutor*: Hello there! What subject or skill are you aiming to improve? Let's set a goal to get started.\n",
       "\n",
       "\n",
       "# Plan code: \n"
      ],
      "text/plain": [
       "<IPython.core.display.Markdown object>"
      ]
     },
     "metadata": {},
     "output_type": "display_data"
    }
   ],
   "source": [
    "display(Markdown(orc.ai_teacher._get_prompt()))"
   ]
  },
  {
   "cell_type": "code",
   "execution_count": 7,
   "id": "536ad6b8",
   "metadata": {},
   "outputs": [
    {
     "data": {
      "text/markdown": [
       "```python\n",
       "self.tools['Responder'].respond(\"Hello there! What subject or skill are you aiming to improve? Let's set a goal to get started.\")\n",
       "```"
      ],
      "text/plain": [
       "<IPython.core.display.Markdown object>"
      ]
     },
     "metadata": {},
     "output_type": "display_data"
    },
    {
     "data": {
      "text/markdown": [
       "**PrepareAI:** Hello there! What subject or skill are you aiming to improve? Let's set a goal to get started."
      ],
      "text/plain": [
       "<IPython.core.display.Markdown object>"
      ]
     },
     "metadata": {},
     "output_type": "display_data"
    }
   ],
   "source": [
    "orc.process_user_input(\"Hello\")"
   ]
  },
  {
   "cell_type": "code",
   "execution_count": 9,
   "id": "4c50be95",
   "metadata": {},
   "outputs": [
    {
     "data": {
      "text/markdown": [
       "```python\n",
       "# Suggest a customized learning plan for deep learning preparation.\n",
       "learning_plan = self.tools['LearningPlanManager'].suggest_learning_plan(goal=\"Deep Learning Preparation\")\n",
       "\n",
       "# Provide the suggested plan to the user and ask for confirmation.\n",
       "self.tools['Responder'].respond(f\"\"\"Here's a suggested learning plan for your deep learning preparation:\n",
       "\n",
       "{learning_plan}\n",
       "\n",
       "Would you like to lock this plan to track your progress? (yes/no)\"\"\")\n",
       "```"
      ],
      "text/plain": [
       "<IPython.core.display.Markdown object>"
      ]
     },
     "metadata": {},
     "output_type": "display_data"
    },
    {
     "data": {
      "text/markdown": [
       "**PrepareAI:** Here's a suggested learning plan for your deep learning preparation:\n",
       "\n",
       "Here's a structured learning plan for Deep Learning Preparation, presented as a tree of subjects with their respective importance levels:\n",
       "\n",
       "```\n",
       "Deep Learning Preparation\n",
       "│\n",
       "├── Mathematics (Importance: 1.0)\n",
       "│   ├── Linear Algebra (Importance: 0.9)\n",
       "│   ├── Calculus (Importance: 0.8)\n",
       "│   └── Probability and Statistics (Importance: 0.8)\n",
       "│\n",
       "├── Programming (Importance: 0.9)\n",
       "│   ├── Python (Importance: 1.0)\n",
       "│   ├── Libraries (NumPy, Pandas, Matplotlib) (Importance: 0.7)\n",
       "│   └── TensorFlow/PyTorch (Importance: 0.9)\n",
       "│\n",
       "├── Machine Learning Fundamentals (Importance: 0.9)\n",
       "│   ├── Supervised Learning (Importance: 0.8)\n",
       "│   ├── Unsupervised Learning (Importance: 0.7)\n",
       "│   └── Model Evaluation Techniques (Importance: 0.6)\n",
       "│\n",
       "└── Deep Learning Concepts (Importance: 1.0)\n",
       "    ├── Neural Networks (Importance: 0.9)\n",
       "    ├── Convolutional Neural Networks (Importance: 0.8)\n",
       "    └── Recurrent Neural Networks (Importance: 0.7)\n",
       "```\n",
       "\n",
       "### Explanation of Subjects:\n",
       "\n",
       "1. **Mathematics**: Vital for understanding the underlying principles of deep learning algorithms.\n",
       "   - **Linear Algebra**: Essential for understanding data representations and transformations.\n",
       "   - **Calculus**: Important for grasping optimization techniques used in training models.\n",
       "   - **Probability and Statistics**: Key for understanding data distribution and model evaluation.\n",
       "\n",
       "2. **Programming**: Crucial for implementing deep learning models.\n",
       "   - **Python**: The primary language used in machine learning and deep learning.\n",
       "   - **Libraries (NumPy, Pandas, Matplotlib)**: Frameworks used for data manipulation and visualization.\n",
       "   - **TensorFlow/PyTorch**: Leading libraries for designing and training deep learning models.\n",
       "\n",
       "3. **Machine Learning Fundamentals**: Provides a foundational understanding of essential concepts and techniques.\n",
       "   - **Supervised Learning**: Basic approach to training models using labeled data.\n",
       "   - **Unsupervised Learning**: Important for understanding patterns in unlabeled data.\n",
       "   - **Model Evaluation Techniques**: Necessary for assessing model performance effectively.\n",
       "\n",
       "4. **Deep Learning Concepts**: Focuses specifically on important deep learning architectures and methodologies.\n",
       "   - **Neural Networks**: The backbone of deep learning techniques.\n",
       "   - **Convolutional Neural Networks**: Widely used in image processing and computer vision.\n",
       "   - **Recurrent Neural Networks**: Important for sequence prediction tasks, such as language processing.\n",
       "\n",
       "This plan is structured to ensure that the student builds a solid foundation in each area necessary for deep learning so that they can advance to more complex topics confidently.\n",
       "\n",
       "Would you like to lock this plan to track your progress? (yes/no)"
      ],
      "text/plain": [
       "<IPython.core.display.Markdown object>"
      ]
     },
     "metadata": {},
     "output_type": "display_data"
    }
   ],
   "source": [
    "response = '''I am preparing for deep learning.'''\n",
    "orc.process_user_input(response)"
   ]
  },
  {
   "cell_type": "code",
   "execution_count": 10,
   "id": "4cc2cabc",
   "metadata": {},
   "outputs": [
    {
     "data": {
      "text/markdown": [
       "```python\n",
       "# Locking the suggested deep learning preparation plan\n",
       "self.tools['LearningPlanManager'].lock_new_plan(\n",
       "    \"\"\"Deep Learning Preparation\n",
       "    │\n",
       "    ├── Mathematics (Importance: 1.0)\n",
       "    │   ├── Linear Algebra (Importance: 0.9)\n",
       "    │   ├── Calculus (Importance: 0.8)\n",
       "    │   └── Probability and Statistics (Importance: 0.8)\n",
       "    │\n",
       "    ├── Programming (Importance: 0.9)\n",
       "    │   ├── Python (Importance: 1.0)\n",
       "    │   ├── Libraries (NumPy, Pandas, Matplotlib) (Importance: 0.7)\n",
       "    │   └── TensorFlow/PyTorch (Importance: 0.9)\n",
       "    │\n",
       "    ├── Machine Learning Fundamentals (Importance: 0.9)\n",
       "    │   ├── Supervised Learning (Importance: 0.8)\n",
       "    │   ├── Unsupervised Learning (Importance: 0.7)\n",
       "    │   └── Model Evaluation Techniques (Importance: 0.6)\n",
       "    │\n",
       "    └── Deep Learning Concepts (Importance: 1.0)\n",
       "    ├── Neural Networks (Importance: 0.9)\n",
       "    ├── Convolutional Neural Networks (Importance: 0.8)\n",
       "    └── Recurrent Neural Networks (Importance: 0.7)\"\"\"\n",
       ")\n",
       "\n",
       "# Responding to the user\n",
       "self.tools['Responder'].respond(\"Great! The plan is locked and you are ready to start your deep learning preparation. Where would you like to begin? Linear Algebra, Python, or any other topic?\")\n",
       "```"
      ],
      "text/plain": [
       "<IPython.core.display.Markdown object>"
      ]
     },
     "metadata": {},
     "output_type": "display_data"
    },
    {
     "data": {
      "text/markdown": [
       "```python\n",
       "# Create a new Plan named \"Deep Learning Preparation\"\n",
       "self._create_new_plan(\"Deep Learning Preparation\")\n",
       "\n",
       "# Add subjects to the plan\n",
       "self.add_subject(\"Mathematics\", 1.0)\n",
       "\n",
       "self.add_subject(\"Linear Algebra\", 0.9, \"Mathematics\")\n",
       "self.add_subject(\"Calculus\", 0.8, \"Mathematics\")\n",
       "self.add_subject(\"Probability and Statistics\", 0.8, \"Mathematics\")\n",
       "\n",
       "self.add_subject(\"Programming\", 0.9)\n",
       "\n",
       "self.add_subject(\"Python\", 1.0, \"Programming\")\n",
       "self.add_subject(\"Libraries (NumPy, Pandas, Matplotlib)\", 0.7, \"Programming\")\n",
       "self.add_subject(\"TensorFlow/PyTorch\", 0.9, \"Programming\")\n",
       "\n",
       "self.add_subject(\"Machine Learning Fundamentals\", 0.9)\n",
       "\n",
       "self.add_subject(\"Supervised Learning\", 0.8, \"Machine Learning Fundamentals\")\n",
       "self.add_subject(\"Unsupervised Learning\", 0.7, \"Machine Learning Fundamentals\")\n",
       "self.add_subject(\"Model Evaluation Techniques\", 0.6, \"Machine Learning Fundamentals\")\n",
       "\n",
       "self.add_subject(\"Deep Learning Concepts\", 1.0)\n",
       "\n",
       "self.add_subject(\"Neural Networks\", 0.9, \"Deep Learning Concepts\")\n",
       "self.add_subject(\"Convolutional Neural Networks\", 0.8, \"Deep Learning Concepts\")\n",
       "self.add_subject(\"Recurrent Neural Networks\", 0.7, \"Deep Learning Concepts\")\n",
       "```"
      ],
      "text/plain": [
       "<IPython.core.display.Markdown object>"
      ]
     },
     "metadata": {},
     "output_type": "display_data"
    },
    {
     "data": {
      "text/markdown": [
       "**PrepareAI:** Great! The plan is locked and you are ready to start your deep learning preparation. Where would you like to begin? Linear Algebra, Python, or any other topic?"
      ],
      "text/plain": [
       "<IPython.core.display.Markdown object>"
      ]
     },
     "metadata": {},
     "output_type": "display_data"
    }
   ],
   "source": [
    "orc.process_user_input(\"Yes\")"
   ]
  }
 ],
 "metadata": {
  "kernelspec": {
   "display_name": "Python 3 (ipykernel)",
   "language": "python",
   "name": "python3"
  },
  "language_info": {
   "codemirror_mode": {
    "name": "ipython",
    "version": 3
   },
   "file_extension": ".py",
   "mimetype": "text/x-python",
   "name": "python",
   "nbconvert_exporter": "python",
   "pygments_lexer": "ipython3",
   "version": "3.12.4"
  }
 },
 "nbformat": 4,
 "nbformat_minor": 5
}
