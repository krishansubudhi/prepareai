{
 "cells": [
  {
   "cell_type": "code",
   "execution_count": null,
   "metadata": {},
   "outputs": [],
   "source": [
    "import pandas as pd"
   ]
  },
  {
   "cell_type": "code",
   "execution_count": null,
   "metadata": {},
   "outputs": [],
   "source": [
    "TRAINING_DATA_DIR = \"labeled_data\"\n",
    "data = []\n",
    "for dir in os.listdir(TRAINING_DATA_DIR):\n",
    "    prompt = open(f'{TRAINING_DATA_DIR}/{dir}/prompt.md','r').read().strip()\n",
    "    code = open(f'{TRAINING_DATA_DIR}/{dir}/code.md','r').read()\n",
    "    data.append({'prompt':prompt, 'code':code})\n",
    "\n"
   ]
  }
 ],
 "metadata": {
  "kernelspec": {
   "display_name": "pai",
   "language": "python",
   "name": "python3"
  },
  "language_info": {
   "codemirror_mode": {
    "name": "ipython",
    "version": 3
   },
   "file_extension": ".py",
   "mimetype": "text/x-python",
   "name": "python",
   "nbconvert_exporter": "python",
   "pygments_lexer": "ipython3",
   "version": "3.12.4"
  }
 },
 "nbformat": 4,
 "nbformat_minor": 2
}
