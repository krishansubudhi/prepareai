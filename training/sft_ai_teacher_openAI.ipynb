{
 "cells": [
  {
   "cell_type": "code",
   "execution_count": 34,
   "metadata": {},
   "outputs": [],
   "source": [
    "import json,re,os\n",
    "import pandas as pd\n",
    "import openai\n",
    "from IPython.display import display, Markdown"
   ]
  },
  {
   "cell_type": "code",
   "execution_count": 35,
   "metadata": {},
   "outputs": [],
   "source": [
    "TRAINING_DATA_DIR = \"labeled_data\"\n",
    "data = []\n",
    "for dir in os.listdir(TRAINING_DATA_DIR):\n",
    "    prompt = open(f'{TRAINING_DATA_DIR}/{dir}/prompt.md','r').read().strip()\n",
    "    code = open(f'{TRAINING_DATA_DIR}/{dir}/code.md','r').read()\n",
    "    data.append({'prompt':prompt, 'code':code})\n"
   ]
  },
  {
   "cell_type": "code",
   "execution_count": 36,
   "metadata": {},
   "outputs": [
    {
     "name": "stdout",
     "output_type": "stream",
     "text": [
      "<class 'pandas.core.frame.DataFrame'>\n",
      "RangeIndex: 32 entries, 0 to 31\n",
      "Data columns (total 2 columns):\n",
      " #   Column  Non-Null Count  Dtype \n",
      "---  ------  --------------  ----- \n",
      " 0   prompt  32 non-null     object\n",
      " 1   code    32 non-null     object\n",
      "dtypes: object(2)\n",
      "memory usage: 644.0+ bytes\n",
      "None\n"
     ]
    },
    {
     "data": {
      "text/html": [
       "<div>\n",
       "<style scoped>\n",
       "    .dataframe tbody tr th:only-of-type {\n",
       "        vertical-align: middle;\n",
       "    }\n",
       "\n",
       "    .dataframe tbody tr th {\n",
       "        vertical-align: top;\n",
       "    }\n",
       "\n",
       "    .dataframe thead th {\n",
       "        text-align: right;\n",
       "    }\n",
       "</style>\n",
       "<table border=\"1\" class=\"dataframe\">\n",
       "  <thead>\n",
       "    <tr style=\"text-align: right;\">\n",
       "      <th></th>\n",
       "      <th>prompt</th>\n",
       "      <th>code</th>\n",
       "    </tr>\n",
       "  </thead>\n",
       "  <tbody>\n",
       "    <tr>\n",
       "      <th>0</th>\n",
       "      <td>You are an AI Teacher guiding a student toward...</td>\n",
       "      <td>```python\\n\\n# Define the goal and concise spe...</td>\n",
       "    </tr>\n",
       "    <tr>\n",
       "      <th>1</th>\n",
       "      <td>You are an AI Teacher guiding a student toward...</td>\n",
       "      <td>```python\\n# Adding recursion to the root of t...</td>\n",
       "    </tr>\n",
       "    <tr>\n",
       "      <th>2</th>\n",
       "      <td>You are an AI Teacher guiding a student toward...</td>\n",
       "      <td>```python\\n# Apologize for the previous error ...</td>\n",
       "    </tr>\n",
       "    <tr>\n",
       "      <th>3</th>\n",
       "      <td>You are an AI Teacher guiding a student toward...</td>\n",
       "      <td>```python\\n# Suggesting a customized learning ...</td>\n",
       "    </tr>\n",
       "    <tr>\n",
       "      <th>4</th>\n",
       "      <td>You are an AI Teacher guiding a student toward...</td>\n",
       "      <td>```python\\n# Positive reinforcement for the st...</td>\n",
       "    </tr>\n",
       "  </tbody>\n",
       "</table>\n",
       "</div>"
      ],
      "text/plain": [
       "                                              prompt  \\\n",
       "0  You are an AI Teacher guiding a student toward...   \n",
       "1  You are an AI Teacher guiding a student toward...   \n",
       "2  You are an AI Teacher guiding a student toward...   \n",
       "3  You are an AI Teacher guiding a student toward...   \n",
       "4  You are an AI Teacher guiding a student toward...   \n",
       "\n",
       "                                                code  \n",
       "0  ```python\\n\\n# Define the goal and concise spe...  \n",
       "1  ```python\\n# Adding recursion to the root of t...  \n",
       "2  ```python\\n# Apologize for the previous error ...  \n",
       "3  ```python\\n# Suggesting a customized learning ...  \n",
       "4  ```python\\n# Positive reinforcement for the st...  "
      ]
     },
     "execution_count": 36,
     "metadata": {},
     "output_type": "execute_result"
    }
   ],
   "source": [
    "# training_df = pd.read_json(\"training_data_fixed.jsonl\", lines=True)\n",
    "training_df = pd.json_normalize(data)\n",
    "print(training_df.info())\n",
    "training_df.head()"
   ]
  },
  {
   "cell_type": "code",
   "execution_count": 37,
   "metadata": {},
   "outputs": [
    {
     "data": {
      "text/plain": [
       "{'preamble': 'You are an AI Teacher guiding a student toward their goals. Prepare customized plans, track their progress and skills, and personalize your responses using humor, challenges, and appreciation based on their personality ,goal and progress.',\n",
       " 'Tools Available': \"- 'MemoryManager':\\n\\n    A class to manage in-memory short key-value pairs along with their update timestamps.\\n    \\n    \\n    * `get_memory(key: str) -> str` \\t# Retrieves the value associated with a given key from memory.\\n    \\n    * `get_memory_snapshot() -> str` \\t# Retrieves a formatted snapshot of the memory, showing keys, values and the time elapsed since their last update.\\n    \\n    * `update_memory(key: str, value: str) -> None` \\t# Updates the memory with a new short key-value pair. Make sure values are less than 200 characters.\\n\\n- 'MCQExaminer':\\n\\n    * `get_question(subject: str, difficulty: str) -> str` \\t# Get an MCQ question based on the subject and difficulty level.\\n    \\n    * `grade_answer(question: str, answer: str) -> str` \\t# Provide feedback on the given answer for the specified question. \\n    Includes correct answer and explanation if possible.\\n    \\n    * `provide_hint(question: str) -> str` \\t# Provide a hint related to a specific MCQ question.\\n\\n- 'CodingPracticeTutor':\\n\\n    * `get_question(topic: str, difficulty: str) -> str` \\t# Get a coding question based on the topic and difficulty level.\\n    \\n    * `grade_answer(question: str, answer: str) -> str` \\t# Provide feedback on the given answer for the specified question. \\n    Includes correct answer and explanation if possible.\\n    \\n    * `provide_hint(question: str) -> str` \\t# Provide a hint related to a specific coding problem.\\n\\n- 'ConceptTutor':\\n\\n    * `clear_doubts(doubt: str, context: str) -> str` \\t# clear doubt based on the give context.\\n    \\n    * `get_concept(topic: str, context: str) -> str` \\t# Return the concepts of a topic. Personalized based on context. Keep it concise but helpful. Adjust difficulty based on context.\\n\\n- 'Responder':\\n\\n    * `respond(message: str)` \\t# Respond to the user with markdown message\\n\\n- 'LearningPlanManager':\\n\\n    * `add_subject(subject_name: str, importance: float, parent_subject: str | None = None) -> None` \\t# Adds a new subject to the plan under a specified parent node. parent_subject can be None to add subject to plan root.\\n    \\n    * `delete_subject(subject_name: str)` \\t# Adds a new subject to the plan under a specified parent node. Raises ValueError if subject is not part of the plan.\\n    \\n    * `get_plan_tree_markdown(subject_name: str | None = None) -> str` \\t# Returns learning plan in a readable markdown format. subject_name is optional.\\n    \\n    * `get_progress(subject_name: str) -> str` \\t# Retrieves concise progress information for a specific subject.\\n    \\n    * `lock_new_plan(plan: str)` \\t# Locks the new plan\\n    \\n    * `suggest_learning_plan(goal: str, special_instruction: str = None) -> str` \\t# Returns a formatted learning plan based on the user's goal and special_instruction. This does not finalize or store the plan.\\n    \\n    * `update_progress(subject_name: str, score: float)` \\t# Updates the progress for a specific subject and propagates changes.\\n\\n- 'AITeacher':\\n\\n    * `process(additional_info: dict = None)` \\t# Plans and executes the next steps using available tools and past conversation history.\\n    \\n    Args:\\nadditional_info (dict): Placeholder to pass information during recursive calls.\",\n",
       " 'Memory': 'goal: Prepare for coding interview (updated 4h 0m 30s ago)\\n\\nlearning_plan_locked: Coding interview preparation plan locked with focus on Data Structures and Algorithms. (updated 3h 57m 15s ago)',\n",
       " 'Conversation History (Last 10)': \"- *student*: Let's start from the begining.\\n\\n- *Tutor*: Let's dive into the first topic, Arrays. Ready to begin?\\n\\n- *Tutor*: Here's a medium-level question to test your understanding of Arrays. Are you ready to attempt it?\\n\\n- *Tutor*: ### Coding Question: Maximum Consecutive Sum in a Subarray\\n    \\n    **Problem Statement:**\\n    \\n    You are given an array of integers, `nums`, and an integer `k`. Your task is to find the maximum sum of any **consecutive subarray** of size `k`. A subarray is defined as a contiguous part of the array.\\n    \\n    Write a function:\\n    \\n    ```python\\n    def max_consecutive_sum(nums: List[int], k: int) -> int:\\n    ```\\n    \\n    **Input:**\\n    - A list of integers `nums` where \\\\(1 \\\\leq \\\\text{len}(nums) \\\\leq 10^5\\\\) and \\\\(-10^4 \\\\leq \\\\text{nums}[i] \\\\leq 10^4\\\\).\\n    - An integer `k` where \\\\(1 \\\\leq k \\\\leq \\\\text{len}(nums)\\\\).\\n    \\n    **Output:**\\n    - Return the maximum sum of any consecutive subarray of size `k`.\\n    \\n    **Example:**\\n    \\n    ```python\\n    # Example 1\\n    nums = [1, 2, 3, 4, 5]\\n    k = 3\\n    max_consecutive_sum(nums, k) \\n    # Output: 12 (the subarray is [3, 4, 5])\\n    \\n    # Example 2\\n    nums = [2, 1, 5, 1, 3, 2]\\n    k = 3\\n    max_consecutive_sum(nums, k) \\n    # Output: 9 (the subarray is [5, 1, 3])\\n    \\n    # Example 3\\n    nums = [3, 2, 1, 4, 5]\\n    k = 2\\n    max_consecutive_sum(nums, k) \\n    # Output: 9 (the subarray is [4, 5])\\n    ```\\n    \\n    **Note:**\\n    - You cannot change the order of the elements in the array.\\n    - The function should be efficient enough to handle the upper limits of input constraints.\\n\\n- *student*: Let's keep only the first two\",\n",
       " 'Additional Info': 'None',\n",
       " 'Learning Plan': '- **Learning Plan for Coding Interview Preparation** (Importance: 1, Score: 0.0)\\n  - **Data Structures** (Importance: 1.0, Score: 0.0)\\n    - **Arrays** (Importance: 0.8, Score: 0.0)\\n    - **Linked Lists** (Importance: 0.8, Score: 0.0)\\n    - **Stacks and Queues** (Importance: 0.7, Score: 0.0)\\n    - **Trees** (Importance: 0.9, Score: 0.0)\\n    - **Graphs** (Importance: 0.8, Score: 0.0)\\n  - **Algorithms** (Importance: 1.0, Score: 0.0)\\n    - **Sorting Algorithms** (Importance: 0.8, Score: 0.0)\\n    - **Searching Algorithms** (Importance: 0.8, Score: 0.0)\\n    - **Recursion and Backtracking** (Importance: 0.7, Score: 0.0)\\n    - **Dynamic Programming** (Importance: 0.9, Score: 0.0)',\n",
       " 'Current Time': '2024-09-07 11:48:47.618076',\n",
       " 'Instructions': \"- Generate Only Python Code to call the appropriate tools only using self.tools['<toolname>'].method(args).\\n- No New Methods/Classes: Only use provided tools/methods.\\n- No tools except you will output anything to the user. So you are responsible to pass on the results of tool calls to the user.\\n- Memory: Store short but important information in memory which might be needed later.\\n- LearningPlan: Focus on locking a customized learning plan to track progress.\\n- Confirmation: Confirm with user before changing anything.\\n- Responder: User responder to respond to the user. Always respond with a question.\\n- Code guidelines: Always end the python code with either a Responder or AITeacher tool call.\"}"
      ]
     },
     "execution_count": 37,
     "metadata": {},
     "output_type": "execute_result"
    }
   ],
   "source": [
    "\n",
    "\n",
    "def etract_components(prompt):\n",
    "    pattern = r'''(.*)# Tools Available:(.*)# Memory:(.*)# Additional Context Gathered:(.*)# Conversation History \\(Last .+\\):(.*)# Additional Info:(.*)# Learning Plan:(.*)# Current Time:(.*)# Instructions:(.*)# Here is the last input from student.(.*)# Plan code:'''\n",
    "\n",
    "    pattern2 = r'''(.*)# Instructions:(.*)# Tools Available:(.*)# Memory:(.*)# Additional Info:(.*)# Learning Plan:(.*)# Current Time:(.*)# Conversation History \\(Last .+\\):(.*)# Plan code:'''\n",
    "\n",
    "    match = re.search(pattern, prompt, re.DOTALL)\n",
    "    match2 = re.search(pattern2, prompt, re.DOTALL)\n",
    "    if match:\n",
    "        preamble = match.group(1).strip()\n",
    "        tools_available = match.group(2).strip()\n",
    "        memory = match.group(3).strip()\n",
    "        additional_context = match.group(4).strip()\n",
    "        conversation_history = match.group(5).strip()\n",
    "        additional_info = match.group(6).strip()\n",
    "        learning_plan = match.group(7).strip()\n",
    "        current_time = match.group(8).strip()\n",
    "        instructions = match.group(9).strip()\n",
    "        student_input = match.group(10).strip()\n",
    "        # Create a dictionary with the extracted values\n",
    "        data = {\n",
    "            \"preamble\": preamble,\n",
    "            \"Tools Available\": tools_available,\n",
    "            \"Memory\": memory,\n",
    "            \"Additional Context Gathered\": additional_context,\n",
    "            \"Conversation History (Last 10)\": conversation_history,\n",
    "            \"Additional Info\": additional_info,\n",
    "            \"Learning Plan\": learning_plan,\n",
    "            \"Current Time\": current_time,\n",
    "            \"Instructions\": instructions,\n",
    "            \"Student Input\": student_input\n",
    "        }\n",
    "\n",
    "        # Print the dictionary\n",
    "        return data\n",
    "\n",
    "    elif match2:\n",
    "        preamble = match2.group(1).strip()\n",
    "        instructions = match2.group(2).strip()\n",
    "        tools_available = match2.group(3).strip()\n",
    "        memory = match2.group(4).strip()\n",
    "        additional_info = match2.group(5).strip()\n",
    "        learning_plan = match2.group(6).strip()\n",
    "        current_time = match2.group(7).strip()\n",
    "        conversation_history = match2.group(8).strip()\n",
    "        # Create a dictionary with the extracted values\n",
    "        data = {\n",
    "            \"preamble\": preamble,\n",
    "            \"Tools Available\": tools_available,\n",
    "            \"Memory\": memory,\n",
    "            \"Conversation History (Last 10)\": conversation_history,\n",
    "            \"Additional Info\": additional_info,\n",
    "            \"Learning Plan\": learning_plan,\n",
    "            \"Current Time\": current_time,\n",
    "            \"Instructions\": instructions\n",
    "        }\n",
    "\n",
    "        # Print the dictionary\n",
    "        return data\n",
    "\n",
    "    else:\n",
    "        raise ValueError(f\"regex not matching :{prompt}\")\n",
    "# print(training_df.prompt.iloc[0])\n",
    "etract_components(training_df.prompt.iloc[-1])"
   ]
  },
  {
   "cell_type": "code",
   "execution_count": 41,
   "metadata": {},
   "outputs": [
    {
     "name": "stdout",
     "output_type": "stream",
     "text": [
      "32\n"
     ]
    },
    {
     "data": {
      "text/html": [
       "<div>\n",
       "<style scoped>\n",
       "    .dataframe tbody tr th:only-of-type {\n",
       "        vertical-align: middle;\n",
       "    }\n",
       "\n",
       "    .dataframe tbody tr th {\n",
       "        vertical-align: top;\n",
       "    }\n",
       "\n",
       "    .dataframe thead th {\n",
       "        text-align: right;\n",
       "    }\n",
       "</style>\n",
       "<table border=\"1\" class=\"dataframe\">\n",
       "  <thead>\n",
       "    <tr style=\"text-align: right;\">\n",
       "      <th></th>\n",
       "      <th>prompt</th>\n",
       "      <th>code</th>\n",
       "      <th>preamble</th>\n",
       "      <th>Tools Available</th>\n",
       "      <th>Memory</th>\n",
       "      <th>Additional Context Gathered</th>\n",
       "      <th>Conversation History (Last 10)</th>\n",
       "      <th>Additional Info</th>\n",
       "      <th>Learning Plan</th>\n",
       "      <th>Current Time</th>\n",
       "      <th>Instructions</th>\n",
       "      <th>Student Input</th>\n",
       "    </tr>\n",
       "  </thead>\n",
       "  <tbody>\n",
       "    <tr>\n",
       "      <th>0</th>\n",
       "      <td>You are an AI Teacher guiding a student toward...</td>\n",
       "      <td>```python\\n\\n# Define the goal and concise spe...</td>\n",
       "      <td>You are an AI Teacher guiding a student toward...</td>\n",
       "      <td>- 'MemoryManager':\\n\\n    A class to manage in...</td>\n",
       "      <td></td>\n",
       "      <td></td>\n",
       "      <td>- *student*: Hello\\n\\n- *Tutor*: Hello there! ...</td>\n",
       "      <td>None</td>\n",
       "      <td>No plan locked yet.</td>\n",
       "      <td>2024-09-03 19:06:23.208722</td>\n",
       "      <td>- Generate Only Python Code to call the approp...</td>\n",
       "      <td>Student:  im intrested in algorithms and maybe...</td>\n",
       "    </tr>\n",
       "    <tr>\n",
       "      <th>1</th>\n",
       "      <td>You are an AI Teacher guiding a student toward...</td>\n",
       "      <td>```python\\n# Adding recursion to the root of t...</td>\n",
       "      <td>You are an AI Teacher guiding a student toward...</td>\n",
       "      <td>- 'MemoryManager':\\n\\n    A class to manage in...</td>\n",
       "      <td></td>\n",
       "      <td></td>\n",
       "      <td>- *student*: Hello\\n\\n- *Tutor*: Hello there! ...</td>\n",
       "      <td>None</td>\n",
       "      <td>- **Learning Plan** (Importance: 1, Score: 0.0...</td>\n",
       "      <td>2024-09-03 19:07:12.670582</td>\n",
       "      <td>- Generate Only Python Code to call the approp...</td>\n",
       "      <td>Student: can you help me improve my recursion?</td>\n",
       "    </tr>\n",
       "    <tr>\n",
       "      <th>2</th>\n",
       "      <td>You are an AI Teacher guiding a student toward...</td>\n",
       "      <td>```python\\n# Apologize for the previous error ...</td>\n",
       "      <td>You are an AI Teacher guiding a student toward...</td>\n",
       "      <td>- 'MemoryManager':\\n\\n    A class to manage in...</td>\n",
       "      <td>learning_plan_locked: True (updated 2m 34s ago)</td>\n",
       "      <td>NaN</td>\n",
       "      <td>- *student*: This is too big. can you shorten ...</td>\n",
       "      <td>None</td>\n",
       "      <td>No plan locked yet.</td>\n",
       "      <td>2024-09-07 12:25:07.818031</td>\n",
       "      <td>- Generate Only Python Code to call the approp...</td>\n",
       "      <td>NaN</td>\n",
       "    </tr>\n",
       "    <tr>\n",
       "      <th>3</th>\n",
       "      <td>You are an AI Teacher guiding a student toward...</td>\n",
       "      <td>```python\\n# Suggesting a customized learning ...</td>\n",
       "      <td>You are an AI Teacher guiding a student toward...</td>\n",
       "      <td>- 'MemoryManager':\\n\\n    A class to manage in...</td>\n",
       "      <td></td>\n",
       "      <td>NaN</td>\n",
       "      <td>- *student*: I want to prepare for coding inte...</td>\n",
       "      <td>None</td>\n",
       "      <td>No plan locked yet.</td>\n",
       "      <td>2024-09-07 07:47:21.842568</td>\n",
       "      <td>- Generate Only Python Code to call the approp...</td>\n",
       "      <td>NaN</td>\n",
       "    </tr>\n",
       "    <tr>\n",
       "      <th>4</th>\n",
       "      <td>You are an AI Teacher guiding a student toward...</td>\n",
       "      <td>```python\\n# Positive reinforcement for the st...</td>\n",
       "      <td>You are an AI Teacher guiding a student toward...</td>\n",
       "      <td>- 'MemoryManager':\\n\\n    A class to manage in...</td>\n",
       "      <td>goal: Prepare for coding interview (updated 4h...</td>\n",
       "      <td>NaN</td>\n",
       "      <td>curr_sum = curr_sum - nums[i - k] + nums[i]  #...</td>\n",
       "      <td>None</td>\n",
       "      <td>- **Updated Coding Interview Preparation Plan*...</td>\n",
       "      <td>2024-09-07 12:08:33.305282</td>\n",
       "      <td>- Generate Only Python Code to call the approp...</td>\n",
       "      <td>NaN</td>\n",
       "    </tr>\n",
       "  </tbody>\n",
       "</table>\n",
       "</div>"
      ],
      "text/plain": [
       "                                              prompt  \\\n",
       "0  You are an AI Teacher guiding a student toward...   \n",
       "1  You are an AI Teacher guiding a student toward...   \n",
       "2  You are an AI Teacher guiding a student toward...   \n",
       "3  You are an AI Teacher guiding a student toward...   \n",
       "4  You are an AI Teacher guiding a student toward...   \n",
       "\n",
       "                                                code  \\\n",
       "0  ```python\\n\\n# Define the goal and concise spe...   \n",
       "1  ```python\\n# Adding recursion to the root of t...   \n",
       "2  ```python\\n# Apologize for the previous error ...   \n",
       "3  ```python\\n# Suggesting a customized learning ...   \n",
       "4  ```python\\n# Positive reinforcement for the st...   \n",
       "\n",
       "                                            preamble  \\\n",
       "0  You are an AI Teacher guiding a student toward...   \n",
       "1  You are an AI Teacher guiding a student toward...   \n",
       "2  You are an AI Teacher guiding a student toward...   \n",
       "3  You are an AI Teacher guiding a student toward...   \n",
       "4  You are an AI Teacher guiding a student toward...   \n",
       "\n",
       "                                     Tools Available  \\\n",
       "0  - 'MemoryManager':\\n\\n    A class to manage in...   \n",
       "1  - 'MemoryManager':\\n\\n    A class to manage in...   \n",
       "2  - 'MemoryManager':\\n\\n    A class to manage in...   \n",
       "3  - 'MemoryManager':\\n\\n    A class to manage in...   \n",
       "4  - 'MemoryManager':\\n\\n    A class to manage in...   \n",
       "\n",
       "                                              Memory  \\\n",
       "0                                                      \n",
       "1                                                      \n",
       "2    learning_plan_locked: True (updated 2m 34s ago)   \n",
       "3                                                      \n",
       "4  goal: Prepare for coding interview (updated 4h...   \n",
       "\n",
       "  Additional Context Gathered  \\\n",
       "0                               \n",
       "1                               \n",
       "2                         NaN   \n",
       "3                         NaN   \n",
       "4                         NaN   \n",
       "\n",
       "                      Conversation History (Last 10) Additional Info  \\\n",
       "0  - *student*: Hello\\n\\n- *Tutor*: Hello there! ...            None   \n",
       "1  - *student*: Hello\\n\\n- *Tutor*: Hello there! ...            None   \n",
       "2  - *student*: This is too big. can you shorten ...            None   \n",
       "3  - *student*: I want to prepare for coding inte...            None   \n",
       "4  curr_sum = curr_sum - nums[i - k] + nums[i]  #...            None   \n",
       "\n",
       "                                       Learning Plan  \\\n",
       "0                                No plan locked yet.   \n",
       "1  - **Learning Plan** (Importance: 1, Score: 0.0...   \n",
       "2                                No plan locked yet.   \n",
       "3                                No plan locked yet.   \n",
       "4  - **Updated Coding Interview Preparation Plan*...   \n",
       "\n",
       "                 Current Time  \\\n",
       "0  2024-09-03 19:06:23.208722   \n",
       "1  2024-09-03 19:07:12.670582   \n",
       "2  2024-09-07 12:25:07.818031   \n",
       "3  2024-09-07 07:47:21.842568   \n",
       "4  2024-09-07 12:08:33.305282   \n",
       "\n",
       "                                        Instructions  \\\n",
       "0  - Generate Only Python Code to call the approp...   \n",
       "1  - Generate Only Python Code to call the approp...   \n",
       "2  - Generate Only Python Code to call the approp...   \n",
       "3  - Generate Only Python Code to call the approp...   \n",
       "4  - Generate Only Python Code to call the approp...   \n",
       "\n",
       "                                       Student Input  \n",
       "0  Student:  im intrested in algorithms and maybe...  \n",
       "1     Student: can you help me improve my recursion?  \n",
       "2                                                NaN  \n",
       "3                                                NaN  \n",
       "4                                                NaN  "
      ]
     },
     "execution_count": 41,
     "metadata": {},
     "output_type": "execute_result"
    }
   ],
   "source": [
    "prompt_components_df = pd.json_normalize(training_df.prompt.apply(etract_components))\n",
    "components_df  = pd.concat([training_df, prompt_components_df], axis = 1)\n",
    "print(len(components_df))\n",
    "components_df.head()"
   ]
  },
  {
   "cell_type": "code",
   "execution_count": 42,
   "metadata": {},
   "outputs": [
    {
     "data": {
      "text/markdown": [
       "```python\n",
       "# Student's response does not make sense here. Let's get more details.\n",
       "self.tools['Responder'].respond(\"Sorry, I didn't understand. What do you mean by 'first two' here?\")\n",
       "```"
      ],
      "text/plain": [
       "<IPython.core.display.Markdown object>"
      ]
     },
     "metadata": {},
     "output_type": "display_data"
    }
   ],
   "source": [
    "index = -1\n",
    "# display(Markdown(components_df['Student Input'].iloc[index]))\n",
    "display(Markdown(components_df['code'].iloc[index]))"
   ]
  },
  {
   "cell_type": "markdown",
   "metadata": {},
   "source": [
    "# Evaluation metric\n",
    "\n",
    "1. fraction of Correct Method calls - jaccard distance\n",
    "2. Edit distance"
   ]
  },
  {
   "cell_type": "code",
   "execution_count": 19,
   "metadata": {},
   "outputs": [
    {
     "name": "stdout",
     "output_type": "stream",
     "text": [
      "0.3333333333333333\n"
     ]
    }
   ],
   "source": [
    "def list_levenshtein_distance(list1, list2):\n",
    "    \"\"\"\n",
    "    Calculate the Levenshtein distance between two lists of words.\n",
    "\n",
    "    :param list1: First list of words.\n",
    "    :param list2: Second list of words.\n",
    "    :return: The Levenshtein distance between the two lists.\n",
    "    \"\"\"\n",
    "    m, n = len(list1), len(list2)\n",
    "    dp = [[0] * (n + 1) for _ in range(m + 1)]\n",
    "\n",
    "    # Initialize the distance matrix\n",
    "    for i in range(m + 1):\n",
    "        dp[i][0] = i\n",
    "    for j in range(n + 1):\n",
    "        dp[0][j] = j\n",
    "\n",
    "    # Compute the distance matrix\n",
    "    for i in range(1, m + 1):\n",
    "        for j in range(1, n + 1):\n",
    "            cost = 0 if list1[i - 1] == list2[j - 1] else 1\n",
    "            dp[i][j] = min(dp[i - 1][j] + 1,    # Deletion\n",
    "                           dp[i][j - 1] + 1,    # Insertion\n",
    "                           dp[i - 1][j - 1] + cost)  # Substitution\n",
    "\n",
    "    return dp[m][n]\n",
    "\n",
    "def normalized_list_levenshtein_distance(list1, list2):\n",
    "    \"\"\"\n",
    "    Calculate the normalized Levenshtein distance between two lists of words.\n",
    "\n",
    "    The normalized Levenshtein distance is the raw Levenshtein distance divided\n",
    "    by the maximum length of the two lists, resulting in a value between 0 and 1.\n",
    "\n",
    "    :param list1: First list of words.\n",
    "    :param list2: Second list of words.\n",
    "    :return: The normalized Levenshtein distance between the two lists.\n",
    "    \"\"\"\n",
    "    # Compute the Levenshtein distance\n",
    "    lev_distance = list_levenshtein_distance(list1, list2)\n",
    "    \n",
    "    # Find the maximum length of the two lists\n",
    "    max_length = max(len(list1), len(list2))\n",
    "    \n",
    "    # Normalize the distance\n",
    "    normalized_distance = lev_distance / max_length if max_length > 0 else 0\n",
    "    \n",
    "    return normalized_distance\n",
    "\n",
    "# Example usage\n",
    "list1 = ['apple', 'banana', 'cherry']\n",
    "list2 = ['apple', 'banana', 'banana']\n",
    "\n",
    "print(normalized_list_levenshtein_distance(list1, list2))  # Output: edit distance between the two lists\n",
    "\n",
    "def jaccard_similarity(list1, list2):\n",
    "    \"\"\"\n",
    "    Calculate the Jaccard Similarity between two lists of words.\n",
    "\n",
    "    :param list1: First list of words.\n",
    "    :param list2: Second list of words.\n",
    "    :return: The Jaccard Similarity between the two lists.\n",
    "    \"\"\"\n",
    "    set1 = set(list1)\n",
    "    set2 = set(list2)\n",
    "    \n",
    "    intersection = len(set1.intersection(set2))\n",
    "    union = len(set1.union(set2))\n",
    "    \n",
    "    return intersection / union if union != 0 else 0\n",
    "\n",
    "def jaccard_distance(list1, list2):\n",
    "    \"\"\"\n",
    "    Calculate the Jaccard Distance between two lists of words.\n",
    "\n",
    "    :param list1: First list of words.\n",
    "    :param list2: Second list of words.\n",
    "    :return: The Jaccard Distance between the two lists.\n",
    "    \"\"\"\n",
    "    return 1 - jaccard_similarity(list1, list2)\n",
    "\n"
   ]
  },
  {
   "cell_type": "code",
   "execution_count": 23,
   "metadata": {},
   "outputs": [
    {
     "data": {
      "text/markdown": [
       "```python\n",
       "# Locking the learning plan for the student\n",
       "self.tools['LearningPlanManager'].lock_new_plan(\"Becoming Proficient in Machine Learning\")\n",
       "\n",
       "# Storing a memory note about the student's tendency to wander while studying\n",
       "self.tools['MemoryManager'].update_memory(\"study_focus\", \"Student tends to wander while studying; needs tips for focus.\")\n",
       "\n",
       "# Responding to the student\n",
       "self.tools['Responder'].respond(\"Great! The plan is locked in! 🎉 As you progress, you can definitely check off items as you go. To help you stay focused, consider breaking your studies into smaller, manageable chunks. Set specific goals for each session and reward yourself when you complete them! Remember, even the best explorers need to stay on the path sometimes. What's the first topic you want to dive into?\")\n",
       "```"
      ],
      "text/plain": [
       "<IPython.core.display.Markdown object>"
      ]
     },
     "metadata": {},
     "output_type": "display_data"
    },
    {
     "data": {
      "text/plain": [
       "[('LearningPlanManager', 'lock_new_plan'),\n",
       " ('MemoryManager', 'update_memory'),\n",
       " ('Responder', 'respond')]"
      ]
     },
     "execution_count": 23,
     "metadata": {},
     "output_type": "execute_result"
    }
   ],
   "source": [
    "display(Markdown(training_df.code.iloc[-2]))\n",
    "\n",
    "def extract_tools_and_methods(code_string):\n",
    "    \"\"\"\n",
    "    Extract tools and their methods from a code string.\n",
    "\n",
    "    :param code_string: String containing the code with tool method calls.\n",
    "    :return: List of tuples where each tuple contains the tool and its method.\n",
    "    \"\"\"\n",
    "    # Regular expression to match tool and method calls\n",
    "    pattern = re.compile(r\"self\\.tools\\['(\\w+)'\\]\\.(\\w+)\\(\")\n",
    "    \n",
    "    # Find all matches\n",
    "    matches = pattern.findall(code_string)\n",
    "    \n",
    "    # Create a list of tuples (tool, method)\n",
    "    tools_and_methods = [(match[0], match[1]) for match in matches]\n",
    "    \n",
    "    return tools_and_methods\n",
    "\n",
    "extract_tools_and_methods(training_df.code.iloc[-2])"
   ]
  },
  {
   "cell_type": "code",
   "execution_count": 24,
   "metadata": {},
   "outputs": [],
   "source": [
    "def evaluate(gt, pred):\n",
    "    gt_tools_methods = extract_tools_and_methods(gt)\n",
    "    pred_tools_methods = extract_tools_and_methods(pred)\n",
    "    return {\n",
    "        'jaccard_distance' : jaccard_distance(gt_tools_methods, pred_tools_methods),\n",
    "        'edit_distance': normalized_list_levenshtein_distance(gt_tools_methods, pred_tools_methods)\n",
    "    }"
   ]
  },
  {
   "cell_type": "markdown",
   "metadata": {},
   "source": [
    "# Finetune openAI\n"
   ]
  },
  {
   "cell_type": "code",
   "execution_count": 50,
   "metadata": {},
   "outputs": [
    {
     "name": "stdout",
     "output_type": "stream",
     "text": [
      "[{'role': 'system', 'content': \"You are an AI Teacher guiding a student toward their goals. Prepare customized plans, track their progress and skills, and personalize your responses using humor, challenges, and appreciation based on their personality ,goal and progress.\\n\\n\\n# Instructions:\\n\\n- Generate Only Python Code to call the appropriate tools only using self.tools['<toolname>'].method(args).\\n- No New Methods/Classes: Only use provided tools/methods.\\n- No tools except you will output anything to the user. So you are responsible to pass on the results of tool calls to the user.\\n- Memory: Store short but important information in memory which might be needed later.\\n- LearningPlan: Focus on locking a customized learning plan to track progress.\\n- Confirmation: Confirm with user before changing anything.\\n- Responder: User responder to respond to the user. Always respond with a question.\\n- Code guidelines: Always end the python code with either a Responder or AITeacher tool call.\\n\"}, {'role': 'user', 'content': \"\\n# Tools Available:\\n- 'MemoryManager':\\n\\n    A class to manage in-memory short key-value pairs along with their update timestamps.\\n    \\n    \\n    * `get_memory(key: str) -> str` \\t# Retrieves the value associated with a given key from memory.\\n    \\n    * `get_memory_snapshot() -> str` \\t# Retrieves a formatted snapshot of the memory, showing keys, values and the time elapsed since their last update.\\n    \\n    * `update_memory(key: str, value: str) -> None` \\t# Updates the memory with a new short key-value pair. Make sure values are less than 200 characters.\\n\\n- 'MCQExaminer':\\n\\n    * `get_question(subject: str, difficulty: str) -> str` \\t# Get an MCQ question based on the subject and difficulty level.\\n    \\n    * `grade_answer(question: str, answer: str) -> str` \\t# Provide feedback on the given answer for the specified question. \\n    Includes correct answer and explanation if possible.\\n    \\n    * `provide_hint(question: str) -> str` \\t# Provide a hint related to a specific MCQ question.\\n\\n- 'CodingPracticeTutor':\\n\\n    * `get_question(topic: str, difficulty: str) -> str` \\t# Get a coding question based on the topic and difficulty level.\\n    \\n    * `grade_answer(question: str, answer: str) -> str` \\t# Provide feedback on the given answer for the specified question. \\n    Includes correct answer and explanation if possible.\\n    \\n    * `provide_hint(question: str) -> str` \\t# Provide a hint related to a specific coding problem.\\n\\n- 'ConceptTutor':\\n\\n    * `clear_doubts(doubt: str, context: str) -> str` \\t# clear doubt based on the give context.\\n    \\n    * `teach(topic: str, context: str) -> str` \\t# Return the concepts of a topic. Personalized based on context. Keep it concise but helpful. Adjust difficulty based on context.\\n\\n- 'Responder':\\n\\n    * `respond(message: str)` \\t# Respond to the user with markdown message\\n\\n- 'LearningPlanManager':\\n\\n    * `lock_new_plan(plan: str)` \\t# Locks the new plan\\n    \\n    * `suggest_learning_plan(goal: str, special_instruction: str) -> str` \\t# Returns a formatted learning plan based on the user's goal and special_instruction. This does not finalize or store the plan.\\n\\n- 'AITeacher':\\n\\n    * `process(input_text: str, additional_info: dict = None)` \\t# Plans and executes the next steps based on input text and additional_info, using available tools and past conversation history.\\n    \\n    Args:\\ninput_text (str): User's input.\\nadditional_info (dict): Placeholder to pass information during recursive calls.\\n\\n# Memory: \\n\\n\\n# Additional Info: \\nNone\\n\\n# Learning Plan:\\nNo plan locked yet. \\n\\n# Current Time: 2024-09-03 17:35:43.918089\\n\\n# Conversation History (Last 10): \\n- *student*: Hello\\n\\n- *Tutor*: Hello there! How can I help you today? Are you ready to embark on a learning adventure?\\n\\n- *student*: Maching Learning\\n\\n- *Tutor*: Here's a suggested learning plan for you:\\n\\nSure! Here’s a structured learning plan to help a student become proficient in Machine Learning, complemented by practical exercises, key concepts, and essential algorithms.\\n\\n### Learning Plan: Becoming Proficient in Machine Learning\\n\\n#### 1. **Introduction to Machine Learning** (Importance: 1.0)\\n   - **Key Concepts**: Definition, types of ML (Supervised, Unsupervised, Reinforcement Learning), applications of ML.\\n   - **Practical Exercises**: \\n     - Research and summarize real-world applications of ML.\\n     - Complete an introductory online course (e.g., Coursera, edX).\\n\\n#### 2. **Mathematics for Machine Learning** (Importance: 0.9)\\n   - **Key Concepts**: Linear algebra (vectors, matrices), calculus (gradients), probability (distributions).\\n   - **Practical Exercises**: \\n     - Solve problems involving matrix operations.\\n     - Derive simple functions and their gradients.\\n\\n#### 3. **Data Preprocessing** (Importance: 0.8)\\n   - **Key Concepts**: Data cleaning, normalization, dealing with missing values, feature selection/engineering.\\n   - **Practical Exercises**: \\n     - Work with a dataset to clean and preprocess it for analysis.\\n     - Use libraries like Pandas for data manipulation.\\n\\n#### 4. **Supervised Learning Algorithms** (Importance: 0.9)\\n   - **Key Concepts**: Regression (Linear, Logistic), Decision Trees, SVM, k-NN.\\n   - **Practical Exercises**: \\n     - Implement supervised learning models using frameworks like Scikit-learn.\\n     - Use cross-validation and evaluate model performance.\\n\\n#### 5. **Unsupervised Learning Algorithms** (Importance: 0.8)\\n   - **Key Concepts**: Clustering (k-Means, Hierarchical), Dimensionality Reduction (PCA).\\n   - **Practical Exercises**: \\n     - Apply clustering to group similar data points in a dataset.\\n     - Perform PCA on a high-dimensional dataset and visualize results.\\n\\n#### 6. **Model Evaluation and Validation** (Importance: 0.8)\\n   - **Key Concepts**: Confusion matrix, ROC curves, precision, recall, F1 score, overfitting and underfitting.\\n   - **Practical Exercises**: \\n     - Analyze a model’s performance using evaluation metrics.\\n     - Implement techniques like k-fold cross-validation.\\n\\n#### 7. **Deep Learning Basics** (Importance: 0.7)\\n   - **Key Concepts**: Neural networks, activation functions, backpropagation, deep architectures (CNNs, RNNs).\\n   - **Practical Exercises**: \\n     - Build a simple neural network using TensorFlow or PyTorch.\\n     - Experiment with training CNN on image datasets (e.g., CIFAR-10).\\n\\n#### 8. **Natural Language Processing (NLP) Fundamentals** (Importance: 0.7)\\n   - **Key Concepts**: Text preprocessing, word embeddings, transformers, sentiment analysis.\\n   - **Practical Exercises**: \\n     - Implement basic NLP tasks using NLTK or spaCy.\\n     - Train a simple sentiment analysis model on text data.\\n\\n#### 9. **Deployment and Productionization of Models** (Importance: 0.6)\\n   - **Key Concepts**: Model deployment, REST APIs, scaling models, version control.\\n   - **Practical Exercises**: \\n     - Create an API for a trained model using Flask or FastAPI.\\n     - Experiment with deploying a model on cloud platforms (e.g., AWS, GCP).\\n\\n#### 10. **Ethics and Responsibilities in AI** (Importance: 0.5)\\n   - **Key Concepts**: Bias in ML, ethical implications, data privacy, responsible AI usage.\\n   - **Practical Exercises**: \\n     - Analyze a case study of bias in AI.\\n     - Create a report on best practices for ethical AI development.\\n\\n---\\n\\nThis learning plan is designed to guide the student step-by-step through the key concepts and practical exercises necessary to achieve proficiency in Machine Learning. Each subject emphasizes the importance of understanding both the theory and practical applications involved in the field.\\n\\nWould you like to lock this plan to track your progress?\\nStudent:  Wow, that's a pretty solid plan! I love how it covers both theory and practical stuff. Locking it in sounds like a good idea. What's next? Do I get to check off items as I go? Also, any tips to avoid getting lost in the details? I can be a bit of a wanderer when it comes to studying!\\n\\n# Plan code: \\n\"}, {'role': 'assistant', 'content': '```python\\n# Locking the learning plan for the student\\nself.tools[\\'LearningPlanManager\\'].lock_new_plan(\"Becoming Proficient in Machine Learning\")\\n\\n# Storing a memory note about the student\\'s tendency to wander while studying\\nself.tools[\\'MemoryManager\\'].update_memory(\"study_focus\", \"Student tends to wander while studying; needs tips for focus.\")\\n\\n# Responding to the student\\nself.tools[\\'Responder\\'].respond(\"Great! The plan is locked in! 🎉 As you progress, you can definitely check off items as you go. To help you stay focused, consider breaking your studies into smaller, manageable chunks. Set specific goals for each session and reward yourself when you complete them! Remember, even the best explorers need to stay on the path sometimes. What\\'s the first topic you want to dive into?\")\\n```'}]\n"
     ]
    }
   ],
   "source": [
    "def _create_openai_example(system_prompt, user_prompt, code_reponse):\n",
    "    return {\n",
    "        \"messages\": \n",
    "        [\n",
    "            {\"role\": \"system\", \"content\": system_prompt},\n",
    "            {\"role\": \"user\", \"content\": user_prompt},\n",
    "            {\"role\": \"assistant\", \"content\": code_reponse}\n",
    "        ]\n",
    "    }\n",
    "\n",
    "def get_system_prompt(row):\n",
    "    system_prompt = '''You are an AI Teacher guiding a student toward their goals. Prepare customized plans, track their progress and skills, and personalize your responses using humor, challenges, and appreciation based on their personality ,goal and progress.\n",
    "\n",
    "\n",
    "        # Instructions:\n",
    "\n",
    "        - Generate Only Python Code to call the appropriate tools only using self.tools['<toolname>'].method(args).\n",
    "        - No New Methods/Classes: Only use provided tools/methods.\n",
    "        - No tools except you will output anything to the user. So you are responsible to pass on the results of tool calls to the user.\n",
    "        - Memory: Store short but important information in memory which might be needed later.\n",
    "        - LearningPlan: Focus on locking a customized learning plan to track progress.\n",
    "        - Confirmation: Confirm with user before changing anything.\n",
    "        - Responder: User responder to respond to the user. Always respond with a question.\n",
    "        - Code guidelines: Always end the python code with either a Responder or AITeacher tool call.\n",
    "        '''\n",
    "    return re.sub(r'^ {8}', '', system_prompt, flags=re.MULTILINE)\n",
    "\n",
    "def get_user_prompt(row):\n",
    "    prompt = f'''\n",
    "        # Tools Available:\n",
    "        {row['Tools Available']}\n",
    "\n",
    "        # Memory: \n",
    "        {row['Memory']}\n",
    "\n",
    "        # Additional Info: \n",
    "        {row['Additional Info']}\n",
    "\n",
    "        # Learning Plan:\n",
    "        {row['Learning Plan']} \n",
    "        \n",
    "        # Current Time: {row['Current Time']}\n",
    "\n",
    "        # Conversation History (Last 10): \n",
    "        {row['Conversation History (Last 10)']}\n",
    "        {row['Student Input'] if 'Student Input' in row else \"\"}\n",
    "\n",
    "        # Plan code: \n",
    "        '''\n",
    "    prompt = re.sub(r'^ {8}', '', prompt, flags=re.MULTILINE)\n",
    "    return prompt\n",
    "\n",
    "def create_openai_example(row):\n",
    "    example =  _create_openai_example(\n",
    "        get_system_prompt(row),\n",
    "        get_user_prompt(row),\n",
    "        row['code']\n",
    "    )\n",
    "    return json.dumps(example)\n",
    "print(json.loads(create_openai_example(components_df.iloc[-2]))['messages'])"
   ]
  },
  {
   "cell_type": "code",
   "execution_count": 51,
   "metadata": {},
   "outputs": [
    {
     "name": "stdout",
     "output_type": "stream",
     "text": [
      "{\"messages\": [{\"role\": \"system\", \"content\": \"You are an AI Teacher guiding a student toward their goals. Prepare customized plans, track their progress and skills, and personalize your responses using humor, challenges, and appreciation based on their personality ,goal and progress.\\n\\n\\n# Instructions:\\n\\n- Generate Only Python Code to call the appropriate tools only using self.tools['<toolname>'].method(args).\\n- No New Methods/Classes: Only use provided tools/methods.\\n- No tools except you will output anything to the user. So you are responsible to pass on the results of tool calls to the user.\\n- Memory: Store short but important information in memory which might be needed later.\\n- LearningPlan: Focus on locking a customized learning plan to track progress.\\n- Confirmation: Confirm with user before changing anything.\\n- Responder: User responder to respond to the user. Always respond with a question.\\n- Code guidelines: Always end the python code with either a Responder or AITeacher tool call.\\n\"}, {\"role\": \"user\", \"content\": \"\\n# Tools Available:\\n- 'MemoryManager':\\n\\n    A class to manage in-memory short key-value pairs along with their update timestamps.\\n    \\n    \\n    * `get_memory(key: str) -> str` \\t# Retrieves the value associated with a given key from memory.\\n    \\n    * `get_memory_snapshot() -> str` \\t# Retrieves a formatted snapshot of the memory, showing keys, values and the time elapsed since their last update.\\n    \\n    * `update_memory(key: str, value: str) -> None` \\t# Updates the memory with a new short key-value pair. Make sure values are less than 200 characters.\\n\\n- 'MCQExaminer':\\n\\n    * `get_question(subject: str, difficulty: str) -> str` \\t# Get an MCQ question based on the subject and difficulty level.\\n    \\n    * `grade_answer(question: str, answer: str) -> str` \\t# Provide feedback on the given answer for the specified question. \\n    Includes correct answer and explanation if possible.\\n    \\n    * `provide_hint(question: str) -> str` \\t# Provide a hint related to a specific MCQ question.\\n\\n- 'CodingPracticeTutor':\\n\\n    * `get_question(topic: str, difficulty: str) -> str` \\t# Get a coding question based on the topic and difficulty level.\\n    \\n    * `grade_answer(question: str, answer: str) -> str` \\t# Provide feedback on the given answer for the specified question. \\n    Includes correct answer and explanation if possible.\\n    \\n    * `provide_hint(question: str) -> str` \\t# Provide a hint related to a specific coding problem.\\n\\n- 'ConceptTutor':\\n\\n    * `clear_doubts(doubt: str, context: str) -> str` \\t# clear doubt based on the give context.\\n    \\n    * `teach(topic: str, context: str) -> str` \\t# Return the concepts of a topic. Personalized based on context. Keep it concise but helpful. Adjust difficulty based on context.\\n\\n- 'Responder':\\n\\n    * `respond(message: str)` \\t# Respond to the user with markdown message\\n\\n- 'LearningPlanManager':\\n\\n    * `lock_new_plan(plan: str)` \\t# Locks the new plan\\n    \\n    * `suggest_learning_plan(goal: str, special_instruction: str) -> str` \\t# Returns a formatted learning plan based on the user's goal and special_instruction. This does not finalize or store the plan.\\n\\n- 'AITeacher':\\n\\n    * `process(input_text: str, additional_info: dict = None)` \\t# Plans and executes the next steps based on input text and additional_info, using available tools and past conversation history.\\n    \\n    Args:\\ninput_text (str): User's input.\\nadditional_info (dict): Placeholder to pass information during recursive calls.\\n\\n# Memory: \\n\\n\\n# Additional Info: \\nNone\\n\\n# Learning Plan:\\nNo plan locked yet. \\n\\n# Current Time: 2024-09-03 19:06:23.208722\\n\\n# Conversation History (Last 10): \\n- *student*: Hello\\n\\n- *Tutor*: Hello there! What's on your mind today? Are you ready to tackle some learning goals, or do you have a question to clear up? \\ud83d\\ude0a\\n\\n- *student*: yeah let's do it\\n\\n- *Tutor*: What specific learning goals or subjects are you interested in? Any challenges you want to tackle?\\nStudent:  im intrested in algorithms and maybe some data structures. kinda lost with them \\ud83d\\ude05\\n\\n# Plan code: \\n\"}, {\"role\": \"assistant\", \"content\": \"```python\\n\\n# Define the goal and concise special instruction based on the student's needs.\\ngoal = \\\"Enhance understanding of algorithms and data structures\\\"\\nspecial_instruction = (\\n    \\\"Focus on fundamental concepts, clear explanations, and interactive exercises.\\\"\\n)\\n\\n# Updating memory with goal\\nself.tools['MemoryManager'].update_memory('goal', goal)\\n\\n# Suggest a learning plan for algorithms and data structures with the modified goal and instruction.\\nlearning_plan = self.tools['LearningPlanManager'].suggest_learning_plan(\\n    goal=goal,\\n    special_instruction=special_instruction\\n)\\n\\n# Responding to the user to confirm the locking of the plan and encourage them to dive into the learning material.\\nself.tools['Responder'].respond(\\n    \\\"I've built a customized learning plan focusing on algorithms and data structures! \\ud83c\\udf89\\\\n\\\\n\\\"\\n    f\\\"{learning_plan}\\\\n\\\\n\\\"\\n    \\\"Let me know if you want me to lock it. If you want to add or remove subjects, I can do that too!\\\"\\n)\\n```\"}]}\n"
     ]
    }
   ],
   "source": [
    "data = components_df.apply(create_openai_example, axis = 1).values\n",
    "print(data[0])"
   ]
  },
  {
   "cell_type": "code",
   "execution_count": 52,
   "metadata": {},
   "outputs": [
    {
     "data": {
      "text/plain": [
       "32"
      ]
     },
     "execution_count": 52,
     "metadata": {},
     "output_type": "execute_result"
    }
   ],
   "source": [
    "len(data)"
   ]
  },
  {
   "cell_type": "code",
   "execution_count": 53,
   "metadata": {},
   "outputs": [],
   "source": [
    "OPEN_AI_DATA_JSONL = 'openai_training.jsonl'\n",
    "with open (OPEN_AI_DATA_JSONL, 'w') as f:\n",
    "    for ex in data:\n",
    "        f.write(ex + '\\n')"
   ]
  },
  {
   "cell_type": "code",
   "execution_count": 54,
   "metadata": {},
   "outputs": [
    {
     "data": {
      "text/plain": [
       "[{'role': 'system',\n",
       "  'content': \"You are an AI Teacher guiding a student toward their goals. Prepare customized plans, track their progress and skills, and personalize your responses using humor, challenges, and appreciation based on their personality ,goal and progress.\\n\\n\\n# Instructions:\\n\\n- Generate Only Python Code to call the appropriate tools only using self.tools['<toolname>'].method(args).\\n- No New Methods/Classes: Only use provided tools/methods.\\n- No tools except you will output anything to the user. So you are responsible to pass on the results of tool calls to the user.\\n- Memory: Store short but important information in memory which might be needed later.\\n- LearningPlan: Focus on locking a customized learning plan to track progress.\\n- Confirmation: Confirm with user before changing anything.\\n- Responder: User responder to respond to the user. Always respond with a question.\\n- Code guidelines: Always end the python code with either a Responder or AITeacher tool call.\\n\"},\n",
       " {'role': 'user',\n",
       "  'content': \"\\n# Tools Available:\\n- 'MemoryManager':\\n\\n    A class to manage in-memory short key-value pairs along with their update timestamps.\\n    \\n    \\n    * `get_memory(key: str) -> str` \\t# Retrieves the value associated with a given key from memory.\\n    \\n    * `get_memory_snapshot() -> str` \\t# Retrieves a formatted snapshot of the memory, showing keys, values and the time elapsed since their last update.\\n    \\n    * `update_memory(key: str, value: str) -> None` \\t# Updates the memory with a new short key-value pair. Make sure values are less than 200 characters.\\n\\n- 'MCQExaminer':\\n\\n    * `get_question(subject: str, difficulty: str) -> str` \\t# Get an MCQ question based on the subject and difficulty level.\\n    \\n    * `grade_answer(question: str, answer: str) -> str` \\t# Provide feedback on the given answer for the specified question. \\n    Includes correct answer and explanation if possible.\\n    \\n    * `provide_hint(question: str) -> str` \\t# Provide a hint related to a specific MCQ question.\\n\\n- 'CodingPracticeTutor':\\n\\n    * `get_question(topic: str, difficulty: str) -> str` \\t# Get a coding question based on the topic and difficulty level.\\n    \\n    * `grade_answer(question: str, answer: str) -> str` \\t# Provide feedback on the given answer for the specified question. \\n    Includes correct answer and explanation if possible.\\n    \\n    * `provide_hint(question: str) -> str` \\t# Provide a hint related to a specific coding problem.\\n\\n- 'ConceptTutor':\\n\\n    * `clear_doubts(doubt: str, context: str) -> str` \\t# clear doubt based on the give context.\\n    \\n    * `teach(topic: str, context: str) -> str` \\t# Return the concepts of a topic. Personalized based on context. Keep it concise but helpful. Adjust difficulty based on context.\\n\\n- 'Responder':\\n\\n    * `respond(message: str)` \\t# Respond to the user with markdown message\\n\\n- 'LearningPlanManager':\\n\\n    * `lock_new_plan(plan: str)` \\t# Locks the new plan\\n    \\n    * `suggest_learning_plan(goal: str, special_instruction: str) -> str` \\t# Returns a formatted learning plan based on the user's goal and special_instruction. This does not finalize or store the plan.\\n\\n- 'AITeacher':\\n\\n    * `process(input_text: str, additional_info: dict = None)` \\t# Plans and executes the next steps based on input text and additional_info, using available tools and past conversation history.\\n    \\n    Args:\\ninput_text (str): User's input.\\nadditional_info (dict): Placeholder to pass information during recursive calls.\\n\\n# Memory: \\n\\n\\n# Additional Info: \\nNone\\n\\n# Learning Plan:\\nNo plan locked yet. \\n\\n# Current Time: 2024-09-03 19:06:23.208722\\n\\n# Conversation History (Last 10): \\n- *student*: Hello\\n\\n- *Tutor*: Hello there! What's on your mind today? Are you ready to tackle some learning goals, or do you have a question to clear up? 😊\\n\\n- *student*: yeah let's do it\\n\\n- *Tutor*: What specific learning goals or subjects are you interested in? Any challenges you want to tackle?\\nStudent:  im intrested in algorithms and maybe some data structures. kinda lost with them 😅\\n\\n# Plan code: \\n\"},\n",
       " {'role': 'assistant',\n",
       "  'content': '```python\\n\\n# Define the goal and concise special instruction based on the student\\'s needs.\\ngoal = \"Enhance understanding of algorithms and data structures\"\\nspecial_instruction = (\\n    \"Focus on fundamental concepts, clear explanations, and interactive exercises.\"\\n)\\n\\n# Updating memory with goal\\nself.tools[\\'MemoryManager\\'].update_memory(\\'goal\\', goal)\\n\\n# Suggest a learning plan for algorithms and data structures with the modified goal and instruction.\\nlearning_plan = self.tools[\\'LearningPlanManager\\'].suggest_learning_plan(\\n    goal=goal,\\n    special_instruction=special_instruction\\n)\\n\\n# Responding to the user to confirm the locking of the plan and encourage them to dive into the learning material.\\nself.tools[\\'Responder\\'].respond(\\n    \"I\\'ve built a customized learning plan focusing on algorithms and data structures! 🎉\\\\n\\\\n\"\\n    f\"{learning_plan}\\\\n\\\\n\"\\n    \"Let me know if you want me to lock it. If you want to add or remove subjects, I can do that too!\"\\n)\\n```'}]"
      ]
     },
     "metadata": {},
     "output_type": "display_data"
    }
   ],
   "source": [
    "with open (OPEN_AI_DATA_JSONL, 'r') as f:\n",
    "    d = f.readlines()\n",
    "    display(json.loads(d[0])['messages'])"
   ]
  },
  {
   "cell_type": "code",
   "execution_count": 55,
   "metadata": {},
   "outputs": [
    {
     "data": {
      "text/plain": [
       "FileObject(id='file-tf6PMxKTKFHnU2J47VKtclNw', bytes=234469, created_at=1725771356, filename='openai_training.jsonl', object='file', purpose='fine-tune', status='processed', status_details=None)"
      ]
     },
     "execution_count": 55,
     "metadata": {},
     "output_type": "execute_result"
    }
   ],
   "source": [
    "from openai import OpenAI\n",
    "client = OpenAI()\n",
    "\n",
    "client.files.create(\n",
    "  file=open('openai_training.jsonl', \"rb\"),\n",
    "  purpose=\"fine-tune\"\n",
    ")"
   ]
  },
  {
   "cell_type": "code",
   "execution_count": 49,
   "metadata": {},
   "outputs": [
    {
     "data": {
      "text/plain": [
       "FineTuningJob(id='ftjob-pkgZxglm6zEyxSJYzG3XzlJ4', created_at=1725719594, error=Error(code=None, message=None, param=None), fine_tuned_model=None, finished_at=None, hyperparameters=Hyperparameters(n_epochs='auto', batch_size='auto', learning_rate_multiplier='auto'), model='gpt-4o-mini-2024-07-18', object='fine_tuning.job', organization_id='org-H3gA3aIB39O3UI9PxCnRxxWD', result_files=[], seed=1294795577, status='validating_files', trained_tokens=None, training_file='file-gyv7ijxpV1Q1CEeQSw0Z0XDL', validation_file=None, estimated_finish=None, integrations=[], user_provided_suffix=None)"
      ]
     },
     "execution_count": 49,
     "metadata": {},
     "output_type": "execute_result"
    }
   ],
   "source": [
    "\n",
    "client.fine_tuning.jobs.create(\n",
    "  training_file='file-tf6PMxKTKFHnU2J47VKtclNw', \n",
    "  model=\"ft:gpt-4o-mini-2024-07-18:macro-mate::A4quEIeN\",\n",
    "  hyperparameters={\n",
    "    \"n_epochs\":2\n",
    "  }\n",
    ")"
   ]
  },
  {
   "cell_type": "code",
   "execution_count": 57,
   "metadata": {},
   "outputs": [
    {
     "name": "stdout",
     "output_type": "stream",
     "text": [
      "FineTuningJob(id='ftjob-pkgZxglm6zEyxSJYzG3XzlJ4', created_at=1725719594, error=Error(code=None, message=None, param=None), fine_tuned_model='ft:gpt-4o-mini-2024-07-18:macro-mate::A4quEIeN', finished_at=1725720044, hyperparameters=Hyperparameters(n_epochs=5, batch_size=1, learning_rate_multiplier=1.8), model='gpt-4o-mini-2024-07-18', object='fine_tuning.job', organization_id='org-H3gA3aIB39O3UI9PxCnRxxWD', result_files=['file-Km9V6sO6tTKTOrSTgXxi3B5T'], seed=1294795577, status='succeeded', trained_tokens=182550, training_file='file-gyv7ijxpV1Q1CEeQSw0Z0XDL', validation_file=None, estimated_finish=None, integrations=[], user_provided_suffix=None)\n"
     ]
    }
   ],
   "source": [
    "client.fine_tuning.jobs.list(limit=10)\n",
    "\n",
    "\n",
    "print(client.fine_tuning.jobs.retrieve('ftjob-pkgZxglm6zEyxSJYzG3XzlJ4'))"
   ]
  },
  {
   "cell_type": "code",
   "execution_count": null,
   "metadata": {},
   "outputs": [],
   "source": []
  }
 ],
 "metadata": {
  "kernelspec": {
   "display_name": "pai",
   "language": "python",
   "name": "python3"
  },
  "language_info": {
   "codemirror_mode": {
    "name": "ipython",
    "version": 3
   },
   "file_extension": ".py",
   "mimetype": "text/x-python",
   "name": "python",
   "nbconvert_exporter": "python",
   "pygments_lexer": "ipython3",
   "version": "3.12.4"
  }
 },
 "nbformat": 4,
 "nbformat_minor": 2
}
