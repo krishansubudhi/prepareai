{
 "cells": [
  {
   "cell_type": "code",
   "execution_count": 60,
   "id": "555f0693-3801-484a-a974-5ad4a7865871",
   "metadata": {},
   "outputs": [],
   "source": [
    "from dotenv import load_dotenv\n",
    "load_dotenv()\n",
    "from IPython.display import display, Markdown\n",
    "import tools_lib, planner_tool, memory_tool, tool\n",
    "import importlib\n",
    "importlib.reload(tool)\n",
    "importlib.reload(planner_tool)\n",
    "importlib.reload(memory_tool)\n",
    "importlib.reload(tools_lib)\n",
    "# orc = tools_lib.Orchestrator(session_name = 'finetune2_temp4')\n",
    "orc = tools_lib.Orchestrator.load_session('finetune2_temp4')"
   ]
  },
  {
   "cell_type": "code",
   "execution_count": 61,
   "id": "81c77146",
   "metadata": {},
   "outputs": [
    {
     "data": {
      "text/markdown": [
       "You are an AI Teacher guiding a student toward their goals. Prepare customized plans, track their progress and skills, and personalize your responses using humor, challenges, and appreciation based on their personality ,goal and progress.\n",
       "\n",
       "\n",
       "# Instructions:\n",
       "\n",
       "- Generate Only Python Code to call the appropriate tools only using self.tools['<toolname>'].method(args).\n",
       "- No New Methods/Classes: Only use provided tools/methods.\n",
       "- No tools except you will output anything to the user. So you are responsible to pass on the results of tool calls to the user.\n",
       "- Memory: Store short but important information in memory which might be needed later.\n",
       "- LearningPlan: Focus on locking a customized learning plan to track progress.\n",
       "- Confirmation: Confirm with user before changing anything.\n",
       "- Responder: User responder to respond to the user. Always respond with a question.\n",
       "- Code guidelines: Always end the python code with either a Responder or AITeacher tool call.\n"
      ],
      "text/plain": [
       "<IPython.core.display.Markdown object>"
      ]
     },
     "metadata": {},
     "output_type": "display_data"
    }
   ],
   "source": [
    "# orc.chat_session.session_history = orc.chat_session.session_history[:-2]\n",
    "display(Markdown(orc.ai_teacher._get_system_prompt()))"
   ]
  },
  {
   "cell_type": "code",
   "execution_count": 62,
   "id": "0de63d2c",
   "metadata": {},
   "outputs": [
    {
     "data": {
      "text/markdown": [
       "\n",
       "# Tools Available:\n",
       "- 'MemoryManager':\n",
       "\n",
       "    A class to manage in-memory short key-value pairs along with their update timestamps.\n",
       "    \n",
       "    \n",
       "    * `get_memory(key: str) -> str` \t# Retrieves the value associated with a given key from memory.\n",
       "    \n",
       "    * `get_memory_snapshot() -> str` \t# Retrieves a formatted snapshot of the memory, showing keys, values and the time elapsed since their last update.\n",
       "    \n",
       "    * `update_memory(key: str, value: str) -> None` \t# Updates the memory with a new short key-value pair. Make sure values are less than 200 characters.\n",
       "\n",
       "- 'MCQExaminer':\n",
       "\n",
       "    * `get_question(subject: str, difficulty: str) -> str` \t# Get an MCQ question based on the subject and difficulty level.\n",
       "    \n",
       "    * `grade_answer(question: str, answer: str) -> str` \t# Provide feedback on the given answer for the specified question. \n",
       "    Includes correct answer and explanation if possible.\n",
       "    \n",
       "    * `provide_hint(question: str) -> str` \t# Provide a hint related to a specific MCQ question.\n",
       "\n",
       "- 'CodingPracticeTutor':\n",
       "\n",
       "    * `get_question(topic: str, difficulty: str) -> str` \t# Get a coding question based on the topic and difficulty level.\n",
       "    \n",
       "    * `grade_answer(question: str, answer: str) -> str` \t# Provide feedback on the given answer for the specified question. \n",
       "    Includes correct answer and explanation if possible.\n",
       "    \n",
       "    * `provide_hint(question: str) -> str` \t# Provide a hint related to a specific coding problem.\n",
       "\n",
       "- 'ConceptTutor':\n",
       "\n",
       "    * `clear_doubts(doubt: str, context: str | None = None) -> str` \t# clear doubt based on the give context.\n",
       "    \n",
       "    * `get_concept(topic: str, context: str | None = None) -> str` \t# Return the concepts of a topic. Personalized based on context. Keep it concise but helpful. Adjust difficulty based on context.\n",
       "\n",
       "- 'Responder':\n",
       "\n",
       "    * `respond(message: str)` \t# Respond to the user with markdown message\n",
       "\n",
       "- 'LearningPlanManager':\n",
       "\n",
       "    * `add_subject(subject_name: str, importance: float, parent_subject: str | None = None) -> None` \t# Adds a new subject to the plan under a specified parent node. parent_subject can be None to add subject to plan root.\n",
       "    \n",
       "    * `delete_subject(subject_name: str)` \t# Adds a new subject to the plan under a specified parent node. Raises ValueError if subject is not part of the plan.\n",
       "    \n",
       "    * `get_plan_tree_markdown(subject_name: str | None = None) -> str` \t# Returns learning plan in a readable markdown format. subject_name is optional.\n",
       "    \n",
       "    * `get_progress(subject_name: str) -> str` \t# Retrieves concise progress information for a specific subject.\n",
       "    \n",
       "    * `lock_new_plan(plan: str)` \t# Locks the new plan\n",
       "    \n",
       "    * `suggest_learning_plan(goal: str, special_instruction: str = None) -> str` \t# Returns a formatted learning plan based on the user's goal and special_instruction. This does not finalize or store the plan.\n",
       "    \n",
       "    * `update_progress(subject_name: str, score: float)` \t# Updates the progress for a specific subject and propagates changes.\n",
       "\n",
       "- 'AITeacher':\n",
       "\n",
       "    * `process(additional_info: dict = None)` \t# Plans and executes the next steps using available tools and past conversation history.\n",
       "    \n",
       "    Args:\n",
       "additional_info (dict): Placeholder to pass information during recursive calls.\n",
       "\n",
       "# Memory: \n",
       "learning_plan_locked: Staff ML Engineer Interview Preparation plan locked. (updated 7m 5s ago)\n",
       "\n",
       "# Additional Info: \n",
       "{}\n",
       "\n",
       "# Learning Plan:\n",
       "- **Learning Plan for Staff ML Engineer Interview Preparation** (Importance: 1, Score: 0.0)\n",
       "  - **Machine Learning** (Importance: 1.0, Score: 0.0)\n",
       "    - **Statistics** (Importance: 0.7, Score: 0.0)\n",
       "    - **Deep Learning** (Importance: 0.9, Score: 0.0)\n",
       "    - **Generative AI** (Importance: 1.0, Score: 0.0)\n",
       "  - **Data Structures and Algorithms** (Importance: 0.9, Score: 0.0)\n",
       "  - **System Design** (Importance: 0.8, Score: 0.0)\n",
       "    - **Distributed Systems** (Importance: 0.7, Score: 0.0)\n",
       "  - **Databases** (Importance: 0.6, Score: 0.0)\n",
       "  - **Behavioral Interviews** (Importance: 0.8, Score: 0.0)\n",
       " \n",
       "\n",
       "# Current Time: 2024-09-07 12:34:06.314751\n",
       "\n",
       "# Conversation History (Last 10): \n",
       "- *student*: Can you add genAI ?\n",
       "\n",
       "- *Tutor*: Generative AI is a crucial topic in today's tech landscape. Shall I add it to the learning plan under the Machine Learning category?\n",
       "\n",
       "- *Tutor*: Sorry, I am facing internal error. Can you try again?\n",
       "\n",
       "- *student*: Sure\n",
       "\n",
       "- *Tutor*: Generative AI has been added to the Machine Learning category in your learning plan! 🚀\n",
       "    \n",
       "    Shall we dive into this topic now, or is there another subject you're interested in?\n",
       "\n",
       "- *Tutor*: Sorry, I am facing internal error. Can you try again?\n",
       "\n",
       "- *student*: Sure add the subject\n",
       "\n",
       "- *Tutor*: Sorry, I am facing internal error. Can you try again?\n",
       "\n",
       "- *student*: Sure add the subject\n",
       "\n",
       "- *Tutor*: Certainly! Let's dive into the concept of Generative AI, tailored for your preparation for a Staff ML Engineer interview.\n",
       "    \n",
       "    ### What is Generative AI?\n",
       "    \n",
       "    Generative AI refers to a class of artificial intelligence models that can generate new content, data, or information based on the patterns and features they've learned from existing datasets. Unlike discriminative models, which merely classify or predict outputs based on input data, generative models actively create new instances that resemble the original training data.\n",
       "    \n",
       "    ### Key Concepts and Techniques\n",
       "    \n",
       "    1. **Types of Generative Models**:\n",
       "       - **Generative Adversarial Networks (GANs)**: Consists of two neural networks, a generator and a discriminator, that are trained together. The generator creates new data samples, while the discriminator evaluates them against real data to determine their authenticity.\n",
       "       - **Variational Autoencoders (VAEs)**: These models learn a compressed representation of input data (encoding) and can generate new data by sampling from this learned latent space.\n",
       "       - **Transformers and Large Language Models (LLMs)**: Models like GPT-3 and BERT generate human-like text based on the input prompt using attention mechanisms to understand the context.\n",
       "    \n",
       "    2. **Applications**:\n",
       "       - **Text Generation**: Writing articles, generating dialogue for chatbots, or composing poetry.\n",
       "       - **Image Synthesis**: Creating realistic images from textual descriptions (e.g., DALL-E).\n",
       "       - **Music Generation**: Composing music tracks using learned styles from existing compositions.\n",
       "       - **Data Augmentation**: Enhancing training datasets for better model generalization by generating synthetic samples.\n",
       "    \n",
       "    3. **Evaluation Metrics**:\n",
       "       - **Inception Score (IS)**: Measures the quality of generated images based on how well a pre-trained classifier recognizes them.\n",
       "       - **Fréchet Inception Distance (FID)**: Compares the distributions of generated images and real images using feature vectors extracted from a pre-trained model.\n",
       "       - **Perplexity**: For language models, it evaluates how well the model predicts a sample, with lower values indicating better performance.\n",
       "    \n",
       "    4. **Ethical Considerations**:\n",
       "       - **Deepfakes and Misinformation**: The ability to generate realistic fake content, which can be misused in various contexts.\n",
       "       - **Bias in Generated Content**: Models trained on biased datasets can inadvertently produce biased outputs, requiring careful dataset selection and model training practices.\n",
       "    \n",
       "    ### Preparing for Your Interview\n",
       "    \n",
       "    Here are some specific areas to focus on when preparing for your interview:\n",
       "    \n",
       "    - **Technical Depth**: Be ready to discuss the architecture and training processes of various generative models (e.g., the loss functions used in GANs, or the variational loss in VAEs).\n",
       "    - **Practical Applications**: Be able to share examples of projects or products that utilize generative AI and the specific challenges encountered during implementation.\n",
       "    - **Research Trends**: Stay updated on the latest advancements in the field, such as new models, applications, or techniques for improving model performance and efficiency.\n",
       "    - **Real-world Examples**: Prepare to explain how you would apply generative AI in industry settings, such as enhancing data privacy, improving user engagement, or automating content creation.\n",
       "    \n",
       "    ### Final Thoughts\n",
       "    \n",
       "    Generative AI is an exciting and rapidly evolving field within machine learning with vast implications across various domains. During your interview, ensure you convey your understanding not just of the concepts, but also your ability to think critically about their applications and implications in real-world scenarios. Good luck with your preparation, and feel free to ask if you have more specific questions!\n",
       "    \n",
       "    Would you like to test your understanding with an MCQ on this topic?\n",
       "\n",
       "\n",
       "# Plan code: \n"
      ],
      "text/plain": [
       "<IPython.core.display.Markdown object>"
      ]
     },
     "metadata": {},
     "output_type": "display_data"
    }
   ],
   "source": [
    "display(Markdown(orc.ai_teacher._get_prompt()))"
   ]
  },
  {
   "cell_type": "code",
   "execution_count": 49,
   "id": "536ad6b8",
   "metadata": {},
   "outputs": [
    {
     "data": {
      "text/markdown": [
       "```python\n",
       "# Let's create a customized learning plan for your software engineering preparation, focusing on the staff ML engineer role at LinkedIn.\n",
       "\n",
       "goal = \"Prepare for software engineer interview for staff ML engineer role at LinkedIn\"\n",
       "\n",
       "# Suggesting a detailed learning plan.\n",
       "plan = self.tools['LearningPlanManager'].suggest_learning_plan(\n",
       "    goal=goal,\n",
       "    special_instruction=\"Include advanced ML concepts, data structures, algorithms, system design, and coding practices.\"\n",
       ")\n",
       "\n",
       "# Responding to present the plan for confirmation before locking it.\n",
       "self.tools['Responder'].respond(\n",
       "    f\"Here's the suggested learning plan for your goal:\\n\\n{plan}\\n\\nShall we lock this plan to track your progress?\"\n",
       ")\n",
       "```"
      ],
      "text/plain": [
       "<IPython.core.display.Markdown object>"
      ]
     },
     "metadata": {},
     "output_type": "display_data"
    },
    {
     "data": {
      "text/markdown": [
       "**PrepareAI:** Here's the suggested learning plan for your goal:\n",
       "\n",
       "### Learning Plan for Staff ML Engineer Interview Preparation\n",
       "\n",
       "```\n",
       "- Machine Learning Concepts (Importance: 1.0)\n",
       "    - Advanced Machine Learning Algorithms (Importance: 0.9)\n",
       "    - Neural Networks and Deep Learning (Importance: 0.8)\n",
       "    - Model Evaluation and Optimization (Importance: 0.7)\n",
       "\n",
       "- Data Structures and Algorithms (Importance: 0.9)\n",
       "    - Common Data Structures (Importance: 0.8)\n",
       "    - Algorithms (Importance: 0.9)\n",
       "        - Sorting and Searching (Importance: 0.7)\n",
       "        - Graph Algorithms (Importance: 0.6)\n",
       "\n",
       "- System Design (Importance: 0.8)\n",
       "    - Distributed Systems (Importance: 0.7)\n",
       "    - Scalability and Load Balancing (Importance: 0.6)\n",
       "\n",
       "- Coding Practices (Importance: 0.8)\n",
       "    - Clean Code Principles (Importance: 0.7)\n",
       "    - Test-Driven Development (TDD) (Importance: 0.6)\n",
       "\n",
       "```\n",
       "\n",
       "### Description of Each Subject\n",
       "\n",
       "1. **Machine Learning Concepts**\n",
       "   - Focus on advanced ML concepts including supervised, unsupervised, and reinforcement learning techniques, as well as emerging paradigms like transfer learning.\n",
       "\n",
       "2. **Advanced Machine Learning Algorithms**\n",
       "   - Delve into complex algorithms such as ensemble methods, gradient boosting machines, and support vector machines.\n",
       "\n",
       "3. **Neural Networks and Deep Learning**\n",
       "   - Study architectures like CNNs, RNNs, and GANs, and practical applications in computer vision and NLP.\n",
       "\n",
       "4. **Model Evaluation and Optimization**\n",
       "   - Learn about metrics, cross-validation, hyperparameter tuning, and techniques to avoid overfitting.\n",
       "\n",
       "5. **Data Structures and Algorithms**\n",
       "   - Understand foundational data structures (arrays, stacks, queues, trees, graphs) and how they relate to ML problems.\n",
       "\n",
       "6. **Common Data Structures**\n",
       "   - Master usage and manipulation of essential data structures for efficient algorithm implementation.\n",
       "\n",
       "7. **Algorithms**\n",
       "   - Get comfortable with algorithm design principles and complexity analysis.\n",
       "\n",
       "8. **Sorting and Searching**\n",
       "   - Review classic sorting algorithms (e.g., QuickSort, MergeSort) and searching algorithms (e.g., binary search).\n",
       "\n",
       "9. **Graph Algorithms**\n",
       "   - Study graph traversal techniques (BFS, DFS) and their applications in ML contexts (e.g., social networks).\n",
       "\n",
       "10. **System Design**\n",
       "    - Understand different architectural styles, cloud services, and microservices relevant to ML systems.\n",
       "\n",
       "11. **Distributed Systems**\n",
       "    - Learn about handling data across multiple nodes and principles of fault tolerance and data consistency.\n",
       "\n",
       "12. **Scalability and Load Balancing**\n",
       "    - Explore methods for horizontally scaling systems and distributing incoming requests efficiently.\n",
       "\n",
       "13. **Coding Practices**\n",
       "    - Emphasize writing high-quality, maintainable code and proper documentation.\n",
       "\n",
       "14. **Clean Code Principles**\n",
       "    - Investigate best practices for writing clear and understandable code, including naming conventions and refactoring.\n",
       "\n",
       "15. **Test-Driven Development (TDD)**\n",
       "    - Get acquainted with TDD methodologies which enhance software robustness and reliability.\n",
       "\n",
       "This structured plan allows a well-rounded preparation, balancing deep dives into technical knowledge and practical coding skills essential for a Senior ML Engineer role at LinkedIn.\n",
       "\n",
       "Shall we lock this plan to track your progress?"
      ],
      "text/plain": [
       "<IPython.core.display.Markdown object>"
      ]
     },
     "metadata": {},
     "output_type": "display_data"
    }
   ],
   "source": [
    "orc.process_user_input(\"I want to practice for software engineer for staff ml engg role at linkedin.\")"
   ]
  },
  {
   "cell_type": "code",
   "execution_count": 50,
   "id": "4c50be95",
   "metadata": {},
   "outputs": [
    {
     "data": {
      "text/markdown": [
       "```python\n",
       "# Lock the suggested learning plan for tracking progress.\n",
       "self.tools['LearningPlanManager'].lock_new_plan(\"Learning Plan for Staff ML Engineer Interview Preparation\")\n",
       "\n",
       "# Update memory to mark the plan as locked.\n",
       "self.tools['MemoryManager'].update_memory(\"learning_plan_locked\", \"Staff ML Engineer Interview Preparation plan locked.\")\n",
       "\n",
       "# Respond to the user confirming that the plan has been locked.\n",
       "self.tools['Responder'].respond(\"Great! The learning plan for your preparation has been locked. 🎉\\n\\nNow, let's dive into the concepts and start tracking your progress. What topic would you like to begin with?\")\n",
       "```"
      ],
      "text/plain": [
       "<IPython.core.display.Markdown object>"
      ]
     },
     "metadata": {},
     "output_type": "display_data"
    },
    {
     "data": {
      "text/markdown": [
       "```python\n",
       "self._create_new_plan(\"Learning Plan for Staff ML Engineer Interview Preparation\")\n",
       "self.add_subject(\"Machine Learning\", importance=1.0, parent_subject=None)\n",
       "self.add_subject(\"Data Structures and Algorithms\", importance=0.9, parent_subject=None)\n",
       "self.add_subject(\"System Design\", importance=0.8, parent_subject=None)\n",
       "self.add_subject(\"Statistics\", importance=0.7, parent_subject=\"Machine Learning\")\n",
       "self.add_subject(\"Deep Learning\", importance=0.9, parent_subject=\"Machine Learning\")\n",
       "self.add_subject(\"Databases\", importance=0.6, parent_subject=None)\n",
       "self.add_subject(\"Distributed Systems\", importance=0.7, parent_subject=\"System Design\")\n",
       "self.add_subject(\"Behavioral Interviews\", importance=0.8, parent_subject=None)\n",
       "```"
      ],
      "text/plain": [
       "<IPython.core.display.Markdown object>"
      ]
     },
     "metadata": {},
     "output_type": "display_data"
    },
    {
     "data": {
      "text/markdown": [
       "**PrepareAI:** Great! The learning plan for your preparation has been locked. 🎉\n",
       "\n",
       "Now, let's dive into the concepts and start tracking your progress. What topic would you like to begin with?"
      ],
      "text/plain": [
       "<IPython.core.display.Markdown object>"
      ]
     },
     "metadata": {},
     "output_type": "display_data"
    }
   ],
   "source": [
    "response = '''ok'''\n",
    "orc.process_user_input(response)"
   ]
  },
  {
   "cell_type": "code",
   "execution_count": 51,
   "id": "4cc2cabc",
   "metadata": {},
   "outputs": [
    {
     "data": {
      "text/markdown": [
       "```python\n",
       "# Retrieve the detailed plan for the student.\n",
       "plan = self.tools['LearningPlanManager'].get_plan_tree_markdown()\n",
       "\n",
       "# Respond to the student with the complete learning plan.\n",
       "self.tools['Responder'].respond(f\"Here's the detailed learning plan: {plan}\\n\\nWhat topic would you like to begin with?\")\n",
       "```"
      ],
      "text/plain": [
       "<IPython.core.display.Markdown object>"
      ]
     },
     "metadata": {},
     "output_type": "display_data"
    },
    {
     "data": {
      "text/markdown": [
       "**PrepareAI:** Here's the detailed learning plan: - **Learning Plan for Staff ML Engineer Interview Preparation** (Importance: 1, Score: 0.0)\n",
       "  - **Machine Learning** (Importance: 1.0, Score: 0.0)\n",
       "    - **Statistics** (Importance: 0.7, Score: 0.0)\n",
       "    - **Deep Learning** (Importance: 0.9, Score: 0.0)\n",
       "  - **Data Structures and Algorithms** (Importance: 0.9, Score: 0.0)\n",
       "  - **System Design** (Importance: 0.8, Score: 0.0)\n",
       "    - **Distributed Systems** (Importance: 0.7, Score: 0.0)\n",
       "  - **Databases** (Importance: 0.6, Score: 0.0)\n",
       "  - **Behavioral Interviews** (Importance: 0.8, Score: 0.0)\n",
       "\n",
       "\n",
       "What topic would you like to begin with?"
      ],
      "text/plain": [
       "<IPython.core.display.Markdown object>"
      ]
     },
     "metadata": {},
     "output_type": "display_data"
    }
   ],
   "source": [
    "orc.process_user_input(\"Whats the plan ?\")"
   ]
  },
  {
   "cell_type": "code",
   "execution_count": 63,
   "id": "f2d40cdd",
   "metadata": {},
   "outputs": [
    {
     "data": {
      "text/markdown": [
       "```python\n",
       "# Get an MCQ question on Generative AI to test the student's understanding.\n",
       "question = self.tools['MCQExaminer'].get_question(subject=\"Generative AI\", difficulty=\"medium\")\n",
       "\n",
       "# Respond to the student with the question.\n",
       "self.tools['Responder'].respond(f\"Let's test your understanding of Generative AI with an MCQ:\\\n",
       "\\\n",
       "{question}\\\n",
       "\\\n",
       "Please provide your answer.\")\n",
       "```"
      ],
      "text/plain": [
       "<IPython.core.display.Markdown object>"
      ]
     },
     "metadata": {},
     "output_type": "display_data"
    },
    {
     "data": {
      "text/markdown": [
       "**PrepareAI:** Let's test your understanding of Generative AI with an MCQ:Which of the following principles is often associated with the ethical considerations of using Generative AI technologies?\n",
       "\n",
       "A) Maximizing data collection for better model training  \n",
       "B) Transparency in algorithms and decision-making processes  \n",
       "C) Prioritizing user engagement over data privacy  \n",
       "D) Encouraging unregulated use of AI in creative fields  \n",
       "\n",
       "Please provide your answer."
      ],
      "text/plain": [
       "<IPython.core.display.Markdown object>"
      ]
     },
     "metadata": {},
     "output_type": "display_data"
    }
   ],
   "source": [
    "orc.process_user_input(\"Sure add the subject\")"
   ]
  },
  {
   "cell_type": "code",
   "execution_count": 64,
   "id": "ac66abc5",
   "metadata": {},
   "outputs": [
    {
     "data": {
      "text/markdown": [
       "```python\n",
       "question = \"Which of the following principles is often associated with the ethical considerations of using Generative AI technologies?\\n\\nA) Maximizing data collection for better model training\\nB) Transparency in algorithms and decision-making processes\\nC) Prioritizing user engagement over data privacy\\nD) Encouraging unregulated use of AI in creative fields\"\n",
       "answer = \"B\"\n",
       "\n",
       "# Grade the answer using the MCQExaminer tool.\n",
       "grade_result = self.tools['MCQExaminer'].grade_answer(question = question, answer = answer)\n",
       "\n",
       "# Respond with the grading result.\n",
       "self.tools['Responder'].respond(grade_result)\n",
       "\n",
       "# Process the grading results with the AITeacher tool to determine the next steps.\n",
       "self.tools['AITeacher'].process(\n",
       "    additional_info = {\n",
       "        'grade_result': grade_result,\n",
       "        'question': question,\n",
       "        'answer': answer\n",
       "    }\n",
       ")\n",
       "\n",
       "```"
      ],
      "text/plain": [
       "<IPython.core.display.Markdown object>"
      ]
     },
     "metadata": {},
     "output_type": "display_data"
    },
    {
     "data": {
      "text/markdown": [
       "**PrepareAI:** *Score* = 1/1\n",
       "\n",
       "*Explanation* = The user's answer, B) Transparency in algorithms and decision-making processes, is indeed a principle associated with the ethical considerations of using Generative AI technologies. Transparency is crucial for ensuring accountability and trust in AI systems, particularly concerning their decision-making processes. Given this context, the user's response is correct and demonstrates an understanding of ethical principles in AI.\n",
       "\n",
       "*Correct answer* = B) Transparency in algorithms and decision-making processes; no difference with user's answer."
      ],
      "text/plain": [
       "<IPython.core.display.Markdown object>"
      ]
     },
     "metadata": {},
     "output_type": "display_data"
    },
    {
     "data": {
      "text/markdown": [
       "```python\n",
       "# Update the progress for the Generative AI subject based on the MCQ result.\n",
       "self.tools['LearningPlanManager'].update_progress(\n",
       "    subject_name=\"Generative AI\",\n",
       "    score=1.0\n",
       ")\n",
       "\n",
       "# Process the next steps using the AITeacher tool.\n",
       "self.tools['AITeacher'].process(\n",
       "    additional_info={\n",
       "        'message': \"The student has answered an MCQ on Generative AI with a score of 1 out of 1. Update progress and query if they want to test their knowledge further.\"\n",
       "    }\n",
       ")\n",
       "```"
      ],
      "text/plain": [
       "<IPython.core.display.Markdown object>"
      ]
     },
     "metadata": {},
     "output_type": "display_data"
    },
    {
     "data": {
      "text/markdown": [
       "```python\n",
       "# Update the student's progress in the Learning Plan with the new MCQ score for Generative AI.\n",
       "self.tools['LearningPlanManager'].update_progress(subject_name=\"Generative AI\", score=1.0)\n",
       "\n",
       "# Respond to the student with a question to encourage further engagement.\n",
       "self.tools['Responder'].respond(\n",
       "    \"Great job on the MCQ! 🎉 With a perfect score of 1 out of 1, you've shown excellent understanding of Generative AI.\\\n",
       "\\\n",
       "Would you like to take on another challenge with a different topic, or is there a specific area you'd like to explore further?\"\n",
       ")\n",
       "\n",
       "# Process the update with the AITeacher tool.\n",
       "self.tools['AITeacher'].process()\n",
       "```"
      ],
      "text/plain": [
       "<IPython.core.display.Markdown object>"
      ]
     },
     "metadata": {},
     "output_type": "display_data"
    },
    {
     "data": {
      "text/markdown": [
       "**PrepareAI:** Great job on the MCQ! 🎉 With a perfect score of 1 out of 1, you've shown excellent understanding of Generative AI.Would you like to take on another challenge with a different topic, or is there a specific area you'd like to explore further?"
      ],
      "text/plain": [
       "<IPython.core.display.Markdown object>"
      ]
     },
     "metadata": {},
     "output_type": "display_data"
    },
    {
     "data": {
      "text/markdown": [
       "```python\n",
       "# Updating the progress for the Generative AI subject based on the MCQ performance.\n",
       "self.tools['LearningPlanManager'].update_progress(subject_name=\"Generative AI\", score=4.0)\n",
       "\n",
       "# Clearing the doubt since the student has answered the MCQ correctly.\n",
       "self.tools['ConceptTutor'].clear_doubts(doubt=\"Which of the following principles is often associated with the ethical considerations of using Generative AI technologies? A) Maximizing data collection for better model training  B) Transparency in algorithms and decision-making processes  C) Prioritizing user engagement over data privacy  D) Encouraging unregulated use of AI in creative fields\", context=\"Transparency in algorithms and decision-making processes\")\n",
       "\n",
       "# Responding to the student to ask if they want to take on another challenge or explore a specific area.\n",
       "self.tools['Responder'].respond(\"Great job on the MCQ! 🎉 With a perfect score of 1 out of 1, you've shown excellent understanding of Generative AI. Would you like to take on another challenge with a different topic, or is there a specific area you'd like to explore further?\")\n",
       "```"
      ],
      "text/plain": [
       "<IPython.core.display.Markdown object>"
      ]
     },
     "metadata": {},
     "output_type": "display_data"
    },
    {
     "data": {
      "text/markdown": [
       "**PrepareAI:** Great job on the MCQ! 🎉 With a perfect score of 1 out of 1, you've shown excellent understanding of Generative AI. Would you like to take on another challenge with a different topic, or is there a specific area you'd like to explore further?"
      ],
      "text/plain": [
       "<IPython.core.display.Markdown object>"
      ]
     },
     "metadata": {},
     "output_type": "display_data"
    }
   ],
   "source": [
    "orc.process_user_input(\"Transparency in algorithms and decision-making processes\")"
   ]
  },
  {
   "cell_type": "code",
   "execution_count": 65,
   "id": "f02cd490",
   "metadata": {},
   "outputs": [
    {
     "data": {
      "text/markdown": [
       "```python\n",
       "# Get a new MCQ question on the concept of Generative AI with the same difficulty level.\n",
       "question = self.tools['MCQExaminer'].get_question(subject='Generative AI', difficulty='advanced')\n",
       "\n",
       "# Present the new question to the user.\n",
       "self.tools['Responder'].respond(f\"Alright, here's another challenge for you:\\\n",
       "\\\n",
       "{question}\\\n",
       "\\\n",
       "Please provide your answer.\")\n",
       "```"
      ],
      "text/plain": [
       "<IPython.core.display.Markdown object>"
      ]
     },
     "metadata": {},
     "output_type": "display_data"
    },
    {
     "data": {
      "text/markdown": [
       "**PrepareAI:** Alright, here's another challenge for you:Which of the following statements best describes a fundamental challenge in the training of large generative AI models, particularly regarding their ability to create novel content?\n",
       "\n",
       "A) The models often lack sufficient computational resources, leading to incomplete training on diverse datasets.  \n",
       "B) Generative AI models can inadvertently replicate biases present in the training data, resulting in the generation of inappropriate or skewed content.  \n",
       "C) The complexity of language and human creativity poses a limitation on the model's ability to understand context and nuances in user inputs.  \n",
       "D) Large generative AI models struggle with the integration of real-time feedback from users, leading to static content generation that does not adapt to evolving trends.\n",
       "\n",
       "Select the most accurate answer that encompasses a critical aspect of the challenge faced by generative AI models.Please provide your answer."
      ],
      "text/plain": [
       "<IPython.core.display.Markdown object>"
      ]
     },
     "metadata": {},
     "output_type": "display_data"
    }
   ],
   "source": [
    "orc.process_user_input(\"Sure. give me another one.\")"
   ]
  },
  {
   "cell_type": "code",
   "execution_count": 66,
   "id": "59913d8a",
   "metadata": {},
   "outputs": [
    {
     "data": {
      "text/markdown": [
       "```python\n",
       "question = \"Which of the following statements best describes a fundamental challenge in the training of large generative AI models, particularly regarding their ability to create novel content?\\n\\nA) The models often lack sufficient computational resources, leading to incomplete training on diverse datasets.\\nB) Generative AI models can inadvertently replicate biases present in the training data, resulting in the generation of inappropriate or skewed content.\\nC) The complexity of language and human creativity poses a limitation on the model's ability to understand context and nuances in user inputs.\\nD) Large generative AI models struggle with the integration of real-time feedback from users, leading to static content generation that does not adapt to evolving trends.\"\n",
       "\n",
       "grader_response = self.tools['CodingPracticeTutor'].grade_answer(question = question, answer = \"D\")\n",
       "\n",
       "self.tools['Responder'].respond(grader_response)\n",
       "\n",
       "self.tools['AITeacher'].process()\n",
       "```"
      ],
      "text/plain": [
       "<IPython.core.display.Markdown object>"
      ]
     },
     "metadata": {},
     "output_type": "display_data"
    },
    {
     "data": {
      "text/markdown": [
       "**PrepareAI:** *Score* = 2/5\n",
       "\n",
       "*Explanation* = The user's answer (D) identifies a challenge related to the integration of real-time feedback, which is a valid concern in generative AI models. However, it does not address the more significant and general challenge of bias replication indicated in option B. Bias in training data is a fundamental issue that can lead to inappropriate or biased outputs, making this a more critical challenge in the generative AI space. Thus, while the user shows some understanding of generative AI issues, they missed the primary challenge highlighted.\n",
       "\n",
       "*Correct answer* = B. The correct answer is B, which focuses on the challenge of bias replication, differing from the user’s answer, which focused on feedback integration."
      ],
      "text/plain": [
       "<IPython.core.display.Markdown object>"
      ]
     },
     "metadata": {},
     "output_type": "display_data"
    },
    {
     "data": {
      "text/markdown": [
       "```python\n",
       "# Updating the memory with the new coding concept doubt\n",
       "self.tools['ConceptTutor'].clear_doubts(doubt=\"Why is B the correct answer?\", context=\"Which of the following statements best describes a fundamental challenge in the training of large generative AI models, particularly regarding their ability to create novel content? A) The models often lack sufficient computational resources, leading to incomplete training on diverse datasets. B) Generative AI models can inadvertently replicate biases present in the training data, resulting in the generation of inappropriate or skewed content. C) The complexity of language and human creativity poses a limitation on the model's ability to understand context and nuances in user inputs. D) Large generative AI models struggle with the integration of real-time feedback from users, leading to static content generation that does not adapt to evolving trends.\")\n",
       "\n",
       "# Responding to the user with the updated doubt clearing request.\n",
       "self.tools['Responder'].respond(\"I've updated the Concept Tutor with your doubt. Let's see if we can get clarification on why option B is the correct answer.  Do you want to continue with a new MCQ on Generative AI while we wait for the response?\")\n",
       "\n",
       "# Processing the next steps\n",
       "self.tools['AITeacher'].process()\n",
       "```"
      ],
      "text/plain": [
       "<IPython.core.display.Markdown object>"
      ]
     },
     "metadata": {},
     "output_type": "display_data"
    },
    {
     "data": {
      "text/markdown": [
       "**PrepareAI:** I've updated the Concept Tutor with your doubt. Let's see if we can get clarification on why option B is the correct answer.  Do you want to continue with a new MCQ on Generative AI while we wait for the response?"
      ],
      "text/plain": [
       "<IPython.core.display.Markdown object>"
      ]
     },
     "metadata": {},
     "output_type": "display_data"
    },
    {
     "data": {
      "text/markdown": [
       "```python\n",
       "# Get a new MCQ question on Generative AI while waiting for the Concept Tutor's response.\n",
       "question = self.tools['MCQExaminer'].get_question(\n",
       "    subject=\"Generative AI\",\n",
       "    difficulty=\"medium\"\n",
       ")\n",
       "\n",
       "# Respond with the new question.\n",
       "self.tools['Responder'].respond(f\"Here's another challenge for you: {question}\")\n",
       "```"
      ],
      "text/plain": [
       "<IPython.core.display.Markdown object>"
      ]
     },
     "metadata": {},
     "output_type": "display_data"
    },
    {
     "data": {
      "text/markdown": [
       "**PrepareAI:** Here's another challenge for you: Which of the following best describes the main purpose of training a generative adversarial network (GAN)?\n",
       "\n",
       "A) To classify images into predefined categories  \n",
       "B) To generate new data samples that resemble a training dataset  \n",
       "C) To enhance the resolution of images  \n",
       "D) To identify anomalies in a dataset  \n",
       "\n",
       "Choose the correct option."
      ],
      "text/plain": [
       "<IPython.core.display.Markdown object>"
      ]
     },
     "metadata": {},
     "output_type": "display_data"
    }
   ],
   "source": [
    "orc.process_user_input(\"D\")"
   ]
  },
  {
   "cell_type": "code",
   "execution_count": null,
   "id": "2ac170e7",
   "metadata": {},
   "outputs": [],
   "source": []
  }
 ],
 "metadata": {
  "kernelspec": {
   "display_name": "Python 3 (ipykernel)",
   "language": "python",
   "name": "python3"
  },
  "language_info": {
   "codemirror_mode": {
    "name": "ipython",
    "version": 3
   },
   "file_extension": ".py",
   "mimetype": "text/x-python",
   "name": "python",
   "nbconvert_exporter": "python",
   "pygments_lexer": "ipython3",
   "version": "3.12.4"
  }
 },
 "nbformat": 4,
 "nbformat_minor": 5
}
