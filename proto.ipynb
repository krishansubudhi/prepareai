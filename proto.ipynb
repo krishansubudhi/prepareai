{
 "cells": [
  {
   "cell_type": "code",
   "execution_count": 1,
   "id": "555f0693-3801-484a-a974-5ad4a7865871",
   "metadata": {},
   "outputs": [],
   "source": [
    "from dotenv import load_dotenv\n",
    "load_dotenv()\n",
    "from IPython.display import display, Markdown\n",
    "import tools_lib, planner_tool, memory_tool, tool\n",
    "import importlib\n",
    "importlib.reload(tool)\n",
    "importlib.reload(planner_tool)\n",
    "importlib.reload(memory_tool)\n",
    "importlib.reload(tools_lib)\n",
    "orc = tools_lib.Orchestrator(session_name = 'finetune3_o1')"
   ]
  },
  {
   "cell_type": "code",
   "execution_count": 2,
   "id": "4c50be95",
   "metadata": {},
   "outputs": [
    {
     "data": {
      "text/markdown": [
       "```python\n",
       "# First, let's greet the student and ask about their goals.\n",
       "\n",
       "self.tools['Responder'].respond(\"Hello! What subject or skill are you aiming to improve? Any specific goals in mind?\")\n",
       "```"
      ],
      "text/plain": [
       "<IPython.core.display.Markdown object>"
      ]
     },
     "metadata": {},
     "output_type": "display_data"
    },
    {
     "data": {
      "text/markdown": [
       "**PrepareAI:** Hello! What subject or skill are you aiming to improve? Any specific goals in mind?"
      ],
      "text/plain": [
       "<IPython.core.display.Markdown object>"
      ]
     },
     "metadata": {},
     "output_type": "display_data"
    }
   ],
   "source": [
    "response = '''Hello'''\n",
    "orc.process_user_input(response)"
   ]
  },
  {
   "cell_type": "code",
   "execution_count": 3,
   "id": "2cf1cc8d",
   "metadata": {},
   "outputs": [
    {
     "data": {
      "text/markdown": [
       "```python\n",
       "# Suggest a customized learning plan for coding interview preparation.\n",
       "plan = self.tools['LearningPlanManager'].suggest_learning_plan(\n",
       "    goal=\"Prepare for coding interview\"\n",
       ")\n",
       "\n",
       "# Respond to the student, informing them about the plan and asking for confirmation.\n",
       "self.tools['Responder'].respond(\n",
       "    f\"Here's a suggested learning plan to help you prepare for your coding interview:\\n\\n{plan}\\n\\nWould you like to lock this plan? (yes/no)\"\n",
       ")\n",
       "```"
      ],
      "text/plain": [
       "<IPython.core.display.Markdown object>"
      ]
     },
     "metadata": {},
     "output_type": "display_data"
    },
    {
     "data": {
      "text/markdown": [
       "**PrepareAI:** Here's a suggested learning plan to help you prepare for your coding interview:\n",
       "\n",
       "### Learning Plan: Prepare for Coding Interview\n",
       "\n",
       "#### 1. Data Structures and Algorithms (Importance: 1.0)\n",
       "   - **1.1. Arrays and Strings (Importance: 0.9)**\n",
       "     - Understand common operations\n",
       "     - Learn sorting algorithms\n",
       "     - Practice string manipulation challenges\n",
       "   - **1.2. Linked Lists (Importance: 0.8)**\n",
       "     - Single and double linked lists\n",
       "     - Common operations (insertion, deletion)\n",
       "   - **1.3. Trees and Graphs (Importance: 0.9)**\n",
       "     - Binary trees, binary search trees, heaps\n",
       "     - Graph traversal algorithms (DFS, BFS)\n",
       "   - **1.4. Hash Tables (Importance: 0.8)**\n",
       "     - Understanding hash functions and collisions\n",
       "     - Implementing and utilizing hash tables\n",
       "\n",
       "#### 2. Problem Solving Techniques (Importance: 0.9)\n",
       "   - **2.1. Recursion and Backtracking (Importance: 0.8)**\n",
       "     - Base cases and recursive cases\n",
       "     - Classic problems (N-Queens, Sudoku solver)\n",
       "   - **2.2. Dynamic Programming (Importance: 0.9)**\n",
       "     - Understanding memoization vs. tabulation\n",
       "     - Solving common DP problems (Fibonacci, knapsack)\n",
       "   - **2.3. Greedy Algorithms (Importance: 0.7)**\n",
       "     - When to use greedy vs. DP\n",
       "     - Classic greedy problems (coin change, interval scheduling)\n",
       "\n",
       "#### 3. System Design Basics (Importance: 0.7)\n",
       "   - **3.1. High-Level Design (Importance: 0.6)**\n",
       "     - Understanding components and architecture\n",
       "     - Use of APIs and services\n",
       "   - **3.2. Scalability and Performance (Importance: 0.6)**\n",
       "     - Load balancing and caching strategies\n",
       "   - **3.3. Databases (Importance: 0.6)**\n",
       "     - SQL vs. NoSQL databases\n",
       "     - Basics of indexing and query optimization\n",
       "\n",
       "#### 4. Coding Best Practices (Importance: 0.8)\n",
       "   - **4.1. Code Readability and Style (Importance: 0.7)**\n",
       "     - Following style guides (PEP 8 for Python, etc.)\n",
       "     - Writing clean, maintainable code\n",
       "   - **4.2. Testing (Importance: 0.6)**\n",
       "     - Unit testing and integration testing\n",
       "     - Common testing frameworks (JUnit, Pytest)\n",
       "\n",
       "#### 5. Behavioral Interview Preparation (Importance: 0.7)\n",
       "   - **5.1. STAR Method (Importance: 0.6)**\n",
       "     - Structuring responses to behavioral questions\n",
       "   - **5.2. Common Behavioral Questions (Importance: 0.6)**\n",
       "     - Practicing answers about teamwork, failure, success\n",
       "\n",
       "### Summary\n",
       "This learning plan focuses on essential subjects for successfully preparing for technical coding interviews, arranged for efficient progress. The plan can be adjusted based on prior knowledge and interview needs.\n",
       "\n",
       "Would you like to lock this plan? (yes/no)"
      ],
      "text/plain": [
       "<IPython.core.display.Markdown object>"
      ]
     },
     "metadata": {},
     "output_type": "display_data"
    }
   ],
   "source": [
    "response = '''I want to prepare for coding interview'''\n",
    "orc.process_user_input(response)"
   ]
  },
  {
   "cell_type": "code",
   "execution_count": 4,
   "id": "575b70b0",
   "metadata": {},
   "outputs": [
    {
     "data": {
      "text/markdown": [
       "```python\n",
       "# Updating the goal in memory to store the student's preference for a shorter course.\n",
       "self.tools['MemoryManager'].update_memory('coding_interview_preference', 'short_course')\n",
       "\n",
       "# Suggesting an adjusted learning plan focusing on removing behavioral interview preparation and limiting to 5 topics.\n",
       "adjusted_learning_plan = self.tools['LearningPlanManager'].suggest_learning_plan(\n",
       "    goal='Prepare for coding interview', \n",
       "    special_instruction='Remove behavioral interview part and focus on only 5 main topics.'\n",
       ")\n",
       "\n",
       "# Responding to the student with the adjusted learning plan and asking for confirmation to lock it.\n",
       "self.tools['Responder'].respond(\n",
       "    f\"Here's the updated learning plan:\\n\\n{adjusted_learning_plan}\\n\\nWould you like to lock this plan? (yes/no)\"\n",
       ")\n",
       "```"
      ],
      "text/plain": [
       "<IPython.core.display.Markdown object>"
      ]
     },
     "metadata": {},
     "output_type": "display_data"
    },
    {
     "data": {
      "text/markdown": [
       "**PrepareAI:** Here's the updated learning plan:\n",
       "\n",
       "### Learning Plan for Coding Interview Preparation\n",
       "\n",
       "#### 1. Data Structures (Importance: 1.0)\n",
       "   - **Arrays (Importance: 0.8)**\n",
       "   - **Linked Lists (Importance: 0.8)**\n",
       "   - **Stacks and Queues (Importance: 0.7)**\n",
       "   - **Hash Tables (Importance: 0.9)**\n",
       " \n",
       "#### 2. Algorithms (Importance: 1.0)\n",
       "   - **Sorting Algorithms (Importance: 0.8)**\n",
       "   - **Searching Algorithms (Importance: 0.9)**\n",
       "   - **Recursion and Backtracking (Importance: 0.8)**\n",
       " \n",
       "#### 3. Big O Notation and Time Complexity (Importance: 0.9)\n",
       "   - **Analyzing Time Complexity (Importance: 0.9)**\n",
       "   - **Space Complexity (Importance: 0.8)**\n",
       "\n",
       "#### 4. System Design Basics (Importance: 0.8)\n",
       "   - **High-Level System Design (Importance: 0.7)**\n",
       "   - **Database Design (Importance: 0.7)**\n",
       "\n",
       "#### 5. Problem-Solving Techniques (Importance: 0.9)\n",
       "   - **Greedy Algorithms (Importance: 0.7)**\n",
       "   - **Dynamic Programming (Importance: 0.9)**\n",
       "\n",
       "This plan focuses on fundamental topics that are crucial for a technical coding interview, emphasizing data structures and algorithms while ensuring a comprehensive understanding of performance characteristics and problem-solving methodologies. Each topic is weighted by its importance to strategy and success in coding interviews.\n",
       "\n",
       "Would you like to lock this plan? (yes/no)"
      ],
      "text/plain": [
       "<IPython.core.display.Markdown object>"
      ]
     },
     "metadata": {},
     "output_type": "display_data"
    }
   ],
   "source": [
    "orc.process_user_input('Remove the behavioural interview part and keep the course short. may be only 5 topics??')"
   ]
  },
  {
   "cell_type": "code",
   "execution_count": 5,
   "id": "9401496c",
   "metadata": {},
   "outputs": [
    {
     "data": {
      "text/markdown": [
       "```python\n",
       "# Lock the updated learning plan\n",
       "self.tools['LearningPlanManager'].lock_new_plan(\"### Learning Plan for Coding Interview Preparation\\n\\n#### 1. Data Structures (Importance: 1.0)\\n   - **Arrays (Importance: 0.8)**\\n   - **Linked Lists (Importance: 0.8)**\\n   - **Stacks and Queues (Importance: 0.7)**\\n   - **Hash Tables (Importance: 0.9)**\\n \\n#### 2. Algorithms (Importance: 1.0)\\n   - **Sorting Algorithms (Importance: 0.8)**\\n   - **Searching Algorithms (Importance: 0.9)**\\n   - **Recursion and Backtracking (Importance: 0.8)**\\n \\n#### 3. Big O Notation and Time Complexity (Importance: 0.9)\\n   - **Analyzing Time Complexity (Importance: 0.9)**\\n   - **Space Complexity (Importance: 0.8)**\\n\\n#### 4. System Design Basics (Importance: 0.8)\\n   - **High-Level System Design (Importance: 0.7)**\\n   - **Database Design (Importance: 0.7)**\\n\\n#### 5. Problem-Solving Techniques (Importance: 0.9)\\n   - **Greedy Algorithms (Importance: 0.7)**\\n   - **Dynamic Programming (Importance: 0.9)**\\n\\nThis plan focuses on fundamental topics that are crucial for a technical coding interview, emphasizing data structures and algorithms while ensuring a comprehensive understanding of performance characteristics and problem-solving methodologies. Each topic is weighted by its importance to strategy and success in coding interviews.\")\n",
       "\n",
       "# Respond to the user\n",
       "self.tools['Responder'].respond(\"Great! The plan is locked and you're all set to start your coding interview preparation. 🎉 \\n\\nWould you like to begin with a specific topic, or shall we start with Arrays?\")\n",
       "```"
      ],
      "text/plain": [
       "<IPython.core.display.Markdown object>"
      ]
     },
     "metadata": {},
     "output_type": "display_data"
    },
    {
     "data": {
      "text/markdown": [
       "```python\n",
       "# Initialize the learning plan for Coding Interview Preparation\n",
       "self._create_new_plan(\"Learning Plan for Coding Interview Preparation\")\n",
       "\n",
       "# Add main subjects with their importance\n",
       "self.add_subject(\"Data Structures\", 1.0)\n",
       "self.add_subject(\"Algorithms\", 1.0)\n",
       "self.add_subject(\"Big O Notation and Time Complexity\", 0.9)\n",
       "self.add_subject(\"System Design Basics\", 0.8)\n",
       "self.add_subject(\"Problem-Solving Techniques\", 0.9)\n",
       "\n",
       "# Add subtopics under Data Structures\n",
       "self.add_subject(\"Arrays\", 0.8, \"Data Structures\")\n",
       "self.add_subject(\"Linked Lists\", 0.8, \"Data Structures\")\n",
       "self.add_subject(\"Stacks and Queues\", 0.7, \"Data Structures\")\n",
       "self.add_subject(\"Hash Tables\", 0.9, \"Data Structures\")\n",
       "\n",
       "# Add subtopics under Algorithms\n",
       "self.add_subject(\"Sorting Algorithms\", 0.8, \"Algorithms\")\n",
       "self.add_subject(\"Searching Algorithms\", 0.9, \"Algorithms\")\n",
       "self.add_subject(\"Recursion and Backtracking\", 0.8, \"Algorithms\")\n",
       "\n",
       "# Add subtopics under Big O Notation and Time Complexity\n",
       "self.add_subject(\"Analyzing Time Complexity\", 0.9, \"Big O Notation and Time Complexity\")\n",
       "self.add_subject(\"Space Complexity\", 0.8, \"Big O Notation and Time Complexity\")\n",
       "\n",
       "# Add subtopics under System Design Basics\n",
       "self.add_subject(\"High-Level System Design\", 0.7, \"System Design Basics\")\n",
       "self.add_subject(\"Database Design\", 0.7, \"System Design Basics\")\n",
       "\n",
       "# Add subtopics under Problem-Solving Techniques\n",
       "self.add_subject(\"Greedy Algorithms\", 0.7, \"Problem-Solving Techniques\")\n",
       "self.add_subject(\"Dynamic Programming\", 0.9, \"Problem-Solving Techniques\")\n",
       "```"
      ],
      "text/plain": [
       "<IPython.core.display.Markdown object>"
      ]
     },
     "metadata": {},
     "output_type": "display_data"
    },
    {
     "data": {
      "text/markdown": [
       "**PrepareAI:** Great! The plan is locked and you're all set to start your coding interview preparation. 🎉 \n",
       "\n",
       "Would you like to begin with a specific topic, or shall we start with Arrays?"
      ],
      "text/plain": [
       "<IPython.core.display.Markdown object>"
      ]
     },
     "metadata": {},
     "output_type": "display_data"
    }
   ],
   "source": [
    "response = '''yes. lets go.'''\n",
    "orc.process_user_input(response)"
   ]
  },
  {
   "cell_type": "code",
   "execution_count": 6,
   "id": "3fe57e89",
   "metadata": {},
   "outputs": [
    {
     "data": {
      "text/markdown": [
       "```python\n",
       "# Start with a question on Arrays, as we are beginning the preparation.\n",
       "\n",
       "array_question = self.tools['CodingPracticeTutor'].get_question(\n",
       "    topic=\"Arrays - Basic Operations\", difficulty=\"easy\")\n",
       "\n",
       "questions = [\n",
       "    f\"Let's assess your understanding of a fundamental concept before we dive deeper. {array_question}\",\n",
       "    \"If you're feeling confident, we can jump straight into the basics with this Quick Check. Otherwise, let me know if you need to review first.\"\n",
       "]\n",
       "\n",
       "array_question = f\"{array_question}\\n\\n{self.tools['CodingPracticeTutor'].provide_hint(question=array_question)}\"\n",
       "\n",
       "self.tools[\"Responder\"].respond(\"\\n\".join(questions))\n",
       "```"
      ],
      "text/plain": [
       "<IPython.core.display.Markdown object>"
      ]
     },
     "metadata": {},
     "output_type": "display_data"
    },
    {
     "data": {
      "text/markdown": [
       "**PrepareAI:** Let's assess your understanding of a fundamental concept before we dive deeper. **Coding Question: Basic Array Operations**\n",
       "\n",
       "Write a function `arrayOperations(arr)` that takes an array of integers as input and performs the following operations:\n",
       "\n",
       "1. Calculate the sum of all elements in the array.\n",
       "2. Find the maximum value in the array.\n",
       "3. Count how many even numbers are in the array.\n",
       "4. Reverse the array.\n",
       "\n",
       "Your function should return an object with the following properties:\n",
       "- `sum`: the sum of all the elements.\n",
       "- `max`: the maximum element in the array.\n",
       "- `evenCount`: the count of even numbers.\n",
       "- `reversed`: the reversed array.\n",
       "\n",
       "**Example Input:**\n",
       "```javascript\n",
       "arrayOperations([1, 2, 3, 4, 5])\n",
       "```\n",
       "\n",
       "**Example Output:**\n",
       "```javascript\n",
       "{\n",
       "  sum: 15,\n",
       "  max: 5,\n",
       "  evenCount: 2,\n",
       "  reversed: [5, 4, 3, 2, 1]\n",
       "}\n",
       "```\n",
       "\n",
       "Please make sure to handle cases where the input array is empty by returning appropriate values in the object.\n",
       "If you're feeling confident, we can jump straight into the basics with this Quick Check. Otherwise, let me know if you need to review first."
      ],
      "text/plain": [
       "<IPython.core.display.Markdown object>"
      ]
     },
     "metadata": {},
     "output_type": "display_data"
    }
   ],
   "source": [
    "orc.process_user_input('Sure shoot')"
   ]
  },
  {
   "cell_type": "code",
   "execution_count": 8,
   "id": "239f9b5b",
   "metadata": {},
   "outputs": [
    {
     "data": {
      "text/markdown": [
       "```python\n",
       "question = \"\"\"Write a function `arrayOperations(arr)` that takes an array of integers as input and performs the following operations:\n",
       "\n",
       "1. Calculate the sum of all elements in the array.\n",
       "2. Find the maximum value in the array.\n",
       "3. Count how many even numbers are in the array.\n",
       "4. Reverse the array.\n",
       "\n",
       "Your function should return an object with the following properties:\n",
       "- `sum`: the sum of all the elements.\n",
       "- `max`: the maximum element in the array.\n",
       "- `evenCount`: the count of even numbers.\n",
       "- `reversed`: the reversed array.\n",
       "\n",
       "Example Input:\n",
       "```javascript\n",
       "arrayOperations([1, 2, 3, 4, 5])\n",
       "```\n",
       "\n",
       "Example Output:\n",
       "```javascript\n",
       "{\n",
       "  sum: 15,\n",
       "  max: 5,\n",
       "  evenCount: 2,\n",
       "  reversed: [5, 4, 3, 2, 1]\n",
       "}\n",
       "```\n",
       "\n",
       "Please make sure to handle cases where the input array is empty by returning appropriate values in the object.\n",
       "\"\"\"\n",
       "\n",
       "answer = \"\"\"@dataclass\n",
       "class Result:\n",
       "sum:int\n",
       "max:int\n",
       "evenCount:int\n",
       "reversed:list\n",
       "    def arrayOperations(arr:list):\n",
       "return Result(sum(arr), max(arr), len([a if a%2 == 0]), arr[::-1])\n",
       "\"\"\"\n",
       "\n",
       "response = self.tools['CodingPracticeTutor'].grade_answer(question = question, answer = answer)\n",
       "\n",
       "self.tools['Responder'].respond(response)\n",
       "\n",
       "```"
      ],
      "text/plain": [
       "<IPython.core.display.Markdown object>"
      ]
     },
     "metadata": {},
     "output_type": "display_data"
    },
    {
     "data": {
      "text/markdown": [
       "**PrepareAI:** *Score* = 2/5\n",
       "\n",
       "*Explanation* = The user attempted to implement the function, but there are several issues with the answer:\n",
       "1. The use of `@dataclass` is not appropriate in this context; Python's dataclass should be used to create classes that are data containers, and there's no necessary use of this here.\n",
       "2. The `Result` class is not instantiated correctly; the correct way to create an instance would be `Result(...)`, not just the name.\n",
       "3. The `max` function will throw an error if the input array is empty, as it cannot find a maximum value.\n",
       "4. The syntax for counting even numbers is incorrect; using a list comprehension and then calculating its length works, but the expression is not correctly formatted.\n",
       "5. The function should handle the case where the input array is empty, which is not addressed.\n",
       "6. No return statement is provided in the function for returning the results.\n",
       "\n",
       "*Correct answer* = \n",
       "```python\n",
       "def arrayOperations(arr):\n",
       "    result = {\n",
       "        \"sum\": sum(arr),\n",
       "        \"max\": max(arr) if arr else None,\n",
       "        \"evenCount\": len([a for a in arr if a % 2 == 0]),\n",
       "        \"reversed\": arr[::-1],\n",
       "    }\n",
       "    return result\n",
       "```\n",
       "Differences with user's answer:\n",
       "- Properly handles empty input for maximum and uses correct list comprehension syntax.\n",
       "- Uses a dictionary for clean returns instead of a dataclass.\n",
       "- Completes the function with proper return statement and error handling."
      ],
      "text/plain": [
       "<IPython.core.display.Markdown object>"
      ]
     },
     "metadata": {},
     "output_type": "display_data"
    }
   ],
   "source": [
    "response = '''\n",
    "@dataclass\n",
    "class Result:\n",
    "    sum:int\n",
    "    max:int\n",
    "    evenCount:int\n",
    "    reversed:list\n",
    "def arrayOperations(arr:list):\n",
    "    return Result(sum(arr), max(arr), len([a if a%2 == 0]), arr[::-1])\n",
    "'''\n",
    "orc.process_user_input(response)"
   ]
  },
  {
   "cell_type": "code",
   "execution_count": null,
   "id": "d071098c",
   "metadata": {},
   "outputs": [],
   "source": []
  }
 ],
 "metadata": {
  "kernelspec": {
   "display_name": "pai",
   "language": "python",
   "name": "python3"
  },
  "language_info": {
   "codemirror_mode": {
    "name": "ipython",
    "version": 3
   },
   "file_extension": ".py",
   "mimetype": "text/x-python",
   "name": "python",
   "nbconvert_exporter": "python",
   "pygments_lexer": "ipython3",
   "version": "3.12.4"
  }
 },
 "nbformat": 4,
 "nbformat_minor": 5
}
