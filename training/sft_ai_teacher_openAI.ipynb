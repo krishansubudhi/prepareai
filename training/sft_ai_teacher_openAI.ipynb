{
 "cells": [
  {
   "cell_type": "code",
   "execution_count": 158,
   "metadata": {},
   "outputs": [],
   "source": [
    "import json,re\n",
    "import pandas as pd\n",
    "import openai\n",
    "from IPython.display import display, Markdown"
   ]
  },
  {
   "cell_type": "code",
   "execution_count": 113,
   "metadata": {},
   "outputs": [
    {
     "name": "stdout",
     "output_type": "stream",
     "text": [
      "<class 'pandas.core.frame.DataFrame'>\n",
      "RangeIndex: 15 entries, 0 to 14\n",
      "Data columns (total 2 columns):\n",
      " #   Column  Non-Null Count  Dtype \n",
      "---  ------  --------------  ----- \n",
      " 0   prompt  15 non-null     object\n",
      " 1   code    15 non-null     object\n",
      "dtypes: object(2)\n",
      "memory usage: 372.0+ bytes\n"
     ]
    }
   ],
   "source": [
    "training_df = pd.read_json(\"training_data_fixed.jsonl\", lines=True)\n",
    "training_df.info()"
   ]
  },
  {
   "cell_type": "code",
   "execution_count": 147,
   "metadata": {},
   "outputs": [
    {
     "data": {
      "text/plain": [
       "{'preamble': 'You are an AI Teacher guiding a student toward their goals. Prepare customized plans, track their progress and skills, and personalize your responses using humor, challenges, and appreciation based on their personality ,goal and progreass.',\n",
       " 'Tools Available': \"- 'MemoryManager':\\n\\n    A class to manage in-memory short key-value pairs along with their update timestamps.\\n    \\n    \\n    * `get_memory(key: str) -> str` \\t# Retrieves the value associated with a given key from memory.\\n    \\n    * `get_memory_snapshot() -> str` \\t# Retrieves a formatted snapshot of the memory, showing keys, values and the time elapsed since their last update.\\n    \\n    * `update_memory(key: str, value: str) -> None` \\t# Updates the memory with a new short key-value pair. Make sure values are less than 200 characters.\\n\\n- 'MCQExaminer':\\n\\n    * `get_question(subject: str, difficulty: str) -> str` \\t# Get an MCQ question based on the subject and difficulty level.\\n    \\n    * `grade_answer(question: str, answer: str) -> str` \\t# Provide feedback on the given answer for the specified question. \\n    Includes correct answer and explanation if possible.\\n    \\n    * `provide_hint(question: str) -> str` \\t# Provide a hint related to a specific MCQ question.\\n\\n- 'CodingPracticeTutor':\\n\\n    * `get_question(topic: str, difficulty: str) -> str` \\t# Get a coding question based on the topic and difficulty level.\\n    \\n    * `grade_answer(question: str, answer: str) -> str` \\t# Provide feedback on the given answer for the specified question. \\n    Includes correct answer and explanation if possible.\\n    \\n    * `provide_hint(question: str) -> str` \\t# Provide a hint related to a specific coding problem.\\n\\n- 'ConceptTutor':\\n\\n    * `clear_doubts(doubt: str, context: str) -> str` \\t# clear doubt based on the give context.\\n    \\n    * `teach(topic: str, context: str) -> str` \\t# Teach the concepts of a topic. Personalized based on context. Keep it concise but helpful. Adjust difficulty based on context.\\n\\n- 'Responder':\\n\\n    * `respond(message: str)` \\t# Respond to the user with markdown message\\n\\n- 'LearningPlanManager':\\n\\n    * `lock_new_plan(plan: str)` \\t# Locks the new plan\\n    \\n    * `suggest_learning_plan(goal: str, special_instruction: str) -> str` \\t# Returns a formatted learning plan based on the user's goal and special_instruction. This does not finalize or store the plan.\\n\\n- 'AITeacher':\\n\\n    * `process(input_text: str, additional_info: dict = None)` \\t# Plans and executes the next steps based on input text and additional_info, using available tools and past conversation history.\\n    \\n    Args:\\ninput_text (str): User's input.\\nadditional_info (dict): Placeholder to pass information during recursive calls.\",\n",
       " 'Memory': '',\n",
       " 'Additional Context Gathered': '',\n",
       " 'Conversation History (Last 10)': '-',\n",
       " 'Additional Info': 'None',\n",
       " 'Learning Plan': 'No plan locked yet.',\n",
       " 'Current Time': '2024-09-03 16:55:33.860453',\n",
       " 'Instructions': \"- Generate Only Python Code to call the appropriate tools only using self.tools['<toolname>'].method(args).\\n- No New Methods/Classes: Only use provided tools/methods.\\n- Memory: Store short but important information in memory which might be needed later.\\n- LearningPlan: Focus on locking a customized learning plan to track progress.\\n- Confirmation: Confirm with user before changing anything.\\n- Responder: User responder to respond to the user. Always respond with a question.\\n- Code guidelines: Always end the python code with either a Responder or AITeacher tool call.\",\n",
       " 'Student Input': 'Student: Hello'}"
      ]
     },
     "execution_count": 147,
     "metadata": {},
     "output_type": "execute_result"
    }
   ],
   "source": [
    "def etract_components(prompt):\n",
    "    pattern = r'''(.*)# Tools Available:(.*)# Memory:(.*)# Additional Context Gathered:(.*)# Conversation History \\(Last .+\\):(.*)# Additional Info:(.*)# Learning Plan:(.*)# Current Time:(.*)# Instructions:(.*)# Here is the last input from student.(.*)# Plan code:'''\n",
    "\n",
    "    match = re.search(pattern, prompt, re.DOTALL)\n",
    "\n",
    "    if match:\n",
    "        preamble = match.group(1).strip()\n",
    "        tools_available = match.group(2).strip()\n",
    "        memory = match.group(3).strip()\n",
    "        additional_context = match.group(4).strip()\n",
    "        conversation_history = match.group(5).strip()\n",
    "        additional_info = match.group(6).strip()\n",
    "        learning_plan = match.group(7).strip()\n",
    "        current_time = match.group(8).strip()\n",
    "        instructions = match.group(9).strip()\n",
    "        student_input = match.group(10).strip()\n",
    "        # Create a dictionary with the extracted values\n",
    "        data = {\n",
    "            \"preamble\": preamble,\n",
    "            \"Tools Available\": tools_available,\n",
    "            \"Memory\": memory,\n",
    "            \"Additional Context Gathered\": additional_context,\n",
    "            \"Conversation History (Last 10)\": conversation_history,\n",
    "            \"Additional Info\": additional_info,\n",
    "            \"Learning Plan\": learning_plan,\n",
    "            \"Current Time\": current_time,\n",
    "            \"Instructions\": instructions,\n",
    "            \"Student Input\": student_input\n",
    "        }\n",
    "\n",
    "        # Print the dictionary\n",
    "        return data\n",
    "\n",
    "    else:\n",
    "        print(match)\n",
    "        raise ValueError(\"regex not matching :\")\n",
    "# print(training_df.prompt.iloc[0])\n",
    "etract_components(training_df.prompt.iloc[0])"
   ]
  },
  {
   "cell_type": "code",
   "execution_count": 152,
   "metadata": {},
   "outputs": [
    {
     "data": {
      "text/html": [
       "<div>\n",
       "<style scoped>\n",
       "    .dataframe tbody tr th:only-of-type {\n",
       "        vertical-align: middle;\n",
       "    }\n",
       "\n",
       "    .dataframe tbody tr th {\n",
       "        vertical-align: top;\n",
       "    }\n",
       "\n",
       "    .dataframe thead th {\n",
       "        text-align: right;\n",
       "    }\n",
       "</style>\n",
       "<table border=\"1\" class=\"dataframe\">\n",
       "  <thead>\n",
       "    <tr style=\"text-align: right;\">\n",
       "      <th></th>\n",
       "      <th>prompt</th>\n",
       "      <th>code</th>\n",
       "      <th>preamble</th>\n",
       "      <th>Tools Available</th>\n",
       "      <th>Memory</th>\n",
       "      <th>Additional Context Gathered</th>\n",
       "      <th>Conversation History (Last 10)</th>\n",
       "      <th>Additional Info</th>\n",
       "      <th>Learning Plan</th>\n",
       "      <th>Current Time</th>\n",
       "      <th>Instructions</th>\n",
       "      <th>Student Input</th>\n",
       "    </tr>\n",
       "  </thead>\n",
       "  <tbody>\n",
       "    <tr>\n",
       "      <th>0</th>\n",
       "      <td>\\nYou are an AI Teacher guiding a student towa...</td>\n",
       "      <td>```python\\nself.tools['Responder'].respond(\"He...</td>\n",
       "      <td>You are an AI Teacher guiding a student toward...</td>\n",
       "      <td>- 'MemoryManager':\\n\\n    A class to manage in...</td>\n",
       "      <td></td>\n",
       "      <td></td>\n",
       "      <td>-</td>\n",
       "      <td>None</td>\n",
       "      <td>No plan locked yet.</td>\n",
       "      <td>2024-09-03 16:55:33.860453</td>\n",
       "      <td>- Generate Only Python Code to call the approp...</td>\n",
       "      <td>Student: Hello</td>\n",
       "    </tr>\n",
       "    <tr>\n",
       "      <th>1</th>\n",
       "      <td>\\nYou are an AI Teacher guiding a student towa...</td>\n",
       "      <td>```python\\n\\n# Update memory with learning goa...</td>\n",
       "      <td>You are an AI Teacher guiding a student toward...</td>\n",
       "      <td>- 'MemoryManager':\\n\\n    A class to manage in...</td>\n",
       "      <td></td>\n",
       "      <td></td>\n",
       "      <td>- *student*: Hello\\n\\n- *Tutor*: Hello there! ...</td>\n",
       "      <td>None</td>\n",
       "      <td>No plan locked yet.</td>\n",
       "      <td>2024-09-03 16:55:53.272397</td>\n",
       "      <td>- Generate Only Python Code to call the approp...</td>\n",
       "      <td>Student: Ds algo</td>\n",
       "    </tr>\n",
       "    <tr>\n",
       "      <th>2</th>\n",
       "      <td>\\nYou are an AI Teacher guiding a student towa...</td>\n",
       "      <td>```python\\n# Lock the suggested learning plan\\...</td>\n",
       "      <td>You are an AI Teacher guiding a student toward...</td>\n",
       "      <td>- 'MemoryManager':\\n\\n    A class to manage in...</td>\n",
       "      <td>learning_goal: Ds algo (updated 2m 36s ago)</td>\n",
       "      <td></td>\n",
       "      <td>- *student*: Hello\\n\\n- *Tutor*: Hello there! ...</td>\n",
       "      <td>None</td>\n",
       "      <td>No plan locked yet.</td>\n",
       "      <td>2024-09-03 16:58:31.617221</td>\n",
       "      <td>- Generate Only Python Code to call the approp...</td>\n",
       "      <td>Student: Sure go ahead.</td>\n",
       "    </tr>\n",
       "    <tr>\n",
       "      <th>3</th>\n",
       "      <td>\\nYou are an AI Teacher guiding a student towa...</td>\n",
       "      <td>```python\\nself.tools['Responder'].respond(\"Aw...</td>\n",
       "      <td>You are an AI Teacher guiding a student toward...</td>\n",
       "      <td>- 'MemoryManager':\\n\\n    A class to manage in...</td>\n",
       "      <td>learning_goal: Ds algo (updated 12m 13s ago)\\n...</td>\n",
       "      <td></td>\n",
       "      <td>- *student*: Hello\\n\\n- *Tutor*: Hello there! ...</td>\n",
       "      <td>None</td>\n",
       "      <td>- **Learning Plan** (Importance: 1, Score: 0.0...</td>\n",
       "      <td>2024-09-03 17:08:08.092343</td>\n",
       "      <td>- Generate Only Python Code to call the approp...</td>\n",
       "      <td>Student: Sure, let's dive into Arrays and Stri...</td>\n",
       "    </tr>\n",
       "    <tr>\n",
       "      <th>4</th>\n",
       "      <td>\\nYou are an AI Teacher guiding a student towa...</td>\n",
       "      <td>```python\\n# Set the default programming langu...</td>\n",
       "      <td>You are an AI Teacher guiding a student toward...</td>\n",
       "      <td>- 'MemoryManager':\\n\\n    A class to manage in...</td>\n",
       "      <td>learning_goal: Ds algo (updated 14m 40s ago)\\n...</td>\n",
       "      <td></td>\n",
       "      <td>- *student*: Hello\\n\\n- *Tutor*: Hello there! ...</td>\n",
       "      <td>None</td>\n",
       "      <td>- **Learning Plan** (Importance: 1, Score: 0.0...</td>\n",
       "      <td>2024-09-03 17:10:35.564302</td>\n",
       "      <td>- Generate Only Python Code to call the approp...</td>\n",
       "      <td>Student:  Yeah, sure. Arrays and strings sound...</td>\n",
       "    </tr>\n",
       "  </tbody>\n",
       "</table>\n",
       "</div>"
      ],
      "text/plain": [
       "                                              prompt  \\\n",
       "0  \\nYou are an AI Teacher guiding a student towa...   \n",
       "1  \\nYou are an AI Teacher guiding a student towa...   \n",
       "2  \\nYou are an AI Teacher guiding a student towa...   \n",
       "3  \\nYou are an AI Teacher guiding a student towa...   \n",
       "4  \\nYou are an AI Teacher guiding a student towa...   \n",
       "\n",
       "                                                code  \\\n",
       "0  ```python\\nself.tools['Responder'].respond(\"He...   \n",
       "1  ```python\\n\\n# Update memory with learning goa...   \n",
       "2  ```python\\n# Lock the suggested learning plan\\...   \n",
       "3  ```python\\nself.tools['Responder'].respond(\"Aw...   \n",
       "4  ```python\\n# Set the default programming langu...   \n",
       "\n",
       "                                            preamble  \\\n",
       "0  You are an AI Teacher guiding a student toward...   \n",
       "1  You are an AI Teacher guiding a student toward...   \n",
       "2  You are an AI Teacher guiding a student toward...   \n",
       "3  You are an AI Teacher guiding a student toward...   \n",
       "4  You are an AI Teacher guiding a student toward...   \n",
       "\n",
       "                                     Tools Available  \\\n",
       "0  - 'MemoryManager':\\n\\n    A class to manage in...   \n",
       "1  - 'MemoryManager':\\n\\n    A class to manage in...   \n",
       "2  - 'MemoryManager':\\n\\n    A class to manage in...   \n",
       "3  - 'MemoryManager':\\n\\n    A class to manage in...   \n",
       "4  - 'MemoryManager':\\n\\n    A class to manage in...   \n",
       "\n",
       "                                              Memory  \\\n",
       "0                                                      \n",
       "1                                                      \n",
       "2        learning_goal: Ds algo (updated 2m 36s ago)   \n",
       "3  learning_goal: Ds algo (updated 12m 13s ago)\\n...   \n",
       "4  learning_goal: Ds algo (updated 14m 40s ago)\\n...   \n",
       "\n",
       "  Additional Context Gathered  \\\n",
       "0                               \n",
       "1                               \n",
       "2                               \n",
       "3                               \n",
       "4                               \n",
       "\n",
       "                      Conversation History (Last 10) Additional Info  \\\n",
       "0                                                  -            None   \n",
       "1  - *student*: Hello\\n\\n- *Tutor*: Hello there! ...            None   \n",
       "2  - *student*: Hello\\n\\n- *Tutor*: Hello there! ...            None   \n",
       "3  - *student*: Hello\\n\\n- *Tutor*: Hello there! ...            None   \n",
       "4  - *student*: Hello\\n\\n- *Tutor*: Hello there! ...            None   \n",
       "\n",
       "                                       Learning Plan  \\\n",
       "0                                No plan locked yet.   \n",
       "1                                No plan locked yet.   \n",
       "2                                No plan locked yet.   \n",
       "3  - **Learning Plan** (Importance: 1, Score: 0.0...   \n",
       "4  - **Learning Plan** (Importance: 1, Score: 0.0...   \n",
       "\n",
       "                 Current Time  \\\n",
       "0  2024-09-03 16:55:33.860453   \n",
       "1  2024-09-03 16:55:53.272397   \n",
       "2  2024-09-03 16:58:31.617221   \n",
       "3  2024-09-03 17:08:08.092343   \n",
       "4  2024-09-03 17:10:35.564302   \n",
       "\n",
       "                                        Instructions  \\\n",
       "0  - Generate Only Python Code to call the approp...   \n",
       "1  - Generate Only Python Code to call the approp...   \n",
       "2  - Generate Only Python Code to call the approp...   \n",
       "3  - Generate Only Python Code to call the approp...   \n",
       "4  - Generate Only Python Code to call the approp...   \n",
       "\n",
       "                                       Student Input  \n",
       "0                                     Student: Hello  \n",
       "1                                   Student: Ds algo  \n",
       "2                            Student: Sure go ahead.  \n",
       "3  Student: Sure, let's dive into Arrays and Stri...  \n",
       "4  Student:  Yeah, sure. Arrays and strings sound...  "
      ]
     },
     "execution_count": 152,
     "metadata": {},
     "output_type": "execute_result"
    }
   ],
   "source": [
    "prompt_components_df = pd.json_normalize(training_df.prompt.apply(etract_components))\n",
    "components_df  = pd.concat([training_df, prompt_components_df], axis = 1)\n",
    "components_df.head()"
   ]
  },
  {
   "cell_type": "code",
   "execution_count": 159,
   "metadata": {},
   "outputs": [
    {
     "data": {
      "text/markdown": [
       "```python\n",
       "self.tools['Responder'].respond(\"Hello there! What subject or skill are you aiming to improve? Let's set some goals to get started.\")\n",
       "```\n"
      ],
      "text/plain": [
       "<IPython.core.display.Markdown object>"
      ]
     },
     "metadata": {},
     "output_type": "display_data"
    }
   ],
   "source": [
    "display(Markdown(training_df['code'].iloc[0]))"
   ]
  },
  {
   "cell_type": "markdown",
   "metadata": {},
   "source": [
    "# Evaluation metric\n",
    "\n",
    "1. fraction of Correct Method calls - jaccard distance\n",
    "2. Edit distance\n",
    "3. "
   ]
  },
  {
   "cell_type": "code",
   "execution_count": 165,
   "metadata": {},
   "outputs": [
    {
     "name": "stdout",
     "output_type": "stream",
     "text": [
      "1\n"
     ]
    }
   ],
   "source": [
    "def list_levenshtein_distance(list1, list2):\n",
    "    \"\"\"\n",
    "    Calculate the Levenshtein distance between two lists of words.\n",
    "\n",
    "    :param list1: First list of words.\n",
    "    :param list2: Second list of words.\n",
    "    :return: The Levenshtein distance between the two lists.\n",
    "    \"\"\"\n",
    "    m, n = len(list1), len(list2)\n",
    "    dp = [[0] * (n + 1) for _ in range(m + 1)]\n",
    "\n",
    "    # Initialize the distance matrix\n",
    "    for i in range(m + 1):\n",
    "        dp[i][0] = i\n",
    "    for j in range(n + 1):\n",
    "        dp[0][j] = j\n",
    "\n",
    "    # Compute the distance matrix\n",
    "    for i in range(1, m + 1):\n",
    "        for j in range(1, n + 1):\n",
    "            cost = 0 if list1[i - 1] == list2[j - 1] else 1\n",
    "            dp[i][j] = min(dp[i - 1][j] + 1,    # Deletion\n",
    "                           dp[i][j - 1] + 1,    # Insertion\n",
    "                           dp[i - 1][j - 1] + cost)  # Substitution\n",
    "\n",
    "    return dp[m][n]\n",
    "\n",
    "# Example usage\n",
    "list1 = ['apple', 'banana', 'cherry']\n",
    "list2 = ['apple', 'banana', 'banana']\n",
    "\n",
    "print(list_levenshtein_distance(list1, list2))  # Output: edit distance between the two lists\n",
    "\n",
    "def jaccard_similarity(list1, list2):\n",
    "    \"\"\"\n",
    "    Calculate the Jaccard Similarity between two lists of words.\n",
    "\n",
    "    :param list1: First list of words.\n",
    "    :param list2: Second list of words.\n",
    "    :return: The Jaccard Similarity between the two lists.\n",
    "    \"\"\"\n",
    "    set1 = set(list1)\n",
    "    set2 = set(list2)\n",
    "    \n",
    "    intersection = len(set1.intersection(set2))\n",
    "    union = len(set1.union(set2))\n",
    "    \n",
    "    return intersection / union if union != 0 else 0\n",
    "\n",
    "def jaccard_distance(list1, list2):\n",
    "    \"\"\"\n",
    "    Calculate the Jaccard Distance between two lists of words.\n",
    "\n",
    "    :param list1: First list of words.\n",
    "    :param list2: Second list of words.\n",
    "    :return: The Jaccard Distance between the two lists.\n",
    "    \"\"\"\n",
    "    return 1 - jaccard_similarity(list1, list2)\n",
    "\n"
   ]
  },
  {
   "cell_type": "code",
   "execution_count": 169,
   "metadata": {},
   "outputs": [
    {
     "data": {
      "text/markdown": [
       "```python\n",
       "\n",
       "# Update memory with learning goal\n",
       "self.tools['MemoryManager'].update_memory('goal', 'Improve DS Algo')\n",
       "\n",
       "# Suggest a customized learning plan for the goal\n",
       "learning_plan = self.tools['LearningPlanManager'].suggest_learning_plan(goal='Improve DS Algo')\n",
       "\n",
       "# Provide the suggested learning plan to the user for confirmation\n",
       "self.tools['Responder'].respond(f\"Great! Let's dive into Data Structures and Algorithms. Here's a plan I suggest:\n",
       "\n",
       "{learning_plan}\n",
       "\n",
       "Shall we lock this plan and get started?\")\n",
       "\n",
       "```\n"
      ],
      "text/plain": [
       "<IPython.core.display.Markdown object>"
      ]
     },
     "metadata": {},
     "output_type": "display_data"
    },
    {
     "data": {
      "text/plain": [
       "[('MemoryManager', 'update_memory'),\n",
       " ('LearningPlanManager', 'suggest_learning_plan'),\n",
       " ('Responder', 'respond')]"
      ]
     },
     "execution_count": 169,
     "metadata": {},
     "output_type": "execute_result"
    }
   ],
   "source": [
    "display(Markdown(training_df.code.iloc[1]))\n",
    "\n",
    "def extract_tools_and_methods(code_string):\n",
    "    \"\"\"\n",
    "    Extract tools and their methods from a code string.\n",
    "\n",
    "    :param code_string: String containing the code with tool method calls.\n",
    "    :return: List of tuples where each tuple contains the tool and its method.\n",
    "    \"\"\"\n",
    "    # Regular expression to match tool and method calls\n",
    "    pattern = re.compile(r\"self\\.tools\\['(\\w+)'\\]\\.(\\w+)\\(\")\n",
    "    \n",
    "    # Find all matches\n",
    "    matches = pattern.findall(code_string)\n",
    "    \n",
    "    # Create a list of tuples (tool, method)\n",
    "    tools_and_methods = [(match[0], match[1]) for match in matches]\n",
    "    \n",
    "    return tools_and_methods\n",
    "\n",
    "extract_tools_and_methods(training_df.code.iloc[1])"
   ]
  },
  {
   "cell_type": "code",
   "execution_count": null,
   "metadata": {},
   "outputs": [],
   "source": [
    "def evaluate(gt, pred):\n",
    "    gt_tools_methods = extract_tools_and_methods(gt)\n",
    "    pred_tools_methods = extract_tools_and_methods(pred)\n",
    "    return {\n",
    "        'jaccard_distance' : jaccard_distance(gt_tools_methods, pred_tools_methods),\n",
    "        'edit_distance': \n",
    "    }"
   ]
  },
  {
   "cell_type": "markdown",
   "metadata": {},
   "source": [
    "# Finetune openAI\n"
   ]
  }
 ],
 "metadata": {
  "kernelspec": {
   "display_name": "pai",
   "language": "python",
   "name": "python3"
  },
  "language_info": {
   "name": "python",
   "version": "3.12.4"
  }
 },
 "nbformat": 4,
 "nbformat_minor": 2
}
