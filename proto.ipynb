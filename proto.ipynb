{
 "cells": [
  {
   "cell_type": "code",
   "execution_count": 172,
   "id": "555f0693-3801-484a-a974-5ad4a7865871",
   "metadata": {},
   "outputs": [],
   "source": [
    "from dotenv import load_dotenv\n",
    "load_dotenv()\n",
    "from IPython.display import display, Markdown\n",
    "import tools_lib, planner_tool, memory_tool, tool\n",
    "import importlib\n",
    "importlib.reload(tool)\n",
    "importlib.reload(planner_tool)\n",
    "importlib.reload(memory_tool)\n",
    "importlib.reload(tools_lib)\n",
    "orc = tools_lib.Orchestrator(session_name = 'finetune1_temp3')\n",
    "# orc = tools_lib.Orchestrator.load_session('finetune1_temp3')"
   ]
  },
  {
   "cell_type": "code",
   "execution_count": 173,
   "id": "81c77146",
   "metadata": {},
   "outputs": [
    {
     "data": {
      "text/plain": [
       "[]"
      ]
     },
     "execution_count": 173,
     "metadata": {},
     "output_type": "execute_result"
    }
   ],
   "source": [
    "# orc.chat_session.session_history = orc.chat_session.session_history[:-2]\n",
    "orc.chat_session.session_history"
   ]
  },
  {
   "cell_type": "code",
   "execution_count": 174,
   "id": "536ad6b8",
   "metadata": {},
   "outputs": [
    {
     "data": {
      "text/markdown": [
       "```python\n",
       "\n",
       "# Let's suggest a learning plan tailored to enhancing design skills, focusing on the specifics of what the student wishes to learn.\n",
       "learning_plan = self.tools['LearningPlanManager'].suggest_learning_plan(\n",
       "    goal='Improve design skills', special_instruction='Include resources, exercises, and a roadmap.'\n",
       ")\n",
       "\n",
       "# Notify the student of the suggested plan for confirmation before locking it into memory.\n",
       "response_message = f\"Here's a suggested learning plan to enhance your design skills:\n",
       "\n",
       "{learning_plan}\n",
       "\n",
       "Shall I lock this plan for tracking your progress?\"\n",
       "self.tools['Responder'].respond(response_message)\n",
       "\n",
       "# If the user agrees, lock the plan.\n",
       "if user_response:\n",
       "    self.tools['LearningPlanManager'].lock_new_plan(learning_plan)\n",
       "    self.tools['Responder'].respond(\"Great! The plan has been locked, and we can now track your progress. Let's start by reviewing the first topic.\")\n",
       "    \n",
       "    # Start by getting the first topic of the plan to kick off the learning process.\n",
       "    first_topic = learning_plan.get_first_topic()\n",
       "    self.tools['ConceptTutor'].get_concept(topic=first_topic, context='beginner')\n",
       "\n",
       "else:\n",
       "    self.tools['Responder'].respond(\"Alright! If there's anything specific you want to focus on or change, let me know.\")\n",
       "```"
      ],
      "text/plain": [
       "<IPython.core.display.Markdown object>"
      ]
     },
     "metadata": {},
     "output_type": "display_data"
    },
    {
     "name": "stdout",
     "output_type": "stream",
     "text": [
      "Error executing LLM-generated code: unterminated f-string literal (detected at line 8) (<string>, line 8)\n"
     ]
    }
   ],
   "source": [
    "orc.process_user_input(\"How should I improve my design skills.\")"
   ]
  },
  {
   "cell_type": "code",
   "execution_count": 149,
   "id": "1fe253a6",
   "metadata": {},
   "outputs": [
    {
     "data": {
      "text/markdown": [
       "- **Machine Learning Training Program** (Importance: 1, Score: 0.0)\n",
       "  - **ML Basics Revise** (Importance: 0.9, Score: 0.0)\n",
       "  - **Regression Techniques** (Importance: 0.8, Score: 0.0)\n",
       "  - **Classification Techniques** (Importance: 0.8, Score: 0.0)\n",
       "  - **Clustering Techniques** (Importance: 0.7, Score: 0.0)\n",
       "  - **Deep Learning Basics** (Importance: 0.9, Score: 0.0)\n",
       "  - **Optimization Techniques** (Importance: 0.8, Score: 0.0)\n",
       "  - **Model Evaluation** (Importance: 0.8, Score: 0.0)\n",
       "  - **Hands-on Practice** (Importance: 0.95, Score: 0.0)\n",
       "  - **Mock Interviews** (Importance: 0.85, Score: 0.0)\n",
       "  - **Real-Life Applications** (Importance: 0.8, Score: 0.0)\n",
       "  - **Stay Updated** (Importance: 0.75, Score: 0.0)\n"
      ],
      "text/plain": [
       "<IPython.core.display.Markdown object>"
      ]
     },
     "metadata": {},
     "output_type": "display_data"
    }
   ],
   "source": [
    "display(Markdown(orc.learning_plan_manager.get_plan_tree_markdown()))"
   ]
  },
  {
   "cell_type": "code",
   "execution_count": null,
   "id": "01be8d26",
   "metadata": {},
   "outputs": [],
   "source": [
    "ai_student_response = orc.ai_student.respond(orc.chat_session.get_last_n_messages(5), personality='laid back and exploring the application. generally replies with short phrases with typing mistake')\n",
    "ai_student_response = ai_student_response.split(':')[-1]\n",
    "ai_student_response"
   ]
  },
  {
   "cell_type": "code",
   "execution_count": null,
   "id": "4c50be95",
   "metadata": {},
   "outputs": [],
   "source": [
    "orc.process_user_input(ai_student_response)"
   ]
  },
  {
   "cell_type": "code",
   "execution_count": 163,
   "id": "917f3c00",
   "metadata": {},
   "outputs": [
    {
     "data": {
      "text/markdown": [
       "\n",
       "You are an AI Teacher guiding a student toward their goals. Prepare customized plans, track their progress and skills, and personalize your responses using humor, challenges, and appreciation based on their personality ,goal and progress.\n",
       "\n",
       "# Tools Available:\n",
       "- 'MemoryManager':\n",
       "\n",
       "    A class to manage in-memory short key-value pairs along with their update timestamps.\n",
       "    \n",
       "    \n",
       "    * `get_memory(key: str) -> str` \t# Retrieves the value associated with a given key from memory.\n",
       "    \n",
       "    * `get_memory_snapshot() -> str` \t# Retrieves a formatted snapshot of the memory, showing keys, values and the time elapsed since their last update.\n",
       "    \n",
       "    * `update_memory(key: str, value: str) -> None` \t# Updates the memory with a new short key-value pair. Make sure values are less than 200 characters.\n",
       "\n",
       "- 'MCQExaminer':\n",
       "\n",
       "    * `get_question(subject: str, difficulty: str) -> str` \t# Get an MCQ question based on the subject and difficulty level.\n",
       "    \n",
       "    * `grade_answer(question: str, answer: str) -> str` \t# Provide feedback on the given answer for the specified question. \n",
       "    Includes correct answer and explanation if possible.\n",
       "    \n",
       "    * `provide_hint(question: str) -> str` \t# Provide a hint related to a specific MCQ question.\n",
       "\n",
       "- 'CodingPracticeTutor':\n",
       "\n",
       "    * `get_question(topic: str, difficulty: str) -> str` \t# Get a coding question based on the topic and difficulty level.\n",
       "    \n",
       "    * `grade_answer(question: str, answer: str) -> str` \t# Provide feedback on the given answer for the specified question. \n",
       "    Includes correct answer and explanation if possible.\n",
       "    \n",
       "    * `provide_hint(question: str) -> str` \t# Provide a hint related to a specific coding problem.\n",
       "\n",
       "- 'ConceptTutor':\n",
       "\n",
       "    * `clear_doubts(doubt: str, context: str) -> str` \t# clear doubt based on the give context.\n",
       "    \n",
       "    * `get_concept(topic: str, context: str) -> str` \t# Return the concepts of a topic. Personalized based on context. Keep it concise but helpful. Adjust difficulty based on context.\n",
       "\n",
       "- 'Responder':\n",
       "\n",
       "    * `respond(message: str)` \t# Respond to the user with markdown message\n",
       "\n",
       "- 'LearningPlanManager':\n",
       "\n",
       "    * `add_subject(subject_name: str, importance: float, parent_subject: str | None = None) -> None` \t# Adds a new subject to the plan under a specified parent node. parent_subject can be None to add subject to plan root.\n",
       "    \n",
       "    * `delete_subject(subject_name: str)` \t# Adds a new subject to the plan under a specified parent node. Raises ValueError if subject is not part of the plan.\n",
       "    \n",
       "    * `get_plan_tree_markdown(subject_name: str | None = None) -> str` \t# Returns learning plan in a readable markdown format. subject_name is optional.\n",
       "    \n",
       "    * `get_progress(subject_name: str) -> str` \t# Retrieves concise progress information for a specific subject.\n",
       "    \n",
       "    * `lock_new_plan(plan: str)` \t# Locks the new plan\n",
       "    \n",
       "    * `suggest_learning_plan(goal: str, special_instruction: str) -> str` \t# Returns a formatted learning plan based on the user's goal and special_instruction. This does not finalize or store the plan.\n",
       "    \n",
       "    * `update_progress(subject_name: str, score: float)` \t# Updates the progress for a specific subject and propagates changes.\n",
       "\n",
       "- 'AITeacher':\n",
       "\n",
       "    * `process(input_text: str, additional_info: dict = None)` \t# Plans and executes the next steps based on input text and additional_info, using available tools and past conversation history.\n",
       "    \n",
       "    Args:\n",
       "input_text (str): User's input.\n",
       "additional_info (dict): Placeholder to pass information during recursive calls.\n",
       "\n",
       "# Memory: \n",
       "\n",
       "\n",
       "# Additional Info: \n",
       "{}\n",
       "\n",
       "# Learning Plan:\n",
       "- **Oracle Interview Preparation** (Importance: 1, Score: 0.0)\n",
       " \n",
       "\n",
       "# Current Time: 2024-09-05 21:54:39.983798\n",
       "\n",
       "# Conversation History (Last 10): \n",
       "- *student*: I want to prepare for Oracle interview\n",
       "\n",
       "- *Tutor*: Here's a customized learning plan to prepare for your Oracle interview:\n",
       "Here's a structured learning plan for preparing for an Oracle interview, focusing on database concepts, SQL, and performance tuning:\n",
       "\n",
       "```\n",
       "Oracle Interview Preparation\n",
       "│\n",
       "├── Database Concepts (Importance: 1.0)\n",
       "│   ├── Relational Database Management Systems (RDBMS) (Importance: 0.9)\n",
       "│   ├── Database Normalization (Importance: 0.8)\n",
       "│   ├── Data Models (Importance: 0.7)\n",
       "│   └── Transactions and ACID properties (Importance: 0.8)\n",
       "│\n",
       "├── SQL Proficiency (Importance: 1.0)\n",
       "│   ├── Basic SQL Queries (Importance: 0.9)\n",
       "│   ├── Joins and Subqueries (Importance: 0.8)\n",
       "│   ├── Aggregate Functions (Importance: 0.7)\n",
       "│   └── DML and DDL Commands (Importance: 0.9)\n",
       "│\n",
       "├── Performance Tuning (Importance: 0.9)\n",
       "│   ├── Indexing Strategies (Importance: 0.9)\n",
       "│   ├── Query Optimization Techniques (Importance: 0.9)\n",
       "│   └── Execution Plans (Importance: 0.8)\n",
       "│\n",
       "└── Oracle-specific Features (Importance: 0.8)\n",
       "    ├── PL/SQL Overview (Importance: 0.8)\n",
       "    ├── Oracle Database Architecture (Importance: 0.7)\n",
       "    └── Advanced Oracle Features (e.g., partitioning, clustering) (Importance: 0.6)\n",
       "```\n",
       "\n",
       "### Detailed Breakdown:\n",
       "\n",
       "1. **Database Concepts (Importance: 1.0)**\n",
       "   - **Relational Database Management Systems (RDBMS) (Importance: 0.9)**: Understand the core principles of RDBMS, including tables, relationships, and schemas.\n",
       "   - **Database Normalization (Importance: 0.8)**: Learn about normalization forms, their purposes, and how to implement them to reduce data redundancy.\n",
       "   - **Data Models (Importance: 0.7)**: Familiarize yourself with various data models (hierarchical, network, entity-relationship).\n",
       "   - **Transactions and ACID properties (Importance: 0.8)**: Study transaction management and the importance of atomicity, consistency, isolation, and durability.\n",
       "\n",
       "2. **SQL Proficiency (Importance: 1.0)**\n",
       "   - **Basic SQL Queries (Importance: 0.9)**: Practice writing simple SELECT, INSERT, UPDATE, and DELETE statements.\n",
       "   - **Joins and Subqueries (Importance: 0.8)**: Learn different types of joins (INNER, OUTER) and how to use subqueries effectively.\n",
       "   - **Aggregate Functions (Importance: 0.7)**: Understand how to use functions like COUNT, SUM, AVG, MAX, and MIN.\n",
       "   - **DML and DDL Commands (Importance: 0.9)**: Get familiar with Data Manipulation Language (DML) and Data Definition Language (DDL) commands and their usage.\n",
       "\n",
       "3. **Performance Tuning (Importance: 0.9)**\n",
       "   - **Indexing Strategies (Importance: 0.9)**: Learn how to create and manage indexes to improve query performance.\n",
       "   - **Query Optimization Techniques (Importance: 0.9)**: Understand methods to optimize SQL queries for better performance.\n",
       "   - **Execution Plans (Importance: 0.8)**: Explore how to read and interpret execution plans to diagnose performance issues.\n",
       "\n",
       "4. **Oracle-specific Features (Importance: 0.8)**\n",
       "   - **PL/SQL Overview (Importance: 0.8)**: Introduction to Oracle's procedural extension for SQL; understand its syntax and applications.\n",
       "   - **Oracle Database Architecture (Importance: 0.7)**: Gain insights into the architecture of Oracle databases and their components.\n",
       "   - **Advanced Oracle Features (e.g., partitioning, clustering) (Importance: 0.6)**: Investigate advanced features that enhance performance and management in Oracle databases.\n",
       "\n",
       "This learning plan aims to provide a comprehensive foundation and specialized knowledge necessary for succeeding in an Oracle interview focused on database concepts, SQL, and performance tuning. Adjust the importance based on personal familiarity and strength in these areas.\n",
       "\n",
       "- *Tutor*: Remember, every challenge is an opportunity! You're going to ace this. Shall we start with some basic SQL concepts?\n",
       "\n",
       "# Plan code: \n",
       "\n"
      ],
      "text/plain": [
       "<IPython.core.display.Markdown object>"
      ]
     },
     "metadata": {},
     "output_type": "display_data"
    }
   ],
   "source": [
    "display(Markdown(orc.ai_teacher._get_prompt('input')))"
   ]
  },
  {
   "cell_type": "code",
   "execution_count": 153,
   "id": "4cc2cabc",
   "metadata": {},
   "outputs": [
    {
     "data": {
      "text/markdown": [
       "```python\n",
       "# Add recent topics\n",
       "# Adding Generative AI topic in ML Training Program\n",
       "new_topic = \"Generative AI\"\n",
       "importance = 0.8\n",
       "parent_node = self.tools['LearningPlanManager'].get_plan_tree_markdown(subject_name=\"Machine Learning Training Program\")\n",
       "\n",
       "if \"Generative AI\" not in parent_node:\n",
       "    self.tools['LearningPlanManager'].add_subject(subject_name=new_topic, importance=importance, parent_node=parent_node)\n",
       "\n",
       "# Adding Reinforcement Learning topic in ML Training Program\n",
       "new_topic = \"Reinforcement Learning\"\n",
       "importance = 0.85\n",
       "\n",
       "if \"Reinforcement Learning\" not in parent_node:\n",
       "    self.tools['LearningPlanManager'].add_subject(subject_name=new_topic, importance=importance, parent_node=parent_node)\n",
       "\n",
       "# Locking the modified plan\n",
       "self.tools['LearningPlanManager'].lock_new_plan(\n",
       "    self.tools['LearningPlanManager'].get_plan_tree_markdown())\n",
       "\n",
       "# Responding to student\n",
       "\n",
       "self.tools['Responder'].respond(\"I've added the recent topics (Generative AI and Reinforcement Learning) to your learning plan. Ready to dive into ML basics?\")\n",
       "```"
      ],
      "text/plain": [
       "<IPython.core.display.Markdown object>"
      ]
     },
     "metadata": {},
     "output_type": "display_data"
    },
    {
     "name": "stdout",
     "output_type": "stream",
     "text": [
      "Error executing LLM-generated code: 'str' object has no attribute 'add_child'\n"
     ]
    }
   ],
   "source": [
    "\n",
    "human_response = \"Can you add some recent topics like generative AI (image, text generation), reinforcement learning\"\n",
    "orc.process_user_input(human_response)"
   ]
  },
  {
   "cell_type": "code",
   "execution_count": null,
   "id": "f2d40cdd",
   "metadata": {},
   "outputs": [],
   "source": []
  },
  {
   "cell_type": "code",
   "execution_count": null,
   "id": "ac66abc5",
   "metadata": {},
   "outputs": [],
   "source": []
  }
 ],
 "metadata": {
  "kernelspec": {
   "display_name": "Python 3 (ipykernel)",
   "language": "python",
   "name": "python3"
  },
  "language_info": {
   "codemirror_mode": {
    "name": "ipython",
    "version": 3
   },
   "file_extension": ".py",
   "mimetype": "text/x-python",
   "name": "python",
   "nbconvert_exporter": "python",
   "pygments_lexer": "ipython3",
   "version": "3.12.4"
  }
 },
 "nbformat": 4,
 "nbformat_minor": 5
}
