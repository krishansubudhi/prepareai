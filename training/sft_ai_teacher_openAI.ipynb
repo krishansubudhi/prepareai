{
 "cells": [
  {
   "cell_type": "code",
   "execution_count": 2,
   "metadata": {},
   "outputs": [],
   "source": [
    "import json,re,os\n",
    "import pandas as pd\n",
    "import openai\n",
    "from IPython.display import display, Markdown"
   ]
  },
  {
   "cell_type": "code",
   "execution_count": 3,
   "metadata": {},
   "outputs": [],
   "source": [
    "TRAINING_DATA_DIR = \"labeled_data\"\n",
    "data = []\n",
    "for dir in os.listdir(TRAINING_DATA_DIR):\n",
    "    prompt = open(f'{TRAINING_DATA_DIR}/{dir}/prompt.md','r').read().strip()\n",
    "    code = open(f'{TRAINING_DATA_DIR}/{dir}/code.md','r').read()\n",
    "    data.append({'prompt':prompt, 'code':code})\n"
   ]
  },
  {
   "cell_type": "code",
   "execution_count": 4,
   "metadata": {},
   "outputs": [
    {
     "name": "stdout",
     "output_type": "stream",
     "text": [
      "<class 'pandas.core.frame.DataFrame'>\n",
      "RangeIndex: 20 entries, 0 to 19\n",
      "Data columns (total 2 columns):\n",
      " #   Column  Non-Null Count  Dtype \n",
      "---  ------  --------------  ----- \n",
      " 0   prompt  20 non-null     object\n",
      " 1   code    20 non-null     object\n",
      "dtypes: object(2)\n",
      "memory usage: 452.0+ bytes\n",
      "None\n"
     ]
    },
    {
     "data": {
      "text/html": [
       "<div>\n",
       "<style scoped>\n",
       "    .dataframe tbody tr th:only-of-type {\n",
       "        vertical-align: middle;\n",
       "    }\n",
       "\n",
       "    .dataframe tbody tr th {\n",
       "        vertical-align: top;\n",
       "    }\n",
       "\n",
       "    .dataframe thead th {\n",
       "        text-align: right;\n",
       "    }\n",
       "</style>\n",
       "<table border=\"1\" class=\"dataframe\">\n",
       "  <thead>\n",
       "    <tr style=\"text-align: right;\">\n",
       "      <th></th>\n",
       "      <th>prompt</th>\n",
       "      <th>code</th>\n",
       "    </tr>\n",
       "  </thead>\n",
       "  <tbody>\n",
       "    <tr>\n",
       "      <th>0</th>\n",
       "      <td>You are an AI Teacher guiding a student toward...</td>\n",
       "      <td>```python\\n\\n# Define the goal and concise spe...</td>\n",
       "    </tr>\n",
       "    <tr>\n",
       "      <th>1</th>\n",
       "      <td>You are an AI Teacher guiding a student toward...</td>\n",
       "      <td>```python\\n# Adding recursion to the root of t...</td>\n",
       "    </tr>\n",
       "    <tr>\n",
       "      <th>2</th>\n",
       "      <td>You are an AI Teacher guiding a student toward...</td>\n",
       "      <td>```python\\n# Creating a customized learning pl...</td>\n",
       "    </tr>\n",
       "    <tr>\n",
       "      <th>3</th>\n",
       "      <td>You are an AI Teacher guiding a student toward...</td>\n",
       "      <td>```python\\n# Updating memory to mark the stude...</td>\n",
       "    </tr>\n",
       "    <tr>\n",
       "      <th>4</th>\n",
       "      <td>You are an AI Teacher guiding a student toward...</td>\n",
       "      <td>```python\\nquestion = \"\"\"### Problem: Longest ...</td>\n",
       "    </tr>\n",
       "  </tbody>\n",
       "</table>\n",
       "</div>"
      ],
      "text/plain": [
       "                                              prompt  \\\n",
       "0  You are an AI Teacher guiding a student toward...   \n",
       "1  You are an AI Teacher guiding a student toward...   \n",
       "2  You are an AI Teacher guiding a student toward...   \n",
       "3  You are an AI Teacher guiding a student toward...   \n",
       "4  You are an AI Teacher guiding a student toward...   \n",
       "\n",
       "                                                code  \n",
       "0  ```python\\n\\n# Define the goal and concise spe...  \n",
       "1  ```python\\n# Adding recursion to the root of t...  \n",
       "2  ```python\\n# Creating a customized learning pl...  \n",
       "3  ```python\\n# Updating memory to mark the stude...  \n",
       "4  ```python\\nquestion = \"\"\"### Problem: Longest ...  "
      ]
     },
     "execution_count": 4,
     "metadata": {},
     "output_type": "execute_result"
    }
   ],
   "source": [
    "# training_df = pd.read_json(\"training_data_fixed.jsonl\", lines=True)\n",
    "training_df = pd.json_normalize(data)\n",
    "print(training_df.info())\n",
    "training_df.head()"
   ]
  },
  {
   "cell_type": "code",
   "execution_count": 5,
   "metadata": {},
   "outputs": [
    {
     "data": {
      "text/plain": [
       "{'preamble': 'You are an AI Teacher guiding a student toward their goals. Prepare customized plans, track their progress and skills, and personalize your responses using humor, challenges, and appreciation based on their personality ,goal and progreass.',\n",
       " 'Tools Available': \"- 'MemoryManager':\\n\\n    A class to manage in-memory short key-value pairs along with their update timestamps.\\n    \\n    \\n    * `get_memory(key: str) -> str` \\t# Retrieves the value associated with a given key from memory.\\n    \\n    * `get_memory_snapshot() -> str` \\t# Retrieves a formatted snapshot of the memory, showing keys, values and the time elapsed since their last update.\\n    \\n    * `update_memory(key: str, value: str) -> None` \\t# Updates the memory with a new short key-value pair. Make sure values are less than 200 characters.\\n\\n- 'MCQExaminer':\\n\\n    * `get_question(subject: str, difficulty: str) -> str` \\t# Get an MCQ question based on the subject and difficulty level.\\n    \\n    * `grade_answer(question: str, answer: str) -> str` \\t# Provide feedback on the given answer for the specified question. \\n    Includes correct answer and explanation if possible.\\n    \\n    * `provide_hint(question: str) -> str` \\t# Provide a hint related to a specific MCQ question.\\n\\n- 'CodingPracticeTutor':\\n\\n    * `get_question(topic: str, difficulty: str) -> str` \\t# Get a coding question based on the topic and difficulty level.\\n    \\n    * `grade_answer(question: str, answer: str) -> str` \\t# Provide feedback on the given answer for the specified question. \\n    Includes correct answer and explanation if possible.\\n    \\n    * `provide_hint(question: str) -> str` \\t# Provide a hint related to a specific coding problem.\\n\\n- 'ConceptTutor':\\n\\n    * `clear_doubts(doubt: str, context: str) -> str` \\t# clear doubt based on the give context.\\n    \\n    * `teach(topic: str, context: str) -> str` \\t# Return the concepts of a topic. Personalized based on context. Keep it concise but helpful. Adjust difficulty based on context.\\n\\n- 'Responder':\\n\\n    * `respond(message: str)` \\t# Respond to the user with markdown message\\n\\n- 'LearningPlanManager':\\n\\n    * `lock_new_plan(plan: str)` \\t# Locks the new plan\\n    \\n    * `suggest_learning_plan(goal: str, special_instruction: str) -> str` \\t# Returns a formatted learning plan based on the user's goal and special_instruction. This does not finalize or store the plan.\\n\\n- 'AITeacher':\\n\\n    * `process(input_text: str, additional_info: dict = None)` \\t# Plans and executes the next steps based on input text and additional_info, using available tools and past conversation history.\\n    \\n    Args:\\ninput_text (str): User's input.\\nadditional_info (dict): Placeholder to pass information during recursive calls.\",\n",
       " 'Memory': '',\n",
       " 'Additional Context Gathered': '',\n",
       " 'Conversation History (Last 10)': \"- *student*: Hello\\n\\n- *Tutor*: Hello there! What's on your mind today? Are you ready to tackle some learning goals, or do you have a question to clear up? 😊\\n\\n- *student*: yeah let's do it\\n\\n- *Tutor*: What specific learning goals or subjects are you interested in? Any challenges you want to tackle?\",\n",
       " 'Additional Info': 'None',\n",
       " 'Learning Plan': 'No plan locked yet.',\n",
       " 'Current Time': '2024-09-03 19:06:23.208722',\n",
       " 'Instructions': \"- Generate Only Python Code to call the appropriate tools only using self.tools['<toolname>'].method(args).\\n- No New Methods/Classes: Only use provided tools/methods.\\n- Memory: Store short but important information in memory which might be needed later.\\n- LearningPlan: Focus on locking a customized learning plan to track progress.\\n- Confirmation: Confirm with user before changing anything.\\n- Responder: User responder to respond to the user. Always respond with a question.\\n- Code guidelines: Always end the python code with either a Responder or AITeacher tool call.\",\n",
       " 'Student Input': 'Student:  im intrested in algorithms and maybe some data structures. kinda lost with them 😅'}"
      ]
     },
     "execution_count": 5,
     "metadata": {},
     "output_type": "execute_result"
    }
   ],
   "source": [
    "def etract_components(prompt):\n",
    "    pattern = r'''(.*)# Tools Available:(.*)# Memory:(.*)# Additional Context Gathered:(.*)# Conversation History \\(Last .+\\):(.*)# Additional Info:(.*)# Learning Plan:(.*)# Current Time:(.*)# Instructions:(.*)# Here is the last input from student.(.*)# Plan code:'''\n",
    "\n",
    "    match = re.search(pattern, prompt, re.DOTALL)\n",
    "\n",
    "    if match:\n",
    "        preamble = match.group(1).strip()\n",
    "        tools_available = match.group(2).strip()\n",
    "        memory = match.group(3).strip()\n",
    "        additional_context = match.group(4).strip()\n",
    "        conversation_history = match.group(5).strip()\n",
    "        additional_info = match.group(6).strip()\n",
    "        learning_plan = match.group(7).strip()\n",
    "        current_time = match.group(8).strip()\n",
    "        instructions = match.group(9).strip()\n",
    "        student_input = match.group(10).strip()\n",
    "        # Create a dictionary with the extracted values\n",
    "        data = {\n",
    "            \"preamble\": preamble,\n",
    "            \"Tools Available\": tools_available,\n",
    "            \"Memory\": memory,\n",
    "            \"Additional Context Gathered\": additional_context,\n",
    "            \"Conversation History (Last 10)\": conversation_history,\n",
    "            \"Additional Info\": additional_info,\n",
    "            \"Learning Plan\": learning_plan,\n",
    "            \"Current Time\": current_time,\n",
    "            \"Instructions\": instructions,\n",
    "            \"Student Input\": student_input\n",
    "        }\n",
    "\n",
    "        # Print the dictionary\n",
    "        return data\n",
    "\n",
    "    else:\n",
    "        print(match)\n",
    "        raise ValueError(\"regex not matching :\")\n",
    "# print(training_df.prompt.iloc[0])\n",
    "etract_components(training_df.prompt.iloc[0])"
   ]
  },
  {
   "cell_type": "code",
   "execution_count": 6,
   "metadata": {},
   "outputs": [
    {
     "data": {
      "text/html": [
       "<div>\n",
       "<style scoped>\n",
       "    .dataframe tbody tr th:only-of-type {\n",
       "        vertical-align: middle;\n",
       "    }\n",
       "\n",
       "    .dataframe tbody tr th {\n",
       "        vertical-align: top;\n",
       "    }\n",
       "\n",
       "    .dataframe thead th {\n",
       "        text-align: right;\n",
       "    }\n",
       "</style>\n",
       "<table border=\"1\" class=\"dataframe\">\n",
       "  <thead>\n",
       "    <tr style=\"text-align: right;\">\n",
       "      <th></th>\n",
       "      <th>prompt</th>\n",
       "      <th>code</th>\n",
       "      <th>preamble</th>\n",
       "      <th>Tools Available</th>\n",
       "      <th>Memory</th>\n",
       "      <th>Additional Context Gathered</th>\n",
       "      <th>Conversation History (Last 10)</th>\n",
       "      <th>Additional Info</th>\n",
       "      <th>Learning Plan</th>\n",
       "      <th>Current Time</th>\n",
       "      <th>Instructions</th>\n",
       "      <th>Student Input</th>\n",
       "    </tr>\n",
       "  </thead>\n",
       "  <tbody>\n",
       "    <tr>\n",
       "      <th>0</th>\n",
       "      <td>You are an AI Teacher guiding a student toward...</td>\n",
       "      <td>```python\\n\\n# Define the goal and concise spe...</td>\n",
       "      <td>You are an AI Teacher guiding a student toward...</td>\n",
       "      <td>- 'MemoryManager':\\n\\n    A class to manage in...</td>\n",
       "      <td></td>\n",
       "      <td></td>\n",
       "      <td>- *student*: Hello\\n\\n- *Tutor*: Hello there! ...</td>\n",
       "      <td>None</td>\n",
       "      <td>No plan locked yet.</td>\n",
       "      <td>2024-09-03 19:06:23.208722</td>\n",
       "      <td>- Generate Only Python Code to call the approp...</td>\n",
       "      <td>Student:  im intrested in algorithms and maybe...</td>\n",
       "    </tr>\n",
       "    <tr>\n",
       "      <th>1</th>\n",
       "      <td>You are an AI Teacher guiding a student toward...</td>\n",
       "      <td>```python\\n# Adding recursion to the root of t...</td>\n",
       "      <td>You are an AI Teacher guiding a student toward...</td>\n",
       "      <td>- 'MemoryManager':\\n\\n    A class to manage in...</td>\n",
       "      <td></td>\n",
       "      <td></td>\n",
       "      <td>- *student*: Hello\\n\\n- *Tutor*: Hello there! ...</td>\n",
       "      <td>None</td>\n",
       "      <td>- **Learning Plan** (Importance: 1, Score: 0.0...</td>\n",
       "      <td>2024-09-03 19:07:12.670582</td>\n",
       "      <td>- Generate Only Python Code to call the approp...</td>\n",
       "      <td>Student: can you help me improve my recursion?</td>\n",
       "    </tr>\n",
       "    <tr>\n",
       "      <th>2</th>\n",
       "      <td>You are an AI Teacher guiding a student toward...</td>\n",
       "      <td>```python\\n# Creating a customized learning pl...</td>\n",
       "      <td>You are an AI Teacher guiding a student toward...</td>\n",
       "      <td>- 'MemoryManager':\\n\\n    A class to manage in...</td>\n",
       "      <td></td>\n",
       "      <td></td>\n",
       "      <td>- *student*: Hello\\n\\n- *Tutor*: Hello there! ...</td>\n",
       "      <td>None</td>\n",
       "      <td>No plan locked yet.</td>\n",
       "      <td>2024-09-03 17:37:52.274059</td>\n",
       "      <td>- Generate Only Python Code to call the approp...</td>\n",
       "      <td>Student: Coding interview at Google</td>\n",
       "    </tr>\n",
       "    <tr>\n",
       "      <th>3</th>\n",
       "      <td>You are an AI Teacher guiding a student toward...</td>\n",
       "      <td>```python\\n# Updating memory to mark the stude...</td>\n",
       "      <td>You are an AI Teacher guiding a student toward...</td>\n",
       "      <td>- 'MemoryManager':\\n\\n    A class to manage in...</td>\n",
       "      <td>learning_goal: Ds algo (updated 21m 11s ago)\\n...</td>\n",
       "      <td></td>\n",
       "      <td>- *student*:  Yeah, sure. Arrays and strings s...</td>\n",
       "      <td>None</td>\n",
       "      <td>- **Learning Plan** (Importance: 1, Score: 0.0...</td>\n",
       "      <td>2024-09-03 17:17:06.594050</td>\n",
       "      <td>- Generate Only Python Code to call the approp...</td>\n",
       "      <td>Student: Seriously? What's the task already? J...</td>\n",
       "    </tr>\n",
       "    <tr>\n",
       "      <th>4</th>\n",
       "      <td>You are an AI Teacher guiding a student toward...</td>\n",
       "      <td>```python\\nquestion = \"\"\"### Problem: Longest ...</td>\n",
       "      <td>You are an AI Teacher guiding a student toward...</td>\n",
       "      <td>- 'MemoryManager':\\n\\n    A class to manage in...</td>\n",
       "      <td>learning_goal: Ds algo (updated 30m 35s ago)\\n...</td>\n",
       "      <td></td>\n",
       "      <td>- *student*: Yeah, that sounds good. Show me h...</td>\n",
       "      <td>None</td>\n",
       "      <td>- **Learning Plan** (Importance: 1, Score: 0.0...</td>\n",
       "      <td>2024-09-03 17:26:30.220272</td>\n",
       "      <td>- Generate Only Python Code to call the approp...</td>\n",
       "      <td>Student: I dont know how to write it</td>\n",
       "    </tr>\n",
       "  </tbody>\n",
       "</table>\n",
       "</div>"
      ],
      "text/plain": [
       "                                              prompt  \\\n",
       "0  You are an AI Teacher guiding a student toward...   \n",
       "1  You are an AI Teacher guiding a student toward...   \n",
       "2  You are an AI Teacher guiding a student toward...   \n",
       "3  You are an AI Teacher guiding a student toward...   \n",
       "4  You are an AI Teacher guiding a student toward...   \n",
       "\n",
       "                                                code  \\\n",
       "0  ```python\\n\\n# Define the goal and concise spe...   \n",
       "1  ```python\\n# Adding recursion to the root of t...   \n",
       "2  ```python\\n# Creating a customized learning pl...   \n",
       "3  ```python\\n# Updating memory to mark the stude...   \n",
       "4  ```python\\nquestion = \"\"\"### Problem: Longest ...   \n",
       "\n",
       "                                            preamble  \\\n",
       "0  You are an AI Teacher guiding a student toward...   \n",
       "1  You are an AI Teacher guiding a student toward...   \n",
       "2  You are an AI Teacher guiding a student toward...   \n",
       "3  You are an AI Teacher guiding a student toward...   \n",
       "4  You are an AI Teacher guiding a student toward...   \n",
       "\n",
       "                                     Tools Available  \\\n",
       "0  - 'MemoryManager':\\n\\n    A class to manage in...   \n",
       "1  - 'MemoryManager':\\n\\n    A class to manage in...   \n",
       "2  - 'MemoryManager':\\n\\n    A class to manage in...   \n",
       "3  - 'MemoryManager':\\n\\n    A class to manage in...   \n",
       "4  - 'MemoryManager':\\n\\n    A class to manage in...   \n",
       "\n",
       "                                              Memory  \\\n",
       "0                                                      \n",
       "1                                                      \n",
       "2                                                      \n",
       "3  learning_goal: Ds algo (updated 21m 11s ago)\\n...   \n",
       "4  learning_goal: Ds algo (updated 30m 35s ago)\\n...   \n",
       "\n",
       "  Additional Context Gathered  \\\n",
       "0                               \n",
       "1                               \n",
       "2                               \n",
       "3                               \n",
       "4                               \n",
       "\n",
       "                      Conversation History (Last 10) Additional Info  \\\n",
       "0  - *student*: Hello\\n\\n- *Tutor*: Hello there! ...            None   \n",
       "1  - *student*: Hello\\n\\n- *Tutor*: Hello there! ...            None   \n",
       "2  - *student*: Hello\\n\\n- *Tutor*: Hello there! ...            None   \n",
       "3  - *student*:  Yeah, sure. Arrays and strings s...            None   \n",
       "4  - *student*: Yeah, that sounds good. Show me h...            None   \n",
       "\n",
       "                                       Learning Plan  \\\n",
       "0                                No plan locked yet.   \n",
       "1  - **Learning Plan** (Importance: 1, Score: 0.0...   \n",
       "2                                No plan locked yet.   \n",
       "3  - **Learning Plan** (Importance: 1, Score: 0.0...   \n",
       "4  - **Learning Plan** (Importance: 1, Score: 0.0...   \n",
       "\n",
       "                 Current Time  \\\n",
       "0  2024-09-03 19:06:23.208722   \n",
       "1  2024-09-03 19:07:12.670582   \n",
       "2  2024-09-03 17:37:52.274059   \n",
       "3  2024-09-03 17:17:06.594050   \n",
       "4  2024-09-03 17:26:30.220272   \n",
       "\n",
       "                                        Instructions  \\\n",
       "0  - Generate Only Python Code to call the approp...   \n",
       "1  - Generate Only Python Code to call the approp...   \n",
       "2  - Generate Only Python Code to call the approp...   \n",
       "3  - Generate Only Python Code to call the approp...   \n",
       "4  - Generate Only Python Code to call the approp...   \n",
       "\n",
       "                                       Student Input  \n",
       "0  Student:  im intrested in algorithms and maybe...  \n",
       "1     Student: can you help me improve my recursion?  \n",
       "2                Student: Coding interview at Google  \n",
       "3  Student: Seriously? What's the task already? J...  \n",
       "4               Student: I dont know how to write it  "
      ]
     },
     "execution_count": 6,
     "metadata": {},
     "output_type": "execute_result"
    }
   ],
   "source": [
    "prompt_components_df = pd.json_normalize(training_df.prompt.apply(etract_components))\n",
    "components_df  = pd.concat([training_df, prompt_components_df], axis = 1)\n",
    "components_df.head()"
   ]
  },
  {
   "cell_type": "code",
   "execution_count": 8,
   "metadata": {},
   "outputs": [
    {
     "data": {
      "text/markdown": [
       "Student: This looks simple."
      ],
      "text/plain": [
       "<IPython.core.display.Markdown object>"
      ]
     },
     "metadata": {},
     "output_type": "display_data"
    },
    {
     "data": {
      "text/markdown": [
       "```python\n",
       "# Updating the memory with the student's preference for array and string difficulty.\n",
       "self.tools['MemoryManager'].update_memory(key=\"preference_arrays_and_strings_difficulty\", value=\"intermediate\")\n",
       "\n",
       "# Retrieve an intermediate-level coding question on array manipulation.\n",
       "advanced_array_question = self.tools['CodingPracticeTutor'].get_question(\n",
       "    topic=\"array manipulation in Python\",\n",
       "    difficulty=\"intermediate\"\n",
       ")\n",
       "\n",
       "# Respond with the intermediate-level question and offer hints if needed.\n",
       "self.tools['Responder'].respond(\n",
       "    f\"Since you have a basic understanding of array manipulation, let's challenge you with an intermediate-level question.\\\n",
       "\\\n",
       "{advanced_array_question}\\\n",
       "\\\n",
       "Can you solve this? Let me know if you need hints.\"\n",
       ")\n",
       "```"
      ],
      "text/plain": [
       "<IPython.core.display.Markdown object>"
      ]
     },
     "metadata": {},
     "output_type": "display_data"
    }
   ],
   "source": [
    "index = 5\n",
    "display(Markdown(components_df['Student Input'].iloc[index]))\n",
    "display(Markdown(components_df['code'].iloc[index]))"
   ]
  },
  {
   "cell_type": "markdown",
   "metadata": {},
   "source": [
    "# Evaluation metric\n",
    "\n",
    "1. fraction of Correct Method calls - jaccard distance\n",
    "2. Edit distance"
   ]
  },
  {
   "cell_type": "code",
   "execution_count": 9,
   "metadata": {},
   "outputs": [
    {
     "name": "stdout",
     "output_type": "stream",
     "text": [
      "0.3333333333333333\n"
     ]
    }
   ],
   "source": [
    "def list_levenshtein_distance(list1, list2):\n",
    "    \"\"\"\n",
    "    Calculate the Levenshtein distance between two lists of words.\n",
    "\n",
    "    :param list1: First list of words.\n",
    "    :param list2: Second list of words.\n",
    "    :return: The Levenshtein distance between the two lists.\n",
    "    \"\"\"\n",
    "    m, n = len(list1), len(list2)\n",
    "    dp = [[0] * (n + 1) for _ in range(m + 1)]\n",
    "\n",
    "    # Initialize the distance matrix\n",
    "    for i in range(m + 1):\n",
    "        dp[i][0] = i\n",
    "    for j in range(n + 1):\n",
    "        dp[0][j] = j\n",
    "\n",
    "    # Compute the distance matrix\n",
    "    for i in range(1, m + 1):\n",
    "        for j in range(1, n + 1):\n",
    "            cost = 0 if list1[i - 1] == list2[j - 1] else 1\n",
    "            dp[i][j] = min(dp[i - 1][j] + 1,    # Deletion\n",
    "                           dp[i][j - 1] + 1,    # Insertion\n",
    "                           dp[i - 1][j - 1] + cost)  # Substitution\n",
    "\n",
    "    return dp[m][n]\n",
    "\n",
    "def normalized_list_levenshtein_distance(list1, list2):\n",
    "    \"\"\"\n",
    "    Calculate the normalized Levenshtein distance between two lists of words.\n",
    "\n",
    "    The normalized Levenshtein distance is the raw Levenshtein distance divided\n",
    "    by the maximum length of the two lists, resulting in a value between 0 and 1.\n",
    "\n",
    "    :param list1: First list of words.\n",
    "    :param list2: Second list of words.\n",
    "    :return: The normalized Levenshtein distance between the two lists.\n",
    "    \"\"\"\n",
    "    # Compute the Levenshtein distance\n",
    "    lev_distance = list_levenshtein_distance(list1, list2)\n",
    "    \n",
    "    # Find the maximum length of the two lists\n",
    "    max_length = max(len(list1), len(list2))\n",
    "    \n",
    "    # Normalize the distance\n",
    "    normalized_distance = lev_distance / max_length if max_length > 0 else 0\n",
    "    \n",
    "    return normalized_distance\n",
    "\n",
    "# Example usage\n",
    "list1 = ['apple', 'banana', 'cherry']\n",
    "list2 = ['apple', 'banana', 'banana']\n",
    "\n",
    "print(normalized_list_levenshtein_distance(list1, list2))  # Output: edit distance between the two lists\n",
    "\n",
    "def jaccard_similarity(list1, list2):\n",
    "    \"\"\"\n",
    "    Calculate the Jaccard Similarity between two lists of words.\n",
    "\n",
    "    :param list1: First list of words.\n",
    "    :param list2: Second list of words.\n",
    "    :return: The Jaccard Similarity between the two lists.\n",
    "    \"\"\"\n",
    "    set1 = set(list1)\n",
    "    set2 = set(list2)\n",
    "    \n",
    "    intersection = len(set1.intersection(set2))\n",
    "    union = len(set1.union(set2))\n",
    "    \n",
    "    return intersection / union if union != 0 else 0\n",
    "\n",
    "def jaccard_distance(list1, list2):\n",
    "    \"\"\"\n",
    "    Calculate the Jaccard Distance between two lists of words.\n",
    "\n",
    "    :param list1: First list of words.\n",
    "    :param list2: Second list of words.\n",
    "    :return: The Jaccard Distance between the two lists.\n",
    "    \"\"\"\n",
    "    return 1 - jaccard_similarity(list1, list2)\n",
    "\n"
   ]
  },
  {
   "cell_type": "code",
   "execution_count": 10,
   "metadata": {},
   "outputs": [
    {
     "data": {
      "text/markdown": [
       "```python\n",
       "# Adding recursion to the root of the learning plan, similar to other algorithm-related subjects.\n",
       "self.tools['LearningPlanManager'].add_subject(\n",
       "    subject_name=\"Recursion\", \n",
       "    importance=1\n",
       ")\n",
       "\n",
       "self.tools['LearningPlanManager'].add_subject(\n",
       "    subject_name=\"Recursion Concepts and Common Problems\", \n",
       "    importance=1,\n",
       "    parent_subject=\"Recursion\"\n",
       ")\n",
       "\n",
       "self.tools['LearningPlanManager'].add_subject(\n",
       "    subject_name=\"Tree and Graph Traversal\", \n",
       "    importance=0.9,\n",
       "    parent_subject=\"Recursion\"\n",
       ")\n",
       "\n",
       "self.tools['LearningPlanManager'].add_subject(\n",
       "    subject_name=\"Recursion Complexity Analysis\",\n",
       "    importance=0.5,\n",
       "    parent_subject=\"Recursion\"\n",
       ")\n",
       "\n",
       "self.tools['LearningPlanManager'].add_subject(\n",
       "    subject_name=\"Debugging Recursion\", \n",
       "    importance=0.2,\n",
       "    parent_subject=\"Recursion\"\n",
       ")\n",
       "\n",
       "# Update memory with user's goal\n",
       "self.tools['MemoryManager'].update_memory('goal', \"Improve on algorithms and data structures with special focus on recursion\" )\n",
       "\n",
       "# Responding to the student with an engaging message.\n",
       "self.tools['Responder'].respond(\n",
       "    f\"Ah, that's a tricky subject! 🔍 I've added a dedicated section on recursion to your learning plan. \\n\\n\"\n",
       "    f\"{self.tools['LearningPlanManager'].get_plan_tree_markdown('Recursion')}\\n\\n\"\n",
       "    \"Would you like to start by exploring Recursion Concepts and Common Problems?\"\n",
       ")\n",
       "```"
      ],
      "text/plain": [
       "<IPython.core.display.Markdown object>"
      ]
     },
     "metadata": {},
     "output_type": "display_data"
    },
    {
     "data": {
      "text/plain": [
       "[('LearningPlanManager', 'add_subject'),\n",
       " ('LearningPlanManager', 'add_subject'),\n",
       " ('LearningPlanManager', 'add_subject'),\n",
       " ('LearningPlanManager', 'add_subject'),\n",
       " ('LearningPlanManager', 'add_subject'),\n",
       " ('MemoryManager', 'update_memory'),\n",
       " ('Responder', 'respond'),\n",
       " ('LearningPlanManager', 'get_plan_tree_markdown')]"
      ]
     },
     "execution_count": 10,
     "metadata": {},
     "output_type": "execute_result"
    }
   ],
   "source": [
    "display(Markdown(training_df.code.iloc[1]))\n",
    "\n",
    "def extract_tools_and_methods(code_string):\n",
    "    \"\"\"\n",
    "    Extract tools and their methods from a code string.\n",
    "\n",
    "    :param code_string: String containing the code with tool method calls.\n",
    "    :return: List of tuples where each tuple contains the tool and its method.\n",
    "    \"\"\"\n",
    "    # Regular expression to match tool and method calls\n",
    "    pattern = re.compile(r\"self\\.tools\\['(\\w+)'\\]\\.(\\w+)\\(\")\n",
    "    \n",
    "    # Find all matches\n",
    "    matches = pattern.findall(code_string)\n",
    "    \n",
    "    # Create a list of tuples (tool, method)\n",
    "    tools_and_methods = [(match[0], match[1]) for match in matches]\n",
    "    \n",
    "    return tools_and_methods\n",
    "\n",
    "extract_tools_and_methods(training_df.code.iloc[1])"
   ]
  },
  {
   "cell_type": "code",
   "execution_count": 11,
   "metadata": {},
   "outputs": [],
   "source": [
    "def evaluate(gt, pred):\n",
    "    gt_tools_methods = extract_tools_and_methods(gt)\n",
    "    pred_tools_methods = extract_tools_and_methods(pred)\n",
    "    return {\n",
    "        'jaccard_distance' : jaccard_distance(gt_tools_methods, pred_tools_methods),\n",
    "        'edit_distance': normalized_list_levenshtein_distance(gt_tools_methods, pred_tools_methods)\n",
    "    }"
   ]
  },
  {
   "cell_type": "markdown",
   "metadata": {},
   "source": [
    "# Finetune openAI\n"
   ]
  },
  {
   "cell_type": "code",
   "execution_count": 43,
   "metadata": {},
   "outputs": [],
   "source": [
    "def _create_openai_example(system_prompt, user_prompt, code_reponse):\n",
    "    return {\n",
    "        \"messages\": \n",
    "        [\n",
    "            {\"role\": \"system\", \"content\": system_prompt},\n",
    "            {\"role\": \"user\", \"content\": user_prompt},\n",
    "            {\"role\": \"assistant\", \"content\": code_reponse}\n",
    "        ]\n",
    "    }\n",
    "\n",
    "def get_system_prompt(row):\n",
    "    system_prompt = '''You are an AI Teacher guiding a student toward their goals. Prepare customized plans, track their progress and skills, and personalize your responses using humor, challenges, and appreciation based on their personality ,goal and progress.\n",
    "\n",
    "\n",
    "        # Instructions:\n",
    "\n",
    "        - Generate Only Python Code to call the appropriate tools only using self.tools['<toolname>'].method(args).\n",
    "        - No New Methods/Classes: Only use provided tools/methods.\n",
    "        - No tools except you will output anything to the user. So you are responsible to pass on the results of tool calls to the user.\n",
    "        - Memory: Store short but important information in memory which might be needed later.\n",
    "        - LearningPlan: Focus on locking a customized learning plan to track progress.\n",
    "        - Confirmation: Confirm with user before changing anything.\n",
    "        - Responder: User responder to respond to the user. Always respond with a question.\n",
    "        - Code guidelines: Always end the python code with either a Responder or AITeacher tool call.\n",
    "        '''\n",
    "    return re.sub(r'^ {8}', '', system_prompt, flags=re.MULTILINE)\n",
    "\n",
    "def get_user_prompt(row):\n",
    "    prompt = f'''\n",
    "        # Tools Available:\n",
    "        {row['Tools Available']}\n",
    "\n",
    "        # Memory: \n",
    "        {row['Memory']}\n",
    "\n",
    "        # Additional Info: \n",
    "        {row['Additional Info']}\n",
    "\n",
    "        # Learning Plan:\n",
    "        {row['Learning Plan']} \n",
    "        \n",
    "        # Current Time: {row['Current Time']}\n",
    "\n",
    "        # Conversation History (Last 10): \n",
    "        {row['Conversation History (Last 10)']}\n",
    "        {row['Student Input']}\n",
    "\n",
    "        # Plan code: \n",
    "        '''\n",
    "    prompt = re.sub(r'^ {8}', '', prompt, flags=re.MULTILINE)\n",
    "    return prompt\n",
    "\n",
    "def create_openai_example(row):\n",
    "    example =  _create_openai_example(\n",
    "        get_system_prompt(row),\n",
    "        get_user_prompt(row),\n",
    "        row['code']\n",
    "    )\n",
    "    return json.dumps(example)\n",
    "    "
   ]
  },
  {
   "cell_type": "code",
   "execution_count": 44,
   "metadata": {},
   "outputs": [
    {
     "name": "stdout",
     "output_type": "stream",
     "text": [
      "{\"messages\": [{\"role\": \"system\", \"content\": \"You are an AI Teacher guiding a student toward their goals. Prepare customized plans, track their progress and skills, and personalize your responses using humor, challenges, and appreciation based on their personality ,goal and progress.\\n\\n\\n# Instructions:\\n\\n- Generate Only Python Code to call the appropriate tools only using self.tools['<toolname>'].method(args).\\n- No New Methods/Classes: Only use provided tools/methods.\\n- No tools except you will output anything to the user. So you are responsible to pass on the results of tool calls to the user.\\n- Memory: Store short but important information in memory which might be needed later.\\n- LearningPlan: Focus on locking a customized learning plan to track progress.\\n- Confirmation: Confirm with user before changing anything.\\n- Responder: User responder to respond to the user. Always respond with a question.\\n- Code guidelines: Always end the python code with either a Responder or AITeacher tool call.\\n\"}, {\"role\": \"user\", \"content\": \"\\n# Tools Available:\\n- 'MemoryManager':\\n\\n    A class to manage in-memory short key-value pairs along with their update timestamps.\\n    \\n    \\n    * `get_memory(key: str) -> str` \\t# Retrieves the value associated with a given key from memory.\\n    \\n    * `get_memory_snapshot() -> str` \\t# Retrieves a formatted snapshot of the memory, showing keys, values and the time elapsed since their last update.\\n    \\n    * `update_memory(key: str, value: str) -> None` \\t# Updates the memory with a new short key-value pair. Make sure values are less than 200 characters.\\n\\n- 'MCQExaminer':\\n\\n    * `get_question(subject: str, difficulty: str) -> str` \\t# Get an MCQ question based on the subject and difficulty level.\\n    \\n    * `grade_answer(question: str, answer: str) -> str` \\t# Provide feedback on the given answer for the specified question. \\n    Includes correct answer and explanation if possible.\\n    \\n    * `provide_hint(question: str) -> str` \\t# Provide a hint related to a specific MCQ question.\\n\\n- 'CodingPracticeTutor':\\n\\n    * `get_question(topic: str, difficulty: str) -> str` \\t# Get a coding question based on the topic and difficulty level.\\n    \\n    * `grade_answer(question: str, answer: str) -> str` \\t# Provide feedback on the given answer for the specified question. \\n    Includes correct answer and explanation if possible.\\n    \\n    * `provide_hint(question: str) -> str` \\t# Provide a hint related to a specific coding problem.\\n\\n- 'ConceptTutor':\\n\\n    * `clear_doubts(doubt: str, context: str) -> str` \\t# clear doubt based on the give context.\\n    \\n    * `teach(topic: str, context: str) -> str` \\t# Return the concepts of a topic. Personalized based on context. Keep it concise but helpful. Adjust difficulty based on context.\\n\\n- 'Responder':\\n\\n    * `respond(message: str)` \\t# Respond to the user with markdown message\\n\\n- 'LearningPlanManager':\\n\\n    * `lock_new_plan(plan: str)` \\t# Locks the new plan\\n    \\n    * `suggest_learning_plan(goal: str, special_instruction: str) -> str` \\t# Returns a formatted learning plan based on the user's goal and special_instruction. This does not finalize or store the plan.\\n\\n- 'AITeacher':\\n\\n    * `process(input_text: str, additional_info: dict = None)` \\t# Plans and executes the next steps based on input text and additional_info, using available tools and past conversation history.\\n    \\n    Args:\\ninput_text (str): User's input.\\nadditional_info (dict): Placeholder to pass information during recursive calls.\\n\\n# Memory: \\n\\n\\n# Additional Info: \\nNone\\n\\n# Learning Plan:\\nNo plan locked yet. \\n\\n# Current Time: 2024-09-03 19:06:23.208722\\n\\n# Conversation History (Last 10): \\n- *student*: Hello\\n\\n- *Tutor*: Hello there! What's on your mind today? Are you ready to tackle some learning goals, or do you have a question to clear up? \\ud83d\\ude0a\\n\\n- *student*: yeah let's do it\\n\\n- *Tutor*: What specific learning goals or subjects are you interested in? Any challenges you want to tackle?\\nStudent:  im intrested in algorithms and maybe some data structures. kinda lost with them \\ud83d\\ude05\\n\\n# Plan code: \\n\"}, {\"role\": \"assistant\", \"content\": \"```python\\n\\n# Define the goal and concise special instruction based on the student's needs.\\ngoal = \\\"Enhance understanding of algorithms and data structures\\\"\\nspecial_instruction = (\\n    \\\"Focus on fundamental concepts, clear explanations, and interactive exercises.\\\"\\n)\\n\\n# Updating memory with goal\\nself.tools['MemoryManager'].update_memory('goal', goal)\\n\\n# Suggest a learning plan for algorithms and data structures with the modified goal and instruction.\\nlearning_plan = self.tools['LearningPlanManager'].suggest_learning_plan(\\n    goal=goal,\\n    special_instruction=special_instruction\\n)\\n\\n# Responding to the user to confirm the locking of the plan and encourage them to dive into the learning material.\\nself.tools['Responder'].respond(\\n    \\\"I've built a customized learning plan focusing on algorithms and data structures! \\ud83c\\udf89\\\\n\\\\n\\\"\\n    f\\\"{learning_plan}\\\\n\\\\n\\\"\\n    \\\"Let me know if you want me to lock it. If you want to add or remove subjects, I can do that too!\\\"\\n)\\n```\"}]}\n"
     ]
    }
   ],
   "source": [
    "data = components_df.apply(create_openai_example, axis = 1).values\n",
    "print(data[0])"
   ]
  },
  {
   "cell_type": "code",
   "execution_count": 45,
   "metadata": {},
   "outputs": [
    {
     "data": {
      "text/plain": [
       "20"
      ]
     },
     "execution_count": 45,
     "metadata": {},
     "output_type": "execute_result"
    }
   ],
   "source": [
    "len(data)"
   ]
  },
  {
   "cell_type": "code",
   "execution_count": 46,
   "metadata": {},
   "outputs": [],
   "source": [
    "OPEN_AI_DATA_JSONL = 'openai_training.jsonl'\n",
    "with open (OPEN_AI_DATA_JSONL, 'w') as f:\n",
    "    for ex in data:\n",
    "        f.write(ex + '\\n')"
   ]
  },
  {
   "cell_type": "code",
   "execution_count": 47,
   "metadata": {},
   "outputs": [
    {
     "data": {
      "text/plain": [
       "[{'role': 'system',\n",
       "  'content': \"You are an AI Teacher guiding a student toward their goals. Prepare customized plans, track their progress and skills, and personalize your responses using humor, challenges, and appreciation based on their personality ,goal and progress.\\n\\n\\n# Instructions:\\n\\n- Generate Only Python Code to call the appropriate tools only using self.tools['<toolname>'].method(args).\\n- No New Methods/Classes: Only use provided tools/methods.\\n- No tools except you will output anything to the user. So you are responsible to pass on the results of tool calls to the user.\\n- Memory: Store short but important information in memory which might be needed later.\\n- LearningPlan: Focus on locking a customized learning plan to track progress.\\n- Confirmation: Confirm with user before changing anything.\\n- Responder: User responder to respond to the user. Always respond with a question.\\n- Code guidelines: Always end the python code with either a Responder or AITeacher tool call.\\n\"},\n",
       " {'role': 'user',\n",
       "  'content': \"\\n# Tools Available:\\n- 'MemoryManager':\\n\\n    A class to manage in-memory short key-value pairs along with their update timestamps.\\n    \\n    \\n    * `get_memory(key: str) -> str` \\t# Retrieves the value associated with a given key from memory.\\n    \\n    * `get_memory_snapshot() -> str` \\t# Retrieves a formatted snapshot of the memory, showing keys, values and the time elapsed since their last update.\\n    \\n    * `update_memory(key: str, value: str) -> None` \\t# Updates the memory with a new short key-value pair. Make sure values are less than 200 characters.\\n\\n- 'MCQExaminer':\\n\\n    * `get_question(subject: str, difficulty: str) -> str` \\t# Get an MCQ question based on the subject and difficulty level.\\n    \\n    * `grade_answer(question: str, answer: str) -> str` \\t# Provide feedback on the given answer for the specified question. \\n    Includes correct answer and explanation if possible.\\n    \\n    * `provide_hint(question: str) -> str` \\t# Provide a hint related to a specific MCQ question.\\n\\n- 'CodingPracticeTutor':\\n\\n    * `get_question(topic: str, difficulty: str) -> str` \\t# Get a coding question based on the topic and difficulty level.\\n    \\n    * `grade_answer(question: str, answer: str) -> str` \\t# Provide feedback on the given answer for the specified question. \\n    Includes correct answer and explanation if possible.\\n    \\n    * `provide_hint(question: str) -> str` \\t# Provide a hint related to a specific coding problem.\\n\\n- 'ConceptTutor':\\n\\n    * `clear_doubts(doubt: str, context: str) -> str` \\t# clear doubt based on the give context.\\n    \\n    * `teach(topic: str, context: str) -> str` \\t# Return the concepts of a topic. Personalized based on context. Keep it concise but helpful. Adjust difficulty based on context.\\n\\n- 'Responder':\\n\\n    * `respond(message: str)` \\t# Respond to the user with markdown message\\n\\n- 'LearningPlanManager':\\n\\n    * `lock_new_plan(plan: str)` \\t# Locks the new plan\\n    \\n    * `suggest_learning_plan(goal: str, special_instruction: str) -> str` \\t# Returns a formatted learning plan based on the user's goal and special_instruction. This does not finalize or store the plan.\\n\\n- 'AITeacher':\\n\\n    * `process(input_text: str, additional_info: dict = None)` \\t# Plans and executes the next steps based on input text and additional_info, using available tools and past conversation history.\\n    \\n    Args:\\ninput_text (str): User's input.\\nadditional_info (dict): Placeholder to pass information during recursive calls.\\n\\n# Memory: \\n\\n\\n# Additional Info: \\nNone\\n\\n# Learning Plan:\\nNo plan locked yet. \\n\\n# Current Time: 2024-09-03 19:06:23.208722\\n\\n# Conversation History (Last 10): \\n- *student*: Hello\\n\\n- *Tutor*: Hello there! What's on your mind today? Are you ready to tackle some learning goals, or do you have a question to clear up? 😊\\n\\n- *student*: yeah let's do it\\n\\n- *Tutor*: What specific learning goals or subjects are you interested in? Any challenges you want to tackle?\\nStudent:  im intrested in algorithms and maybe some data structures. kinda lost with them 😅\\n\\n# Plan code: \\n\"},\n",
       " {'role': 'assistant',\n",
       "  'content': '```python\\n\\n# Define the goal and concise special instruction based on the student\\'s needs.\\ngoal = \"Enhance understanding of algorithms and data structures\"\\nspecial_instruction = (\\n    \"Focus on fundamental concepts, clear explanations, and interactive exercises.\"\\n)\\n\\n# Updating memory with goal\\nself.tools[\\'MemoryManager\\'].update_memory(\\'goal\\', goal)\\n\\n# Suggest a learning plan for algorithms and data structures with the modified goal and instruction.\\nlearning_plan = self.tools[\\'LearningPlanManager\\'].suggest_learning_plan(\\n    goal=goal,\\n    special_instruction=special_instruction\\n)\\n\\n# Responding to the user to confirm the locking of the plan and encourage them to dive into the learning material.\\nself.tools[\\'Responder\\'].respond(\\n    \"I\\'ve built a customized learning plan focusing on algorithms and data structures! 🎉\\\\n\\\\n\"\\n    f\"{learning_plan}\\\\n\\\\n\"\\n    \"Let me know if you want me to lock it. If you want to add or remove subjects, I can do that too!\"\\n)\\n```'}]"
      ]
     },
     "metadata": {},
     "output_type": "display_data"
    }
   ],
   "source": [
    "with open (OPEN_AI_DATA_JSONL, 'r') as f:\n",
    "    d = f.readlines()\n",
    "    display(json.loads(d[0])['messages'])"
   ]
  },
  {
   "cell_type": "code",
   "execution_count": 48,
   "metadata": {},
   "outputs": [
    {
     "data": {
      "text/plain": [
       "FileObject(id='file-gyv7ijxpV1Q1CEeQSw0Z0XDL', bytes=154772, created_at=1725719550, filename='openai_training.jsonl', object='file', purpose='fine-tune', status='processed', status_details=None)"
      ]
     },
     "execution_count": 48,
     "metadata": {},
     "output_type": "execute_result"
    }
   ],
   "source": [
    "from openai import OpenAI\n",
    "client = OpenAI()\n",
    "\n",
    "client.files.create(\n",
    "  file=open('openai_training.jsonl', \"rb\"),\n",
    "  purpose=\"fine-tune\"\n",
    ")"
   ]
  },
  {
   "cell_type": "code",
   "execution_count": 49,
   "metadata": {},
   "outputs": [
    {
     "data": {
      "text/plain": [
       "FineTuningJob(id='ftjob-pkgZxglm6zEyxSJYzG3XzlJ4', created_at=1725719594, error=Error(code=None, message=None, param=None), fine_tuned_model=None, finished_at=None, hyperparameters=Hyperparameters(n_epochs='auto', batch_size='auto', learning_rate_multiplier='auto'), model='gpt-4o-mini-2024-07-18', object='fine_tuning.job', organization_id='org-H3gA3aIB39O3UI9PxCnRxxWD', result_files=[], seed=1294795577, status='validating_files', trained_tokens=None, training_file='file-gyv7ijxpV1Q1CEeQSw0Z0XDL', validation_file=None, estimated_finish=None, integrations=[], user_provided_suffix=None)"
      ]
     },
     "execution_count": 49,
     "metadata": {},
     "output_type": "execute_result"
    }
   ],
   "source": [
    "\n",
    "client.fine_tuning.jobs.create(\n",
    "  training_file='file-gyv7ijxpV1Q1CEeQSw0Z0XDL', \n",
    "  model=\"gpt-4o-mini-2024-07-18\",\n",
    "  hyperparameters={\n",
    "    \"n_epochs\":2\n",
    "  }\n",
    ")"
   ]
  },
  {
   "cell_type": "code",
   "execution_count": 56,
   "metadata": {},
   "outputs": [
    {
     "name": "stdout",
     "output_type": "stream",
     "text": [
      "FineTuningJob(id='ftjob-pkgZxglm6zEyxSJYzG3XzlJ4', created_at=1725719594, error=Error(code=None, message=None, param=None), fine_tuned_model=None, finished_at=1725720044, hyperparameters=Hyperparameters(n_epochs=5, batch_size=1, learning_rate_multiplier=1.8), model='gpt-4o-mini-2024-07-18', object='fine_tuning.job', organization_id='org-H3gA3aIB39O3UI9PxCnRxxWD', result_files=[], seed=1294795577, status='running', trained_tokens=None, training_file='file-gyv7ijxpV1Q1CEeQSw0Z0XDL', validation_file=None, estimated_finish=None, integrations=[], user_provided_suffix=None)\n"
     ]
    }
   ],
   "source": [
    "client.fine_tuning.jobs.list(limit=10)\n",
    "\n",
    "\n",
    "print(client.fine_tuning.jobs.retrieve('ftjob-pkgZxglm6zEyxSJYzG3XzlJ4'))"
   ]
  },
  {
   "cell_type": "code",
   "execution_count": null,
   "metadata": {},
   "outputs": [],
   "source": []
  }
 ],
 "metadata": {
  "kernelspec": {
   "display_name": "pai",
   "language": "python",
   "name": "python3"
  },
  "language_info": {
   "codemirror_mode": {
    "name": "ipython",
    "version": 3
   },
   "file_extension": ".py",
   "mimetype": "text/x-python",
   "name": "python",
   "nbconvert_exporter": "python",
   "pygments_lexer": "ipython3",
   "version": "3.12.4"
  }
 },
 "nbformat": 4,
 "nbformat_minor": 2
}
